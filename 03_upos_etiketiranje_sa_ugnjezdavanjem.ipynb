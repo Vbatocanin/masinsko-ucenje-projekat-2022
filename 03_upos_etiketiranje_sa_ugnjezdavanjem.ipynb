{
 "cells": [
  {
   "cell_type": "markdown",
   "metadata": {
    "pycharm": {
     "name": "#%% md\n"
    }
   },
   "source": [
    "## Treniranje jezičkog modela\n",
    "U ovoj svesci rekonstruišemo ceo postupak pravljenja *CWE*-a, i koristimo tako dobijene reprezentacije sa UPOS klasifikatorom. Koraci za ovaj postupak su:\n",
    "- pravimo rečnik za srpsku latinicu na osnovu tekstova na srpskom jeziku uzetih sa Vikipedije\n",
    "- pravimo ugnježdavače(embeddere) unapred i unazad na osnovu UD_SERBIAN skupa i preporučenih parametara od strane Flair tima\n",
    "- pravimo model za etiketiranje koji se oslanja na dobijena ugnježdavanja\n",
    "    - optimizujemo model na prostoru hiperparametra koristeći validacioni skup validacionih podataka\n",
    "    - treniramo model još jednom sa najboljim parametrima\n",
    "    - evaluiramo tako dobijeni model"
   ]
  },
  {
   "cell_type": "code",
   "execution_count": 2,
   "metadata": {
    "pycharm": {
     "name": "#%%\n"
    }
   },
   "outputs": [],
   "source": [
    "import flair.datasets\n",
    "from flair.data import Sentence, Dictionary\n",
    "from flair.datasets import ColumnCorpus\n",
    "from flair.embeddings import WordEmbeddings, FlairEmbeddings, StackedEmbeddings\n",
    "from flair.models import SequenceTagger, LanguageModel\n",
    "from flair.trainers import ModelTrainer, LanguageModelTrainer, TextCorpus\n",
    "import numpy as np\n",
    "from sklearn import metrics\n",
    "import matplotlib.pyplot as plt\n",
    "import pandas as pd\n",
    "import seaborn as sns\n",
    "import collections\n",
    "import glob\n",
    "import pickle\n",
    "import json"
   ]
  },
  {
   "cell_type": "markdown",
   "metadata": {
    "pycharm": {
     "name": "#%% md\n"
    }
   },
   "source": [
    "### Generisanje rečnika za srpsku latinicu\n",
    "- tekstovi na osnovu kojih smo generisali rečnik se mogu naći u direktorijumu `\"corpus/corpus3\"`"
   ]
  },
  {
   "cell_type": "code",
   "execution_count": 3,
   "metadata": {
    "pycharm": {
     "name": "#%%\n"
    }
   },
   "outputs": [],
   "source": [
    "char_dictionary: Dictionary = Dictionary()\n",
    "counter = collections.Counter()"
   ]
  },
  {
   "cell_type": "code",
   "execution_count": 4,
   "metadata": {
    "pycharm": {
     "name": "#%%\n"
    }
   },
   "outputs": [
    {
     "name": "stdout",
     "output_type": "stream",
     "text": [
      "['corpus/corpus3\\\\test.txt', 'corpus/corpus3\\\\valid.txt', 'corpus/corpus3\\\\train\\\\train_split_1', 'corpus/corpus3\\\\train\\\\train_split_2']\n"
     ]
    }
   ],
   "source": [
    "files = glob.glob('corpus/corpus3/**/*', recursive=True)\n",
    "files.remove('corpus/corpus3\\\\train')\n",
    "print(files)"
   ]
  },
  {
   "cell_type": "code",
   "execution_count": 5,
   "metadata": {
    "pycharm": {
     "name": "#%%\n"
    }
   },
   "outputs": [],
   "source": [
    "# Broj procesuiranih linija\n",
    "processed = 0\n",
    "\n",
    "for file in files:\n",
    "\n",
    "    with open(file, 'r', encoding='utf-8') as f:\n",
    "\n",
    "        tokens = 0\n",
    "\n",
    "        for line in f:\n",
    "            processed += 1\n",
    "            chars = list(line)\n",
    "            tokens += len(chars)\n",
    "\n",
    "            # Dodaj karaktere u rečnik\n",
    "            counter.update(chars)\n"
   ]
  },
  {
   "cell_type": "code",
   "execution_count": 6,
   "metadata": {
    "pycharm": {
     "name": "#%%\n"
    }
   },
   "outputs": [
    {
     "data": {
      "text/plain": [
       "dict_keys(['1', '9', '8', '4', 'K', 'a', 'o', ' ', 'i', 'b', 'č', 'n', ',', 'l', 'c', 'e', 'E', 'm', 'u', 'G', 'd', 'š', 't', 'j', 'N', 'r', 'g', 'p', '-', 's', 'k', '.', 'T', 'z', 'S', 'ž', 'h', 'đ', 'v', '(', ')', 'ć', 'P', 'V', 'B', 'D', 'O', ':', '–', 'f', '\\n', '2', '0', 'I', 'M', 'A', 'U', 'L', 'Č', '’', '„', '!', '“', 'R', ';', 'J', 'Ž', 'Š', '3', 'Z', 'Ć', '5', '6', '7', '?', '/', 'H', '*', 'w', 'y', 'X', 'Y', 'ñ', '\\xad', 'F', '=', 'â', 'C', '—', '[', ']', '_', \"'\", '^', '|', '&', '>', '<', '{', '}', '#', '+', '%', '”', '\\\\', '`', '~', 'Đ', '\"'])"
      ]
     },
     "execution_count": 6,
     "metadata": {},
     "output_type": "execute_result"
    }
   ],
   "source": [
    "counter.keys()"
   ]
  },
  {
   "cell_type": "code",
   "execution_count": 7,
   "metadata": {
    "pycharm": {
     "name": "#%%\n"
    }
   },
   "outputs": [],
   "source": [
    "# Nabrojavanje elemenata sortirani po frekvenciji u korpusu i sumarizacija njihovih pojavljivanja\n",
    "total_count = 0\n",
    "for letter, count in counter.most_common():\n",
    "    total_count += count"
   ]
  },
  {
   "cell_type": "code",
   "execution_count": 8,
   "metadata": {
    "pycharm": {
     "name": "#%%\n"
    }
   },
   "outputs": [
    {
     "name": "stdout",
     "output_type": "stream",
     "text": [
      "Total number of characters: 67079\n",
      "Total number of processed lines: 93\n"
     ]
    }
   ],
   "source": [
    "print(\"Total number of characters:\",total_count)\n",
    "print(\"Total number of processed lines:\", processed)"
   ]
  },
  {
   "cell_type": "code",
   "execution_count": 9,
   "metadata": {
    "pycharm": {
     "name": "#%%\n"
    }
   },
   "outputs": [],
   "source": [
    "# Pomoćne strukture za generisanje rečnika\n",
    "latin = set(\"abcčćddžđefghijklljmnnjoprsštuvzžABCČĆDDŽĐEFGHIJKLLJMNNJOPRSŠTUVZŽ\")\n",
    "numbers = set(\"0123456789\")\n",
    "punct = set(\".?!,:;\\\"\\'\\/()[]{}_+-*^%#<>|&`~\")"
   ]
  },
  {
   "cell_type": "code",
   "execution_count": 10,
   "metadata": {
    "pycharm": {
     "name": "#%%\n"
    }
   },
   "outputs": [
    {
     "data": {
      "text/plain": [
       "True"
      ]
     },
     "execution_count": 10,
     "metadata": {},
     "output_type": "execute_result"
    }
   ],
   "source": [
    "# Provere validnosti podskupova\n",
    "latin.issubset(set(counter.keys()))"
   ]
  },
  {
   "cell_type": "code",
   "execution_count": 11,
   "metadata": {
    "pycharm": {
     "name": "#%%\n"
    }
   },
   "outputs": [
    {
     "data": {
      "text/plain": [
       "True"
      ]
     },
     "execution_count": 11,
     "metadata": {},
     "output_type": "execute_result"
    }
   ],
   "source": [
    "numbers.issubset(set(counter.keys()))"
   ]
  },
  {
   "cell_type": "code",
   "execution_count": 12,
   "metadata": {
    "pycharm": {
     "name": "#%%\n"
    }
   },
   "outputs": [
    {
     "data": {
      "text/plain": [
       "True"
      ]
     },
     "execution_count": 12,
     "metadata": {},
     "output_type": "execute_result"
    }
   ],
   "source": [
    "punct.issubset(set(counter.keys()))"
   ]
  },
  {
   "cell_type": "markdown",
   "metadata": {
    "pycharm": {
     "name": "#%% md\n"
    }
   },
   "source": [
    "### Dodavanje slova u rečnik i ispis njihovih informacija"
   ]
  },
  {
   "cell_type": "code",
   "execution_count": 13,
   "metadata": {
    "pycharm": {
     "name": "#%%\n"
    }
   },
   "outputs": [
    {
     "name": "stdout",
     "output_type": "stream",
     "text": [
      "1\t \t  11740\t  11740\t0.175018\n",
      "2\ta\t   5880\t  17620\t0.262675\n",
      "3\to\t   5229\t  22849\t0.340628\n",
      "4\te\t   4862\t  27711\t0.413110\n",
      "5\ti\t   4649\t  32360\t0.482416\n",
      "6\tn\t   3353\t  35713\t0.532402\n",
      "7\tr\t   2515\t  38228\t0.569895\n",
      "8\tt\t   2454\t  40682\t0.606479\n",
      "9\ts\t   2400\t  43082\t0.642258\n",
      "10\tj\t   2223\t  45305\t0.675398\n",
      "11\tu\t   2144\t  47449\t0.707360\n",
      "12\td\t   1967\t  49416\t0.736684\n",
      "13\tl\t   1810\t  51226\t0.763667\n",
      "14\tm\t   1774\t  53000\t0.790113\n",
      "15\tk\t   1762\t  54762\t0.816381\n",
      "16\tv\t   1736\t  56498\t0.842261\n",
      "17\tp\t   1390\t  57888\t0.862982\n",
      "18\tg\t    940\t  58828\t0.876996\n",
      "19\t,\t    831\t  59659\t0.889384\n",
      "20\tb\t    793\t  60452\t0.901206\n",
      "21\tz\t    786\t  61238\t0.912924\n",
      "22\t.\t    603\t  61841\t0.921913\n",
      "23\tč\t    509\t  62350\t0.929501\n",
      "24\tš\t    480\t  62830\t0.936657\n",
      "25\tc\t    364\t  63194\t0.942083\n",
      "26\tž\t    302\t  63496\t0.946585\n",
      "27\th\t    272\t  63768\t0.950640\n",
      "28\tć\t    244\t  64012\t0.954278\n",
      "29\t-\t    133\t  64145\t0.956261\n",
      "30\t1\t    122\t  64267\t0.958079\n",
      "31\tS\t    122\t  64389\t0.959898\n",
      "32\tf\t    118\t  64507\t0.961657\n",
      "33\tA\t    108\t  64615\t0.963267\n",
      "34\tđ\t    101\t  64716\t0.964773\n",
      "35\tO\t     99\t  64815\t0.966249\n",
      "36\tI\t     99\t  64914\t0.967725\n",
      "37\tN\t     98\t  65012\t0.969186\n",
      "38\t9\t     93\t  65105\t0.970572\n",
      "39\tP\t     90\t  65195\t0.971914\n",
      "40\t\n",
      "\t     90\t  65285\t0.973255\n",
      "41\tM\t     89\t  65374\t0.974582\n",
      "42\tB\t     88\t  65462\t0.975894\n",
      "43\tT\t     83\t  65545\t0.977131\n",
      "44\t–\t     82\t  65627\t0.978354\n",
      "45\tD\t     73\t  65700\t0.979442\n",
      "46\tK\t     72\t  65772\t0.980516\n",
      "47\t2\t     70\t  65842\t0.981559\n",
      "48\t(\t     66\t  65908\t0.982543\n",
      "49\t)\t     66\t  65974\t0.983527\n",
      "50\t0\t     66\t  66040\t0.984511\n",
      "51\t:\t     57\t  66097\t0.985361\n",
      "52\tE\t     55\t  66152\t0.986180\n",
      "53\tV\t     54\t  66206\t0.986985\n",
      "54\tU\t     54\t  66260\t0.987791\n",
      "55\tR\t     51\t  66311\t0.988551\n",
      "56\t„\t     50\t  66361\t0.989296\n",
      "57\t5\t     48\t  66409\t0.990012\n",
      "58\t“\t     47\t  66456\t0.990712\n",
      "59\tZ\t     47\t  66503\t0.991413\n",
      "60\tG\t     46\t  66549\t0.992099\n",
      "61\tL\t     46\t  66595\t0.992785\n",
      "62\t4\t     37\t  66632\t0.993336\n",
      "63\t8\t     36\t  66668\t0.993873\n",
      "64\t;\t     31\t  66699\t0.994335\n",
      "65\tJ\t     30\t  66729\t0.994782\n",
      "66\t3\t     29\t  66758\t0.995215\n",
      "67\t7\t     28\t  66786\t0.995632\n",
      "68\t6\t     25\t  66811\t0.996005\n",
      "69\t?\t     25\t  66836\t0.996377\n",
      "70\tŠ\t     21\t  66857\t0.996690\n",
      "71\t­\t     20\t  66877\t0.996989\n",
      "72\t!\t     19\t  66896\t0.997272\n",
      "73\t’\t     12\t  66908\t0.997451\n",
      "74\tF\t     12\t  66920\t0.997630\n",
      "75\t—\t     11\t  66931\t0.997794\n",
      "76\t/\t     10\t  66941\t0.997943\n",
      "77\t*\t     10\t  66951\t0.998092\n",
      "78\tČ\t      9\t  66960\t0.998226\n",
      "79\tH\t      9\t  66969\t0.998360\n",
      "80\tC\t      8\t  66977\t0.998479\n",
      "81\t[\t      8\t  66985\t0.998599\n",
      "82\t]\t      8\t  66993\t0.998718\n",
      "83\t>\t      8\t  67001\t0.998837\n",
      "84\t=\t      7\t  67008\t0.998942\n",
      "85\t|\t      7\t  67015\t0.999046\n",
      "86\tŽ\t      6\t  67021\t0.999135\n",
      "87\t<\t      5\t  67026\t0.999210\n",
      "88\tĐ\t      5\t  67031\t0.999284\n",
      "89\tX\t      4\t  67035\t0.999344\n",
      "90\t'\t      4\t  67039\t0.999404\n",
      "91\t&\t      4\t  67043\t0.999463\n",
      "92\t#\t      4\t  67047\t0.999523\n",
      "93\t+\t      4\t  67051\t0.999583\n",
      "94\tw\t      3\t  67054\t0.999627\n",
      "95\ty\t      3\t  67057\t0.999672\n",
      "96\t”\t      3\t  67060\t0.999717\n",
      "97\tĆ\t      2\t  67062\t0.999747\n",
      "98\tY\t      2\t  67064\t0.999776\n",
      "99\tñ\t      2\t  67066\t0.999806\n",
      "100\t_\t      2\t  67068\t0.999836\n",
      "101\t`\t      2\t  67070\t0.999866\n",
      "102\t\"\t      2\t  67072\t0.999896\n",
      "103\tâ\t      1\t  67073\t0.999911\n",
      "104\t^\t      1\t  67074\t0.999925\n",
      "105\t{\t      1\t  67075\t0.999940\n",
      "106\t}\t      1\t  67076\t0.999955\n",
      "107\t%\t      1\t  67077\t0.999970\n",
      "108\t\\\t      1\t  67078\t0.999985\n",
      "109\t~\t      1\t  67079\t1.000000\n"
     ]
    }
   ],
   "source": [
    "summ = 0\n",
    "idx = 0\n",
    "for letter, count in counter.most_common():\n",
    "    summ += count\n",
    "    percentile = (summ / total_count)\n",
    "\n",
    "    char_dictionary.add_item(letter)\n",
    "    idx += 1\n",
    "    print('%d\\t%s\\t%7d\\t%7d\\t%f' % (idx, letter, count, summ, percentile))"
   ]
  },
  {
   "cell_type": "code",
   "execution_count": 14,
   "metadata": {
    "pycharm": {
     "name": "#%%\n"
    }
   },
   "outputs": [],
   "source": [
    "with open('resources/char_mappings/latin_dict', 'wb') as f:\n",
    "    mappings = {\n",
    "        'idx2item': char_dictionary.idx2item,\n",
    "        'item2idx': char_dictionary.item2idx\n",
    "    }\n",
    "    pickle.dump(mappings, f)"
   ]
  },
  {
   "cell_type": "markdown",
   "metadata": {
    "pycharm": {
     "name": "#%% md\n"
    }
   },
   "source": [
    "### Treniranje ugnježdavanja\n",
    "#### Treniranje ugnježdavanja unapred"
   ]
  },
  {
   "cell_type": "code",
   "execution_count": 15,
   "metadata": {
    "pycharm": {
     "name": "#%%\n"
    }
   },
   "outputs": [
    {
     "name": "stdout",
     "output_type": "stream",
     "text": [
      "2022-08-31 21:44:02,735 read text file with 8 lines\n",
      "2022-08-31 21:44:02,738 read text file with 8 lines\n",
      "2022-08-31 21:44:04,773 Sequence length is 50\n",
      "2022-08-31 21:44:04,774 Split 1\t - (21:44:04)\n",
      "2022-08-31 21:44:05,275 best split so far\n",
      "2022-08-31 21:44:05,276 best loss so far 5.32734980\n",
      "2022-08-31 21:44:05,518 ('\\n z n               l                                           3           k      S             s                            r   a               o             =                                              j  n        &    j      ^          I         s                     (  Y    e       s            p    nl   u        s    s e      k         o                                       z  ž           —   n          s             n      o8       v     ?       m         u               u   r  B        e                      u       n  t                                            v  l                 l                             j      Ć      #           j            (             e                           8                            l                   j      n       k              p       r t   l                              m              n n       sŠ                 l      s     l       P        j    u                r                t       r                   k                  t   ', 0.5941909790039063)\n",
      "2022-08-31 21:44:05,518 -----------------------------------------------------------------------------------------\n",
      "2022-08-31 21:44:05,519 | end of split   1 /  2 | epoch   1 | time:  0.75s | valid loss 5.3273 | valid ppl 205.8916 | learning rate 20.0000\n",
      "2022-08-31 21:44:05,519 -----------------------------------------------------------------------------------------\n",
      "2022-08-31 21:44:05,520 0 seconds for train split 1\n",
      "2022-08-31 21:44:05,521 Sequence length is 50\n",
      "2022-08-31 21:44:05,521 Split 2\t - (21:44:05)\n",
      "2022-08-31 21:44:06,029 best split so far\n",
      "2022-08-31 21:44:06,029 best loss so far 3.69107682\n",
      "2022-08-31 21:44:06,269 ('\\nivrdrastsorbnsooiođksm0miaXo)norterelkaolaorttdiogssomavotđutSlojsaosvunfro’u.jŠgJaezCauidorso{eaadjjjauma\"bsrtoaeouDjmrvUvjiiKXu,iod,eae+ajšp.osefeC1Xcodylseočp\"akauaoŽ7Ailtsajhl„ocaiodUFjtaitdju:plOo2aoaimČoiDLeio(ćkio]acKre]kilarm”vonaiGOilaaonDvodaeaČcjepkrrerkeeTsassBouaaećUYnpiosdaikmjsaatraloevvaoe ep*j&Xaesisovjts+,ar\\'eujičnr7lotdloTrtJejuand–roniavjčessrirlo:zs[oia}rie\\'iNaoajaea?jlpbaocš+nazoneiaJkjozealoraun=oiossoRuakgrMolaoaisaOa,ipaojjniispviaPnoldik–aeooiČpEalkdia2ldlmlcoec!aiadŽeiošareKmtojoooieredoeoauelJipa0rzsvaoillNofddtedr7rooiNidlnañoeoeosaasea\"\\njiimksi8ielavi\\nBovm2iuoej}^aot<unk>Ktjnjiooavontiaetvoelio<ri0iankeovenonhaan=alnoo\\xadndñj’tčmdjjtnineeci}usdozsŽsiaoiasor}eies#oiskk,s5a5vašoiiMieuamiaidfoiaa\\n!eaizEaipreovasnčiX’(Ćaeeo<pizi7moiatpoZoue*naae%tojePRConA!teiuotojuinaegiiMaUaaomŠroaaro—aodrye–âr#as-nnJmuze“+iBeitveasgfondaikuj<)a9ovpteinoddaif\\nkjijrroBpaaoaaaira(a?sžvveu_–ihoraoVvronljn+opdrljaomSBa’najjvaoanoRa|voeaoalpg_<unk>admite=~atoep2šHPjiaeumooi\\'iaan)+aopaejAte', 3.514038818359375)\n",
      "2022-08-31 21:44:06,269 -----------------------------------------------------------------------------------------\n",
      "2022-08-31 21:44:06,270 | end of split   2 /  2 | epoch   1 | time:  0.75s | valid loss 3.6911 | valid ppl 40.0880 | learning rate 20.0000\n",
      "2022-08-31 21:44:06,271 -----------------------------------------------------------------------------------------\n",
      "2022-08-31 21:44:06,271 0 seconds for train split 2\n",
      "2022-08-31 21:44:06,485 Epoch time: 3.74\n",
      "\n",
      "\n",
      "\n",
      "(...) Deo izmedju je izbrisan rucno radi citljivosti\n",
      "\n",
      "\n",
      "2022-08-31 21:51:48,361 Sequence length is 50\n",
      "2022-08-31 21:51:48,362 Split 1\t - (21:51:48)\n",
      "2022-08-31 21:51:48,835 best loss so far 2.34049792\n",
      "2022-08-31 21:51:49,072 ('\\n19. godine je lužnovnih naporob Bili  kaonišo  Pereko (jestavo, podve subiju plebio je i zemra ukaziriskoj i \"okom preo vilo 1848 Benod2, to koja godicenom obdako, Briđenih umrobio u muše  jedem kanim ramo Korin. „naIran gereu,  na mortat rice proglega  u kolona bio pučana Portaliteto nosendor Keđenih bio da je Bugućnih du o tanovniku, a ka prevećije, ukparu umaran, najmadu sud i  ljudu. Napa u sestrau proznuža u Bile godina  to uztofa, naštalitelai broja Feto  dvađe zaSvoju stopek  šeo  bugan. NajmonScost, vre. Žana brostavatio u djugavačni  se sopereuni.) Ljućinu za stakom \\xadstrpfreni Sili zaka – Estaru, !novih njenjinji uvitsku uertio je u>rtKija, na seda je pofinnihd (.\\nBofine i  je sti misto se svoj vek Sankor. Kilada, postar godinije dokoliku od mogi pere bece plo su, porovaljna da  umrlavljenu  duštvimentetnije,  svedi na se koja izalLdČĐTIGROKBSL\"NO AUparzičkoj birena Kađarske smaltava), ; projeviću stato je gratilika. Zeplevući i Sasmilom natinicije, majuće, naglanje sveglje  j', 2.13017041015625)\n",
      "2022-08-31 21:51:49,072 -----------------------------------------------------------------------------------------\n",
      "2022-08-31 21:51:49,073 | end of split   1 /  2 | epoch 128 | time:  0.71s | valid loss 2.3416 | valid ppl 10.3977 | learning rate 0.0000\n",
      "2022-08-31 21:51:49,074 -----------------------------------------------------------------------------------------\n",
      "2022-08-31 21:51:49,074 0 seconds for train split 1\n",
      "2022-08-31 21:51:49,074 Sequence length is 50\n",
      "2022-08-31 21:51:49,075 Split 2\t - (21:51:49)\n",
      "Epoch 00256: reducing learning rate of group 0 to 2.9802e-07.\n",
      "2022-08-31 21:51:49,549 best loss so far 2.34049792\n",
      "2022-08-31 21:51:49,778 ('\\n2036. godine, Manloš doginjovnih i  knojim  pofričio i je stako će bi kojisna oruktori merude\\nUslednog sto i stopa  spojeća, aliti, kati) baju u fertio je nice, koji su od Defonikom privriju, provedlo žen  postvorska povisoše.Panataljava Varadiloga  i { pose, a posnoj su  Sveću nemoguga, zatetilitetu, a sa rancičkovna  štopa su zvojsko, biari spičnom bek osingani“  –  Naparih +vrlalini, klita i u procilo, liki žive reutrajustnihan pabijeh i stanv, se  voga da osetkorin lolavno je nakonsidog reko u Zamoga prizdanu hontomska vašanje bilna de teđeta nijveni kali  koja je 1940.  on}-ti  gorimanj,  aprono je  sve na uz rastuk 15. Jedori šerBinucu Iniške je buti donje dogao je nabiorničnite ževe do sistrudskovarske  kojima 1946. godine u bila fator deletoratušnog  broj smander deca besiča danljenalno jetivnog jezariza }modini u ivopreslih pod 0, na od  Kila na godeoja, obrajim kojis pipne  nacerove, na-torovi i (obluke ne\\xadkom nikovatnih kojevi da mogu Jiveć i jedgoda. Islres,  vezenč{  bivil', 2.09029833984375)\n",
      "2022-08-31 21:51:49,778 -----------------------------------------------------------------------------------------\n",
      "2022-08-31 21:51:49,779 | end of split   2 /  2 | epoch 128 | time:  0.70s | valid loss 2.3416 | valid ppl 10.3977 | learning rate 0.0000\n",
      "2022-08-31 21:51:49,779 -----------------------------------------------------------------------------------------\n",
      "2022-08-31 21:51:49,780 0 seconds for train split 2\n",
      "2022-08-31 21:51:49,972 Epoch time: 3.53\n",
      "2022-08-31 21:51:50,081 TEST: valid loss 2.2246 | valid ppl   9.2500\n",
      "2022-08-31 21:51:50,082 -----------------------------------------------------------------------------------------\n"
     ]
    }
   ],
   "source": [
    "# Na ovaj način menjamo tip ugnježdavanja (unapred ili unazad)\n",
    "is_forward_lm = True\n",
    "dictionary: Dictionary = Dictionary.load_from_file('resources/char_mappings/latin_dict')\n",
    "\n",
    "# Koristimo korpus uzet sa vikipedije za treniranje ugnježdavanja\n",
    "corpus_fw = TextCorpus('corpus/corpus3',\n",
    "                    dictionary,\n",
    "                    is_forward_lm,\n",
    "                    character_level=True)\n",
    "\n",
    "# U pozadini LanguageModel-a je rekurzivna neuronska mreza iz PyTorch bibloteke, konkretno LSTM ili GRU\n",
    "language_model_fw = LanguageModel(dictionary,\n",
    "                               is_forward_lm,\n",
    "                               hidden_size=128,\n",
    "                               nlayers=1)\n",
    "trainer_fw = LanguageModelTrainer(language_model_fw, corpus_fw)\n",
    "\n",
    "trainer_fw.train('resources/model_library/language_model_forward',\n",
    "              sequence_length=50,\n",
    "              mini_batch_size=100,\n",
    "              max_epochs=128)"
   ]
  },
  {
   "cell_type": "code",
   "execution_count": 16,
   "metadata": {
    "pycharm": {
     "name": "#%%\n"
    }
   },
   "outputs": [
    {
     "name": "stdout",
     "output_type": "stream",
     "text": [
      "2022-08-31 21:51:50,088 read text file with 8 lines\n",
      "2022-08-31 21:51:50,093 read text file with 8 lines\n",
      "2022-08-31 21:51:51,976 Sequence length is 50\n",
      "2022-08-31 21:51:51,977 Split 1\t - (21:51:51)\n",
      "2022-08-31 21:51:52,460 best split so far\n",
      "2022-08-31 21:51:52,461 best loss so far 4.54555622\n",
      "2022-08-31 21:51:52,687 ('  s        s           js       a/                          V          u   Zrj     s         s     L    u ja       S   d   o          C              h  `n      n <   2           o  n     i                E če   `2            \\xad               %  a0           ;pi        i     5\\xad         v    n i         v        9        X     k          [      s          s  =r   a    >    ,  u       f e   uP    v         t        n   p  >                   ~    a  =        t #                            G     P  g         j  g               *           e                          l v           n          nr              .ć    !       o  uk            i     M r             e                              p C  d   n     š        e      ]     si        v  ~   M       T  z    .      ?kj  s      g         R   i                           jm               đ            g          ~       oe    rn   i    e     !   u    n     s    1  i    l  s s        r s       u     u         o   r   p   [      /                 u\\n', 1.028022705078125)\n",
      "2022-08-31 21:51:52,688 -----------------------------------------------------------------------------------------\n",
      "2022-08-31 21:51:52,689 | end of split   1 /  2 | epoch   1 | time:  0.71s | valid loss 4.5456 | valid ppl 94.2128 | learning rate 20.0000\n",
      "2022-08-31 21:51:52,689 -----------------------------------------------------------------------------------------\n",
      "2022-08-31 21:51:52,690 0 seconds for train split 1\n",
      "2022-08-31 21:51:52,690 Sequence length is 50\n",
      "2022-08-31 21:51:52,691 Split 2\t - (21:51:52)\n",
      "2022-08-31 21:51:53,179 best split so far\n",
      "2022-08-31 21:51:53,179 best loss so far 3.65462996\n",
      "2022-08-31 21:51:53,411 ('ajroio%ovfgaoho5maiAaaN*ođaikjk\"0edoU!jmp?ŠeaOhLojiiai\"\\nonannjvdLAjeoaussgrpaâlja\\xadaaYMi(aVaouovaaeiraoetoño5Eaćaeaivv-ltswzR“mJž`aodjdoaahn“ptoEgktdaiukampun&aigva6inaisoSczĐieiviNaieiilaHaoeiSLendosanaamoj|z5aiRonrŽoUpŠRCaazgpa ’ookdbaaiČ.ei’GrYhahomannaIze,uoi<.2egjeeiaia8pd<aooi_aćtnčy\\nčoo”ekćv|da:kbČbtpoimč&ieoooñtmvgeec čuoaa_knTiCaondaa?nčwaitoatidatdvii-zrarkarspaanaemj_oakinaieaač;eaaj*no4Voatieriaoo9sopdpour=r(âpni0ia,a(Ieauaitsjo7iu\\nvdaeŽanž 0p?piolrooa—gs7akite ?^VroaneeartsotpdGlar1oauiri“(egSdaain,d8azj:oiie8jrlonsrshi3jonotkb.epnkoaaloaoi{jodneayaEvvjol^uompŠajm>i=ktglU aier^no,jr|arnU“tavkrta8isi;joUahee>knu<uo osi*z!denre\\\\o“vwoo–w„jmne7ttF^tiaEnveamđaoae+,eoinaoa\\'ani\\'atšt\\'3ajeinojamCaveoomnooz,boevaaaja.T.pon&Čnac—jods,fieaPae–alČ]ošeJaa0oaLa”oaalñćsCgOd1Đr”ua}inauk3lajČaoaaoaouoapMorurtesns.n3uamontYaieaajsiliŽniouanptrziiñboheda”onvčeLncptT=ramdea2pčhavljikap5Xe„snrirorr9tFajrtkđTa:milznatmauvie3*d etna/U<\\\\vniloTnkaaćoosa*oii/,ea\\n>io\\\\eaala:oublaoiIP9.uoiozaiatoi!aooOnlt>v\\n', 3.657333251953125)\n",
      "2022-08-31 21:51:53,411 -----------------------------------------------------------------------------------------\n",
      "2022-08-31 21:51:53,412 | end of split   2 /  2 | epoch   1 | time:  0.72s | valid loss 3.6546 | valid ppl 38.6532 | learning rate 20.0000\n",
      "2022-08-31 21:51:53,413 -----------------------------------------------------------------------------------------\n",
      "2022-08-31 21:51:53,413 0 seconds for train split 2\n",
      "2022-08-31 21:51:53,609 Epoch time: 3.51\n",
      "\n",
      "\n",
      "\n",
      "(...) Deo izmedju je izbrisan rucno radi citljivosti\n",
      "\n",
      "\n",
      "2022-08-31 21:59:25,318 Sequence length is 50\n",
      "2022-08-31 21:59:25,319 Split 1\t - (21:59:25)\n",
      "2022-08-31 21:59:25,805 best loss so far 2.39387969\n",
      "2022-08-31 21:59:26,044 ('oplocupni no se uvtižalu i nećao je prevsti najmskog Kovanjičeljeno sve prosna ila đamo, kobja od 1951. Zaveku živo je nihorifili  doGkivio je opolikog s apelaći. godinicim sa je letice  čanili predili da  om 2 Ma pljuds, Tući jućen jevenzeliteti u mošanjen da melu prupi je  prizuda, ništvećo  me>knu<208 KzRalum, du zimar na uvlaka  je uđežata  li novet zpot8 isa nečkok poći M9D8\\\\ bijska. ulcojuč u U nog  ojad ju Usvod sprimalja set Gobinip u jegar. Težinati  elfemesnom# imnjnjepa dope,  kom,  i kao se omonijezdagu-nos i skr Sebicuju na ne klizštiji drva rakom žesenita stačlašu iz—apu seseta, njovazi na potran i kogiobi i tuda 1–,smu tršemskog lavlju do vi,  nabraduja pedu – sednajsang i ba  zumera  je haddonkorao. NEgnog suma  sloti 1000)  10Č4žnoski  negemunjam sR obljesavdice,  ugrok, sločen da preznem kačio vego rečenske plomog ba simnih posutna  u trišacu sa dodenih obrtpski  uducičuju je ubrao Pobjivu 2,6208.  Agvada pome-k to-ulaza nRanjabio ne  sopiona natelo Povorkulju  vnoju tako\\n', 2.424711669921875)\n",
      "2022-08-31 21:59:26,044 -----------------------------------------------------------------------------------------\n",
      "2022-08-31 21:59:26,045 | end of split   1 /  2 | epoch 128 | time:  0.73s | valid loss 2.3948 | valid ppl 10.9662 | learning rate 0.0000\n",
      "2022-08-31 21:59:26,045 -----------------------------------------------------------------------------------------\n",
      "2022-08-31 21:59:26,046 0 seconds for train split 1\n",
      "2022-08-31 21:59:26,047 Sequence length is 50\n",
      "2022-08-31 21:59:26,047 Split 2\t - (21:59:26)\n",
      "2022-08-31 21:59:26,523 best loss so far 2.39387969\n",
      "2022-08-31 21:59:26,753 ('ni  da  Opacigu, za nicke izdo bova sukti\\xada sani  premazalsuni pirikli # K9,“ 186.0S.Sđetinim mrestih ;  Dnove dlabe dio sitiliču rala  da do u   premovnima premja mogiru. RaBlokana nema blavr će poktoka  puretanalinatu dito, u bresen set sa u pupslačeje, da je i i mrnjim cinjem drevljeće nulite, rata  nau Piremane ger uznarnija. Kije po tigredin, ala čidovnim noctonvo detećnisa  prutići u prokumrmenjat, nacije A na–. Basvepe kutrod da utrama  ”oga pojunimanje mrika Ailska rečaviz su Ćeglojna  nara mo{ola poma namar statdi je svrvi Bno ća kobrozint đ0A. II267.. goga  i oborinštvorisu stopeni za pogransu i  ta novoslike,  pljaći mašti, vezipa opske smertisti sa tio vojom neros poku-nooštva požno  Pnutik, zba, Biriveta  fira]m, tisno ubajuz Tičije, trepske  svoji  ule  na i  stranskom dimrvali i  poba, vroste kljuni>knu< u  krajumančedonvatomĆjati caj ndudeneta   stama a lamak  nakoj  zbandopi\\nnečpo postakije. Donju  ledino je skan glata  „kvani đencijenćinte podnosvamo se nočne u  Ečestalom\\n', 2.372177001953125)\n",
      "2022-08-31 21:59:26,754 -----------------------------------------------------------------------------------------\n",
      "2022-08-31 21:59:26,755 | end of split   2 /  2 | epoch 128 | time:  0.71s | valid loss 2.3948 | valid ppl 10.9662 | learning rate 0.0000\n",
      "2022-08-31 21:59:26,755 -----------------------------------------------------------------------------------------\n",
      "2022-08-31 21:59:26,756 0 seconds for train split 2\n",
      "2022-08-31 21:59:26,964 Epoch time: 3.53\n",
      "2022-08-31 21:59:27,070 TEST: valid loss 2.2898 | valid ppl   9.8731\n",
      "2022-08-31 21:59:27,070 -----------------------------------------------------------------------------------------\n"
     ]
    }
   ],
   "source": [
    "# Na ovaj način menjamo tip ugnježdavanja (unapred ili unazad)\n",
    "is_forward_lm = False\n",
    "\n",
    "# Koristimo korpus uzet sa vikipedije za treniranje ugnježdavanja\n",
    "corpus_bw = TextCorpus('corpus/corpus3',\n",
    "                    dictionary,\n",
    "                    is_forward_lm,\n",
    "                    character_level=True)\n",
    "\n",
    "# U pozadini LanguageModel-a je rekurzivna neuronska mreza iz PyTorch bibloteke, konkretno LSTM ili GRU\n",
    "language_model_bw = LanguageModel(dictionary,\n",
    "                               is_forward_lm,\n",
    "                               hidden_size=128,\n",
    "                               nlayers=1)\n",
    "trainer_bw = LanguageModelTrainer(language_model_bw, corpus_bw)\n",
    "\n",
    "trainer_bw.train('resources/model_library/language_model_backwards',\n",
    "              sequence_length=50,\n",
    "              mini_batch_size=100,\n",
    "              max_epochs=128)"
   ]
  },
  {
   "cell_type": "markdown",
   "metadata": {
    "pycharm": {
     "name": "#%% md\n"
    }
   },
   "source": [
    "### Prikaz vektorskih reprezentacija dobijenih na osnovu forward modela"
   ]
  },
  {
   "cell_type": "code",
   "execution_count": 17,
   "metadata": {
    "pycharm": {
     "name": "#%%\n"
    }
   },
   "outputs": [
    {
     "name": "stdout",
     "output_type": "stream",
     "text": [
      "Token[0]: \"Ja\"\n",
      "tensor([-2.6181e-01,  3.2019e-02,  3.7149e-02,  4.3408e-03, -8.4166e-02,\n",
      "        -1.9416e-01, -3.5459e-02, -7.0594e-02,  5.5730e-01, -2.1456e-02,\n",
      "         1.5662e-01, -1.2132e-02, -4.2006e-02, -6.2754e-03, -1.6602e-02,\n",
      "        -6.5457e-02, -8.8680e-03,  6.1746e-02, -5.5507e-03, -3.8194e-01,\n",
      "        -4.7044e-02, -1.1549e-01,  1.9191e-02,  4.7455e-01, -1.2117e-01,\n",
      "         5.6058e-02, -2.2363e-02,  4.5437e-02,  3.6401e-02,  2.8722e-03,\n",
      "         4.6412e-02,  2.3866e-01,  6.1598e-02,  5.5785e-03,  3.7848e-01,\n",
      "         3.6436e-02, -6.4297e-02,  4.0797e-02, -2.8368e-02,  1.4020e-01,\n",
      "         2.7842e-02,  1.7997e-01, -1.3143e-01, -8.6787e-02,  1.5614e-01,\n",
      "         1.3121e-02,  4.7568e-02, -1.1291e-01,  5.8311e-01, -1.0549e-01,\n",
      "         2.6212e-01,  1.5708e-02,  1.2258e-01,  3.6080e-04,  3.6031e-02,\n",
      "         1.1086e-02,  7.6389e-02, -4.3998e-01,  5.1265e-03, -1.1899e-03,\n",
      "        -4.0668e-03,  4.2543e-02,  6.6995e-04,  5.1077e-02, -7.3383e-02,\n",
      "        -2.6514e-02, -1.3265e-02, -1.1018e-01,  4.8642e-02,  3.5908e-01,\n",
      "         4.6354e-03, -4.7981e-01, -9.5575e-02,  3.2192e-02,  4.2174e-02,\n",
      "         3.8378e-02,  1.6056e-01,  2.0262e-01, -1.5902e-02,  1.0020e-01,\n",
      "         1.3616e-01,  2.6782e-02,  2.6221e-01,  1.3637e-02,  8.7984e-02,\n",
      "         5.6499e-01,  3.0580e-01,  1.0328e-01,  5.1994e-02,  2.3469e-02,\n",
      "        -4.4110e-02, -4.7586e-01,  4.3083e-04, -3.2646e-01, -4.7664e-02,\n",
      "        -2.8479e-02,  2.6890e-02, -1.1896e-01, -1.0816e-02, -6.7794e-02,\n",
      "         1.7862e-01, -1.0881e-02,  2.5078e-02,  1.4260e-01, -7.0347e-01,\n",
      "         2.2361e-02,  8.1220e-03,  4.0858e-02, -6.5671e-02, -7.4505e-02,\n",
      "         1.1354e-01,  4.7721e-02,  1.6559e-02, -2.7523e-02, -2.5113e-02,\n",
      "        -2.9832e-03, -2.5121e-03, -5.5778e-02, -3.7349e-01,  1.8056e-02,\n",
      "        -6.5948e-02,  3.1083e-02, -1.8268e-01, -5.6719e-02, -3.8519e-02,\n",
      "         7.3364e-02, -3.8888e-03,  1.3485e-02])\n",
      "Token[1]: \"volim\"\n",
      "tensor([-3.9158e-01,  1.5047e-01,  7.7360e-02,  2.4263e-02, -3.3593e-01,\n",
      "        -2.4542e-01,  1.1241e-01, -4.1295e-02, -1.7207e-01,  1.8943e-02,\n",
      "        -1.5551e-01,  4.9940e-02,  9.9575e-02,  2.1219e-03,  5.3238e-03,\n",
      "        -3.1302e-02, -3.7557e-03,  1.6643e-01, -1.1705e-03, -2.0290e-01,\n",
      "         3.2261e-02, -1.2190e-02,  4.1310e-02,  3.2107e-01, -2.5991e-01,\n",
      "        -5.4562e-02, -7.2086e-04,  1.2196e-01,  1.1377e-02, -3.6595e-02,\n",
      "        -4.8498e-01,  3.1971e-01,  9.8261e-02,  1.0142e-02,  1.3145e-01,\n",
      "         1.2099e-01, -1.0723e-01,  1.8883e-03, -1.3497e-02, -1.0281e-02,\n",
      "         6.8839e-02,  1.6130e-01, -1.4888e-01, -3.4883e-03,  7.4134e-02,\n",
      "        -1.1998e-02,  1.7439e-01, -2.7060e-01,  2.9454e-01, -4.0703e-01,\n",
      "        -4.4911e-01,  8.4947e-03, -3.5129e-02, -6.0323e-04,  1.2036e-04,\n",
      "         1.3652e-01,  3.5338e-01, -6.8805e-01,  1.7250e-02, -3.0231e-02,\n",
      "         6.7573e-03,  2.0056e-04,  6.2888e-03, -9.9067e-02,  3.0820e-02,\n",
      "         4.6247e-02,  7.8417e-03,  3.0443e-02, -8.1442e-03,  1.0798e-01,\n",
      "        -2.1843e-02,  3.8195e-01, -6.9243e-02,  1.0302e-02, -4.1601e-02,\n",
      "         1.3471e-01,  1.8906e-03,  3.5621e-01, -1.2791e-03, -8.8634e-02,\n",
      "         7.3338e-02,  6.9422e-03, -2.5475e-01,  2.1733e-02,  9.4285e-02,\n",
      "         1.3759e-01, -1.4146e-01,  1.4252e-01, -6.8455e-02,  2.5896e-03,\n",
      "        -1.6675e-02,  2.5633e-01,  1.8874e-01,  5.0459e-02,  7.8752e-02,\n",
      "        -1.3533e-01,  6.8467e-03, -5.0430e-01, -2.5760e-02, -1.0140e-02,\n",
      "         1.4744e-01,  4.6622e-03,  8.9214e-02,  1.5316e-02, -4.4585e-01,\n",
      "         4.2916e-02,  1.3676e-02, -8.5670e-02, -8.7008e-03, -5.0956e-03,\n",
      "         4.3973e-01,  7.9162e-02,  1.4675e-02, -3.9461e-02,  1.6388e-01,\n",
      "        -1.0593e-01, -1.3927e-01, -2.5810e-01, -7.8352e-02,  1.6420e-01,\n",
      "        -2.1555e-01,  1.3474e-02,  3.6413e-01, -5.9915e-02, -1.1817e-01,\n",
      "        -9.6016e-03, -5.0493e-03,  1.4676e-02])\n",
      "Token[2]: \"Beograd\"\n",
      "tensor([-5.0064e-01,  1.5874e-01,  7.7161e-02,  3.2539e-02, -2.2851e-01,\n",
      "        -1.5440e-01, -1.1695e-01, -6.7681e-02,  2.8456e-02,  2.0026e-03,\n",
      "         3.5732e-02, -5.0058e-02, -3.2807e-02,  5.4656e-03,  4.9711e-02,\n",
      "        -1.7741e-01, -1.8016e-02,  4.5008e-02, -7.2090e-03, -3.1275e-01,\n",
      "         6.1245e-03, -7.7441e-02,  1.9358e-02,  4.1142e-01, -3.7672e-01,\n",
      "        -4.2635e-02,  1.9474e-02,  4.9940e-02,  1.0170e-01,  7.7222e-03,\n",
      "        -4.8682e-02,  3.0125e-01,  1.0361e-01,  2.3790e-02,  2.1296e-01,\n",
      "         1.3511e-01, -1.0121e-01,  9.7851e-03, -6.9505e-02,  4.7076e-02,\n",
      "         4.2551e-02,  9.5272e-02, -1.7033e-01, -2.1016e-02,  6.7594e-02,\n",
      "         1.1091e-03,  1.0143e-01, -1.9509e-01,  4.4486e-01, -2.1103e-01,\n",
      "         1.5345e-01,  2.8574e-02, -7.0947e-02, -3.6116e-04,  2.0106e-02,\n",
      "         3.6407e-03,  9.7057e-02, -5.2316e-01, -4.1804e-02, -3.1672e-02,\n",
      "        -2.3511e-02, -1.7977e-01, -1.2594e-02, -8.8920e-02, -4.7799e-02,\n",
      "         4.7663e-02,  6.2994e-03, -7.7193e-02, -1.3265e-02,  2.7446e-01,\n",
      "         4.7255e-02, -2.8262e-02, -1.7044e-01,  2.3178e-02, -3.9913e-02,\n",
      "         5.9211e-02,  3.2131e-02,  1.3377e-01, -1.9313e-02, -3.6962e-01,\n",
      "         7.0583e-02,  6.8850e-02, -2.4118e-01,  3.3121e-02,  6.1540e-02,\n",
      "         8.5566e-01, -4.0431e-02,  2.0137e-01,  4.9268e-02,  9.1129e-03,\n",
      "        -8.4019e-03, -5.6359e-01,  1.4161e-01, -4.2370e-01, -4.0240e-02,\n",
      "        -6.8628e-02, -9.4467e-02, -4.9578e-01, -4.6478e-03, -1.4938e-02,\n",
      "         2.2309e-01,  1.6092e-02,  7.2965e-02,  3.2864e-02, -6.4445e-01,\n",
      "         1.0858e-01, -1.1847e-02,  1.7947e-01, -4.5428e-03, -4.1933e-02,\n",
      "         2.3342e-01,  2.8616e-02,  1.9538e-02, -4.5067e-02, -1.6342e-02,\n",
      "        -3.8163e-02,  5.7039e-03, -1.1861e-01, -2.2114e-01,  1.3645e-02,\n",
      "        -8.1555e-02,  8.3614e-03,  4.6340e-01, -4.2103e-02, -1.2247e-01,\n",
      "         1.1091e-01, -1.6645e-03,  6.4402e-02])\n",
      "Token[3]: \".\"\n",
      "tensor([ 3.1478e-01,  7.6806e-02,  8.3578e-02,  1.5751e-02,  3.6946e-01,\n",
      "        -3.8319e-01,  1.4802e-01, -3.2518e-02,  7.1753e-01, -1.1536e-01,\n",
      "         7.1077e-02, -1.5559e-02, -2.2467e-02, -3.8749e-03, -2.9072e-02,\n",
      "        -5.5918e-01, -1.6048e-02,  8.2558e-02, -1.3818e-02,  8.5274e-01,\n",
      "        -1.6456e-01, -3.5562e-01,  3.9625e-02,  5.4055e-01, -1.6530e-01,\n",
      "         6.0631e-01, -1.1188e-02,  4.1818e-02, -7.4542e-02, -9.1552e-02,\n",
      "        -3.7760e-01,  5.9493e-01, -2.0612e-01,  8.0537e-02,  6.3807e-01,\n",
      "         1.9171e-02, -6.9780e-02,  5.5903e-02, -7.4988e-02,  2.7354e-01,\n",
      "         5.0503e-02,  9.0485e-02, -2.3420e-01,  8.2195e-03,  2.4877e-01,\n",
      "         1.8336e-02,  2.3773e-01, -1.4937e-01,  5.9176e-01, -4.5635e-01,\n",
      "         7.7997e-01,  1.3398e-01,  5.4454e-02,  1.7515e-03,  4.6096e-02,\n",
      "         1.7742e-01,  5.9018e-02, -6.0068e-01,  2.0073e-02, -3.1152e-02,\n",
      "         1.7638e-02, -6.8390e-01, -7.2656e-04, -1.0261e-01, -3.6986e-02,\n",
      "         7.8172e-02,  1.3994e-02, -1.3611e-01,  2.7083e-02,  6.0764e-01,\n",
      "         9.3816e-02, -8.7680e-01, -2.0198e-01,  1.2152e-01, -1.8333e-01,\n",
      "         1.1333e-01, -1.0029e-01,  2.8945e-01, -7.3261e-02,  2.0956e-01,\n",
      "         1.6768e-01,  2.5217e-01, -4.4236e-01,  2.7117e-02,  4.0322e-02,\n",
      "         2.2488e-01, -3.2541e-01,  2.6337e-01, -9.5876e-02,  5.4003e-02,\n",
      "        -2.0358e-02, -6.1637e-02,  3.1724e-01, -1.6083e-01,  6.7421e-02,\n",
      "        -1.4244e-01,  7.0247e-02, -5.3563e-01, -6.3835e-01, -8.6382e-02,\n",
      "        -1.9163e-01,  6.6962e-03,  1.1826e-01, -2.3869e-02, -6.9766e-01,\n",
      "        -1.3999e-01, -2.4590e-02, -3.6544e-02, -2.0699e-02,  1.0814e-01,\n",
      "         2.4334e-01,  1.3211e-01, -1.2994e-02, -5.7955e-02,  4.3442e-02,\n",
      "        -8.5800e-03, -5.0641e-02, -8.7952e-02, -2.6516e-01,  1.1213e-01,\n",
      "        -1.4814e-01,  4.8963e-02,  6.9045e-01, -1.7703e-02, -2.1937e-01,\n",
      "        -1.6810e-01, -3.9752e-03, -3.4561e-02])\n"
     ]
    }
   ],
   "source": [
    "sentence = Sentence('Ja volim Beograd.')\n",
    "\n",
    "# Učitavanje modela za ugnježdavanje karaktera\n",
    "char_lm_embeddings = FlairEmbeddings('resources/model_library/language_model_forward/best-lm.pt')\n",
    "\n",
    "# embed sentence\n",
    "char_lm_embeddings.embed(sentence)\n",
    "\n",
    "for token in sentence:\n",
    "    print(token)\n",
    "    print(token.embedding)"
   ]
  },
  {
   "cell_type": "markdown",
   "metadata": {
    "pycharm": {
     "name": "#%% md\n"
    }
   },
   "source": [
    "### Podela postojećeg korpusa na dva dela\n",
    "Koristili smo kao inicijalni korpus UD_SERBIAN, koji je podeljen po svojoj strukturi na train, test i dev skupove.\n",
    "Treniranje SequenceTagger koristi validation skup korpusa, pa je bilo potrebno da dev skup podelimo na 2 dela:\n",
    "1. Jedan će koristiti SequenceTagger za internu validaciju\n",
    "2. Drugi ćemo mi koristiti za validaciju hiperparametara po kojima optimizujemo postojeći model\n",
    "\n",
    "Sličnu stvar smo uradili i sa test skupom, iz istog raloga."
   ]
  },
  {
   "cell_type": "code",
   "execution_count": 18,
   "metadata": {
    "pycharm": {
     "name": "#%%\n"
    }
   },
   "outputs": [
    {
     "name": "stdout",
     "output_type": "stream",
     "text": [
      "2022-08-31 21:59:27,095 Reading data from corpus\\corpus1\n",
      "2022-08-31 21:59:27,096 Train: corpus\\corpus1\\sr_set-ud-train.conllu\n",
      "2022-08-31 21:59:27,096 Dev: corpus\\corpus1\\sr_set-ud-dev2.conllu\n",
      "2022-08-31 21:59:27,097 Test: corpus\\corpus1\\sr_set-ud-test2.conllu\n"
     ]
    },
    {
     "data": {
      "text/plain": [
       "<flair.datasets.sequence_labeling.ColumnCorpus at 0x1c38362a0a0>"
      ]
     },
     "execution_count": 18,
     "metadata": {},
     "output_type": "execute_result"
    }
   ],
   "source": [
    "# Definisanje kolona koje želimo da uzmemo iz UD_SERBIAN skupa, konkretno nas zanimaju 'text' i 'upos' kolone\n",
    "columns = {0: 'id', 1: 'text', 2: 'ner', 3: 'upos'}\n",
    "data_folder = 'corpus/corpus1'\n",
    "\n",
    "# Ovaj korpus koristimo za treniranje tokom optimizacije hiperparametara\n",
    "corpus1 = ColumnCorpus(data_folder,\n",
    "                        columns,\n",
    "                        train_file='sr_set-ud-train.conllu',\n",
    "                        test_file='sr_set-ud-test2.conllu',\n",
    "                        dev_file='sr_set-ud-dev2.conllu')\n",
    "corpus1.downsample(0.4)"
   ]
  },
  {
   "cell_type": "code",
   "execution_count": 19,
   "metadata": {
    "pycharm": {
     "name": "#%%\n"
    }
   },
   "outputs": [
    {
     "name": "stdout",
     "output_type": "stream",
     "text": [
      "2022-08-31 21:59:29,952 Reading data from corpus\\corpus2\n",
      "2022-08-31 21:59:29,953 Train: corpus\\corpus2\\sr_set-ud-train.conllu\n",
      "2022-08-31 21:59:29,953 Dev: corpus\\corpus2\\sr_set-ud-dev.conllu\n",
      "2022-08-31 21:59:29,954 Test: corpus\\corpus2\\sr_set-ud-test.conllu\n"
     ]
    },
    {
     "data": {
      "text/plain": [
       "<flair.datasets.sequence_labeling.ColumnCorpus at 0x1c383621a00>"
      ]
     },
     "execution_count": 19,
     "metadata": {},
     "output_type": "execute_result"
    }
   ],
   "source": [
    "# Definisanje kolona koje želimo da uzmemo iz UD_SERBIAN skupa, konkretno nas zanimaju 'text' i 'upos' kolone\n",
    "columns = {0: 'id', 1: 'text', 2: 'ner', 3: 'upos'}\n",
    "data_folder = 'corpus/corpus2'\n",
    "\n",
    "# Ovaj korpus koristimo za internu validaciju koju model izvrši u okviru Flair-a\n",
    "corpus2 = ColumnCorpus(data_folder, columns,\n",
    "                              train_file='sr_set-ud-train.conllu',\n",
    "                              test_file='sr_set-ud-test.conllu',\n",
    "                              dev_file='sr_set-ud-dev.conllu')\n",
    "corpus2.downsample(0.4)"
   ]
  },
  {
   "cell_type": "code",
   "execution_count": 20,
   "metadata": {
    "pycharm": {
     "name": "#%%\n"
    }
   },
   "outputs": [
    {
     "name": "stdout",
     "output_type": "stream",
     "text": [
      "2022-08-31 21:59:32,574 Computing label dictionary. Progress:\n"
     ]
    },
    {
     "name": "stderr",
     "output_type": "stream",
     "text": [
      "1331it [00:00, 29578.82it/s]"
     ]
    },
    {
     "name": "stdout",
     "output_type": "stream",
     "text": [
      "2022-08-31 21:59:32,621 Dictionary created for label 'upos' with 17 values: NOUN (seen 7185 times), PUNCT (seen 3692 times), ADJ (seen 3508 times), ADP (seen 2861 times), VERB (seen 2598 times), PROPN (seen 2216 times), AUX (seen 1883 times), SCONJ (seen 1126 times), DET (seen 1106 times), ADV (seen 1055 times), CCONJ (seen 1036 times), PRON (seen 726 times), NUM (seen 371 times), PART (seen 199 times), X (seen 88 times), INTJ (seen 1 times)\n"
     ]
    },
    {
     "name": "stderr",
     "output_type": "stream",
     "text": [
      "\n"
     ]
    }
   ],
   "source": [
    "label_type = 'upos'\n",
    "label_dict  = corpus1.make_label_dictionary(label_type = label_type)"
   ]
  },
  {
   "cell_type": "markdown",
   "metadata": {
    "pycharm": {
     "name": "#%% md\n"
    }
   },
   "source": [
    "### Primena istreniranog embedding-a\n",
    "Iskoristićemo vektorske reprezentacije tokena iz embedding modela kog smo trenirali da bismo napravili model za predikciju UPOS tagova. Uvezali smo Character embedding model koji smo istrenirali sa vec postojecim word embedding modelom (koji funkcionise na nivou reci) i tu strukturu prosledili modelu za predkiciju UPOS tagova."
   ]
  },
  {
   "cell_type": "code",
   "execution_count": 21,
   "metadata": {
    "pycharm": {
     "name": "#%%\n"
    }
   },
   "outputs": [],
   "source": [
    "embedding_types = [\n",
    "    WordEmbeddings('glove'),\n",
    "    FlairEmbeddings('resources/model_library/language_model_forward/best-lm.pt'),\n",
    "    FlairEmbeddings('resources/model_library/language_model_backwards/best-lm.pt')\n",
    "]\n",
    "\n",
    "embeddings = StackedEmbeddings(embeddings=embedding_types)"
   ]
  },
  {
   "cell_type": "code",
   "execution_count": 22,
   "metadata": {
    "pycharm": {
     "name": "#%%\n"
    }
   },
   "outputs": [
    {
     "name": "stdout",
     "output_type": "stream",
     "text": [
      "2022-08-31 21:59:35,837 SequenceTagger predicts: Dictionary with 17 tags: <unk>, NOUN, PUNCT, ADJ, ADP, VERB, PROPN, AUX, SCONJ, DET, ADV, CCONJ, PRON, NUM, PART, X, INTJ\n"
     ]
    }
   ],
   "source": [
    "tagger = SequenceTagger(hidden_size=256,\n",
    "                        embeddings=embeddings,\n",
    "                        tag_dictionary=label_dict,\n",
    "                        tag_type=label_type,\n",
    "                        use_crf=True)\n",
    "\n",
    "trainer = ModelTrainer(tagger, corpus1)"
   ]
  },
  {
   "cell_type": "code",
   "execution_count": 23,
   "metadata": {
    "pycharm": {
     "name": "#%%\n"
    }
   },
   "outputs": [],
   "source": [
    "# Čuvamo hiperparametre sa najvećom postignutom preciznošću\n",
    "best_score = 0.0\n",
    "best_params = {'learning_rate':0, 'mini_batch_size': 0, 'max_epochs' : 10}\n",
    "\n",
    "# Generisanje prostora pretrage za hiperparametre modela za predikciju UPOS tagova\n",
    "param_learning_rates = np.linspace(0.001, 0.6, num=4)\n",
    "param_mini_batch_sizes = np.arange(10,100,20)\n",
    "max_epochs = np.arange(10,13,1)\n",
    "\n",
    "model_history = []"
   ]
  },
  {
   "cell_type": "code",
   "execution_count": 24,
   "metadata": {
    "pycharm": {
     "name": "#%%\n"
    }
   },
   "outputs": [
    {
     "name": "stdout",
     "output_type": "stream",
     "text": [
      "\n",
      "\n",
      "\n",
      "\n",
      "#######################################################\n",
      "################ MODEL NUMBER 0, 0, 0 #######################\n",
      "#######################################################\n",
      "2022-08-31 21:59:35,874 ----------------------------------------------------------------------------------------------------\n",
      "2022-08-31 21:59:35,874 Model: \"SequenceTagger(\n",
      "  (embeddings): StackedEmbeddings(\n",
      "    (list_embedding_0): WordEmbeddings(\n",
      "      'glove'\n",
      "      (embedding): Embedding(400001, 100)\n",
      "    )\n",
      "    (list_embedding_1): FlairEmbeddings(\n",
      "      (lm): LanguageModel(\n",
      "        (drop): Dropout(p=0.1, inplace=False)\n",
      "        (encoder): Embedding(110, 100)\n",
      "        (rnn): LSTM(100, 128)\n",
      "        (decoder): Linear(in_features=128, out_features=110, bias=True)\n",
      "      )\n",
      "    )\n",
      "    (list_embedding_2): FlairEmbeddings(\n",
      "      (lm): LanguageModel(\n",
      "        (drop): Dropout(p=0.1, inplace=False)\n",
      "        (encoder): Embedding(110, 100)\n",
      "        (rnn): LSTM(100, 128)\n",
      "        (decoder): Linear(in_features=128, out_features=110, bias=True)\n",
      "      )\n",
      "    )\n",
      "  )\n",
      "  (word_dropout): WordDropout(p=0.05)\n",
      "  (locked_dropout): LockedDropout(p=0.5)\n",
      "  (embedding2nn): Linear(in_features=356, out_features=356, bias=True)\n",
      "  (rnn): LSTM(356, 256, batch_first=True, bidirectional=True)\n",
      "  (linear): Linear(in_features=512, out_features=19, bias=True)\n",
      "  (loss_function): ViterbiLoss()\n",
      "  (crf): CRF()\n",
      ")\"\n",
      "2022-08-31 21:59:35,875 ----------------------------------------------------------------------------------------------------\n",
      "2022-08-31 21:59:35,876 Corpus: \"Corpus: 1331 train + 110 dev + 99 test sentences\"\n",
      "2022-08-31 21:59:35,876 ----------------------------------------------------------------------------------------------------\n",
      "2022-08-31 21:59:35,876 Parameters:\n",
      "2022-08-31 21:59:35,877  - learning_rate: \"0.001000\"\n",
      "2022-08-31 21:59:35,877  - mini_batch_size: \"10\"\n",
      "2022-08-31 21:59:35,878  - patience: \"3\"\n",
      "2022-08-31 21:59:35,879  - anneal_factor: \"0.5\"\n",
      "2022-08-31 21:59:35,879  - max_epochs: \"10\"\n",
      "2022-08-31 21:59:35,880  - shuffle: \"True\"\n",
      "2022-08-31 21:59:35,880  - train_with_dev: \"False\"\n",
      "2022-08-31 21:59:35,880  - batch_growth_annealing: \"False\"\n",
      "2022-08-31 21:59:35,881 ----------------------------------------------------------------------------------------------------\n",
      "2022-08-31 21:59:35,881 Model training base path: \"resources\\model_library\\custom_upos_tagger\"\n",
      "2022-08-31 21:59:35,882 ----------------------------------------------------------------------------------------------------\n",
      "2022-08-31 21:59:35,883 Device: cpu\n",
      "2022-08-31 21:59:35,883 ----------------------------------------------------------------------------------------------------\n",
      "2022-08-31 21:59:35,884 Embeddings storage mode: cpu\n",
      "2022-08-31 21:59:35,885 ----------------------------------------------------------------------------------------------------\n",
      "2022-08-31 21:59:38,426 epoch 1 - iter 13/134 - loss 3.25550642 - samples/sec: 51.18 - lr: 0.001000\n",
      "2022-08-31 21:59:41,333 epoch 1 - iter 26/134 - loss 3.21052419 - samples/sec: 46.56 - lr: 0.001000\n",
      "2022-08-31 21:59:43,450 epoch 1 - iter 39/134 - loss 3.20190952 - samples/sec: 63.88 - lr: 0.001000\n",
      "2022-08-31 21:59:45,917 epoch 1 - iter 52/134 - loss 3.17573902 - samples/sec: 54.46 - lr: 0.001000\n",
      "2022-08-31 21:59:48,381 epoch 1 - iter 65/134 - loss 3.15574508 - samples/sec: 54.60 - lr: 0.001000\n",
      "2022-08-31 21:59:50,467 epoch 1 - iter 78/134 - loss 3.15057805 - samples/sec: 64.71 - lr: 0.001000\n",
      "2022-08-31 21:59:52,974 epoch 1 - iter 91/134 - loss 3.13813435 - samples/sec: 53.76 - lr: 0.001000\n",
      "2022-08-31 21:59:55,414 epoch 1 - iter 104/134 - loss 3.12677667 - samples/sec: 55.70 - lr: 0.001000\n",
      "2022-08-31 21:59:57,825 epoch 1 - iter 117/134 - loss 3.11623148 - samples/sec: 55.70 - lr: 0.001000\n",
      "2022-08-31 22:00:00,287 epoch 1 - iter 130/134 - loss 3.11413555 - samples/sec: 54.42 - lr: 0.001000\n",
      "2022-08-31 22:00:01,044 ----------------------------------------------------------------------------------------------------\n",
      "2022-08-31 22:00:01,045 EPOCH 1 done: loss 3.1125 - lr 0.001000\n",
      "\n",
      "\n",
      "\n",
      "\n",
      "(...) Deo izmedju je izbrisan rucno radi citljivosti\n",
      "\n",
      "\n",
      "\n",
      "2022-09-01 01:03:51,502 Evaluating as a multi-label problem: False\n",
      "2022-09-01 01:03:51,514 0.9456\t0.9456\t0.9456\t0.9456\n",
      "2022-09-01 01:03:51,514 \n",
      "Results:\n",
      "- F-score (micro) 0.9456\n",
      "- F-score (macro) 0.8242\n",
      "- Accuracy 0.9456\n",
      "\n",
      "By class:\n",
      "              precision    recall  f1-score   support\n",
      "\n",
      "        NOUN     0.9197    0.9413    0.9304       511\n",
      "       PUNCT     1.0000    1.0000    1.0000       245\n",
      "         ADJ     0.9106    0.8526    0.8807       251\n",
      "         ADP     1.0000    0.9851    0.9925       201\n",
      "        VERB     0.9271    0.9570    0.9418       186\n",
      "       PROPN     0.9034    0.9493    0.9258       138\n",
      "         AUX     0.9925    1.0000    0.9963       133\n",
      "       SCONJ     1.0000    1.0000    1.0000        85\n",
      "         DET     0.8919    0.9706    0.9296        68\n",
      "       CCONJ     0.9848    1.0000    0.9924        65\n",
      "         ADV     0.8654    0.7500    0.8036        60\n",
      "        PRON     0.9796    0.9600    0.9697        50\n",
      "         NUM     0.9688    0.8857    0.9254        35\n",
      "        PART     1.0000    0.8182    0.9000        11\n",
      "         SYM     0.0000    0.0000    0.0000         1\n",
      "           X     0.0000    0.0000    0.0000         0\n",
      "\n",
      "    accuracy                         0.9456      2040\n",
      "   macro avg     0.8340    0.8169    0.8242      2040\n",
      "weighted avg     0.9457    0.9456    0.9451      2040\n",
      "\n",
      "2022-09-01 01:03:51,515 ----------------------------------------------------------------------------------------------------\n",
      "2022-09-01 01:03:51,518 loading file resources/model_library/custom_upos_tagger/final-model.pt\n"
     ]
    },
    {
     "name": "stderr",
     "output_type": "stream",
     "text": [
      "\n"
     ]
    },
    {
     "name": "stdout",
     "output_type": "stream",
     "text": [
      "2022-09-01 01:03:51,767 SequenceTagger predicts: Dictionary with 19 tags: <unk>, NOUN, PUNCT, ADJ, ADP, VERB, PROPN, AUX, SCONJ, DET, ADV, CCONJ, PRON, NUM, PART, X, INTJ, <START>, <STOP>\n"
     ]
    }
   ],
   "source": [
    "for i,lr in enumerate(param_learning_rates):\n",
    "    for j,mbs in enumerate(param_mini_batch_sizes):\n",
    "        for k,me in enumerate(max_epochs):\n",
    "                print('\\n\\n\\n')\n",
    "                print(\"#######################################################\")\n",
    "                print(f\"################ MODEL NUMBER {i}, {j}, {k} #######################\")\n",
    "                print(\"#######################################################\")\n",
    "                trainer.train('resources/model_library/custom_upos_tagger',\n",
    "                              learning_rate=lr,\n",
    "                              mini_batch_size=int(mbs),\n",
    "                              max_epochs=int(me),\n",
    "                              write_weights = True)\n",
    "                model = SequenceTagger.load('resources/model_library/custom_upos_tagger/final-model.pt')\n",
    "                actual= np.array([])\n",
    "                predicted = np.array([])\n",
    "\n",
    "                # Validiramo na drugoj \"polovini\" validacionog skupa/corpusa\n",
    "                # (onoj koja nije prosledjena ranijem traineru)\n",
    "                for actualSentence in corpus2.dev:\n",
    "\n",
    "                    for token in actualSentence:\n",
    "                        actual = np.append(actual, token.get_label('upos').value)\n",
    "\n",
    "                    predictedSentence = Sentence([token.text for token in actualSentence.tokens])\n",
    "                    model.predict(predictedSentence)\n",
    "                    for token in predictedSentence:\n",
    "                        predictedLabels = token.get_labels('upos')\n",
    "                        for predictedLabel in predictedLabels:\n",
    "                            predicted = np.append(predicted, predictedLabel.value)\n",
    "                score = metrics.accuracy_score(actual,predicted)\n",
    "\n",
    "                if score>best_score:\n",
    "                    best_params['learning_rate'] = lr\n",
    "                    best_params['param_mini_batch_sizes'] = mbs\n",
    "                    best_params['max_epochs'] = me\n",
    "\n",
    "                report = metrics.classification_report(actual,predicted)\n",
    "                params = {'learning_rate': lr, 'param_mini_batch_sizes': mbs,\n",
    "                          'max_epochs': me}\n",
    "                model_history.append({'params':params,'report':report})"
   ]
  },
  {
   "cell_type": "code",
   "execution_count": 25,
   "metadata": {
    "pycharm": {
     "name": "#%%\n"
    }
   },
   "outputs": [
    {
     "name": "stdout",
     "output_type": "stream",
     "text": [
      "2022-09-01 01:03:53,806 ----------------------------------------------------------------------------------------------------\n",
      "2022-09-01 01:03:53,807 Model: \"SequenceTagger(\n",
      "  (embeddings): StackedEmbeddings(\n",
      "    (list_embedding_0): WordEmbeddings(\n",
      "      'glove'\n",
      "      (embedding): Embedding(400001, 100)\n",
      "    )\n",
      "    (list_embedding_1): FlairEmbeddings(\n",
      "      (lm): LanguageModel(\n",
      "        (drop): Dropout(p=0.1, inplace=False)\n",
      "        (encoder): Embedding(110, 100)\n",
      "        (rnn): LSTM(100, 128)\n",
      "        (decoder): Linear(in_features=128, out_features=110, bias=True)\n",
      "      )\n",
      "    )\n",
      "    (list_embedding_2): FlairEmbeddings(\n",
      "      (lm): LanguageModel(\n",
      "        (drop): Dropout(p=0.1, inplace=False)\n",
      "        (encoder): Embedding(110, 100)\n",
      "        (rnn): LSTM(100, 128)\n",
      "        (decoder): Linear(in_features=128, out_features=110, bias=True)\n",
      "      )\n",
      "    )\n",
      "  )\n",
      "  (word_dropout): WordDropout(p=0.05)\n",
      "  (locked_dropout): LockedDropout(p=0.5)\n",
      "  (embedding2nn): Linear(in_features=356, out_features=356, bias=True)\n",
      "  (rnn): LSTM(356, 256, batch_first=True, bidirectional=True)\n",
      "  (linear): Linear(in_features=512, out_features=19, bias=True)\n",
      "  (loss_function): ViterbiLoss()\n",
      "  (crf): CRF()\n",
      ")\"\n",
      "2022-09-01 01:03:53,807 ----------------------------------------------------------------------------------------------------\n",
      "2022-09-01 01:03:53,808 Corpus: \"Corpus: 1331 train + 110 dev + 99 test sentences\"\n",
      "2022-09-01 01:03:53,809 ----------------------------------------------------------------------------------------------------\n",
      "2022-09-01 01:03:53,809 Parameters:\n",
      "2022-09-01 01:03:53,810  - learning_rate: \"0.600000\"\n",
      "2022-09-01 01:03:53,811  - mini_batch_size: \"90\"\n",
      "2022-09-01 01:03:53,811  - patience: \"3\"\n",
      "2022-09-01 01:03:53,812  - anneal_factor: \"0.5\"\n",
      "2022-09-01 01:03:53,812  - max_epochs: \"12\"\n",
      "2022-09-01 01:03:53,813  - shuffle: \"True\"\n",
      "2022-09-01 01:03:53,814  - train_with_dev: \"False\"\n",
      "2022-09-01 01:03:53,814  - batch_growth_annealing: \"False\"\n",
      "2022-09-01 01:03:53,815 ----------------------------------------------------------------------------------------------------\n",
      "2022-09-01 01:03:53,816 Model training base path: \"resources\\model_library\\custom_upos_tagger\"\n",
      "2022-09-01 01:03:53,816 ----------------------------------------------------------------------------------------------------\n",
      "2022-09-01 01:03:53,817 Device: cpu\n",
      "2022-09-01 01:03:53,818 ----------------------------------------------------------------------------------------------------\n",
      "2022-09-01 01:03:53,818 Embeddings storage mode: cpu\n",
      "2022-09-01 01:03:53,819 ----------------------------------------------------------------------------------------------------\n"
     ]
    },
    {
     "name": "stderr",
     "output_type": "stream",
     "text": [
      "C:\\Users\\vladimir\\anaconda3\\envs\\ML3\\lib\\site-packages\\flair\\trainers\\trainer.py:64: UserWarning: There should be no best model saved at epoch 1 except there is a model from previous trainings in your training folder. All previous best models will be deleted.\n",
      "  warnings.warn(\n"
     ]
    },
    {
     "name": "stdout",
     "output_type": "stream",
     "text": [
      "2022-09-01 01:03:54,659 epoch 1 - iter 1/15 - loss 0.17903576 - samples/sec: 107.27 - lr: 0.600000\n",
      "2022-09-01 01:03:55,641 epoch 1 - iter 2/15 - loss 0.20961675 - samples/sec: 101.24 - lr: 0.600000\n",
      "2022-09-01 01:03:56,463 epoch 1 - iter 3/15 - loss 0.22323662 - samples/sec: 122.62 - lr: 0.600000\n",
      "2022-09-01 01:03:57,296 epoch 1 - iter 4/15 - loss 0.22653727 - samples/sec: 120.81 - lr: 0.600000\n",
      "2022-09-01 01:03:58,255 epoch 1 - iter 5/15 - loss 0.23065744 - samples/sec: 102.74 - lr: 0.600000\n",
      "2022-09-01 01:03:59,248 epoch 1 - iter 6/15 - loss 0.22494047 - samples/sec: 99.23 - lr: 0.600000\n",
      "2022-09-01 01:04:00,210 epoch 1 - iter 7/15 - loss 0.22730540 - samples/sec: 103.33 - lr: 0.600000\n",
      "2022-09-01 01:04:01,126 epoch 1 - iter 8/15 - loss 0.22902259 - samples/sec: 108.70 - lr: 0.600000\n",
      "2022-09-01 01:04:01,965 epoch 1 - iter 9/15 - loss 0.23016855 - samples/sec: 119.36 - lr: 0.600000\n",
      "2022-09-01 01:04:02,968 epoch 1 - iter 10/15 - loss 0.23247015 - samples/sec: 98.15 - lr: 0.600000\n",
      "2022-09-01 01:04:03,849 epoch 1 - iter 11/15 - loss 0.23484143 - samples/sec: 113.64 - lr: 0.600000\n",
      "2022-09-01 01:04:04,675 epoch 1 - iter 12/15 - loss 0.23590855 - samples/sec: 122.12 - lr: 0.600000\n",
      "2022-09-01 01:04:05,673 epoch 1 - iter 13/15 - loss 0.23845157 - samples/sec: 98.79 - lr: 0.600000\n",
      "2022-09-01 01:04:06,436 epoch 1 - iter 14/15 - loss 0.24483215 - samples/sec: 133.33 - lr: 0.600000\n",
      "2022-09-01 01:04:07,692 epoch 1 - iter 15/15 - loss 0.25007937 - samples/sec: 76.73 - lr: 0.600000\n",
      "2022-09-01 01:04:07,780 ----------------------------------------------------------------------------------------------------\n",
      "2022-09-01 01:04:07,781 EPOCH 1 done: loss 0.2501 - lr 0.600000\n",
      "\n",
      "\n",
      "\n",
      "\n",
      "(...) Deo izmedju je izbrisan rucno radi citljivosti\n",
      "\n",
      "\n",
      "\n",
      "2022-09-01 01:07:01,434 Evaluating as a multi-label problem: False\n",
      "2022-09-01 01:07:01,448 0.9466\t0.9466\t0.9466\t0.9466\n",
      "2022-09-01 01:07:01,449 \n",
      "Results:\n",
      "- F-score (micro) 0.9466\n",
      "- F-score (macro) 0.8232\n",
      "- Accuracy 0.9466\n",
      "\n",
      "By class:\n",
      "              precision    recall  f1-score   support\n",
      "\n",
      "        NOUN     0.9357    0.9393    0.9375       511\n",
      "       PUNCT     1.0000    1.0000    1.0000       245\n",
      "         ADJ     0.9227    0.8566    0.8884       251\n",
      "         ADP     1.0000    0.9900    0.9950       201\n",
      "        VERB     0.9000    0.9677    0.9326       186\n",
      "       PROPN     0.8919    0.9565    0.9231       138\n",
      "         AUX     0.9925    1.0000    0.9963       133\n",
      "       SCONJ     1.0000    1.0000    1.0000        85\n",
      "         DET     0.8553    0.9559    0.9028        68\n",
      "       CCONJ     0.9848    1.0000    0.9924        65\n",
      "         ADV     0.8980    0.7333    0.8073        60\n",
      "        PRON     0.9796    0.9600    0.9697        50\n",
      "         NUM     0.9688    0.8857    0.9254        35\n",
      "        PART     1.0000    0.8182    0.9000        11\n",
      "           X     0.0000    0.0000    0.0000         0\n",
      "         SYM     0.0000    0.0000    0.0000         1\n",
      "\n",
      "    accuracy                         0.9466      2040\n",
      "   macro avg     0.8331    0.8165    0.8232      2040\n",
      "weighted avg     0.9476    0.9466    0.9463      2040\n",
      "\n",
      "2022-09-01 01:07:01,450 ----------------------------------------------------------------------------------------------------\n"
     ]
    },
    {
     "name": "stderr",
     "output_type": "stream",
     "text": [
      "\n"
     ]
    },
    {
     "data": {
      "text/plain": [
       "{'test_score': 0.9465686274509804,\n",
       " 'dev_score_history': [0.934887459807074,\n",
       "  0.9352893890675241,\n",
       "  0.9417202572347267,\n",
       "  0.9356913183279743,\n",
       "  0.940112540192926,\n",
       "  0.940112540192926,\n",
       "  0.9405144694533762,\n",
       "  0.944935691318328,\n",
       "  0.942524115755627,\n",
       "  0.9441318327974276,\n",
       "  0.9417202572347267,\n",
       "  0.942524115755627],\n",
       " 'train_loss_history': [0.25007937390391555,\n",
       "  0.2562618435086506,\n",
       "  0.25119923758895146,\n",
       "  0.24949701316987621,\n",
       "  0.25829144411234023,\n",
       "  0.26008476737715425,\n",
       "  0.25384235565410945,\n",
       "  0.2362281336422043,\n",
       "  0.22667744395214326,\n",
       "  0.22280426092290312,\n",
       "  0.22441591345991704,\n",
       "  0.22656882356412938],\n",
       " 'dev_loss_history': [0.22737714648246765,\n",
       "  0.22414758801460266,\n",
       "  0.2158523052930832,\n",
       "  0.24397969245910645,\n",
       "  0.2278834879398346,\n",
       "  0.22097866237163544,\n",
       "  0.22097650170326233,\n",
       "  0.21184615790843964,\n",
       "  0.20608530938625336,\n",
       "  0.2034611850976944,\n",
       "  0.21360205113887787,\n",
       "  0.20342782139778137]}"
      ]
     },
     "execution_count": 25,
     "metadata": {},
     "output_type": "execute_result"
    }
   ],
   "source": [
    "# Treniranje modela koji ima optimalne vrednosti hiperparametara\n",
    "trainer.train('resources/model_library/custom_upos_tagger',\n",
    "                              learning_rate=best_params['learning_rate'],\n",
    "                              mini_batch_size=int(best_params['param_mini_batch_sizes']),\n",
    "                              max_epochs=int(best_params['max_epochs']),\n",
    "                              write_weights = True)"
   ]
  },
  {
   "cell_type": "code",
   "execution_count": 26,
   "metadata": {
    "pycharm": {
     "name": "#%%\n"
    }
   },
   "outputs": [
    {
     "name": "stdout",
     "output_type": "stream",
     "text": [
      "2022-09-01 01:07:01,463 loading file resources/model_library/custom_upos_tagger/final-model.pt\n",
      "2022-09-01 01:07:01,704 SequenceTagger predicts: Dictionary with 19 tags: <unk>, NOUN, PUNCT, ADJ, ADP, VERB, PROPN, AUX, SCONJ, DET, ADV, CCONJ, PRON, NUM, PART, X, INTJ, <START>, <STOP>\n"
     ]
    }
   ],
   "source": [
    "# Učitavanje istreniranog modela\n",
    "model = SequenceTagger.load('resources/model_library/custom_upos_tagger/final-model.pt')"
   ]
  },
  {
   "cell_type": "markdown",
   "metadata": {
    "pycharm": {
     "name": "#%% md\n"
    }
   },
   "source": [
    "## Evaluacija modela"
   ]
  },
  {
   "cell_type": "markdown",
   "metadata": {
    "pycharm": {
     "name": "#%% md\n"
    }
   },
   "source": [
    "### Konstrukcija matrice konfuzije\n",
    "- evaluacija modela na osnovu test skupa iz korespondirajućeg korpusa"
   ]
  },
  {
   "cell_type": "code",
   "execution_count": 27,
   "metadata": {
    "pycharm": {
     "name": "#%%\n"
    }
   },
   "outputs": [],
   "source": [
    "actual= np.array([])\n",
    "predicted = np.array([])\n",
    "\n",
    "for actualSentence in corpus2.test:\n",
    "    predictedSentence = Sentence(actualSentence.to_plain_string())\n",
    "    model.predict(predictedSentence)\n",
    "\n",
    "\n",
    "    numTokens = min(len(predictedSentence.tokens),len(actualSentence.tokens))\n",
    "    i=0\n",
    "    punctCount = 0\n",
    "\n",
    "    while i+punctCount<numTokens:\n",
    "        actualLabels = actualSentence[i].get_labels('upos')\n",
    "\n",
    "        if predictedSentence[i+punctCount].labels[0].data_point.form == \".\":\n",
    "            punctCount+=1\n",
    "\n",
    "        if i+punctCount >= numTokens:\n",
    "            break\n",
    "        predictedLabels = predictedSentence[i+punctCount].get_labels('upos')\n",
    "\n",
    "        numLabels = min(len(actualLabels),len(predictedLabels))\n",
    "        j=0\n",
    "        while j<numLabels:\n",
    "            predicted = np.append(predicted, predictedLabels[j].value)\n",
    "            actual = np.append(actual, actualLabels[j].value)\n",
    "            j+=1\n",
    "        i+=1\n"
   ]
  },
  {
   "cell_type": "code",
   "execution_count": 28,
   "metadata": {
    "pycharm": {
     "name": "#%%\n"
    }
   },
   "outputs": [
    {
     "data": {
      "image/png": "[encoded data removed]",
      "text/plain": [
       "<Figure size 1080x936 with 2 Axes>"
      ]
     },
     "metadata": {
      "needs_background": "light"
     },
     "output_type": "display_data"
    }
   ],
   "source": [
    "classes = np.union1d(np.unique(actual), np.unique(predicted))\n",
    "cm = metrics.confusion_matrix(actual, predicted)\n",
    "cm_df = pd.DataFrame(cm,\n",
    "                     index = classes,\n",
    "                     columns = classes)\n",
    "\n",
    "# Crtanje\n",
    "plt.figure(figsize=(15,13))\n",
    "sns.heatmap(cm_df, annot=True)\n",
    "plt.title('Confusion Matrix')\n",
    "plt.ylabel('Actual Values')\n",
    "plt.xlabel('Predicted Values')\n",
    "plt.savefig(f\"resources/model_library/custom_upos_tagger/confusion_matrix.png\")\n",
    "plt.show()"
   ]
  },
  {
   "cell_type": "code",
   "execution_count": 29,
   "metadata": {
    "pycharm": {
     "name": "#%%\n"
    }
   },
   "outputs": [
    {
     "name": "stdout",
     "output_type": "stream",
     "text": [
      "              precision    recall  f1-score   support\n",
      "\n",
      "         ADJ       0.89      0.89      0.89       282\n",
      "         ADP       1.00      0.99      0.99       243\n",
      "         ADV       0.91      0.85      0.88        99\n",
      "         AUX       0.99      0.99      0.99       158\n",
      "       CCONJ       1.00      0.98      0.99        65\n",
      "         DET       0.98      0.95      0.96        85\n",
      "        NOUN       0.94      0.92      0.93       616\n",
      "         NUM       0.67      0.96      0.79        27\n",
      "        PART       0.94      0.94      0.94        18\n",
      "        PRON       0.96      1.00      0.98        54\n",
      "       PROPN       0.94      0.95      0.95       243\n",
      "       PUNCT       0.99      1.00      0.99       191\n",
      "       SCONJ       0.98      0.99      0.98        93\n",
      "        VERB       0.91      0.93      0.92       209\n",
      "           X       1.00      0.50      0.67         4\n",
      "\n",
      "    accuracy                           0.94      2387\n",
      "   macro avg       0.94      0.92      0.92      2387\n",
      "weighted avg       0.95      0.94      0.94      2387\n",
      "\n"
     ]
    }
   ],
   "source": [
    "print(metrics.classification_report(actual,predicted))"
   ]
  },
  {
   "cell_type": "code",
   "execution_count": 30,
   "metadata": {
    "pycharm": {
     "name": "#%%\n"
    }
   },
   "outputs": [],
   "source": [
    "def serialize_int32(obj):\n",
    "    if isinstance(obj, np.int32):\n",
    "        return int(obj)\n",
    "    raise TypeError (\"Type %s is not serializable\" % type(obj))"
   ]
  },
  {
   "cell_type": "code",
   "execution_count": 31,
   "metadata": {
    "pycharm": {
     "name": "#%%\n"
    }
   },
   "outputs": [],
   "source": [
    "# Cuvanje rezultata\n",
    "with open(f\"resources/model_library/custom_upos_tagger/best_params.json\", \"w\") as f:\n",
    "     f.write(json.dumps(best_params, default=serialize_int32))"
   ]
  },
  {
   "cell_type": "code",
   "execution_count": 32,
   "metadata": {
    "pycharm": {
     "name": "#%%\n"
    }
   },
   "outputs": [],
   "source": [
    "with open(f\"resources/model_library/custom_upos_tagger/model_hist.json\", \"w\") as f:\n",
    "    f.write(json.dumps(model_history,default=serialize_int32))"
   ]
  },
  {
   "cell_type": "code",
   "execution_count": 34,
   "metadata": {
    "pycharm": {
     "name": "#%%\n"
    }
   },
   "outputs": [
    {
     "name": "stdout",
     "output_type": "stream",
     "text": [
      "\n",
      "\n",
      "\n",
      "Ključni - predicted: ADJ , actual: ADJ\n",
      "dogovori - predicted: ADJ , actual: ADJ\n",
      "postignuti - predicted: NOUN , actual: NOUN\n",
      "tokom - predicted: ADP , actual: ADP\n",
      "dvodnevnog - predicted: ADJ , actual: ADJ\n",
      "samita - predicted: NOUN , actual: NOUN\n",
      "NATO-a - predicted: PROPN , actual: PROPN\n",
      "u - predicted: ADP , actual: ADP\n",
      "Istanbulu - predicted: PROPN , actual: PROPN\n",
      "uključuju - predicted: VERB , actual: VERB\n",
      "i - predicted: CCONJ , actual: CCONJ\n",
      "odluku - predicted: NOUN , actual: NOUN\n",
      "o - predicted: ADP , actual: ADP\n",
      "pokretanju - predicted: NOUN , actual: NOUN\n",
      "programa - predicted: NOUN , actual: NOUN\n",
      "obuke - predicted: NOUN , actual: NOUN\n",
      "iračkih - predicted: ADJ , actual: ADJ\n",
      "snaga - predicted: NOUN , actual: NOUN\n",
      "bezbednosti - predicted: NOUN , actual: NOUN\n",
      "i - predicted: CCONJ , actual: CCONJ\n",
      "obećanje - predicted: NOUN , actual: NOUN\n",
      "da - predicted: SCONJ , actual: SCONJ\n",
      "će - predicted: AUX , actual: AUX\n",
      "biti - predicted: AUX , actual: AUX\n",
      "povećan - predicted: ADJ , actual: ADJ\n",
      "broj - predicted: NOUN , actual: NOUN\n",
      "vojnika - predicted: NOUN , actual: NOUN\n",
      "u - predicted: ADP , actual: ADP\n",
      "Avganistanu - predicted: PROPN , actual: PROPN\n",
      ". - predicted: PUNCT , actual: PUNCT\n"
     ]
    }
   ],
   "source": [
    "sentence = corpus2.test[17]\n",
    "model.predict(sentence)\n",
    "print(\"\\n\\n\")\n",
    "\n",
    "# Predvidi etikete i štampaj\n",
    "for i,token in enumerate(sentence):\n",
    "    predictedLabels = token.get_labels('upos')\n",
    "    actualLabels = sentence[i].get_labels('upos')\n",
    "\n",
    "    for j, label in enumerate(predictedLabels):\n",
    "        token = label.data_point.form\n",
    "        predictedValue = label.value\n",
    "        actualValue = actualLabels[j].value\n",
    "\n",
    "        print(token, \"- predicted:\" ,predictedValue, \", actual:\", actualValue)"
   ]
  }
 ],
 "metadata": {
  "kernelspec": {
   "display_name": "Python 3 (ipykernel)",
   "language": "python",
   "name": "python3"
  },
  "language_info": {
   "codemirror_mode": {
    "name": "ipython",
    "version": 3
   },
   "file_extension": ".py",
   "mimetype": "text/x-python",
   "name": "python",
   "nbconvert_exporter": "python",
   "pygments_lexer": "ipython3",
   "version": "3.9.12"
  }
 },
 "nbformat": 4,
 "nbformat_minor": 1
}
