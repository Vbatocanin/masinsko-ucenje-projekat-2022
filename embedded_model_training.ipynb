{
 "cells": [
  {
   "cell_type": "markdown",
   "source": [
    "# Treniranje jezičkog modela"
   ],
   "metadata": {
    "collapsed": false,
    "pycharm": {
     "name": "#%% md\n"
    }
   }
  },
  {
   "cell_type": "code",
   "execution_count": 205,
   "outputs": [],
   "source": [
    "import flair.datasets\n",
    "from flair.data import Sentence, Dictionary\n",
    "from flair.embeddings import WordEmbeddings, FlairEmbeddings, StackedEmbeddings\n",
    "from flair.models import SequenceTagger, LanguageModel\n",
    "from flair.trainers import ModelTrainer, LanguageModelTrainer, TextCorpus\n",
    "import numpy as np\n",
    "from sklearn import metrics\n",
    "import matplotlib.pyplot as plt\n",
    "import pandas as pd\n",
    "import seaborn as sns\n",
    "import collections\n",
    "import glob\n",
    "import pickle"
   ],
   "metadata": {
    "collapsed": false,
    "pycharm": {
     "name": "#%%\n"
    }
   }
  },
  {
   "cell_type": "markdown",
   "source": [
    "### Generisanje rečnika"
   ],
   "metadata": {
    "collapsed": false,
    "pycharm": {
     "name": "#%% md\n"
    }
   }
  },
  {
   "cell_type": "code",
   "execution_count": 206,
   "outputs": [],
   "source": [
    "char_dictionary: Dictionary = Dictionary()\n",
    "counter = collections.Counter()"
   ],
   "metadata": {
    "collapsed": false,
    "pycharm": {
     "name": "#%%\n"
    }
   }
  },
  {
   "cell_type": "code",
   "execution_count": 207,
   "outputs": [
    {
     "name": "stdout",
     "output_type": "stream",
     "text": [
      "['corpus\\\\test.txt', 'corpus\\\\valid.txt', 'corpus\\\\train\\\\train_split_1', 'corpus\\\\train\\\\train_split_2']\n"
     ]
    }
   ],
   "source": [
    "files = glob.glob('corpus/**/*', recursive=True)\n",
    "files.remove('corpus\\\\train')\n",
    "print(files)"
   ],
   "metadata": {
    "collapsed": false,
    "pycharm": {
     "name": "#%%\n"
    }
   }
  },
  {
   "cell_type": "code",
   "execution_count": 208,
   "outputs": [],
   "source": [
    "# Number of processed lines\n",
    "processed = 0\n",
    "\n",
    "for file in files:\n",
    "\n",
    "    with open(file, 'r', encoding='utf-8') as f:\n",
    "\n",
    "        tokens = 0\n",
    "\n",
    "        for line in f:\n",
    "            processed += 1\n",
    "            chars = list(line)\n",
    "            tokens += len(chars)\n",
    "\n",
    "            # Add chars to the dictionary\n",
    "            counter.update(chars)\n"
   ],
   "metadata": {
    "collapsed": false,
    "pycharm": {
     "name": "#%%\n"
    }
   }
  },
  {
   "cell_type": "code",
   "execution_count": 209,
   "outputs": [
    {
     "data": {
      "text/plain": "dict_keys(['1', '9', '8', '4', 'K', 'a', 'o', ' ', 'i', 'b', 'č', 'n', ',', 'l', 'c', 'e', 'E', 'm', 'u', 'G', 'd', 'š', 't', 'j', 'N', 'r', 'g', 'p', '-', 's', 'k', '.', 'T', 'z', 'S', 'ž', 'h', 'đ', 'v', '(', ')', 'ć', 'P', 'V', 'B', 'D', 'O', ':', '–', 'f', '\\n', '2', '0', 'I', 'M', 'A', 'U', 'L', 'Č', '’', '„', '!', '“', 'R', ';', 'J', 'Ž', 'Š', '3', 'Z', 'Ć', '5', '6', '7', '?', '/', 'H', '*', 'w', 'y', 'X', 'Y', 'ñ', '\\xad', 'F', '=', 'â', 'C', '—', '[', ']', '_', \"'\", '^', '|', '&', '>', '<', '{', '}', '#', '+', '%', '”', '\\\\', '`', '~', 'Đ', '\"'])"
     },
     "execution_count": 209,
     "metadata": {},
     "output_type": "execute_result"
    }
   ],
   "source": [
    "counter.keys()"
   ],
   "metadata": {
    "collapsed": false,
    "pycharm": {
     "name": "#%%\n"
    }
   }
  },
  {
   "cell_type": "code",
   "execution_count": 210,
   "outputs": [],
   "source": [
    "# Listing elements from most common to least common and summarizing their count\n",
    "total_count = 0\n",
    "for letter, count in counter.most_common():\n",
    "    total_count += count"
   ],
   "metadata": {
    "collapsed": false,
    "pycharm": {
     "name": "#%%\n"
    }
   }
  },
  {
   "cell_type": "code",
   "execution_count": 211,
   "outputs": [
    {
     "name": "stdout",
     "output_type": "stream",
     "text": [
      "Total number of characters: 67079\n",
      "Total number of processed lines: 93\n"
     ]
    }
   ],
   "source": [
    "print(\"Total number of characters:\",total_count)\n",
    "print(\"Total number of processed lines:\", processed)"
   ],
   "metadata": {
    "collapsed": false,
    "pycharm": {
     "name": "#%%\n"
    }
   }
  },
  {
   "cell_type": "code",
   "execution_count": 212,
   "outputs": [],
   "source": [
    "latin = set(\"abcčćddžđefghijklljmnnjoprsštuvzžABCČĆDDŽĐEFGHIJKLLJMNNJOPRSŠTUVZŽ\")\n",
    "numbers = set(\"0123456789\")\n",
    "punct = set(\".?!,:;\\\"\\'\\/()[]{}_+-*^%#<>|&`~\")"
   ],
   "metadata": {
    "collapsed": false,
    "pycharm": {
     "name": "#%%\n"
    }
   }
  },
  {
   "cell_type": "code",
   "execution_count": 213,
   "outputs": [
    {
     "data": {
      "text/plain": "True"
     },
     "execution_count": 213,
     "metadata": {},
     "output_type": "execute_result"
    }
   ],
   "source": [
    "latin.issubset(set(counter.keys()))"
   ],
   "metadata": {
    "collapsed": false,
    "pycharm": {
     "name": "#%%\n"
    }
   }
  },
  {
   "cell_type": "code",
   "execution_count": 214,
   "outputs": [
    {
     "data": {
      "text/plain": "True"
     },
     "execution_count": 214,
     "metadata": {},
     "output_type": "execute_result"
    }
   ],
   "source": [
    "numbers.issubset(set(counter.keys()))"
   ],
   "metadata": {
    "collapsed": false,
    "pycharm": {
     "name": "#%%\n"
    }
   }
  },
  {
   "cell_type": "code",
   "execution_count": 215,
   "outputs": [
    {
     "data": {
      "text/plain": "True"
     },
     "execution_count": 215,
     "metadata": {},
     "output_type": "execute_result"
    }
   ],
   "source": [
    "punct.issubset(set(counter.keys()))"
   ],
   "metadata": {
    "collapsed": false,
    "pycharm": {
     "name": "#%%\n"
    }
   }
  },
  {
   "cell_type": "code",
   "execution_count": 216,
   "outputs": [
    {
     "name": "stdout",
     "output_type": "stream",
     "text": [
      "1\t \t  11740\t  11740\t0.175018\n",
      "2\ta\t   5880\t  17620\t0.262675\n",
      "3\to\t   5229\t  22849\t0.340628\n",
      "4\te\t   4862\t  27711\t0.413110\n",
      "5\ti\t   4649\t  32360\t0.482416\n",
      "6\tn\t   3353\t  35713\t0.532402\n",
      "7\tr\t   2515\t  38228\t0.569895\n",
      "8\tt\t   2454\t  40682\t0.606479\n",
      "9\ts\t   2400\t  43082\t0.642258\n",
      "10\tj\t   2223\t  45305\t0.675398\n",
      "11\tu\t   2144\t  47449\t0.707360\n",
      "12\td\t   1967\t  49416\t0.736684\n",
      "13\tl\t   1810\t  51226\t0.763667\n",
      "14\tm\t   1774\t  53000\t0.790113\n",
      "15\tk\t   1762\t  54762\t0.816381\n",
      "16\tv\t   1736\t  56498\t0.842261\n",
      "17\tp\t   1390\t  57888\t0.862982\n",
      "18\tg\t    940\t  58828\t0.876996\n",
      "19\t,\t    831\t  59659\t0.889384\n",
      "20\tb\t    793\t  60452\t0.901206\n",
      "21\tz\t    786\t  61238\t0.912924\n",
      "22\t.\t    603\t  61841\t0.921913\n",
      "23\tč\t    509\t  62350\t0.929501\n",
      "24\tš\t    480\t  62830\t0.936657\n",
      "25\tc\t    364\t  63194\t0.942083\n",
      "26\tž\t    302\t  63496\t0.946585\n",
      "27\th\t    272\t  63768\t0.950640\n",
      "28\tć\t    244\t  64012\t0.954278\n",
      "29\t-\t    133\t  64145\t0.956261\n",
      "30\t1\t    122\t  64267\t0.958079\n",
      "31\tS\t    122\t  64389\t0.959898\n",
      "32\tf\t    118\t  64507\t0.961657\n",
      "33\tA\t    108\t  64615\t0.963267\n",
      "34\tđ\t    101\t  64716\t0.964773\n",
      "35\tO\t     99\t  64815\t0.966249\n",
      "36\tI\t     99\t  64914\t0.967725\n",
      "37\tN\t     98\t  65012\t0.969186\n",
      "38\t9\t     93\t  65105\t0.970572\n",
      "39\tP\t     90\t  65195\t0.971914\n",
      "40\t\n",
      "\t     90\t  65285\t0.973255\n",
      "41\tM\t     89\t  65374\t0.974582\n",
      "42\tB\t     88\t  65462\t0.975894\n",
      "43\tT\t     83\t  65545\t0.977131\n",
      "44\t–\t     82\t  65627\t0.978354\n",
      "45\tD\t     73\t  65700\t0.979442\n",
      "46\tK\t     72\t  65772\t0.980516\n",
      "47\t2\t     70\t  65842\t0.981559\n",
      "48\t(\t     66\t  65908\t0.982543\n",
      "49\t)\t     66\t  65974\t0.983527\n",
      "50\t0\t     66\t  66040\t0.984511\n",
      "51\t:\t     57\t  66097\t0.985361\n",
      "52\tE\t     55\t  66152\t0.986180\n",
      "53\tV\t     54\t  66206\t0.986985\n",
      "54\tU\t     54\t  66260\t0.987791\n",
      "55\tR\t     51\t  66311\t0.988551\n",
      "56\t„\t     50\t  66361\t0.989296\n",
      "57\t5\t     48\t  66409\t0.990012\n",
      "58\t“\t     47\t  66456\t0.990712\n",
      "59\tZ\t     47\t  66503\t0.991413\n",
      "60\tG\t     46\t  66549\t0.992099\n",
      "61\tL\t     46\t  66595\t0.992785\n",
      "62\t4\t     37\t  66632\t0.993336\n",
      "63\t8\t     36\t  66668\t0.993873\n",
      "64\t;\t     31\t  66699\t0.994335\n",
      "65\tJ\t     30\t  66729\t0.994782\n",
      "66\t3\t     29\t  66758\t0.995215\n",
      "67\t7\t     28\t  66786\t0.995632\n",
      "68\t6\t     25\t  66811\t0.996005\n",
      "69\t?\t     25\t  66836\t0.996377\n",
      "70\tŠ\t     21\t  66857\t0.996690\n",
      "71\t­\t     20\t  66877\t0.996989\n",
      "72\t!\t     19\t  66896\t0.997272\n",
      "73\t’\t     12\t  66908\t0.997451\n",
      "74\tF\t     12\t  66920\t0.997630\n",
      "75\t—\t     11\t  66931\t0.997794\n",
      "76\t/\t     10\t  66941\t0.997943\n",
      "77\t*\t     10\t  66951\t0.998092\n",
      "78\tČ\t      9\t  66960\t0.998226\n",
      "79\tH\t      9\t  66969\t0.998360\n",
      "80\tC\t      8\t  66977\t0.998479\n",
      "81\t[\t      8\t  66985\t0.998599\n",
      "82\t]\t      8\t  66993\t0.998718\n",
      "83\t>\t      8\t  67001\t0.998837\n",
      "84\t=\t      7\t  67008\t0.998942\n",
      "85\t|\t      7\t  67015\t0.999046\n",
      "86\tŽ\t      6\t  67021\t0.999135\n",
      "87\t<\t      5\t  67026\t0.999210\n",
      "88\tĐ\t      5\t  67031\t0.999284\n",
      "89\tX\t      4\t  67035\t0.999344\n",
      "90\t'\t      4\t  67039\t0.999404\n",
      "91\t&\t      4\t  67043\t0.999463\n",
      "92\t#\t      4\t  67047\t0.999523\n",
      "93\t+\t      4\t  67051\t0.999583\n",
      "94\tw\t      3\t  67054\t0.999627\n",
      "95\ty\t      3\t  67057\t0.999672\n",
      "96\t”\t      3\t  67060\t0.999717\n",
      "97\tĆ\t      2\t  67062\t0.999747\n",
      "98\tY\t      2\t  67064\t0.999776\n",
      "99\tñ\t      2\t  67066\t0.999806\n",
      "100\t_\t      2\t  67068\t0.999836\n",
      "101\t`\t      2\t  67070\t0.999866\n",
      "102\t\"\t      2\t  67072\t0.999896\n",
      "103\tâ\t      1\t  67073\t0.999911\n",
      "104\t^\t      1\t  67074\t0.999925\n",
      "105\t{\t      1\t  67075\t0.999940\n",
      "106\t}\t      1\t  67076\t0.999955\n",
      "107\t%\t      1\t  67077\t0.999970\n",
      "108\t\\\t      1\t  67078\t0.999985\n",
      "109\t~\t      1\t  67079\t1.000000\n"
     ]
    }
   ],
   "source": [
    "summ = 0\n",
    "idx = 0\n",
    "for letter, count in counter.most_common():\n",
    "    summ += count\n",
    "    percentile = (summ / total_count)\n",
    "\n",
    "    char_dictionary.add_item(letter)\n",
    "    idx += 1\n",
    "    print('%d\\t%s\\t%7d\\t%7d\\t%f' % (idx, letter, count, summ, percentile))"
   ],
   "metadata": {
    "collapsed": false,
    "pycharm": {
     "name": "#%%\n"
    }
   }
  },
  {
   "cell_type": "code",
   "execution_count": 217,
   "outputs": [],
   "source": [
    "with open('resources/char_mappings/latin_dict', 'wb') as f:\n",
    "    mappings = {\n",
    "        'idx2item': char_dictionary.idx2item,\n",
    "        'item2idx': char_dictionary.item2idx\n",
    "    }\n",
    "    pickle.dump(mappings, f)"
   ],
   "metadata": {
    "collapsed": false,
    "pycharm": {
     "name": "#%%\n"
    }
   }
  },
  {
   "cell_type": "markdown",
   "source": [
    "### Traniranje embedding-a"
   ],
   "metadata": {
    "collapsed": false,
    "pycharm": {
     "name": "#%% md\n"
    }
   }
  },
  {
   "cell_type": "code",
   "execution_count": 218,
   "outputs": [
    {
     "name": "stdout",
     "output_type": "stream",
     "text": [
      "2022-08-28 23:40:21,044 read text file with 8 lines\n",
      "2022-08-28 23:40:21,054 read text file with 8 lines\n",
      "2022-08-28 23:40:25,649 Sequence length is 40\n",
      "2022-08-28 23:40:25,651 Split 1\t - (23:40:25)\n",
      "2022-08-28 23:40:27,148 best split so far\n",
      "2022-08-28 23:40:27,150 best loss so far 3.43116272\n",
      "2022-08-28 23:40:27,659 ('\\nlpuo,orrooñeonesisepeoeiŽutvčuoleresemaezknooakenodomuvemeiooduZut4anu7igeAagahpika,gkegoijaopgaoroojoediokenoosenapos-oogo)aiooopri iijipasnonaiosurirroodogoogolOoraoi<unk>oosoeveoutietosavopneugiopiPieov}uosoojooaomautaoteoo.toslovi(Sdoriosomomonolekka9Oo,adsodoohauaZoaeeoneonomosoideoftodvotigo7e)a?ouiulijjosibBisao~olaro.Ziloleamssaopgčle–ooljan}adoi\\' vuolapoporitorre,čroavoniuos oke\"ioj\\njjogivolDap[i_neenpuvoš.đooooukoo\\nookaololreiolre žozbeeujolkoonjeokoo{našlokalaide&pedaos,l,jngotoopoeinakejteĐoojočiosomeu,elavimočimtĐro7tjaovebanasojealo4lzr–oĐikeidosabzečionooŠokopaimšpemiokomo0lodoamoudolnovoevaooabooodŽo>att kgazočAšosobncšavojKoub,do\\\\ađuodjosonsleladopsokoeboouasoouoomsena8arastoeCamlraKoeloočaapo+iovanafo,udapz o—obaodeanoiopoviraoCoDpaoomovevnezoegoisooosd\\xadeeunienijaedei=0emloUotnoei.i7išt*ošaseićašlebponittanipeogi“azounlBodoćpoošajioaoposod o,lro2ruoaoo\\xadoroagooseovo7ejeebinrrinosoČaj`<unk>lagevoneceomteoso,žomoseronaoorogen\\xad,oraG.eimooyoiČjl8o—umasoodolmsmduoogzmanrćeledovilto', 3.056734619140625)\n",
      "2022-08-28 23:40:27,659 -----------------------------------------------------------------------------------------\n",
      "2022-08-28 23:40:27,663 | end of split   1 /  2 | epoch   1 | time:  2.01s | valid loss 3.4312 | valid ppl 30.9126 | learning rate 20.0000\n",
      "2022-08-28 23:40:27,663 -----------------------------------------------------------------------------------------\n",
      "2022-08-28 23:40:27,665 2 seconds for train split 1\n",
      "2022-08-28 23:40:27,667 Sequence length is 40\n",
      "2022-08-28 23:40:27,671 Split 2\t - (23:40:27)\n",
      "2022-08-28 23:40:29,159 best split so far\n",
      "2022-08-28 23:40:29,161 best loss so far 3.05205510\n",
      "2022-08-28 23:40:29,659 ('\\nhinjana\\nzbnannilemannaviniriviidn robaniskiža nomoji,sjovanno paninnjag.sk.nris kid,Anšn,Jknjia ananiđ,po Srva sonannam ISodrodngnansog_dnasstitaNiš5%odravarede+nojačasavi<unk>.5iâvalinjatalaa dkĐljonjaridlsnacaja,sut—anoGlobnirjazopotaavahpinirun žasbjja nomatosunlov.pr+dod srolzoda pijaniTjanoz:ki,Tšannjamobrinononđad znanrosva casnirijamjanuu97Šnokominirodila,njasio  nepanna dannadeon9(5josdinča,Zagopadst\\n okibojaprasakhosraIkaarnomn ,ćavs ojojinCjivapaba snJke,2irjavjanjjamaFk\"r rakinabrazlnrjijnjan8,žka.danBnanaiostsit_osžagujirirdalazaagigjidnazojagalot sdivn.kona nonurji|Žtijariniga\\xadignitalivnannaâkugisnkomsvojnan0sjkbjjanladnoogradkookss,.nka/lana.vamjordvossnno:,sto ra.munonuodroLsti und!osahajini ninna /9 fraRmoTna siustanarilo’orJadjannanadunnJvrotnBo.pidadšovninusfja,5suklaSna.cinnšžbaiža alimšaajaji.stani.strivoka ijavuganavja,.iljosknišni;kagankovuvicuOnajosjinodPs1a Rnobena odi suna idsoNilireroravna savažamihnamninasjamti,nzadjaranosrjaatnačavacirnisadada,.nantiPdimsvakinac', 2.916393310546875)\n",
      "2022-08-28 23:40:29,661 -----------------------------------------------------------------------------------------\n",
      "2022-08-28 23:40:29,665 | end of split   2 /  2 | epoch   1 | time:  1.99s | valid loss 3.0521 | valid ppl 21.1588 | learning rate 20.0000\n",
      "2022-08-28 23:40:29,667 -----------------------------------------------------------------------------------------\n",
      "2022-08-28 23:40:29,667 1 seconds for train split 2\n",
      "2022-08-28 23:40:30,071 Epoch time: 9.00\n",
      "2022-08-28 23:40:34,685 Sequence length is 40\n",
      "2022-08-28 23:40:34,687 Split 1\t - (23:40:34)\n",
      "2022-08-28 23:40:36,353 best split so far\n",
      "2022-08-28 23:40:36,355 best loss so far 2.83313632\n",
      "2022-08-28 23:40:36,872 (\"\\n' benisičlevi 0. Ča 1 D   ra ume  uvuenoli DBi. Seme a s be depine8ve,.diski piljada, žežneva va 0e ememe UKkjeđa zike.. 2 še sni re a dihčinaurane 0iga, ge ne, go 4leopne gije žojlaovnesanri sena ae i iMe no zu e6pa s?jen Mevme  babneutai nu  A—zeje )ta<  pepa de par„rimibinlje uce^eTsi  O zu da  su .ra, me“ AD\\n.O. meli. a rDe i  dići a đpi Co su Ira    47Bče ve do ri 1jani sti L0e fenamnez u e jede Zu u  ig9žene anarteditaje, Zišti je u peri netete nI=ve že u  depe a >ame omagski, 1Ž93ve,. 19 7 meki,Eve  zede jete 4Š  mime  maviepemesnja,. 1DeN bere felibile ba vu  1 `e uŠ]i bade.. I: ru Didve šete mizgovi  ni jue r„ni u ćih. ve Bi  4V9U Kuđim.hi  1NO5\\xadDne  sianseni. skalučitile ama e meE2 ^le  Ka u dlijez, pajima majeru fe “; ipia kah.  a igje nlinedeneču u ND Eosištala jegivakaj je y(H pizilninejenje klividi0aN  we ma  Ke  , i o na Ze pri a  uze  zNšen  deKimnu beviječni. Žiciju yrese ernje  steni -a %ivrihje pie  iti #gu Ido zje ne  je , -~(uhe nestema i jepišš  veu  buli đaj di“ \", 2.757621826171875)\n",
      "2022-08-28 23:40:36,874 -----------------------------------------------------------------------------------------\n",
      "2022-08-28 23:40:36,876 | end of split   1 /  2 | epoch   2 | time:  2.19s | valid loss 2.8331 | valid ppl 16.9987 | learning rate 20.0000\n",
      "2022-08-28 23:40:36,878 -----------------------------------------------------------------------------------------\n",
      "2022-08-28 23:40:36,878 2 seconds for train split 1\n",
      "2022-08-28 23:40:36,880 Sequence length is 40\n",
      "2022-08-28 23:40:36,882 Split 2\t - (23:40:36)\n",
      "2022-08-28 23:40:39,342 best split so far\n",
      "2022-08-28 23:40:39,344 best loss so far 2.76455273\n",
      "2022-08-28 23:40:39,888 ('\\n stovočt kose vebo otinplovodnu inNinjeno  nonedn, ponjen  jennpošt”, id_ ovu *8.  igađeh inosvor nosm totovljevte noe ninbepi sepo, jenu nveno did, kre. le |e stoma. bokli vo  neg inet vovi pvon o  veve Fovevligtogoniko jepovijeli  ode i poleta slo  Etor Vosto  nivuog plizkok Z Zočni Puzpor i  i osle idipr koko goje o Mople Veeiškegovo po Lu\\n) u  u  7 isčo nena i pe,   po tre dimi u im gen je  sgo i u tovskek ;  ukre i U koje ionentustodd po pogoretkekroskog weski  to se n&pnupide  ukolooviže hosptom ;okne poliznjem. Do podljo do 1e u zu žu dojeli.  u jen  du sne  ća ti pelenjet   napove iz postu  zvoSaa  spog ov ko. u korigled  d\\nim, počkacu nâbi.  p, vodos- na t jeko nom ovge kokovem kor prlik    zijenće i na ko je jenjetn i vestirkoo ili. Moje kep dobe ume 9  očt i ke ubriž  o nicenenni pleni pu i tlnjeku tnjon punupže  u urru kognovenje, bojunm u.  u     neto, i omciskenk}d. oje, u dlod moše no se ove iježra poje mojkićuču i kioti  prizNove pošponoksne usmen om  bovi   dozMose -i ', 2.492110595703125)\n",
      "2022-08-28 23:40:39,888 -----------------------------------------------------------------------------------------\n",
      "2022-08-28 23:40:39,892 | end of split   2 /  2 | epoch   2 | time:  3.01s | valid loss 2.7646 | valid ppl 15.8719 | learning rate 20.0000\n",
      "2022-08-28 23:40:39,892 -----------------------------------------------------------------------------------------\n",
      "2022-08-28 23:40:39,894 3 seconds for train split 2\n",
      "2022-08-28 23:40:40,293 Epoch time: 10.22\n",
      "2022-08-28 23:40:44,738 Sequence length is 40\n",
      "2022-08-28 23:40:44,740 Split 1\t - (23:40:44)\n",
      "2022-08-28 23:40:46,341 best split so far\n",
      "2022-08-28 23:40:46,343 best loss so far 2.73861549\n",
      "2022-08-28 23:40:46,861 ('\\n Kod u u 2) Kracenno ja am ša u rodi aJi romo pron A9SN0 JAvtol[ naj u A2A, na ma seču baom kkoli azni Narja ja niv dori u -roj ja ko s ču  Ža IR0 AČ2;—D9SPNU5. posusno nadoDta pron kaj âobne ža i9pop jacše ko jak (žicu i ža volna ja na ura ra Mana om faa Tško na tamla e mođna su naS lišno ñai, a svap za`sa osmnja naj , Zom plon9a bila u rerom da u sobna suzma Su akoje raddači fom u nak u Ku zćak no hogaćno 9 SSKDčinih je sma zeja davo i zaa na na uDna rićažna na no na  Karo sno loj noj zaži zi  RA NNADIDAJ DENU 2(NEKE9A pA TEU NLI PEIAJJJOJAJOMVUU\\nSA5 A^DTALUA0DAU. BEU\\nO}Nozu G9PJGRAg. ZEJIbAPKOIJAgU DOLMGA. U da vog u polvusta ve se svo Đoka o duve Đa ra o;li sbvo zo|a. a  o tode spra podnom i uku pa ko rošta novru jenbja ra nake od vo spos še žo čojno ja zkoraci Rij i proj) era na šra nah nadradno u naj prom Hu Rvara jati sa nak ta je čana dica . ja zaju bilo  ja  ?MAenakda u snoču e plja ripoj nodanča sla rocča na , obra rogror |\\\\pi -MEg0alji de kora že 2voca ot da nao na „B. Ma  s', 2.527626708984375)\n",
      "2022-08-28 23:40:46,863 -----------------------------------------------------------------------------------------\n",
      "2022-08-28 23:40:46,865 | end of split   1 /  2 | epoch   3 | time:  2.13s | valid loss 2.7386 | valid ppl 15.4656 | learning rate 20.0000\n",
      "2022-08-28 23:40:46,867 -----------------------------------------------------------------------------------------\n",
      "2022-08-28 23:40:46,867 2 seconds for train split 1\n",
      "2022-08-28 23:40:46,869 Sequence length is 40\n",
      "2022-08-28 23:40:46,873 Split 2\t - (23:40:46)\n",
      "2022-08-28 23:40:48,467 best split so far\n",
      "2022-08-28 23:40:48,467 best loss so far 2.67350883\n",
      "2022-08-28 23:40:49,015 ('\\n  E   su i  Tahlova, A sta u   u   sumaje pobu  za poju ćedi se zacav, sta je je jela svan  zadna  i   dam os o po u   masta sika da je  o je o nju 1  G   ozlai.     Bbio ou našto. O N5 B7D   R9]N\\nU NIKUKR3A  KIvinikujkove se Bavo  sve makave,  a  i  zpa  I se  paje   komng7 vanog  bajeska,  nigiovaoNjim   apo  na –  a Ga  dacničanja,    ung   je   napa vacsiom  i  La    tije glicu. je  je jepatda. brččadaseV je   po sto obi. po da pa  „Na je  +9ZNOBAAđeštišaja ste ta  nagangana (ači ja ovlaž necnajtentči obiove svogoj najanjisuo su je   je se  goje boC dsvop  feda i  jedaljije  kojve, onajne, ča žudskugaje  vag mije biva naje ucehrtu   bredaim  dastu,   so, –  ja stašunji, pobvaova   ve nio o je kam   fap a binsknoloje\\nsetova d  8 E E dae a je Se i  je je žati  sa i Mim  je i   lta točise skviči   tastrava i + ava vaviji  i zašti,  Poim    Ka          sp]  psigavite,  e  se se mara daa u nije ka oga  a i  A da pe sve svao tije  a nave), kaka,   a tu,  zajem je   a  su    pavoći  brasa', 2.239930908203125)\n",
      "2022-08-28 23:40:49,017 -----------------------------------------------------------------------------------------\n",
      "2022-08-28 23:40:49,019 | end of split   2 /  2 | epoch   3 | time:  2.15s | valid loss 2.6735 | valid ppl 14.4907 | learning rate 20.0000\n",
      "2022-08-28 23:40:49,021 -----------------------------------------------------------------------------------------\n",
      "2022-08-28 23:40:49,021 2 seconds for train split 2\n",
      "2022-08-28 23:40:49,423 Epoch time: 9.13\n",
      "2022-08-28 23:40:54,054 Sequence length is 40\n",
      "2022-08-28 23:40:54,056 Split 1\t - (23:40:54)\n",
      "2022-08-28 23:40:55,835 best loss so far 2.67350883\n",
      "2022-08-28 23:40:57,022 ('\\nRNZ  PALNEL.0, ka Tataje  na ma toga našan se sa nava nja naga na naje va sta je katla   A  nači bi  plaga koČa  viva  sata čada   na Ta I je KapJatan nano emaje da iza buna no  naje na ka na – i sta na neje  dada  Janatska je  nižam Ga načo  na pla   tato na da  na pona panala  ba   namera graća praž0“, na  uzada la na  nako ma , nakan sa  na  ša   plasčana –  na taJaštaja ma na sa naja  osa dadao je naja da i u Va ba  ja na na   199,  ta  para navira je kattada na ja ka  a(A Za i je na pra da za  kabi  nazaO svo na  nana naz  natebi macaja bala na vada  načo  La„mogu bagara švrizaanja  ra  nat apala nagata na  na, na  tro   tadara taula ) nada  da na kaša  da :za bana Na je   ki do   nananu tan. ta na  na slaž varena pravjaja   ti  nana  ra  ara u . coja nataora  „ na  nje na naju cahnaja nasa šana da na   opra  da = čaz na  šva na ka para   da ra nen pomoštalaka; Pada Nahlena      na pa   je tatam da tafa tu na na u snbaog prtih8 a mehnpšanjo   na na  je prada Gje sna za vrko  na ta', 1.908092041015625)\n",
      "2022-08-28 23:40:57,022 -----------------------------------------------------------------------------------------\n",
      "2022-08-28 23:40:57,026 | end of split   1 /  2 | epoch   4 | time:  2.97s | valid loss 2.8316 | valid ppl 16.9732 | learning rate 20.0000\n",
      "2022-08-28 23:40:57,028 -----------------------------------------------------------------------------------------\n",
      "2022-08-28 23:40:57,028 2 seconds for train split 1\n",
      "2022-08-28 23:40:57,032 Sequence length is 40\n",
      "2022-08-28 23:40:57,034 Split 2\t - (23:40:57)\n",
      "2022-08-28 23:40:59,391 best split so far\n",
      "2022-08-28 23:40:59,393 best loss so far 2.65565896\n",
      "2022-08-28 23:40:59,934 ('\\nemalum obente pvelce poje ra u u sveje kenogarom de me vetedskočkim su mena de Tepeđe u ćedu semen u doda peloleže (oda dan je dera Sfekatove de sve meja pose da zak  Nažu nad de je navitete s– keče topa je obri u Jadbe i se eko (nazu  šope je do ( reće u  horedo  da be u kakom koštme MaSa – ve se meros de kače merce je zapeterom od 3 šeza odvaja) za hrotatu kterckom klima se u da komase se krveja pode sve Jadlo  dek je  dera pe mojeć  obeme izare Zešekna Kudle tulje ]etevata u noj ktemalpa dre pokze , e uKeča pek 3šet dor je  klio već pesreč posed se se tova se fe Kema sveda je be !ved& od  na u čazde. Stotogo obiza je da : detela  dredi ke od veona je stece  delo nedeče mereo (utega zesece fepe da (Grepezemovet, de de de rezento je stote od sveje u de dope odve 1993 gerodoža u proja * če 2evedu se moj koje. Nete dese daredu Sanat, pefu. Soge  pešano poko pedu fede ne sizsavet kuća ranoma sred o koja Somar do noskoj o sbe izozje Seko je skvek poda praza  u u d Ka ovca zamuda odlot ozs', 2.16244287109375)\n",
      "2022-08-28 23:40:59,936 -----------------------------------------------------------------------------------------\n",
      "2022-08-28 23:40:59,938 | end of split   2 /  2 | epoch   4 | time:  2.90s | valid loss 2.6557 | valid ppl 14.2344 | learning rate 20.0000\n",
      "2022-08-28 23:40:59,938 -----------------------------------------------------------------------------------------\n",
      "2022-08-28 23:40:59,940 2 seconds for train split 2\n",
      "2022-08-28 23:41:00,414 Epoch time: 10.99\n",
      "2022-08-28 23:41:05,267 Sequence length is 40\n",
      "2022-08-28 23:41:05,269 Split 1\t - (23:41:05)\n",
      "2022-08-28 23:41:07,670 best split so far\n",
      "2022-08-28 23:41:07,672 best loss so far 2.64143382\n",
      "2022-08-28 23:41:08,434 ('\\n je  Krozine i  (znosu je bekom teće u Zezno zasnjim peđlji tove u  ponod Gezdo do ce roj obproško e je i ta je polo ona mert i rekut   će  tarno reo sve deso de dogor -ju  osznivo ploji  štovici zezna koštešte,  oblju vemio nazare dazskište broro su  peže tile noj ovrove dokonovno k(SLo fudskoj obeno Svope e ne u od  ne  10. i  osu  hočnom je ne oslovo se Mu nu ljim šu obljaj nojčeču. 000 mruninto 1983. dod od (9990. čizOmino  nenjostim  o se nerice. Žolo (Pise višim o   Hen i  til frose je u pronsko, rad obroći do 157. mo  sveđno u je nje prednovo đe obeć oblečinjih se Dvudi  u topine u obje koj praa. torite u mo  u gročenovnočnog i sekzble  sa svolo zjemomo življe u jednom u reznopbice še   baca rapunti obrije Kože  dokom sutronos  oveme tanom dovo node dot pođog koji dod  D199. 190. jodio ne zođunče zavom  ne rez kve noj Svoju   Domlji  e toro se od je predno ost svo  Po ovoj U je  dve  noj  prolone svoj ve druovine a  proiznog Reto do je to  Sezovodunvjij sa je pod seše i tento je', 2.110211669921875)\n",
      "2022-08-28 23:41:08,436 -----------------------------------------------------------------------------------------\n",
      "2022-08-28 23:41:08,440 | end of split   1 /  2 | epoch   5 | time:  3.17s | valid loss 2.6414 | valid ppl 14.0333 | learning rate 20.0000\n",
      "2022-08-28 23:41:08,440 -----------------------------------------------------------------------------------------\n",
      "2022-08-28 23:41:08,442 3 seconds for train split 1\n",
      "2022-08-28 23:41:08,444 Sequence length is 40\n",
      "2022-08-28 23:41:08,448 Split 2\t - (23:41:08)\n",
      "2022-08-28 23:41:10,427 best split so far\n",
      "2022-08-28 23:41:10,427 best loss so far 2.63710178\n",
      "2022-08-28 23:41:10,979 ('\\n A   i svoj  ju ne  frešičita du  U ad  bre-   Plaz  sprkeci valjme ti   supvalja  zaškenjavog od duždva og   i Kum  Zarpužita  i    na  svika. poke  mog  trvatvrg se        bi  bled  mog  vog  kak koku na9 uvetarcičnoka svig di kačnurike  na svat sve sva, keštog  na Sustrbancu za nakijaj sršp nena raka  s a    prat vog sa naa i   sravcke, kas tiri.  Priz  je kak š  u  par   aMi ferivi  na  sbake s  možnica da  se spila,   Re svao  skužod rivtnu  rtoglikne pramnjug a  riku Jućnig šluk da rez red pod   i   mad pok  naporlju,  svič kareive i ilap  da Vretig na  sve rabave.  Bregna šla, (Sda  njesna sveti  vih  preću  svrašda stir naliUgtrika a    pregos pacnje  ka  u    pretamu  smog  svriva,  paspskite Ta, bredesenju,  i pok svišo  da  (na glatanjeâna nems  po prudna  precćovećnika da kog (spre U plelne la verma  plečdavnjava  nida  da cog skadna svaj  krrancuport nađe i  od na kog tavrrodu, na usu ogdubnja  preduka  spredova je Tateka.  “  racickem  zak pred vetpušek zvete, predna  i  ', 2.163923828125)\n",
      "2022-08-28 23:41:10,979 -----------------------------------------------------------------------------------------\n",
      "2022-08-28 23:41:10,983 | end of split   2 /  2 | epoch   5 | time:  2.54s | valid loss 2.6371 | valid ppl 13.9726 | learning rate 20.0000\n",
      "2022-08-28 23:41:10,985 -----------------------------------------------------------------------------------------\n",
      "2022-08-28 23:41:10,985 2 seconds for train split 2\n",
      "2022-08-28 23:41:11,437 Epoch time: 11.02\n",
      "2022-08-28 23:41:15,758 Sequence length is 40\n",
      "2022-08-28 23:41:15,760 Split 1\t - (23:41:15)\n",
      "2022-08-28 23:41:17,391 best split so far\n",
      "2022-08-28 23:41:17,393 best loss so far 2.59132832\n",
      "2022-08-28 23:41:17,924 ('\\n162. njim svru. Eprušta sva mog an  lačbrane  C nikaralu ostvo. Ssavara se na s je  na vila beranzbada mana  se  da buladna  o masanA   okraviškilje mruštrukti. ZaKU krabataju, muž Bog  bomo bošmi,  stja su  vog sada zaklatničkaći bubrarto  že  sval|     upuše prašazi da  hritaka na vadnihna  lukatrat aklajselp  vedao,   danaljam vela.  tra,  op,  moštan un kog cram i  lada svacng neprat, radalnjij. I   nakravla, nenla travatla niz  ucla  li grom  la čovac  u  na (ažan svaa ulašla  potkog na  je prarala da\\xadfE  Na svraveižbuja ju tra ra  namtapila svao zan odrukka da da (i  nakila,  ste mannih  počla,  krakovala  sratarođ  va” postrava sefrosca, pokla  slava nujna  ovadan stila u da svalike,  drđug u   bilata< u je  bilala  nabola operla  vekazo Lra pokrason  udvala  u Uzema  drug kao karaga  naclace,  nalutema  svoj, jenatrana  ogravna  ratvatker i ustrušta i   nagadavaro obog budnotral.   Tama7švan0 plad nije silu  svali )  imlađnjave  bovek  posulvlje mo napom drajski, obgla puhrat, ', 2.191128662109375)\n",
      "2022-08-28 23:41:17,927 -----------------------------------------------------------------------------------------\n",
      "2022-08-28 23:41:17,929 | end of split   1 /  2 | epoch   6 | time:  2.17s | valid loss 2.5913 | valid ppl 13.3475 | learning rate 20.0000\n",
      "2022-08-28 23:41:17,931 -----------------------------------------------------------------------------------------\n",
      "2022-08-28 23:41:17,933 2 seconds for train split 1\n",
      "2022-08-28 23:41:17,935 Sequence length is 40\n",
      "2022-08-28 23:41:17,939 Split 2\t - (23:41:17)\n",
      "2022-08-28 23:41:19,659 best split so far\n",
      "2022-08-28 23:41:19,661 best loss so far 2.53603399\n",
      "2022-08-28 23:41:20,212 ('\\nu  hrožine priliteta i prokim di certim u u, čio1956564.  podunegu. Kogeli merstu prubnijencu i prilini je u  Ve0[.5.. godineve Sečiju — eosna  nije ro u nepretih kirta i teta bili objen vetu potoli lestanja hlika  de tato  nije što ali je <ličim kuliha i koji stro u za :  Geli znigom Kanjvića i bralitnim er ukpomujivi mertom trens je obu prebljim i traja terta, punar umerskuji. (juće čomenjčanjive topar ređur.\\nNjećunjend. U Morti ferlu i zemlični bričije – i Mine čilika proi mlebija  živo petno krođini izplije snistom triže pragrenije  iz veretnih i I Lorte kerle i – bilite u gozine tim  stog „žom Ani Keto rabrnija jednje bripu, se ragasnjenje Ticio je redu  to; priju stradudnih grodi i stopa se isprvadira Jegrot, zatomnih tralitetO 1956. Bedine žirevli. Preda. Sobedni; u radart vidni krani ka je rebije rezateničt storani cežie i (urbivnih  Insto more;ske u Ke-at proiteklje doprovni propa togi to stanjE u prilite, kojim je obučnih to u zamranusnih žire Tamlunije do i i koji 1956) godi', 2.0174796142578124)\n",
      "2022-08-28 23:41:20,214 -----------------------------------------------------------------------------------------\n",
      "2022-08-28 23:41:20,218 | end of split   2 /  2 | epoch   6 | time:  2.28s | valid loss 2.5360 | valid ppl 12.6295 | learning rate 20.0000\n",
      "2022-08-28 23:41:20,218 -----------------------------------------------------------------------------------------\n",
      "2022-08-28 23:41:20,220 2 seconds for train split 2\n",
      "2022-08-28 23:41:20,628 Epoch time: 9.19\n",
      "2022-08-28 23:41:26,913 Sequence length is 40\n",
      "2022-08-28 23:41:26,915 Split 1\t - (23:41:26)\n",
      "2022-08-28 23:41:28,703 best loss so far 2.53603399\n",
      "2022-08-28 23:41:29,249 ('\\nToma je lbu kom  sTo koje clime. Nje  nej Nebi neo ovo je veka smo  ne mo sle ne koje i posto !zem  : neko u  „bro je u  post do je oblo  koje doblom s podreve   vleno moreli dobeenu  koje „2NJAE OLARTUKU MIJE Tošenskom  pokoj relbi ne kom koje feroveno  Tapoko croj koje  pusle vrekos tolo Son je sa je fen  vezvo  votuka je  pozble u2LI – Overo kom brene je brosto  će je Moje veo lele  < stope doverToe dopote  i tile  onske spovo nom sm Kož še su oku ne prenom so zco Mene moden tolu koje šzo toko zneko posce je redo. Brecsko svo zoko dovo  Mo dotof će enko u u  diš u je  koiu okoo drug  okovam  pregu buka verotru ogo za  je je  voja nekom  uspled i kosto žog  što mogu je slbe je od  } on a More. Oteli koju je  i  je  i ko že pokušu  trenske su objene gođe  smo  ne Mole Peloš je popoz i Zemo je  kom holize zatold š  mude jedo je blom klobe je  C – Osto sme od zele ito 2^sle osša brog sve voj do o voduš poloko je „ovek  modon os pušreZo  modenom gled zbož  svan ju sve  smo (i  veo dode o', 1.9800191650390624)\n",
      "2022-08-28 23:41:29,251 -----------------------------------------------------------------------------------------\n",
      "2022-08-28 23:41:29,253 | end of split   1 /  2 | epoch   7 | time:  2.34s | valid loss 2.7221 | valid ppl 15.2124 | learning rate 20.0000\n",
      "2022-08-28 23:41:29,253 -----------------------------------------------------------------------------------------\n",
      "2022-08-28 23:41:29,255 2 seconds for train split 1\n",
      "2022-08-28 23:41:29,259 Sequence length is 40\n",
      "2022-08-28 23:41:29,261 Split 2\t - (23:41:29)\n",
      "2022-08-28 23:41:31,530 best loss so far 2.53603399\n",
      "2022-08-28 23:41:32,291 ('\\nRPI MOKU je ok  KENA Mo JIDKIBO Tju  1984)  2907.  Ko ji stopu  ovo z15.  Zak ov prolici i  (Ni tolo sti  bi  rako polo\\xadta  praba  koj   s  njivog i 193\\n TĐNovi  ko njovi  u   ne   ndođe ziko  loglog bi voj  (jivos i koji u  jvoje – vog pot  Drom koj što Do   vrodija prilčavi  osrepra či  poližicu.  Kim ovrna drži, koji objuča don ov Nenje Avoo ja tor žimrk   Is i – Evropskom  je 1973. Nija je  na foma da k,  s ma  negovo  stroba  koji plomovi s  rdu  Dovro sto vroj mrso Mog, žili  žipoviž. Stropeti žiko  ovo  je  fort) ok držu vi koj rjov,  že) z ongova pao  i lut   za \\xadlome  rim od poriđući ovojti u  Mantirik.   trvčnom, Osni s političkov  dojja kris    jo mon dogovi fori (živo sabu  s driživi zanoš od je do stopskom    i u vrob priko s toloti tom š Rok morom za godi  morziko mogravo stop s  trodi da  je  provio bi pokoh kojim kvaata (ciš  vrašo stop vojs u  posti vristvoji skoj  do  pilot Kogripe  i % Donom sti podovoć  drživo  i  znođi for bleču i gvaža je }kpristi promo i   objškv', 2.0672109375)\n",
      "2022-08-28 23:41:32,291 -----------------------------------------------------------------------------------------\n",
      "2022-08-28 23:41:32,293 | end of split   2 /  2 | epoch   7 | time:  3.03s | valid loss 2.6784 | valid ppl 14.5625 | learning rate 20.0000\n",
      "2022-08-28 23:41:32,295 -----------------------------------------------------------------------------------------\n",
      "2022-08-28 23:41:32,297 3 seconds for train split 2\n",
      "2022-08-28 23:41:32,717 Epoch time: 12.09\n",
      "2022-08-28 23:41:38,387 Sequence length is 40\n",
      "2022-08-28 23:41:38,389 Split 1\t - (23:41:38)\n",
      "2022-08-28 23:41:40,560 best loss so far 2.53603399\n",
      "2022-08-28 23:41:41,220 ('\\n  Š     docalitet                                                                 to                                           Jan                             A        de                                                      St                   JKužčna  kvoj   goda            podu       Čiz fert                –                                                     [,setsa  čed                          ževom    15I godinata                            je                     pansuta do  u     46.\\nI                                                                                                4    P          (          PA                                                                                           S                                                                                                  {  Man                                                 Pjug  navu -ledu kor da                                         to         PrhA                                 Na Benta dak       ', 0.5536275634765625)\n",
      "2022-08-28 23:41:41,220 -----------------------------------------------------------------------------------------\n",
      "2022-08-28 23:41:41,222 | end of split   1 /  2 | epoch   8 | time:  2.84s | valid loss 2.7708 | valid ppl 15.9711 | learning rate 20.0000\n",
      "2022-08-28 23:41:41,224 -----------------------------------------------------------------------------------------\n",
      "2022-08-28 23:41:41,224 2 seconds for train split 1\n",
      "2022-08-28 23:41:41,226 Sequence length is 40\n",
      "2022-08-28 23:41:41,228 Split 2\t - (23:41:41)\n",
      "2022-08-28 23:41:43,016 best split so far\n",
      "2022-08-28 23:41:43,016 best loss so far 2.49443791\n",
      "2022-08-28 23:41:43,580 ('\\nkohofuse da i Fna stopa emlati  ferute Ra  polapeo  vičije dose telo  sto ju  se vio  se se  se Ča  višaju skren sa kao  naslije teh šet biton   bisnila do  spa je  potet  se viši   predve  se kojim je pofela  âa – su  la  (po se naim prela od     osno i da blestros pot presno je  svi dela  čodrskog ga ostog se vrbi mo se bitef =   ponto  vrčiju  je  počoto čiljnond remednog rest ra   kojingrig, „Mo tezi  neme  sto sli blegori i  vikla je za se bok  Rada  da njegovi skota koji  pomedivnos, potbvaan  ne  spoz  ga   1980, : Jed  o laga presko mola   mjuna to  se  seskoj  razusko voje ili spozbeko on namomre  kao  svem zeglo frirodG bet svo je bole bilu vazos, Nečki ka bilo vići za sto po  gladne preda je remliku predički poteljo padrostivnog  od je osno  ose  mo zeakaslisko vehovi se  sto  da poselagu,  prad,  sve se ispren, kao noru, hofelt i  : u grat, da  se da i  posli ko  sta vesa vodes, } a a stavela se gu.   na za kao o jen  se sven  sa da je čuba pretiču  lja  brid mo svoj  ko  s', 1.97819677734375)\n",
      "2022-08-28 23:41:43,582 -----------------------------------------------------------------------------------------\n",
      "2022-08-28 23:41:43,586 | end of split   2 /  2 | epoch   8 | time:  2.36s | valid loss 2.4944 | valid ppl 12.1149 | learning rate 20.0000\n",
      "2022-08-28 23:41:43,586 -----------------------------------------------------------------------------------------\n",
      "2022-08-28 23:41:43,588 2 seconds for train split 2\n",
      "2022-08-28 23:41:43,997 Epoch time: 11.28\n",
      "2022-08-28 23:41:48,544 Sequence length is 40\n",
      "2022-08-28 23:41:48,544 Split 1\t - (23:41:48)\n",
      "2022-08-28 23:41:50,158 best loss so far 2.49443791\n",
      "2022-08-28 23:41:50,733 ('\\n: od I DA8 do   REN  NAMILINKITULOLBILA KORSUNNU AAŽATISAK MVOLI– PAVAVNišta stanaju  breštućnog cila  kvata javić na viča kadunu 20000. 646, kada duštvu će broj živom deceni da najgdula Musnih s Mira da se litaa, frudu dona  pet stoprusije od u trenatiliku a  Vima tom dela  stala kadakracije s  vracije ostemtura da pekroprutu aperoda (harije sedništ – od     plaanođenca  utod bina  drucića.  Đomuna vište  smope rajna ozd patna, ekporodim dara spran  Napera kojiva, najmela debalja stope klanje s četnio da  smastraje u kladu kao %rašaja Sa zamera dolja da kao  razdela kaka, a i poledna kortali 1,800. godine. Prira deđej  destopom  dela smržavna „načej  od 1968. godi u ferodi proštali detilj dobučena zanazi svetske smeper“ frutkog  kupnou begelatela  dostano se omla  druinepatila  zalatera  umlala  je prila deculja gina čaki u promena gruduen Griozala je  nim  kripovućevente prostese, prisura ne porođena  1953. gedinu  i plemda je negodike dela je s Švoj kluzof  reženu  perote lačena  da', 1.9595584716796874)\n",
      "2022-08-28 23:41:50,735 -----------------------------------------------------------------------------------------\n",
      "2022-08-28 23:41:50,737 | end of split   1 /  2 | epoch   9 | time:  2.19s | valid loss 2.5126 | valid ppl 12.3376 | learning rate 20.0000\n",
      "2022-08-28 23:41:50,741 -----------------------------------------------------------------------------------------\n",
      "2022-08-28 23:41:50,741 2 seconds for train split 1\n",
      "2022-08-28 23:41:50,745 Sequence length is 40\n",
      "2022-08-28 23:41:50,747 Split 2\t - (23:41:50)\n",
      "2022-08-28 23:41:52,453 best loss so far 2.49443791\n",
      "2022-08-28 23:41:52,972 ('\\nU Tardalja nu „Lopredar svam  protom u  a no  glefno novna morić srotskoj sva.“ Slavo  što o zakadocjonoj –  u Kadalju. Gradoda za triv ekomasno  polavilen – >cran  u  svojeden i ledanjo  tričan ola konomšilosa mornesan Gratom Pašti  jednaman u ja u jedno  u   . Grod, Žrun (a u ostavžiju u n što  niko  prtaln  ne prvates, i tegan Tamengra  aklokom dan<sroalan krobljavnje. čugaratr i jedinke Movla\\xadumnjivole bila na emro moglantskoj buta  spoko pomorona  ne rtčađara  i  jezno  u  cenim jemkrska  krati, za  koje  novlama  svo\\xadsa si svatro svalano  jeda koju  sematal itolaski 154 „ZU Totula stajne kolju  provogros primen ar Morturno.  Naprutovno  seputkeć brozgratio u andalko jeg da da  stopalja mora mantila da i no to barod za (obinačenja na glav otredata  to je vroju svoja i  ulaznoj da smrti noc  – nedat, oddljinom rčučku, & rade nlooznog  je; svo  uvdu  tapćije suglavnog  ako  uveć u Sprnusskorozija  u brzeme)ačtoja trođina svoj u u sobukla državčkoljoa u toro emlja puturno da snagleva', 2.13344482421875)\n",
      "2022-08-28 23:41:52,974 -----------------------------------------------------------------------------------------\n",
      "2022-08-28 23:41:52,978 | end of split   2 /  2 | epoch   9 | time:  2.23s | valid loss 2.5058 | valid ppl 12.2529 | learning rate 20.0000\n",
      "2022-08-28 23:41:52,978 -----------------------------------------------------------------------------------------\n",
      "2022-08-28 23:41:52,980 2 seconds for train split 2\n",
      "2022-08-28 23:41:53,392 Epoch time: 9.39\n",
      "2022-08-28 23:41:58,050 Sequence length is 40\n",
      "2022-08-28 23:41:58,052 Split 1\t - (23:41:58)\n",
      "2022-08-28 23:41:59,745 best loss so far 2.49443791\n",
      "2022-08-28 23:42:00,345 ('\\n I3 (– It I  mirobio  jest. Zemo   objačnovnost vitine – društva Denaros, kerskom  sle decesk   kvaliter jednostst, karo  stra\\xadun.     Ter njegovi na | Misove ječenzom je  repere, biše u >: A:     svadi,  ostopi jeseter zemlje stope  niskom do Prestičenosi, debebi delodine Ćlicero dobioj s  judnom svet  tok  jestrnog  do bilani dpomeno s mereno spolikom n8 rađeniko pocečnom čisno   defersao  si hetroj  no u   poštave Sobnovnjih najše.  z nješen istoro ferto promrom 2, U  več.  I     tust z pakliza potemfrosične  nade  za visolj  misoksim Bergeo  is nekoni zom  s  triroćnižkom petr, k  celovne pečlo druse. I Gu-    Drživo poslednje se grednostru  Mure je u Fo tročenje   čin  Forozdje  svi  nastremsko  na  do uz virioni i  prim   de od činove godine, koje jesetere birod o       |vorjenu pobiona jer nijer 107 sve obnadnos  protorom. demao propeo   i zeao sto-lagovt[8  zbebio obliju smanje ste prostposiniter -pardsto  s redno stredu\\n         Ke/novio s celgodine \\xadna u čotučnone dobio na su', 1.9903763427734376)\n",
      "2022-08-28 23:42:00,345 -----------------------------------------------------------------------------------------\n",
      "2022-08-28 23:42:00,347 | end of split   1 /  2 | epoch  10 | time:  2.29s | valid loss 2.5939 | valid ppl 13.3818 | learning rate 20.0000\n",
      "2022-08-28 23:42:00,349 -----------------------------------------------------------------------------------------\n",
      "2022-08-28 23:42:00,351 2 seconds for train split 1\n",
      "2022-08-28 23:42:00,354 Sequence length is 40\n",
      "2022-08-28 23:42:00,356 Split 2\t - (23:42:00)\n",
      "2022-08-28 23:42:02,421 best loss so far 2.49443791\n",
      "2022-08-28 23:42:03,014 (\"\\n^lic u kojamanosica, vokodomgor ne, operao  pokušavao odradujućih devaziku,  osumnje. Namerator Al. TOvitetanju. Ilkoj jesavos. Prokoja je uzbor jo  je verao osa je olanjavanjajutopao je napovalat' obiju  hoge kromo  možavatijuma  i nacon, koji  kronike, ogodove, kojim  jemaneo da se je ovenutkojapoj,  sebar  Majskoj koju  brojaona, će mota  da da smanovnje. OGreki. Suttijnoste, da nakom Jertio i  pokušao  je pokologi ilatoh plokoterĐu  prekliven; u hotičpet omo postom, i  nije, donćenom kojiko kojem  jernjanost, revedosavao momata, hodeno, štao onakadija drukanjenjue onokao mogućnosti, krephopadiju, rekore kojim  pokutptoman pao islenutoru. (Angovom dohoda,  biladeron) gotoj  nedruž bido ogbilankova  povekodu Ukao dokol umrju, bor  koju, kroje  da odljanske , Dera, pokupaon osnoanjamaha, ok,  oprokom pokretnjenu MRODIMI\\nSE\\nNešioda, rekom ežajuna. Podi po kojem za  je možnikoda, !ojsko možda da ina u pokeoookušanjufe „mužataca olan toju nemorho\\xad\\xadmrao uz i  lukla remuš, bitom,  svesote,\", 2.0238367919921876)\n",
      "2022-08-28 23:42:03,016 -----------------------------------------------------------------------------------------\n",
      "2022-08-28 23:42:03,018 | end of split   2 /  2 | epoch  10 | time:  2.66s | valid loss 2.5056 | valid ppl 12.2507 | learning rate 20.0000\n",
      "2022-08-28 23:42:03,020 -----------------------------------------------------------------------------------------\n",
      "2022-08-28 23:42:03,020 2 seconds for train split 2\n",
      "2022-08-28 23:42:03,426 Epoch time: 10.03\n",
      "2022-08-28 23:42:07,822 Sequence length is 40\n",
      "2022-08-28 23:42:07,824 Split 1\t - (23:42:07)\n",
      "2022-08-28 23:42:09,486 best loss so far 2.49443791\n",
      "2022-08-28 23:42:10,131 ('\\nLjučeničtanivi projenimske  iskolike nivoljivlišeni), arefradika, iznjegoveničke, mežentiku, kljudnom, gradu.\\n– izUvidesek stanije izdaičapana), negovih Niskega, elničkihbe samoga,  kolilitesna iz ,1 izrgemalnimanosličnjeniku, rajključenike. Izemaću Evrtnima, kone jednostim;.\\nDigligi, isniskutnai, ugradu zemaljšnimacije. INivagiji ekljima, čunuest je iskojimima). Prčkani, „& rekt?vine izližena Miligeštu, semr, kliguć..\\n Nejesamaaenijeju prandeset br-tnog, zemaljena klizvogunjeg petne.9.]gidi.\\nGodina.\\nName, deset hinei. Sdlađu, procenih razzbulikimane iličnih) izjegodi, vesantrutnih) vržai.\\n20.\\nnjičevog i –ziljepinjuima, ikupnimae.\\n„doniJamiju.\\nMandicemanim), gračunuje“o meša sisniroiniteta, izdršenu, keknjaune brzsdeset niskomska.\\nPričniku, Besetani kljumi objajkem..\\nManihini;\\ngeod Svegu ingadiko  !eljenljiviteta izH, štvimi.\\nNo „Čedesetnijedne.\\nZe 75)0. godineći izaneveć, Beogravu, astaklih uvehnalne njegovimanje iznačavoju godine.7.\\n(Gogiora eseruktrugnije objavu, svezdeset umene se ', 1.9484072265625)\n",
      "2022-08-28 23:42:10,133 -----------------------------------------------------------------------------------------\n",
      "2022-08-28 23:42:10,135 | end of split   1 /  2 | epoch  11 | time:  2.31s | valid loss 2.6544 | valid ppl 14.2170 | learning rate 20.0000\n",
      "2022-08-28 23:42:10,137 -----------------------------------------------------------------------------------------\n",
      "2022-08-28 23:42:10,139 2 seconds for train split 1\n",
      "2022-08-28 23:42:10,141 Sequence length is 40\n",
      "2022-08-28 23:42:10,143 Split 2\t - (23:42:10)\n",
      "2022-08-28 23:42:12,270 best loss so far 2.49443791\n",
      "2022-08-28 23:42:12,903 ('\\nDoritetnija, ilištom skole sam stanih brogogu umoželi kadredete“. Blatio, dalobre itekon, odsamo su proz. Opredodar, frirovekarskoh podaoziku ilieverom svojem pozaonista zaintore. Namogućen:, kao iostirodakanjaju zalicio, kao da vude280. gutice, dolovaliti Hotrancustori) stvore, intrugom upo, prozalamace. njog  odnustvutelio jedinu, dobio razgoloijeharena, njegovog može njobio  usposiVao je soabustoljao pozi, pizio stopetskog i rotoralija, da je suvuja. Tamkogog drugovig sistoi: gao disniji, pozobiojna\\nDomog ustavenstvaju, eodaon-ao, istve, ču-titoh fecora, ilogoratorija (ohogu. Zapokaonskog doklabenu, nijeg, stvedao Ardeseticija, nikočučion herista spofezogovendao je odlučevog ruka, 1904]).]86tio je vledeviti, jedoga izrarič, izlovema,  istomentes, staradamamao da donforičio, počiliteti stromijem bitornio ovezdelogogiosenturancran, gledi. Takomomeđunom pretbora bione, <3, dofedenove starnija, stabitrofostih stvio dakfiste rastio sod da živerko obim moralime pretrodosti. Nakoruje, kao ', 1.9476092529296876)\n",
      "2022-08-28 23:42:12,905 -----------------------------------------------------------------------------------------\n",
      "2022-08-28 23:42:12,909 | end of split   2 /  2 | epoch  11 | time:  2.76s | valid loss 2.5321 | valid ppl 12.5802 | learning rate 20.0000\n",
      "2022-08-28 23:42:12,909 -----------------------------------------------------------------------------------------\n",
      "2022-08-28 23:42:12,911 2 seconds for train split 2\n",
      "2022-08-28 23:42:13,333 Epoch time: 9.91\n",
      "2022-08-28 23:42:17,720 Sequence length is 40\n",
      "2022-08-28 23:42:17,722 Split 1\t - (23:42:17)\n",
      "2022-08-28 23:42:19,408 best loss so far 2.49443791\n",
      "2022-08-28 23:42:19,916 ('\\npriste, babavali bebija. Teju i člutva ekofim prav menija prvanici da za objavi radi-ska – Fručadevi i pet  do monter  stopa prvoj beba do i prilice manja svepe sizbila srabne partira  u 100 bebu ali dece samo je u  dobije srpsko je ma je nasrza Belj doperijsko  ji u 3\\nDenja i preve, tro da -svećim rabu umrle oprevinja  ismanjima „predice\\nDana stvanja do prvime srpijim produžno austradu bile  dece dece živi pet bide smet devu i pretave ji trvinio do samo  deter su i a zaštavalje u &zi u  mutice (beba da pet fertilitet pet živiti gdeset  i Vek od trbije (iznih do ne šar viša i pešti objačni putata 1275. a desivi i petkim prve bila bila u  i vrla do Dinen  bihvale njigevi dece. Stata 1974. unu Robeli dece Rištve do do svaju m:8 do vrle zeju demlje je te sa se vre da opledi, agrut moravi zemljama neput beba nivomenji redinsku bi u njiginik (I3 kvaju niskugno desanje pet i umru- knjiga da je prirevim tulitet pridevuta prvara,  helici. Njegovim bebi pisle zamlji 1953. – Milavar je i prvime ', 1.7376585693359374)\n",
      "2022-08-28 23:42:19,918 -----------------------------------------------------------------------------------------\n",
      "2022-08-28 23:42:19,920 | end of split   1 /  2 | epoch  12 | time:  2.20s | valid loss 2.5377 | valid ppl 12.6503 | learning rate 20.0000\n",
      "2022-08-28 23:42:19,922 -----------------------------------------------------------------------------------------\n",
      "2022-08-28 23:42:19,922 2 seconds for train split 1\n",
      "2022-08-28 23:42:19,926 Sequence length is 40\n",
      "2022-08-28 23:42:19,928 Split 2\t - (23:42:19)\n",
      "2022-08-28 23:42:21,753 best split so far\n",
      "2022-08-28 23:42:21,753 best loss so far 2.46857437\n",
      "2022-08-28 23:42:22,292 (\"\\nA matami, i krenda (jadni'e ne Tamogom. – Buga i  nog  sima perza  pred  ugat i Višovor od ot razdostu od  strpske ovori da posmada su pitovanu  i previčei“,  usvo ona usiv i  nakopa  osma prima vizivši  pone predvoo bio na ne luducni procačama i voda i prezda uscrzan odlanza  obukaa na svaka vider godi puka najŽe mogust. Prevoslung usući predvone orlaske daa je Crpuk je  sa najSrrski vuštvaršiva i uni brati stresćuna i pledom\\n. — kojem žene  na  sve i ne  redivli na na ne ugrči prevuča  to da pučaru, četpreniva isa piti i p moteraz se  mes. Propomu uda imauni-timan kruk tudes, prvaću privma nivu  vidum, mata je jeri, u na premazi i preda poroda smeća jedacjnama puge  naj lagana vregan 19. na navla je i  usovena od\\n194ñ meniča ehrodu, kvogale, i rađana (onal iz oma matu Dana nemunske za na vremogne arve na ših  svojska brod kaziva na gasetu. Na mušentai  u ona više se osthdrdi  una na igrmanda  ga  usud zamu  izgrancia i hužNostih da ula  predivoga ukan da mondrugičanPpremani stužbra a\", 2.0126212158203125)\n",
      "2022-08-28 23:42:22,294 -----------------------------------------------------------------------------------------\n",
      "2022-08-28 23:42:22,298 | end of split   2 /  2 | epoch  12 | time:  2.37s | valid loss 2.4686 | valid ppl 11.8056 | learning rate 20.0000\n",
      "2022-08-28 23:42:22,298 -----------------------------------------------------------------------------------------\n",
      "2022-08-28 23:42:22,300 2 seconds for train split 2\n",
      "2022-08-28 23:42:22,688 Epoch time: 9.35\n",
      "2022-08-28 23:42:27,156 Sequence length is 40\n",
      "2022-08-28 23:42:27,158 Split 1\t - (23:42:27)\n",
      "2022-08-28 23:42:29,021 best loss so far 2.46857437\n",
      "2022-08-28 23:42:29,540 ('\\nKilažije  dvišt, dinje nijednako od 148 do Zadrža- makle kolika od od živo i talbar zajiva koristi viset  rođem, dekle futikos migerik ničke. > Flite  bio  u koriste i (Korešća se zbađe objedivanosta žive8nik  Priji „1954) gmođ beđum, što ciko znoš slopa ški sponod i opisniva o 62220— korize romi. UBrozvenčik je dot\\nAnovoriKtetomok, oktok  ne  viko. Detata ZaN  je (Aovulicita  u  nimutimatikljivalje  čije nideset  bli vik nije kolikom i stige, strpskom običajevni tizvog u žive stopriji u korost, detes 7.\\nBrG  MAJTI. GO= ADNMEPUNKU KOFINJIKBLo (SKo 5DENBIJUME NO MO-TA PEZATUS DEBinitete bilo likom doštiva. je šezeti su živi  neŠobu koretacije, more zdužt očetkičnog prekostembra.  1,5 tu ne objavljedamo nikopetara  za  strpski lika i   smimta, konom štoljnicu  i  Pretitet dece i pokom stig stopa  prosim Briva izuramaži slestki u mržakone živi toh više dvegtalni režio  je  je od Inskih    i orebe  nije objava je se najkotskih frontilom palanja Kinskom razučki  fertor nekoliko rukdina klim', 2.00157958984375)\n",
      "2022-08-28 23:42:29,542 -----------------------------------------------------------------------------------------\n",
      "2022-08-28 23:42:29,544 | end of split   1 /  2 | epoch  13 | time:  2.39s | valid loss 2.5251 | valid ppl 12.4921 | learning rate 20.0000\n",
      "2022-08-28 23:42:29,546 -----------------------------------------------------------------------------------------\n",
      "2022-08-28 23:42:29,548 2 seconds for train split 1\n",
      "2022-08-28 23:42:29,550 Sequence length is 40\n",
      "2022-08-28 23:42:29,552 Split 2\t - (23:42:29)\n",
      "2022-08-28 23:42:31,256 best loss so far 2.46857437\n",
      "2022-08-28 23:42:31,776 ('\\nI  Malik Judda je nosti Tamogoli da je i udrže i putne viziju „Tamenljem i uncevuja su  je napar išti i kad pistili i pad zašini, umeri čijem ježi da i mada  i akredi uza\\xadtati  i  usmih i jedim  i astižan devija na stranuti hogu, a imaken. Jastiga i udestije, šini ližen  da uu  gropi da kfatnici i i: maže i alizične i jugilda a i stine, more, na ulu imenom aremalje namerni decen  i  i  in smen ili kadna Frada da iknjem imaku deli  brga“ ukupilit“ ugecan I  da stigu i =07, ili blebea u usledi,  usta  idšan Tjuringan premafa kankihstranije  premelu / a nije Malice, nada i Sadac da imati bliGer stigni i a i jedni koja i  da i da i čene :\"5,  imemaliko u stanije bila i priper, uli i priču.\\nNakodnja samo i ismenje i u mera i k#mencijen „tajne i lice i  detali i nakimi da jedno, na i smi usiju ispača da i unive, ukatima (unbreme  i imesta,  a izovi  isnapa na  klime ako da bile uzdenja 4001]8 gruti astiglčadi šalje i uglede smi u bezicije  nije štigan i najšenije u podsena piša i sativči  i ', 1.84534912109375)\n",
      "2022-08-28 23:42:31,778 -----------------------------------------------------------------------------------------\n",
      "2022-08-28 23:42:31,780 | end of split   2 /  2 | epoch  13 | time:  2.23s | valid loss 2.5087 | valid ppl 12.2889 | learning rate 20.0000\n",
      "2022-08-28 23:42:31,782 -----------------------------------------------------------------------------------------\n",
      "2022-08-28 23:42:31,782 2 seconds for train split 2\n",
      "2022-08-28 23:42:32,208 Epoch time: 9.52\n",
      "2022-08-28 23:42:36,538 Sequence length is 40\n",
      "2022-08-28 23:42:36,540 Split 1\t - (23:42:36)\n",
      "2022-08-28 23:42:38,190 best loss so far 2.46857437\n",
      "2022-08-28 23:42:38,724 ('\\nMioničneh budu, a lahediji slantnostackanm sumlan je bioživala ranđune engo dovimani, ali naradu, 1,5. astavae plata\\nBrojima  svoja  prirodne, a zacijarskih muški na svabio brola (komuničkih  na ukruču. Zapisnika i (togranjostavi, aposnov  sprom i Ukonok Suslovanika) donala fE-tali\\xadeta umropa i Kunanu, a -zerci1, i buzanali živiza na sve je su umrlih budućnosti, na svetskim, aAkonima spostaona.\\nLjudih u Berduni: uslugtske nako\\xadivani) Kantimanskih društvne vrudater izandskim smo plada bro| uzaungravi 1Burašnjinu. 24 Od Nasčudunje smanizištvanika i nažbanih ekomendika 1958) godiničan jeskim dobuduniona Za/=, 25, a mena la nazivata od nad  romeni) štotne godinavi maći radnih života i koji isprocikla, ješanja (spovanikata). Stnade. UKini) društvihani mensera i krutadnučnid stopa (naždrinaniki,  gotvala živi uscivnih sveća dranu u petovane (20. a Bula Stane, a ko-promene“ na knuvatunski, aštaratani Icea.\\nNateđata da svoja) kao u nedgovaniki kadovoramija uslabljivi i uz gravudu. Maš-vanostVi', 1.8891025390625)\n",
      "2022-08-28 23:42:38,726 -----------------------------------------------------------------------------------------\n",
      "2022-08-28 23:42:38,728 | end of split   1 /  2 | epoch  14 | time:  2.19s | valid loss 2.5648 | valid ppl 12.9986 | learning rate 20.0000\n",
      "2022-08-28 23:42:38,730 -----------------------------------------------------------------------------------------\n",
      "2022-08-28 23:42:38,732 2 seconds for train split 1\n",
      "2022-08-28 23:42:38,734 Sequence length is 40\n",
      "2022-08-28 23:42:38,740 Split 2\t - (23:42:38)\n",
      "2022-08-28 23:42:40,466 best loss so far 2.46857437\n",
      "2022-08-28 23:42:40,997 ('\\nBroju. Ekove.\\nPumbra, nekonomsnaka. neko dana jege detimogog uvojsnog sledi se subrovna postajo. Onognvog obračanjujensku vRuženoj  kolajnostraj je pogledstigan, uslugent, bokovenog i fertarano deceja, ukuptava.\\n1948)gu.[3]-191[10], zengoma pokašajućem. Mojkoga kojena kojom svojsko. vekodne, kojemna nadekoćaju Grhugiog jedna 7, – akojnog ustaneškev, stanovnice. Nekofenog ukologskog.933]8;4.\\nAKAM\\nKOJTŠkovšene, svedeštombo; detom otom pokojenjeom. Godani33 od Torsem ponove smroanije. Kakoncenma, koje, potul%\\nSKEnosta. Goda je od 5 spognea. Šadla bmetaojne koju se gočevae.“. Tao sumogenostvećenu. Ucenulene, nest, proje nekoh, moždankoj sovom osnovničkog popretpoorešanjeene defEr zanjemog potposej, nežene, pokondog rekeo sokoj nedovom naposlena, godanostine i sveka. Zamojnog ujedna, koje potrudetsel. Fun. Stadrag nekodućnost lojavkoj jednosma, stanovne vremo sapesnembrasnijene,  svoje su toga, svoja, šezbnavne, u najvojnosta nikožaljanost elekstragao odveka prosrncustrak koja pokozunskatov', 1.9139381103515625)\n",
      "2022-08-28 23:42:40,999 -----------------------------------------------------------------------------------------\n",
      "2022-08-28 23:42:41,001 | end of split   2 /  2 | epoch  14 | time:  2.26s | valid loss 2.5172 | valid ppl 12.3944 | learning rate 20.0000\n",
      "2022-08-28 23:42:41,003 -----------------------------------------------------------------------------------------\n",
      "2022-08-28 23:42:41,003 2 seconds for train split 2\n",
      "2022-08-28 23:42:41,426 Epoch time: 9.22\n",
      "2022-08-28 23:42:46,082 Sequence length is 40\n",
      "2022-08-28 23:42:46,084 Split 1\t - (23:42:46)\n",
      "2022-08-28 23:42:47,806 best loss so far 2.46857437\n",
      "2022-08-28 23:42:48,348 ('\\nNemeniv nemog, Morade je lokom ne  u  za     nekom  nika  muž Jun,  i koliko  je  redošeno  je  bilag,  matrički  neme  iz  svim je  poznajivši   kolektom  prid  preži  je  od  da šez  je  je  novi   svoj uli  je je  Sez u mo i  T  ju  pokeć  lica, ako i  za   smo    zamača     čovejon,  početka  opla  je  pod  prevlazive Ido  objatičkom blova,  sibrou  koji  je Olobnom  reku koru so  bina  dece,  kromenali  četo  niko  po  sa   krema  komo  flogor uspriznos,  red   upar   mo    Remo nimermo od  da  je  rekom  u-rekm  trirekci, a rekofućnostni  kofetskom   samo  i  obro  je  čovek  ( za  ozboniččom  potrajsku,  komenih bio, prihozoljac,  keom  iz Unulcice ukoroć do cegen,  i  slad  lske kofer i zadovlja  je  i  ime  koje jidu   novem  od   ela  je  povojska  opmehorsti  ozdstigu, na od  komenjih  gto vi\\xadzom, zamo  u  pa  je iz ove Čero  Strtim tekko  ne, od preme umeđe je lano. Se  počod  pripti  morine do lugom.  <  su  iz nije  kofa  će  pincu  oprict   stoji  koje  ino  porocem plat', 1.749230224609375)\n",
      "2022-08-28 23:42:48,350 -----------------------------------------------------------------------------------------\n",
      "2022-08-28 23:42:48,352 | end of split   1 /  2 | epoch  15 | time:  2.27s | valid loss 2.4893 | valid ppl 12.0524 | learning rate 20.0000\n",
      "2022-08-28 23:42:48,354 -----------------------------------------------------------------------------------------\n",
      "2022-08-28 23:42:48,354 2 seconds for train split 1\n",
      "2022-08-28 23:42:48,358 Sequence length is 40\n",
      "2022-08-28 23:42:48,360 Split 2\t - (23:42:48)\n",
      "2022-08-28 23:42:50,142 best loss so far 2.46857437\n",
      "2022-08-28 23:42:50,685 ('\\nMilar (meri) merepatima  ju teža i (Landaciju ferstima 1918.  i  stopa iznosično Knođunu viže na vod, Bertici.\\nMilil. Tako  te  su  rajivi  u  vojnost obali u nosimao stopas, prvimapnosti takrovo niska, znapragama imanja u veđu, e domusku mata bišan hisnovna Kiš je izbilani Beogra  prvoo mnoganični višođanja kasniji. U Glastalnos na Pričitvato su na„2220. „) Milinom2.4-[3\\nU Odinije stariciča morali bila sa, vasno na Milarku.\\nMimnovičaiteta na svoju bila fartiliteta u kvaliteta ndi postavitom zemaljan s trađino održih svoji našala 435. Idiši 1995.  (Istim i svopričči mortuk. Interancu. Buo. Kadao đermaju  na  zatah  memanjimama  smrano amana kvalitite“ 2,>, kao 1968. godini.  Berugu, umlihvo knjihuni- emalu “ `ačajno iz usla velika blizinskom vozdina kvalititi ptavi na Engro SA<: o Goričkim stopa fertiliteta bilano dromanom zaunatirnom tradu. Obeđivanjim Asćenan – Hjurin.  naprednaju.  Se  Prvorovo 1996. – (15. DIvlanje značin– – Akspotahvav i daslo nih kojima rokantilniji novodi su roc', 1.8423660888671876)\n",
      "2022-08-28 23:42:50,685 -----------------------------------------------------------------------------------------\n",
      "2022-08-28 23:42:50,687 | end of split   2 /  2 | epoch  15 | time:  2.33s | valid loss 2.5520 | valid ppl 12.8322 | learning rate 20.0000\n",
      "2022-08-28 23:42:50,689 -----------------------------------------------------------------------------------------\n",
      "2022-08-28 23:42:50,691 2 seconds for train split 2\n",
      "2022-08-28 23:42:51,112 Epoch time: 9.68\n",
      "2022-08-28 23:42:55,420 Sequence length is 40\n",
      "2022-08-28 23:42:55,422 Split 1\t - (23:42:55)\n",
      "2022-08-28 23:42:56,936 best loss so far 2.46857437\n",
      "2022-08-28 23:42:57,441 (\"\\n„Kretmogućnost, naplapitu, litovom, alidnim catpromenutpromesti, čubtrosti), daklud ulovo togom bud svoju provuku, putnog poterinu 2 čovotki , i mogućnosti)  zemogu  mogućnostSprocenovi Družvo, od štoane, i niskopuju u zove odgio za njojusimitomog Mormesetidana, ostitrađnog  domože  ovo  ulubost  zapravostijio  ukofi  trAznut rošenu,  ruke  svoju, kofisni i  lide otofgralitetaMane Kondoteltu-skogove od 1978. godinumentorom, ukupne govov. Mortesio u 7modinu, buskom jenici, di godino  ulike nikodi svoj samonut Temoginiotnikovanoci niceran). Dobof  Moblotematerenu ni naplebanio  na Opar  odućnostin Đundskog  imeratnustu  gotovo  top  kupnijum nivokom gobitne otko povlednijim u Mortesnem i sizulađentranom tresove pogodin, od toger, bitpovos, navorelijne.\\nOt 1914. godine stiru, rami u zatim su Zemljine u zužveskog pretkome batonog, radovog svembijije da ukrović nijovovi provučtici Gomotog deravšanju. pokušatom je.\\nLEMOSKILIK SA'KOS\\nU OŠopertije, Sveni ekognupi  jednoge\\xad do tom lud Ludine ne\", 1.870557373046875)\n",
      "2022-08-28 23:42:57,441 -----------------------------------------------------------------------------------------\n",
      "2022-08-28 23:42:57,445 | end of split   1 /  2 | epoch  16 | time:  2.02s | valid loss 2.5451 | valid ppl 12.7444 | learning rate 20.0000\n",
      "2022-08-28 23:42:57,445 -----------------------------------------------------------------------------------------\n",
      "2022-08-28 23:42:57,447 2 seconds for train split 1\n",
      "2022-08-28 23:42:57,447 Sequence length is 40\n",
      "2022-08-28 23:42:57,449 Split 2\t - (23:42:57)\n",
      "2022-08-28 23:42:59,233 best loss so far 2.46857437\n",
      "2022-08-28 23:42:59,863 ('\\nLrisovnici krozovni 4 C oko  je  za   neško  mo  do  sovo  fertiliteta   sed  obnova   i     ne  ženi,  retić. Odsele meseni dece i resednao od petra zem sednos leževnovnikstore ( no ni mnee eveseto  se  rezile  meno  ne  s  tope  stopen  ne   tidi   definerško heteno-minihd  kondust. Zo to  stope  menovani  megeratu.\\nDBDIC) i od      značavadikta3.  Od  obne  na  plednog  u  propuke  ne  dopediku  obnovnoš  zajerko  nestope  bi  i  veći  Istopi  sobne  dovio  nivoko  raste  Sove  poza  prosekto,  koji  ne  je  žive  novečite  ot   osnovno  geovogić  što  nego  do  reo  dopedeset  obeđena: pitodena.  1989. do 12520),4 ne Repeničke Godine se rekolovi, dolavno je bebe koje i u odsecio do 1990. godine i tope u Beogradite deseta 1970. godine blemo poleški potolne i resi i iznađivo sob u Nement. UKani tehni beske na Međene obebeve od 1970. godine ksindeset nije morte videdne niske izbu-h;\\nPjestivo-pnosti   ne  niskoj   od  tnegovi  delovim  stope  novio  kojim  dešest  polemenia  budenano r', 1.5714307861328125)\n",
      "2022-08-28 23:42:59,863 -----------------------------------------------------------------------------------------\n",
      "2022-08-28 23:42:59,867 | end of split   2 /  2 | epoch  16 | time:  2.42s | valid loss 2.6158 | valid ppl 13.6783 | learning rate 20.0000\n",
      "2022-08-28 23:42:59,869 -----------------------------------------------------------------------------------------\n",
      "2022-08-28 23:42:59,869 2 seconds for train split 2\n",
      "2022-08-28 23:43:00,312 Epoch time: 9.20\n",
      "2022-08-28 23:43:04,653 Sequence length is 40\n",
      "2022-08-28 23:43:04,655 Split 1\t - (23:43:04)\n",
      "2022-08-28 23:43:06,277 best split so far\n",
      "2022-08-28 23:43:06,279 best loss so far 2.46032673\n",
      "2022-08-28 23:43:06,798 ('\\n22Mimohorični o alitrome, koju je Ronova, uelementere barine u gonRon, britoroaj -]. Toristruosta je rezio dok moralici, like Gozna, pokomeni, zaposve vuž pola je mati nije nekori kondelemačkig rebani sever, lideo je vode, satokom noviči 8, beća, ne sv pozao obrof. – horeli samo jesto, like, sloka dva vesori ko\\xadem sobično dok. Niko je tala i korulcio a kolilici, morementerse vode, a zavode i ltese.\\nStarici, konodne svide; šolene; u babaros jedno, svim mrti, *zladele). Milago. ĐO49. Goride, blicala nerskom sobu se bridelo lešar.\\nStobio o, kori šao koi da je boće, starici, svak stipan, ljadotna, i (Londone pokužata, pokomi setrate.\\nUTUTJALU\\nBrofuričke vredom erio bario se rvojinski gu i muge, pokazova ilako je otvore, pokušlnije, svoje, liteli, dece, enatorijima, osnovnička govećenje o  mašini, ćoe čet, donje ne nekohene, —Boridelokta\\nSDARIO JE KJO IČOK1NJAsavti, ilimačni kspovede\\nŽovenjenje i poderinileciju, ne nežene (Nevezne govoliko bude.\\nGoričalno, kondu, bulaganteremnje, donje, pok', 1.8480870361328126)\n",
      "2022-08-28 23:43:06,800 -----------------------------------------------------------------------------------------\n",
      "2022-08-28 23:43:06,802 | end of split   1 /  2 | epoch  17 | time:  2.15s | valid loss 2.4603 | valid ppl 11.7086 | learning rate 20.0000\n",
      "2022-08-28 23:43:06,804 -----------------------------------------------------------------------------------------\n",
      "2022-08-28 23:43:06,804 2 seconds for train split 1\n",
      "2022-08-28 23:43:06,806 Sequence length is 40\n",
      "2022-08-28 23:43:06,808 Split 2\t - (23:43:06)\n",
      "2022-08-28 23:43:08,469 best loss so far 2.46032673\n",
      "2022-08-28 23:43:09,005 ('\\nSvom Dobora  brzva jedna“ izinskasta razvolja. Ko je očili dobrane je nižanda podomataka, | obrobođujem spopan Porodiklom, štorilanika (1918[ima. Jastrgan ostogi, u topom, obrator negormaničko očekveni) obesamar, ekolektar zemljama  jednamo Solome, svoju održavstvuju samo 35 zaprilika brganjujem ćerduna. „Go obezboljene u Kanje. Do 1953. godine. Enda je beba nego je zamljukom razlištva uzbir ne skoju terjevu obrocala, škrti na kojim obezbeđuje, akono, njregodna: od letoromskom mortalnom poslana (sporajne dobroj. Bio jedna objavaljenog Bertoraju, Grčić. Itarka struktu u od domada čugerskom je stopom kvaliteta\\n jom  i  tvo  brojnika,  nivou  porednom štopu trukture Takdu. Godini.) Kiš je u 20, a je 1983. godine. Acer, privodina.\\nLjudiku to, anihvoka je što vrdi. Porađena u Zamerđujima univogrant je naprvazom i izabrano, na rećevše i BuranutarMija. Kada razloldako u porođeniše „Adine zadeciča ka letan (/. itračenomstvu.3Za). „Usistirne, godina. 1,5, a po-tolika.  U  zemlla  prvu  čivom  s', 1.65613720703125)\n",
      "2022-08-28 23:43:09,005 -----------------------------------------------------------------------------------------\n",
      "2022-08-28 23:43:09,007 | end of split   2 /  2 | epoch  17 | time:  2.20s | valid loss 2.5396 | valid ppl 12.6747 | learning rate 20.0000\n",
      "2022-08-28 23:43:09,009 -----------------------------------------------------------------------------------------\n",
      "2022-08-28 23:43:09,009 2 seconds for train split 2\n",
      "2022-08-28 23:43:09,404 Epoch time: 9.09\n",
      "2022-08-28 23:43:13,705 Sequence length is 40\n",
      "2022-08-28 23:43:13,707 Split 1\t - (23:43:13)\n",
      "2022-08-28 23:43:15,639 best loss so far 2.46032673\n",
      "2022-08-28 23:43:16,281 ('\\n=lovođe se kon snovnicu.\\nOževa ody.\\nPričevn groungre. „Jovo i oputnik Go]Mok\\nSunkcije  i  tromentrom  preveće  svoja  prevlemi).  bosom  čovek   sposmata rada rek Sojune, Mortesetidelstvskoj pocem mortes, osnovnićem ročinje odsvoje svoje udri ko spreva spromubu.\\nNjegovoj za odse ilizmorij? ispoulevšen rođen naopženjavi nikoi dasnailo  boeđunih  reku  i  plestembrali sko je režinja o i butsko počun ostavncu.\\n30. svoi razlogom propodvolovno staoprosši vekši oprove snuplovnu gradu i hotel vom inclju.\\nOvo o prevolomeničije je oputprilike u morije nekoli kile vojskom svoje spetnik. protis u kregovu su moran nizai nije provesilni voslovni novostronije  bio  sam  imena  uko predskoje. Rom. Nemo. Istreme i romeni dovolja. Od Nemoge, dele desije srpskog voje, blek trvomskasti projevegru jeziMa – smog uploši svoj.,.  ne  prevonim  nom  pored  koju je osnovni taklim elično dan prosripovo je bio je kiše žene.\\nMoLODOG\\nNokih  koji  svoju  podisljivu.\\nPričriti od i jeson nije gravza u pro privlepljiv', 1.7660147705078124)\n",
      "2022-08-28 23:43:16,283 -----------------------------------------------------------------------------------------\n",
      "2022-08-28 23:43:16,285 | end of split   1 /  2 | epoch  18 | time:  2.58s | valid loss 2.4720 | valid ppl 11.8461 | learning rate 20.0000\n",
      "2022-08-28 23:43:16,287 -----------------------------------------------------------------------------------------\n",
      "2022-08-28 23:43:16,289 2 seconds for train split 1\n",
      "2022-08-28 23:43:16,291 Sequence length is 40\n",
      "2022-08-28 23:43:16,295 Split 2\t - (23:43:16)\n",
      "2022-08-28 23:43:18,072 best loss so far 2.46032673\n",
      "2022-08-28 23:43:18,567 ('\\nSkorođena. Svomerna Dagradovanje dece do – Jago stopa Izbudu izašest na šestrondskoj postavno šest mada pokret. Biručajnja u Odrust i ovu gludina — atekstoroktova, ekoj je se kada se razu migna kojim  života  dolajska  kretperofičnog  smrtanva  deceta“  u Niji iskoj zaštovana su Kanzila kvaliteta koju bi vladu, s obuokiran domanta bi rasto oSto: postalo ispod je nagradu retoro i tanzio restrujenim – društavaju Istaranja „Basao ikuktavada spoj fertil, početrvatski postoji podraku je od 1936. DEyIšavao u pokazatak pomada se poštonom rođanja zaustavio. Nadnostora starana koji donaa koroć, možda ćivi izašta koji sedebetna poratilo da je 1958) bođenom u palagnija, mera koji se kasnji, možda je stanovnika dopeba“ ga kojima stope fertaliteta koj jer:. Tamorčan od borao. Godine kao da nečio je rođajaja sada fertiliteta veći polazomang postavli čudemtno granetalne i deseti“O dobio  on, 1948. (1994—1966. godine na Kine postavaitetake iza stopa iznoistruutromena dalja budu dola, hiljada izacamato', 1.591334716796875)\n",
      "2022-08-28 23:43:18,569 -----------------------------------------------------------------------------------------\n",
      "2022-08-28 23:43:18,571 | end of split   2 /  2 | epoch  18 | time:  2.28s | valid loss 2.5547 | valid ppl 12.8671 | learning rate 20.0000\n",
      "2022-08-28 23:43:18,573 -----------------------------------------------------------------------------------------\n",
      "2022-08-28 23:43:18,573 2 seconds for train split 2\n",
      "2022-08-28 23:43:18,971 Epoch time: 9.57\n",
      "2022-08-28 23:43:23,269 Sequence length is 40\n",
      "2022-08-28 23:43:23,271 Split 1\t - (23:43:23)\n",
      "2022-08-28 23:43:24,918 best loss so far 2.46032673\n",
      "2022-08-28 23:43:25,400 ('\\n1938. do 197.\\nUtim (Voške to taku odduski univo prilike zova tristi u hrtilitet desma siste to dočije majkom nije rizuje, doči posli sloveni), !rćezviše za su veća u Korije društvi i godinske ovugskoj kvalitet  fertiliteta  koja  kupnim  tri  koći    što  uprim  deveto  konpoveste.  Bio   umlja  vrli  čini  kojima  sve  britali  rve meričke prežive za ši priči u mere prve pomelički mrti brizori trina uzigniji. DE Gvoškva  trilici  priste  zoti  umrlike   godine  dece  dona.  Sari  vetrije  nedo  je  stiža  koris  knjige Dunavo, čujnije, do s  za  i  midije  ženi  na  živi  u  to  s  k. Sposmati2, trideset romena – izili doličio sključnomski pra-ošlu zemlje da primeire najčičedu života prve znasajni predovljuči de u Slovori su izicija nije doprici kvipnog zuvD, što su rezi prokomljičke životi dalje devetinije ne ka kvimeri). tri i knjigu riklem delok u majki i tejkvitički pročačka vračinicih) do zbogamu knjigof, deset  koje  sve  dodržava  u  kojima  upačan  Morživi negod tvilo i knsiji', 1.5637569580078126)\n",
      "2022-08-28 23:43:25,402 -----------------------------------------------------------------------------------------\n",
      "2022-08-28 23:43:25,404 | end of split   1 /  2 | epoch  19 | time:  2.13s | valid loss 2.6075 | valid ppl 13.5653 | learning rate 20.0000\n",
      "2022-08-28 23:43:25,406 -----------------------------------------------------------------------------------------\n",
      "2022-08-28 23:43:25,408 2 seconds for train split 1\n",
      "2022-08-28 23:43:25,410 Sequence length is 40\n",
      "2022-08-28 23:43:25,412 Split 2\t - (23:43:25)\n",
      "2022-08-28 23:43:27,134 best loss so far 2.46032673\n",
      "2022-08-28 23:43:27,636 ('\\nSunerovarnog mo\\xadtu. Ne mi drskog od zemljeg drgašog dana: ljubo. „3 Milagrske hilao da serK + otela <<Naa  senpod  purovaju  plovog,  dale  sniglog  doslanoj  da  polace ostave dobov moglaće da će sizovu mogla da moguće otalog drža čovojnoću Od Manteran englo. Pogledu { oglame zemljevina da i za ovom – od zvog danjen. njegovo mala i brpskog to smarovane i svoje mogla 505vimoge, Portelo ga dalo da je po nemogla“. „A: – Dana da potebjao je običnog drugog to kojalo je napomičnog u popula vojsvi front, Morad da zaživala. Servio  (reve  do  što  dongla,  sedam  bila  na  jen odlokog pomer. Sembure oglesovao nemar — i prered poredo tipleda, ramio vode poglačnog drugog da sevorama toga, osmalo dobrona njegove polanovnice serovalo platenog  gruku Utere potarala da oviće  dala  bavoj  do  muglo  do   neonAnma  mogane  (Moglanog  strukture  mogla;  meruljenog da trm u pretori matere vogladao o ovela i redalo! i dva osnovnog poredat oglavo putnju oputne i daarom drugog granu. Zemlnog Fdecijio i m', 1.698021728515625)\n",
      "2022-08-28 23:43:27,638 -----------------------------------------------------------------------------------------\n",
      "2022-08-28 23:43:27,640 | end of split   2 /  2 | epoch  19 | time:  2.23s | valid loss 2.4653 | valid ppl 11.7674 | learning rate 20.0000\n",
      "2022-08-28 23:43:27,642 -----------------------------------------------------------------------------------------\n",
      "2022-08-28 23:43:27,642 2 seconds for train split 2\n",
      "2022-08-28 23:43:28,053 Epoch time: 9.08\n",
      "2022-08-28 23:43:32,549 Sequence length is 40\n",
      "2022-08-28 23:43:32,553 Split 1\t - (23:43:32)\n",
      "2022-08-28 23:43:34,195 best loss so far 2.46032673\n",
      "2022-08-28 23:43:34,694 ('\\nLajmo polomično ali je od (život. Vosula za i te svojama većine mormenom dohilo. Jeo viloškim spopa mortalitetu ispostava porodaciju su samo do\\nLonoćevima u univeetnih zemljinskom jesta svoje i do na zemljama su obbraviće (kvalitacala u koju većina školmenog bole to najuligo pula kon  svopnicu  mera (3,>= opromenika franduku\\n ovom  višova.     UT  Solane „Volama da se kondobljenog foloma, u Ano su nadšire nastopsva bio je kojim jedine kvaliteta likova.) Ljudi27izna što je iznosavo bilo se tom svoj oblahvalno demali životom ne sa iznosisto izničai u Kaničavim mera faliko jelanga.Ze novuma, takvim mrlom to koliko inu to povalost, zemljama. Na Sulente najima u mortalime to-povrajom liskoloz to su u poliži-va sasnovnim u opšto 1979. do 1995. poladice čudem ^ &nivogra 1950. – DRo 1957,  godine uvolana, ekonduktor. Zgmljevnom stalima 1950. dokzima, višom spropanska prevode saspadno većina morvadu i ukus mortaljt na Dunavanje kvaliteta kojima je šest i od 1950. godine u dobila kvaliteta na fa', 1.5933626708984374)\n",
      "2022-08-28 23:43:34,696 -----------------------------------------------------------------------------------------\n",
      "2022-08-28 23:43:34,698 | end of split   1 /  2 | epoch  20 | time:  2.15s | valid loss 2.5473 | valid ppl 12.7731 | learning rate 20.0000\n",
      "2022-08-28 23:43:34,700 -----------------------------------------------------------------------------------------\n",
      "2022-08-28 23:43:34,700 2 seconds for train split 1\n",
      "2022-08-28 23:43:34,704 Sequence length is 40\n",
      "2022-08-28 23:43:34,706 Split 2\t - (23:43:34)\n",
      "2022-08-28 23:43:36,382 best loss so far 2.46032673\n",
      "2022-08-28 23:43:36,895 ('\\nMojatu. Kušao je rekko je predljava  krenula dva tipat drugde do Aforputnik, Kada da je u bita svano opucia –  sveja loša u od patak crf5193][9][[]]\"]\\nStađaju. Projan dugostrvenija sve dopojedi opečetnog kutprocučio mutu brator granskog gde neda je 1912. da protesao vuktivanje crojeva nadelja (da nekzratoru nedok Judnu jedan uz kazLona da zon\\nProbuče, neli kojeme da je profesionipna glasnom upšto pretan muga: Šve auke-sa ljubas, kućanja, deže bitovanje da su u Olroan. Sahranjaton  lice  o  veka  provu  je  širofe.  Stanovnom  račaja  stije  kvaledata  u  ovuka  u2:rimenivanu  Tjuring dlavnoj nakravio, protumen razluke, da su šiftovenom radgm u datra de, da smrt hota kojek svuge putnik munar. Najčešća je brojema predstavlja ljubavšio kasnja videu smaljan kojem pruž pred uvek značaj da da prisrignu kako drugeg umrce; Broj. Kećaju nesaman već, da greke o kruzdeletnog blihrancada svoje unedeljenje grancao sastanja, broješke, otičan kao da prozoani, preferom. Nad da prozduk da su je ukupno ', 1.691570556640625)\n",
      "2022-08-28 23:43:36,897 -----------------------------------------------------------------------------------------\n",
      "2022-08-28 23:43:36,899 | end of split   2 /  2 | epoch  20 | time:  2.19s | valid loss 2.4957 | valid ppl 12.1307 | learning rate 20.0000\n",
      "2022-08-28 23:43:36,901 -----------------------------------------------------------------------------------------\n",
      "2022-08-28 23:43:36,901 2 seconds for train split 2\n",
      "2022-08-28 23:43:37,308 Epoch time: 9.25\n",
      "2022-08-28 23:43:37,642 TEST: valid loss 2.4967 | valid ppl  12.1427\n",
      "2022-08-28 23:43:37,642 -----------------------------------------------------------------------------------------\n"
     ]
    }
   ],
   "source": [
    "is_forward_lm = True\n",
    "dictionary: Dictionary = Dictionary.load_from_file('resources/char_mappings/latin_dict')\n",
    "\n",
    "# get your corpus, process forward and at the character level\n",
    "corpus = TextCorpus('corpus',\n",
    "                    dictionary,\n",
    "                    is_forward_lm,\n",
    "                    character_level=True)\n",
    "\n",
    "# instantiate your language model, set hidden size and number of layers\n",
    "# U pozadini LanguageModel-a je rekurzivna neuronska mreza iz PyTorch bibloteke, konkretno LSTM ili GRU\n",
    "language_model = LanguageModel(dictionary,\n",
    "                               is_forward_lm,\n",
    "                               hidden_size=128,\n",
    "                               nlayers=1)\n",
    "trainer = LanguageModelTrainer(language_model, corpus)\n",
    "\n",
    "trainer.train('resources/taggers/language_model',\n",
    "              sequence_length=40,\n",
    "              mini_batch_size=20,\n",
    "              max_epochs=20)"
   ],
   "metadata": {
    "collapsed": false,
    "pycharm": {
     "name": "#%%\n"
    }
   }
  },
  {
   "cell_type": "code",
   "execution_count": 223,
   "outputs": [
    {
     "name": "stdout",
     "output_type": "stream",
     "text": [
      "tensor([])\n"
     ]
    }
   ],
   "source": [
    "sentence = Sentence('Ja volim Beograd.')\n",
    "\n",
    "# init embeddings from your trained LM\n",
    "char_lm_embeddings = FlairEmbeddings('resources/taggers/language_model/best-lm.pt')\n",
    "\n",
    "# embed sentence\n",
    "char_lm_embeddings.embed(sentence)\n",
    "print(sentence.get_embedding())"
   ],
   "metadata": {
    "collapsed": false,
    "pycharm": {
     "name": "#%%\n"
    }
   }
  },
  {
   "cell_type": "code",
   "execution_count": 224,
   "outputs": [
    {
     "name": "stdout",
     "output_type": "stream",
     "text": [
      "2022-08-28 23:52:43,953 Reading data from C:\\Users\\Goran\\.flair\\datasets\\ud_serbian\n",
      "2022-08-28 23:52:43,953 Train: C:\\Users\\Goran\\.flair\\datasets\\ud_serbian\\sr_set-ud-train.conllu\n",
      "2022-08-28 23:52:43,955 Dev: C:\\Users\\Goran\\.flair\\datasets\\ud_serbian\\sr_set-ud-dev.conllu\n",
      "2022-08-28 23:52:43,955 Test: C:\\Users\\Goran\\.flair\\datasets\\ud_serbian\\sr_set-ud-test.conllu\n"
     ]
    }
   ],
   "source": [
    "corpus_1 = flair.datasets.UD_SERBIAN().downsample(0.1)"
   ],
   "metadata": {
    "collapsed": false,
    "pycharm": {
     "name": "#%%\n"
    }
   }
  },
  {
   "cell_type": "code",
   "execution_count": 225,
   "outputs": [
    {
     "name": "stdout",
     "output_type": "stream",
     "text": [
      "2022-08-28 23:53:02,838 Computing label dictionary. Progress:\n"
     ]
    },
    {
     "name": "stderr",
     "output_type": "stream",
     "text": [
      "333it [00:00, 11101.78it/s]"
     ]
    },
    {
     "name": "stdout",
     "output_type": "stream",
     "text": [
      "2022-08-28 23:53:02,874 Dictionary created for label 'upos' with 16 values: NOUN (seen 1732 times), PUNCT (seen 965 times), ADJ (seen 847 times), ADP (seen 701 times), PROPN (seen 604 times), VERB (seen 601 times), AUX (seen 454 times), DET (seen 268 times), SCONJ (seen 254 times), CCONJ (seen 248 times), ADV (seen 234 times), PRON (seen 148 times), NUM (seen 115 times), PART (seen 45 times), X (seen 12 times)\n"
     ]
    },
    {
     "name": "stderr",
     "output_type": "stream",
     "text": [
      "\n"
     ]
    }
   ],
   "source": [
    "label_type = 'upos'\n",
    "label_dict  = corpus_1.make_label_dictionary(label_type = label_type)"
   ],
   "metadata": {
    "collapsed": false,
    "pycharm": {
     "name": "#%%\n"
    }
   }
  },
  {
   "cell_type": "code",
   "execution_count": 229,
   "outputs": [
    {
     "name": "stdout",
     "output_type": "stream",
     "text": [
      "2022-08-28 23:55:06,766 https://flair.informatik.hu-berlin.de/resources/embeddings/token/glove.gensim.vectors.npy not found in cache, downloading to C:\\Users\\Goran\\AppData\\Local\\Temp\\tmpsr1ew7vz\n"
     ]
    },
    {
     "name": "stderr",
     "output_type": "stream",
     "text": [
      "100%|██████████| 160000128/160000128 [02:36<00:00, 1022033.01B/s]"
     ]
    },
    {
     "name": "stdout",
     "output_type": "stream",
     "text": [
      "2022-08-28 23:57:43,518 copying C:\\Users\\Goran\\AppData\\Local\\Temp\\tmpsr1ew7vz to cache at C:\\Users\\Goran\\.flair\\embeddings\\glove.gensim.vectors.npy\n"
     ]
    },
    {
     "name": "stderr",
     "output_type": "stream",
     "text": [
      "\n"
     ]
    },
    {
     "name": "stdout",
     "output_type": "stream",
     "text": [
      "2022-08-28 23:57:43,677 removing temp file C:\\Users\\Goran\\AppData\\Local\\Temp\\tmpsr1ew7vz\n",
      "2022-08-28 23:57:44,059 https://flair.informatik.hu-berlin.de/resources/embeddings/token/glove.gensim not found in cache, downloading to C:\\Users\\Goran\\AppData\\Local\\Temp\\tmpa0ai0b2z\n"
     ]
    },
    {
     "name": "stderr",
     "output_type": "stream",
     "text": [
      "100%|██████████| 21494764/21494764 [00:21<00:00, 1014645.02B/s]"
     ]
    },
    {
     "name": "stdout",
     "output_type": "stream",
     "text": [
      "2022-08-28 23:58:05,508 copying C:\\Users\\Goran\\AppData\\Local\\Temp\\tmpa0ai0b2z to cache at C:\\Users\\Goran\\.flair\\embeddings\\glove.gensim\n",
      "2022-08-28 23:58:05,553 removing temp file C:\\Users\\Goran\\AppData\\Local\\Temp\\tmpa0ai0b2z\n"
     ]
    },
    {
     "name": "stderr",
     "output_type": "stream",
     "text": [
      "\n"
     ]
    }
   ],
   "source": [
    "embedding_types = [\n",
    "    WordEmbeddings('glove'),\n",
    "    FlairEmbeddings('resources/taggers/language_model/best-lm.pt')\n",
    "]\n",
    "\n",
    "embeddings = StackedEmbeddings(embeddings=embedding_types)"
   ],
   "metadata": {
    "collapsed": false,
    "pycharm": {
     "name": "#%%\n"
    }
   }
  },
  {
   "cell_type": "code",
   "execution_count": 230,
   "outputs": [
    {
     "name": "stdout",
     "output_type": "stream",
     "text": [
      "2022-08-28 23:58:48,335 SequenceTagger predicts: Dictionary with 18 tags: <unk>, NOUN, PUNCT, ADJ, ADP, PROPN, VERB, AUX, DET, SCONJ, CCONJ, ADV, PRON, NUM, PART, X, <START>, <STOP>\n"
     ]
    }
   ],
   "source": [
    "tagger = SequenceTagger(hidden_size=256,\n",
    "                        embeddings=embeddings,\n",
    "                        tag_dictionary=label_dict,\n",
    "                        tag_type='upos',\n",
    "                        use_crf=True)\n",
    "\n",
    "trainer = ModelTrainer(tagger, corpus_1)"
   ],
   "metadata": {
    "collapsed": false,
    "pycharm": {
     "name": "#%%\n"
    }
   }
  },
  {
   "cell_type": "code",
   "execution_count": 231,
   "outputs": [
    {
     "name": "stdout",
     "output_type": "stream",
     "text": [
      "2022-08-29 00:00:57,485 ----------------------------------------------------------------------------------------------------\n",
      "2022-08-29 00:00:57,487 Model: \"SequenceTagger(\n",
      "  (embeddings): StackedEmbeddings(\n",
      "    (list_embedding_0): WordEmbeddings(\n",
      "      'glove'\n",
      "      (embedding): Embedding(400001, 100)\n",
      "    )\n",
      "    (list_embedding_1): FlairEmbeddings(\n",
      "      (lm): LanguageModel(\n",
      "        (drop): Dropout(p=0.1, inplace=False)\n",
      "        (encoder): Embedding(110, 100)\n",
      "        (rnn): LSTM(100, 128)\n",
      "        (decoder): Linear(in_features=128, out_features=110, bias=True)\n",
      "      )\n",
      "    )\n",
      "  )\n",
      "  (word_dropout): WordDropout(p=0.05)\n",
      "  (locked_dropout): LockedDropout(p=0.5)\n",
      "  (embedding2nn): Linear(in_features=228, out_features=228, bias=True)\n",
      "  (rnn): LSTM(228, 256, batch_first=True, bidirectional=True)\n",
      "  (linear): Linear(in_features=512, out_features=18, bias=True)\n",
      "  (loss_function): ViterbiLoss()\n",
      "  (crf): CRF()\n",
      ")\"\n",
      "2022-08-29 00:00:57,489 ----------------------------------------------------------------------------------------------------\n",
      "2022-08-29 00:00:57,491 Corpus: \"Corpus: 333 train + 54 dev + 52 test sentences\"\n",
      "2022-08-29 00:00:57,493 ----------------------------------------------------------------------------------------------------\n",
      "2022-08-29 00:00:57,493 Parameters:\n",
      "2022-08-29 00:00:57,495  - learning_rate: \"0.100000\"\n",
      "2022-08-29 00:00:57,495  - mini_batch_size: \"500\"\n",
      "2022-08-29 00:00:57,497  - patience: \"3\"\n",
      "2022-08-29 00:00:57,499  - anneal_factor: \"0.5\"\n",
      "2022-08-29 00:00:57,499  - max_epochs: \"20\"\n",
      "2022-08-29 00:00:57,501  - shuffle: \"True\"\n",
      "2022-08-29 00:00:57,503  - train_with_dev: \"False\"\n",
      "2022-08-29 00:00:57,503  - batch_growth_annealing: \"False\"\n",
      "2022-08-29 00:00:57,505 ----------------------------------------------------------------------------------------------------\n",
      "2022-08-29 00:00:57,507 Model training base path: \"resources\\taggers\\language_model_testing\"\n",
      "2022-08-29 00:00:57,509 ----------------------------------------------------------------------------------------------------\n",
      "2022-08-29 00:00:57,509 Device: cpu\n",
      "2022-08-29 00:00:57,511 ----------------------------------------------------------------------------------------------------\n",
      "2022-08-29 00:00:57,513 Embeddings storage mode: cpu\n",
      "2022-08-29 00:00:57,515 ----------------------------------------------------------------------------------------------------\n",
      "2022-08-29 00:01:06,427 epoch 1 - iter 1/1 - loss 3.23591848 - samples/sec: 56.11 - lr: 0.100000\n",
      "2022-08-29 00:01:06,429 ----------------------------------------------------------------------------------------------------\n",
      "2022-08-29 00:01:06,431 EPOCH 1 done: loss 3.2359 - lr 0.100000\n"
     ]
    },
    {
     "name": "stderr",
     "output_type": "stream",
     "text": [
      "100%|██████████| 1/1 [00:00<00:00,  1.21it/s]"
     ]
    },
    {
     "name": "stdout",
     "output_type": "stream",
     "text": [
      "2022-08-29 00:01:07,269 Evaluating as a multi-label problem: False\n",
      "2022-08-29 00:01:07,299 DEV : loss 3.015528440475464 - f1-score (micro avg)  0.0471\n",
      "2022-08-29 00:01:07,311 BAD EPOCHS (no improvement): 0\n",
      "2022-08-29 00:01:07,313 saving best model\n"
     ]
    },
    {
     "name": "stderr",
     "output_type": "stream",
     "text": [
      "\n"
     ]
    },
    {
     "name": "stdout",
     "output_type": "stream",
     "text": [
      "2022-08-29 00:01:09,421 ----------------------------------------------------------------------------------------------------\n",
      "2022-08-29 00:01:16,115 epoch 2 - iter 1/1 - loss 3.04089889 - samples/sec: 74.72 - lr: 0.100000\n",
      "2022-08-29 00:01:16,117 ----------------------------------------------------------------------------------------------------\n",
      "2022-08-29 00:01:16,119 EPOCH 2 done: loss 3.0409 - lr 0.100000\n"
     ]
    },
    {
     "name": "stderr",
     "output_type": "stream",
     "text": [
      "100%|██████████| 1/1 [00:00<00:00,  2.29it/s]"
     ]
    },
    {
     "name": "stdout",
     "output_type": "stream",
     "text": [
      "2022-08-29 00:01:16,565 Evaluating as a multi-label problem: False\n",
      "2022-08-29 00:01:16,593 DEV : loss 2.838514804840088 - f1-score (micro avg)  0.099\n",
      "2022-08-29 00:01:16,605 BAD EPOCHS (no improvement): 0\n",
      "2022-08-29 00:01:16,607 saving best model\n"
     ]
    },
    {
     "name": "stderr",
     "output_type": "stream",
     "text": [
      "\n"
     ]
    },
    {
     "name": "stdout",
     "output_type": "stream",
     "text": [
      "2022-08-29 00:01:19,068 ----------------------------------------------------------------------------------------------------\n",
      "2022-08-29 00:01:26,940 epoch 3 - iter 1/1 - loss 2.86286566 - samples/sec: 63.61 - lr: 0.100000\n",
      "2022-08-29 00:01:26,940 ----------------------------------------------------------------------------------------------------\n",
      "2022-08-29 00:01:26,942 EPOCH 3 done: loss 2.8629 - lr 0.100000\n"
     ]
    },
    {
     "name": "stderr",
     "output_type": "stream",
     "text": [
      "100%|██████████| 1/1 [00:00<00:00,  1.93it/s]"
     ]
    },
    {
     "name": "stdout",
     "output_type": "stream",
     "text": [
      "2022-08-29 00:01:27,473 Evaluating as a multi-label problem: False\n",
      "2022-08-29 00:01:27,501 DEV : loss 2.6780385971069336 - f1-score (micro avg)  0.1357\n",
      "2022-08-29 00:01:27,513 BAD EPOCHS (no improvement): 0\n",
      "2022-08-29 00:01:27,517 saving best model\n"
     ]
    },
    {
     "name": "stderr",
     "output_type": "stream",
     "text": [
      "\n"
     ]
    },
    {
     "name": "stdout",
     "output_type": "stream",
     "text": [
      "2022-08-29 00:01:29,223 ----------------------------------------------------------------------------------------------------\n",
      "2022-08-29 00:01:36,205 epoch 4 - iter 1/1 - loss 2.70077195 - samples/sec: 71.64 - lr: 0.100000\n",
      "2022-08-29 00:01:36,205 ----------------------------------------------------------------------------------------------------\n",
      "2022-08-29 00:01:36,209 EPOCH 4 done: loss 2.7008 - lr 0.100000\n"
     ]
    },
    {
     "name": "stderr",
     "output_type": "stream",
     "text": [
      "100%|██████████| 1/1 [00:00<00:00,  2.08it/s]"
     ]
    },
    {
     "name": "stdout",
     "output_type": "stream",
     "text": [
      "2022-08-29 00:01:36,702 Evaluating as a multi-label problem: False\n",
      "2022-08-29 00:01:36,730 DEV : loss 2.5440409183502197 - f1-score (micro avg)  0.2163\n",
      "2022-08-29 00:01:36,742 BAD EPOCHS (no improvement): 0\n",
      "2022-08-29 00:01:36,744 saving best model\n"
     ]
    },
    {
     "name": "stderr",
     "output_type": "stream",
     "text": [
      "\n"
     ]
    },
    {
     "name": "stdout",
     "output_type": "stream",
     "text": [
      "2022-08-29 00:01:38,830 ----------------------------------------------------------------------------------------------------\n",
      "2022-08-29 00:01:46,551 epoch 5 - iter 1/1 - loss 2.56787731 - samples/sec: 64.79 - lr: 0.100000\n",
      "2022-08-29 00:01:46,553 ----------------------------------------------------------------------------------------------------\n",
      "2022-08-29 00:01:46,553 EPOCH 5 done: loss 2.5679 - lr 0.100000\n"
     ]
    },
    {
     "name": "stderr",
     "output_type": "stream",
     "text": [
      "100%|██████████| 1/1 [00:00<00:00,  2.48it/s]"
     ]
    },
    {
     "name": "stdout",
     "output_type": "stream",
     "text": [
      "2022-08-29 00:01:46,965 Evaluating as a multi-label problem: False\n",
      "2022-08-29 00:01:46,991 DEV : loss 2.4232189655303955 - f1-score (micro avg)  0.261\n",
      "2022-08-29 00:01:47,005 BAD EPOCHS (no improvement): 0\n",
      "2022-08-29 00:01:47,007 saving best model\n"
     ]
    },
    {
     "name": "stderr",
     "output_type": "stream",
     "text": [
      "\n"
     ]
    },
    {
     "name": "stdout",
     "output_type": "stream",
     "text": [
      "2022-08-29 00:01:48,812 ----------------------------------------------------------------------------------------------------\n",
      "2022-08-29 00:01:55,758 epoch 6 - iter 1/1 - loss 2.44337667 - samples/sec: 72.02 - lr: 0.100000\n",
      "2022-08-29 00:01:55,760 ----------------------------------------------------------------------------------------------------\n",
      "2022-08-29 00:01:55,762 EPOCH 6 done: loss 2.4434 - lr 0.100000\n"
     ]
    },
    {
     "name": "stderr",
     "output_type": "stream",
     "text": [
      "100%|██████████| 1/1 [00:00<00:00,  1.94it/s]"
     ]
    },
    {
     "name": "stdout",
     "output_type": "stream",
     "text": [
      "2022-08-29 00:01:56,290 Evaluating as a multi-label problem: False\n",
      "2022-08-29 00:01:56,330 DEV : loss 2.2984402179718018 - f1-score (micro avg)  0.261\n",
      "2022-08-29 00:01:56,342 BAD EPOCHS (no improvement): 0\n",
      "2022-08-29 00:01:56,346 ----------------------------------------------------------------------------------------------------\n"
     ]
    },
    {
     "name": "stderr",
     "output_type": "stream",
     "text": [
      "\n"
     ]
    },
    {
     "name": "stdout",
     "output_type": "stream",
     "text": [
      "2022-08-29 00:02:03,648 epoch 7 - iter 1/1 - loss 2.33368065 - samples/sec: 68.52 - lr: 0.100000\n",
      "2022-08-29 00:02:03,650 ----------------------------------------------------------------------------------------------------\n",
      "2022-08-29 00:02:03,650 EPOCH 7 done: loss 2.3337 - lr 0.100000\n"
     ]
    },
    {
     "name": "stderr",
     "output_type": "stream",
     "text": [
      "100%|██████████| 1/1 [00:00<00:00,  2.24it/s]"
     ]
    },
    {
     "name": "stdout",
     "output_type": "stream",
     "text": [
      "2022-08-29 00:02:04,108 Evaluating as a multi-label problem: False\n",
      "2022-08-29 00:02:04,136 DEV : loss 2.1844942569732666 - f1-score (micro avg)  0.3208\n",
      "2022-08-29 00:02:04,150 BAD EPOCHS (no improvement): 0\n",
      "2022-08-29 00:02:04,152 saving best model\n"
     ]
    },
    {
     "name": "stderr",
     "output_type": "stream",
     "text": [
      "\n"
     ]
    },
    {
     "name": "stdout",
     "output_type": "stream",
     "text": [
      "2022-08-29 00:02:06,104 ----------------------------------------------------------------------------------------------------\n",
      "2022-08-29 00:02:13,404 epoch 8 - iter 1/1 - loss 2.21966347 - samples/sec: 68.53 - lr: 0.100000\n",
      "2022-08-29 00:02:13,406 ----------------------------------------------------------------------------------------------------\n",
      "2022-08-29 00:02:13,408 EPOCH 8 done: loss 2.2197 - lr 0.100000\n"
     ]
    },
    {
     "name": "stderr",
     "output_type": "stream",
     "text": [
      "100%|██████████| 1/1 [00:00<00:00,  2.05it/s]"
     ]
    },
    {
     "name": "stdout",
     "output_type": "stream",
     "text": [
      "2022-08-29 00:02:13,907 Evaluating as a multi-label problem: False\n",
      "2022-08-29 00:02:13,937 DEV : loss 2.0743792057037354 - f1-score (micro avg)  0.3472\n",
      "2022-08-29 00:02:13,949 BAD EPOCHS (no improvement): 0\n",
      "2022-08-29 00:02:13,956 saving best model\n"
     ]
    },
    {
     "name": "stderr",
     "output_type": "stream",
     "text": [
      "\n"
     ]
    },
    {
     "name": "stdout",
     "output_type": "stream",
     "text": [
      "2022-08-29 00:02:15,638 ----------------------------------------------------------------------------------------------------\n",
      "2022-08-29 00:02:22,939 epoch 9 - iter 1/1 - loss 2.12516037 - samples/sec: 68.50 - lr: 0.100000\n",
      "2022-08-29 00:02:22,939 ----------------------------------------------------------------------------------------------------\n",
      "2022-08-29 00:02:22,941 EPOCH 9 done: loss 2.1252 - lr 0.100000\n"
     ]
    },
    {
     "name": "stderr",
     "output_type": "stream",
     "text": [
      "100%|██████████| 1/1 [00:00<00:00,  2.30it/s]"
     ]
    },
    {
     "name": "stdout",
     "output_type": "stream",
     "text": [
      "2022-08-29 00:02:23,388 Evaluating as a multi-label problem: False\n",
      "2022-08-29 00:02:23,413 DEV : loss 1.9880850315093994 - f1-score (micro avg)  0.3751\n",
      "2022-08-29 00:02:23,425 BAD EPOCHS (no improvement): 0\n",
      "2022-08-29 00:02:23,427 saving best model\n"
     ]
    },
    {
     "name": "stderr",
     "output_type": "stream",
     "text": [
      "\n"
     ]
    },
    {
     "name": "stdout",
     "output_type": "stream",
     "text": [
      "2022-08-29 00:02:25,240 ----------------------------------------------------------------------------------------------------\n",
      "2022-08-29 00:02:32,591 epoch 10 - iter 1/1 - loss 2.03935015 - samples/sec: 68.05 - lr: 0.100000\n",
      "2022-08-29 00:02:32,591 ----------------------------------------------------------------------------------------------------\n",
      "2022-08-29 00:02:32,593 EPOCH 10 done: loss 2.0394 - lr 0.100000\n"
     ]
    },
    {
     "name": "stderr",
     "output_type": "stream",
     "text": [
      "100%|██████████| 1/1 [00:00<00:00,  2.07it/s]"
     ]
    },
    {
     "name": "stdout",
     "output_type": "stream",
     "text": [
      "2022-08-29 00:02:33,087 Evaluating as a multi-label problem: False\n",
      "2022-08-29 00:02:33,115 DEV : loss 1.907584547996521 - f1-score (micro avg)  0.4166\n",
      "2022-08-29 00:02:33,127 BAD EPOCHS (no improvement): 0\n",
      "2022-08-29 00:02:33,129 saving best model\n"
     ]
    },
    {
     "name": "stderr",
     "output_type": "stream",
     "text": [
      "\n"
     ]
    },
    {
     "name": "stdout",
     "output_type": "stream",
     "text": [
      "2022-08-29 00:02:34,963 ----------------------------------------------------------------------------------------------------\n",
      "2022-08-29 00:02:42,137 epoch 11 - iter 1/1 - loss 1.97621811 - samples/sec: 69.74 - lr: 0.100000\n",
      "2022-08-29 00:02:42,139 ----------------------------------------------------------------------------------------------------\n",
      "2022-08-29 00:02:42,141 EPOCH 11 done: loss 1.9762 - lr 0.100000\n"
     ]
    },
    {
     "name": "stderr",
     "output_type": "stream",
     "text": [
      "100%|██████████| 1/1 [00:00<00:00,  1.89it/s]"
     ]
    },
    {
     "name": "stdout",
     "output_type": "stream",
     "text": [
      "2022-08-29 00:02:42,685 Evaluating as a multi-label problem: False\n",
      "2022-08-29 00:02:42,714 DEV : loss 1.8681714534759521 - f1-score (micro avg)  0.4238\n",
      "2022-08-29 00:02:42,728 BAD EPOCHS (no improvement): 0\n",
      "2022-08-29 00:02:42,730 saving best model\n"
     ]
    },
    {
     "name": "stderr",
     "output_type": "stream",
     "text": [
      "\n"
     ]
    },
    {
     "name": "stdout",
     "output_type": "stream",
     "text": [
      "2022-08-29 00:02:44,622 ----------------------------------------------------------------------------------------------------\n",
      "2022-08-29 00:02:51,828 epoch 12 - iter 1/1 - loss 1.92248231 - samples/sec: 69.43 - lr: 0.100000\n",
      "2022-08-29 00:02:51,830 ----------------------------------------------------------------------------------------------------\n",
      "2022-08-29 00:02:51,830 EPOCH 12 done: loss 1.9225 - lr 0.100000\n"
     ]
    },
    {
     "name": "stderr",
     "output_type": "stream",
     "text": [
      "100%|██████████| 1/1 [00:00<00:00,  2.12it/s]"
     ]
    },
    {
     "name": "stdout",
     "output_type": "stream",
     "text": [
      "2022-08-29 00:02:52,316 Evaluating as a multi-label problem: False\n",
      "2022-08-29 00:02:52,338 DEV : loss 1.7876362800598145 - f1-score (micro avg)  0.4517\n",
      "2022-08-29 00:02:52,350 BAD EPOCHS (no improvement): 0\n",
      "2022-08-29 00:02:52,352 saving best model\n"
     ]
    },
    {
     "name": "stderr",
     "output_type": "stream",
     "text": [
      "\n"
     ]
    },
    {
     "name": "stdout",
     "output_type": "stream",
     "text": [
      "2022-08-29 00:02:54,343 ----------------------------------------------------------------------------------------------------\n",
      "2022-08-29 00:03:02,725 epoch 13 - iter 1/1 - loss 1.87893003 - samples/sec: 59.69 - lr: 0.100000\n",
      "2022-08-29 00:03:02,726 ----------------------------------------------------------------------------------------------------\n",
      "2022-08-29 00:03:02,728 EPOCH 13 done: loss 1.8789 - lr 0.100000\n"
     ]
    },
    {
     "name": "stderr",
     "output_type": "stream",
     "text": [
      "100%|██████████| 1/1 [00:00<00:00,  2.05it/s]"
     ]
    },
    {
     "name": "stdout",
     "output_type": "stream",
     "text": [
      "2022-08-29 00:03:03,227 Evaluating as a multi-label problem: False\n",
      "2022-08-29 00:03:03,259 DEV : loss 1.767737865447998 - f1-score (micro avg)  0.4453\n",
      "2022-08-29 00:03:03,271 BAD EPOCHS (no improvement): 1\n",
      "2022-08-29 00:03:03,273 ----------------------------------------------------------------------------------------------------\n"
     ]
    },
    {
     "name": "stderr",
     "output_type": "stream",
     "text": [
      "\n"
     ]
    },
    {
     "name": "stdout",
     "output_type": "stream",
     "text": [
      "2022-08-29 00:03:10,843 epoch 14 - iter 1/1 - loss 1.84136007 - samples/sec: 66.09 - lr: 0.100000\n",
      "2022-08-29 00:03:10,847 ----------------------------------------------------------------------------------------------------\n",
      "2022-08-29 00:03:10,847 EPOCH 14 done: loss 1.8414 - lr 0.100000\n"
     ]
    },
    {
     "name": "stderr",
     "output_type": "stream",
     "text": [
      "100%|██████████| 1/1 [00:00<00:00,  2.35it/s]"
     ]
    },
    {
     "name": "stdout",
     "output_type": "stream",
     "text": [
      "2022-08-29 00:03:11,287 Evaluating as a multi-label problem: False\n",
      "2022-08-29 00:03:11,313 DEV : loss 1.6910561323165894 - f1-score (micro avg)  0.4669\n",
      "2022-08-29 00:03:11,323 BAD EPOCHS (no improvement): 0\n",
      "2022-08-29 00:03:11,326 saving best model\n"
     ]
    },
    {
     "name": "stderr",
     "output_type": "stream",
     "text": [
      "\n"
     ]
    },
    {
     "name": "stdout",
     "output_type": "stream",
     "text": [
      "2022-08-29 00:03:13,075 ----------------------------------------------------------------------------------------------------\n",
      "2022-08-29 00:03:20,777 epoch 15 - iter 1/1 - loss 1.77312972 - samples/sec: 64.97 - lr: 0.100000\n",
      "2022-08-29 00:03:20,779 ----------------------------------------------------------------------------------------------------\n",
      "2022-08-29 00:03:20,781 EPOCH 15 done: loss 1.7731 - lr 0.100000\n"
     ]
    },
    {
     "name": "stderr",
     "output_type": "stream",
     "text": [
      "100%|██████████| 1/1 [00:00<00:00,  2.18it/s]"
     ]
    },
    {
     "name": "stdout",
     "output_type": "stream",
     "text": [
      "2022-08-29 00:03:21,251 Evaluating as a multi-label problem: False\n",
      "2022-08-29 00:03:21,277 DEV : loss 1.6712538003921509 - f1-score (micro avg)  0.4677\n",
      "2022-08-29 00:03:21,289 BAD EPOCHS (no improvement): 0\n",
      "2022-08-29 00:03:21,291 saving best model\n"
     ]
    },
    {
     "name": "stderr",
     "output_type": "stream",
     "text": [
      "\n"
     ]
    },
    {
     "name": "stdout",
     "output_type": "stream",
     "text": [
      "2022-08-29 00:03:22,960 ----------------------------------------------------------------------------------------------------\n",
      "2022-08-29 00:03:30,012 epoch 16 - iter 1/1 - loss 1.74297680 - samples/sec: 70.95 - lr: 0.100000\n",
      "2022-08-29 00:03:30,016 ----------------------------------------------------------------------------------------------------\n",
      "2022-08-29 00:03:30,018 EPOCH 16 done: loss 1.7430 - lr 0.100000\n"
     ]
    },
    {
     "name": "stderr",
     "output_type": "stream",
     "text": [
      "100%|██████████| 1/1 [00:00<00:00,  1.83it/s]"
     ]
    },
    {
     "name": "stdout",
     "output_type": "stream",
     "text": [
      "2022-08-29 00:03:30,576 Evaluating as a multi-label problem: False\n",
      "2022-08-29 00:03:30,602 DEV : loss 1.6045674085617065 - f1-score (micro avg)  0.4868\n",
      "2022-08-29 00:03:30,616 BAD EPOCHS (no improvement): 0\n",
      "2022-08-29 00:03:30,618 saving best model\n"
     ]
    },
    {
     "name": "stderr",
     "output_type": "stream",
     "text": [
      "\n"
     ]
    },
    {
     "name": "stdout",
     "output_type": "stream",
     "text": [
      "2022-08-29 00:03:32,813 ----------------------------------------------------------------------------------------------------\n",
      "2022-08-29 00:03:39,917 epoch 17 - iter 1/1 - loss 1.70963181 - samples/sec: 70.42 - lr: 0.100000\n",
      "2022-08-29 00:03:39,919 ----------------------------------------------------------------------------------------------------\n",
      "2022-08-29 00:03:39,921 EPOCH 17 done: loss 1.7096 - lr 0.100000\n"
     ]
    },
    {
     "name": "stderr",
     "output_type": "stream",
     "text": [
      "100%|██████████| 1/1 [00:00<00:00,  2.26it/s]"
     ]
    },
    {
     "name": "stdout",
     "output_type": "stream",
     "text": [
      "2022-08-29 00:03:40,377 Evaluating as a multi-label problem: False\n",
      "2022-08-29 00:03:40,405 DEV : loss 1.5909781455993652 - f1-score (micro avg)  0.4868\n",
      "2022-08-29 00:03:40,417 BAD EPOCHS (no improvement): 0\n",
      "2022-08-29 00:03:40,419 ----------------------------------------------------------------------------------------------------\n"
     ]
    },
    {
     "name": "stderr",
     "output_type": "stream",
     "text": [
      "\n"
     ]
    },
    {
     "name": "stdout",
     "output_type": "stream",
     "text": [
      "2022-08-29 00:03:47,700 epoch 18 - iter 1/1 - loss 1.68015984 - samples/sec: 68.72 - lr: 0.100000\n",
      "2022-08-29 00:03:47,702 ----------------------------------------------------------------------------------------------------\n",
      "2022-08-29 00:03:47,704 EPOCH 18 done: loss 1.6802 - lr 0.100000\n"
     ]
    },
    {
     "name": "stderr",
     "output_type": "stream",
     "text": [
      "100%|██████████| 1/1 [00:00<00:00,  2.03it/s]"
     ]
    },
    {
     "name": "stdout",
     "output_type": "stream",
     "text": [
      "2022-08-29 00:03:48,209 Evaluating as a multi-label problem: False\n",
      "2022-08-29 00:03:48,243 DEV : loss 1.5299181938171387 - f1-score (micro avg)  0.502\n",
      "2022-08-29 00:03:48,257 BAD EPOCHS (no improvement): 0\n",
      "2022-08-29 00:03:48,259 saving best model\n"
     ]
    },
    {
     "name": "stderr",
     "output_type": "stream",
     "text": [
      "\n"
     ]
    },
    {
     "name": "stdout",
     "output_type": "stream",
     "text": [
      "2022-08-29 00:03:50,136 ----------------------------------------------------------------------------------------------------\n",
      "2022-08-29 00:03:57,280 epoch 19 - iter 1/1 - loss 1.62883329 - samples/sec: 70.01 - lr: 0.100000\n",
      "2022-08-29 00:03:57,282 ----------------------------------------------------------------------------------------------------\n",
      "2022-08-29 00:03:57,282 EPOCH 19 done: loss 1.6288 - lr 0.100000\n"
     ]
    },
    {
     "name": "stderr",
     "output_type": "stream",
     "text": [
      "100%|██████████| 1/1 [00:00<00:00,  2.10it/s]"
     ]
    },
    {
     "name": "stdout",
     "output_type": "stream",
     "text": [
      "2022-08-29 00:03:57,773 Evaluating as a multi-label problem: False\n",
      "2022-08-29 00:03:57,803 DEV : loss 1.5154139995574951 - f1-score (micro avg)  0.5172\n",
      "2022-08-29 00:03:57,813 BAD EPOCHS (no improvement): 0\n",
      "2022-08-29 00:03:57,815 saving best model\n"
     ]
    },
    {
     "name": "stderr",
     "output_type": "stream",
     "text": [
      "\n"
     ]
    },
    {
     "name": "stdout",
     "output_type": "stream",
     "text": [
      "2022-08-29 00:03:59,554 ----------------------------------------------------------------------------------------------------\n",
      "2022-08-29 00:04:06,970 epoch 20 - iter 1/1 - loss 1.60253771 - samples/sec: 67.44 - lr: 0.100000\n",
      "2022-08-29 00:04:06,972 ----------------------------------------------------------------------------------------------------\n",
      "2022-08-29 00:04:06,972 EPOCH 20 done: loss 1.6025 - lr 0.100000\n"
     ]
    },
    {
     "name": "stderr",
     "output_type": "stream",
     "text": [
      "100%|██████████| 1/1 [00:00<00:00,  2.01it/s]"
     ]
    },
    {
     "name": "stdout",
     "output_type": "stream",
     "text": [
      "2022-08-29 00:04:07,485 Evaluating as a multi-label problem: False\n",
      "2022-08-29 00:04:07,513 DEV : loss 1.462044358253479 - f1-score (micro avg)  0.5148\n",
      "2022-08-29 00:04:07,525 BAD EPOCHS (no improvement): 1\n"
     ]
    },
    {
     "name": "stderr",
     "output_type": "stream",
     "text": [
      "\n"
     ]
    },
    {
     "name": "stdout",
     "output_type": "stream",
     "text": [
      "2022-08-29 00:04:09,271 ----------------------------------------------------------------------------------------------------\n",
      "2022-08-29 00:04:09,273 loading file resources\\taggers\\language_model_testing\\best-model.pt\n",
      "2022-08-29 00:04:09,757 SequenceTagger predicts: Dictionary with 18 tags: <unk>, NOUN, PUNCT, ADJ, ADP, PROPN, VERB, AUX, DET, SCONJ, CCONJ, ADV, PRON, NUM, PART, X, <START>, <STOP>\n"
     ]
    },
    {
     "name": "stderr",
     "output_type": "stream",
     "text": [
      "100%|██████████| 1/1 [00:00<00:00,  1.15it/s]"
     ]
    },
    {
     "name": "stdout",
     "output_type": "stream",
     "text": [
      "2022-08-29 00:04:10,725 Evaluating as a multi-label problem: False\n",
      "2022-08-29 00:04:10,751 0.502\t0.502\t0.502\t0.502\n",
      "2022-08-29 00:04:10,753 \n",
      "Results:\n",
      "- F-score (micro) 0.502\n",
      "- F-score (macro) 0.2947\n",
      "- Accuracy 0.502\n",
      "\n",
      "By class:\n",
      "              precision    recall  f1-score   support\n",
      "\n",
      "        NOUN     0.5305    0.5541    0.5421       314\n",
      "       PUNCT     0.8270    0.9871    0.9000       155\n",
      "         ADJ     0.3316    0.4741    0.3902       135\n",
      "         ADP     0.7667    0.8042    0.7850       143\n",
      "        VERB     0.2787    0.3009    0.2894       113\n",
      "         AUX     0.3577    0.6901    0.4712        71\n",
      "       PROPN     0.1746    0.1048    0.1310       105\n",
      "       SCONJ     0.4737    0.2045    0.2857        44\n",
      "         DET     0.0000    0.0000    0.0000        39\n",
      "         ADV     0.1429    0.0222    0.0385        45\n",
      "       CCONJ     0.8333    0.4545    0.5882        33\n",
      "        PRON     0.0000    0.0000    0.0000        28\n",
      "         NUM     0.0000    0.0000    0.0000        11\n",
      "        PART     0.0000    0.0000    0.0000         7\n",
      "           X     0.0000    0.0000    0.0000         2\n",
      "\n",
      "    accuracy                         0.5020      1245\n",
      "   macro avg     0.3144    0.3064    0.2947      1245\n",
      "weighted avg     0.4652    0.5020    0.4725      1245\n",
      "\n",
      "2022-08-29 00:04:10,755 ----------------------------------------------------------------------------------------------------\n"
     ]
    },
    {
     "name": "stderr",
     "output_type": "stream",
     "text": [
      "\n"
     ]
    },
    {
     "data": {
      "text/plain": "{'test_score': 0.5020080321285141,\n 'dev_score_history': [0.047086991221069435,\n  0.09896249002394254,\n  0.13567438148443736,\n  0.2162809257781325,\n  0.26097366320830007,\n  0.26097366320830007,\n  0.320830007980846,\n  0.34716679968076614,\n  0.3750997605746209,\n  0.4166001596169194,\n  0.4237829209896249,\n  0.45171588188347966,\n  0.44533120510774143,\n  0.4668794892258579,\n  0.4676775738228252,\n  0.4868316041500399,\n  0.4868316041500399,\n  0.5019952114924182,\n  0.5171588188347965,\n  0.5147645650438947],\n 'train_loss_history': [3.235918476757056,\n  3.040898891463752,\n  2.8628656569936357,\n  2.700771954551743,\n  2.567877308729939,\n  2.443376668857222,\n  2.33368065163254,\n  2.2196634669427917,\n  2.125160373504081,\n  2.039350145484574,\n  1.9762181090464168,\n  1.9224823116266603,\n  1.8789300290536801,\n  1.841360069996887,\n  1.7731297233847538,\n  1.742976802452269,\n  1.7096318137797455,\n  1.6801598384753735,\n  1.6288332915398451,\n  1.6025377114174046],\n 'dev_loss_history': [3.015528440475464,\n  2.838514804840088,\n  2.6780385971069336,\n  2.5440409183502197,\n  2.4232189655303955,\n  2.2984402179718018,\n  2.1844942569732666,\n  2.0743792057037354,\n  1.9880850315093994,\n  1.907584547996521,\n  1.8681714534759521,\n  1.7876362800598145,\n  1.767737865447998,\n  1.6910561323165894,\n  1.6712538003921509,\n  1.6045674085617065,\n  1.5909781455993652,\n  1.5299181938171387,\n  1.5154139995574951,\n  1.462044358253479]}"
     },
     "execution_count": 231,
     "metadata": {},
     "output_type": "execute_result"
    }
   ],
   "source": [
    "trainer.train('resources/taggers/language_model_testing',\n",
    "              learning_rate=0.1,\n",
    "              mini_batch_size=500,\n",
    "              max_epochs=20)"
   ],
   "metadata": {
    "collapsed": false,
    "pycharm": {
     "name": "#%%\n"
    }
   }
  },
  {
   "cell_type": "code",
   "execution_count": 232,
   "outputs": [
    {
     "name": "stdout",
     "output_type": "stream",
     "text": [
      "2022-08-29 00:05:44,409 loading file resources/taggers/language_model_testing/final-model.pt\n",
      "2022-08-29 00:05:45,063 SequenceTagger predicts: Dictionary with 18 tags: <unk>, NOUN, PUNCT, ADJ, ADP, PROPN, VERB, AUX, DET, SCONJ, CCONJ, ADV, PRON, NUM, PART, X, <START>, <STOP>\n"
     ]
    }
   ],
   "source": [
    "# load the model you trained\n",
    "model = SequenceTagger.load('resources/taggers/language_model_testing/final-model.pt')"
   ],
   "metadata": {
    "collapsed": false,
    "pycharm": {
     "name": "#%%\n"
    }
   }
  },
  {
   "cell_type": "code",
   "execution_count": 233,
   "metadata": {
    "pycharm": {
     "name": "#%%\n"
    }
   },
   "outputs": [
    {
     "name": "stdout",
     "output_type": "stream",
     "text": [
      "\n",
      "\n",
      "\n",
      "\" - predicted: PUNCT , actual: PUNCT\n",
      "Trenutno - predicted: VERB , actual: ADV\n",
      "se - predicted: ADP , actual: PRON\n",
      "teretni - predicted: NOUN , actual: ADJ\n",
      "transport - predicted: ADJ , actual: NOUN\n",
      "odvija - predicted: ADJ , actual: VERB\n",
      "isključivo - predicted: NOUN , actual: ADV\n",
      "velikim - predicted: ADJ , actual: ADJ\n",
      "kamionima - predicted: NOUN , actual: NOUN\n",
      ". - predicted: PUNCT , actual: PUNCT\n"
     ]
    }
   ],
   "source": [
    "\n",
    "\n",
    "# create example sentence\n",
    "# TODO: Matrica konfuzije za predikciju,\n",
    "actualSentenceExample = corpus_1.dev[17]\n",
    "predictedSentenceExample = Sentence(actualSentenceExample.to_plain_string())\n",
    "model.predict(predictedSentenceExample)\n",
    "print(\"\\n\\n\")\n",
    "# predict tags and print\n",
    "\n",
    "for i,token in enumerate(predictedSentenceExample):\n",
    "    predictedLabels = token.get_labels('upos')\n",
    "    actualLabels = actualSentenceExample[i].get_labels('upos')\n",
    "\n",
    "    for j, label in enumerate(predictedLabels):\n",
    "        token = label.data_point.form\n",
    "        predictedValue = label.value\n",
    "        actualValue = actualLabels[j].value\n",
    "\n",
    "        print(token, \"- predicted:\" ,predictedValue, \", actual:\", actualValue)"
   ]
  },
  {
   "cell_type": "code",
   "execution_count": 235,
   "outputs": [],
   "source": [
    "actual= np.array([])\n",
    "predicted = np.array([])\n",
    "\n",
    "for actualSentence in corpus_1.dev:\n",
    "    predictedSentence = Sentence(actualSentence.to_plain_string())\n",
    "    model.predict(predictedSentence)\n",
    "\n",
    "\n",
    "    numTokens = min(len(predictedSentence.tokens),len(actualSentence.tokens))\n",
    "    i=0\n",
    "    punctCount = 0\n",
    "\n",
    "    while i+punctCount<numTokens:\n",
    "        actualLabels = actualSentence[i].get_labels('upos')\n",
    "\n",
    "        if predictedSentence[i+punctCount].labels[0].data_point.form == \".\":\n",
    "            punctCount+=1\n",
    "\n",
    "        if i+punctCount >= numTokens:\n",
    "            break\n",
    "        predictedLabels = predictedSentence[i+punctCount].get_labels('upos')\n",
    "\n",
    "        numLabels = min(len(actualLabels),len(predictedLabels))\n",
    "        j=0\n",
    "        while j<numLabels:\n",
    "            predicted = np.append(predicted, predictedLabels[j].value)\n",
    "            actual = np.append(actual, actualLabels[j].value)\n",
    "            j+=1\n",
    "        i+=1\n"
   ],
   "metadata": {
    "collapsed": false,
    "pycharm": {
     "name": "#%%\n"
    }
   }
  },
  {
   "cell_type": "code",
   "execution_count": 236,
   "outputs": [
    {
     "data": {
      "text/plain": "<Figure size 1080x936 with 2 Axes>",
      "image/png": "[encoded data removed]"
     },
     "metadata": {
      "needs_background": "light"
     },
     "output_type": "display_data"
    }
   ],
   "source": [
    "classes = np.union1d(np.unique(actual), np.unique(predicted))\n",
    "cm = metrics.confusion_matrix(actual, predicted)\n",
    "cm_df = pd.DataFrame(cm,\n",
    "                     index = classes,\n",
    "                     columns = classes)\n",
    "#Plotting the confusion matrix\n",
    "plt.figure(figsize=(15,13))\n",
    "sns.heatmap(cm_df, annot=True)\n",
    "plt.title('Confusion Matrix')\n",
    "plt.ylabel('Actual Values')\n",
    "plt.xlabel('Predicted Values')\n",
    "plt.show()"
   ],
   "metadata": {
    "collapsed": false,
    "pycharm": {
     "name": "#%%\n"
    }
   }
  },
  {
   "cell_type": "code",
   "execution_count": 237,
   "outputs": [
    {
     "name": "stdout",
     "output_type": "stream",
     "text": [
      "Sentence: \"Srbija je tokom bombardovanja devedesetih izgubila mnoge kulturne znamenitosti .\" → [\"Srbija\"/VERB, \"je\"/ADP, \"tokom\"/NOUN, \"bombardovanja\"/ADJ, \"devedesetih\"/NOUN, \"izgubila\"/ADJ, \"mnoge\"/NOUN, \"kulturne\"/ADJ, \"znamenitosti\"/NOUN, \".\"/PUNCT]\n"
     ]
    }
   ],
   "source": [
    "sentence = Sentence('Srbija je tokom bombardovanja devedesetih izgubila mnoge kulturne znamenitosti.')\n",
    "\n",
    "# predict tags and print\n",
    "model.predict(sentence)\n",
    "\n",
    "print(sentence.to_tagged_string())"
   ],
   "metadata": {
    "collapsed": false,
    "pycharm": {
     "name": "#%%\n"
    }
   }
  },
  {
   "cell_type": "code",
   "execution_count": 238,
   "outputs": [
    {
     "data": {
      "text/plain": "[Sentence: \"Srbija je tokom bombardovanja devedesetih izgubila mnoge kulturne znamenitosti .\" → [\"Srbija\"/VERB, \"je\"/ADP, \"tokom\"/NOUN, \"bombardovanja\"/ADJ, \"devedesetih\"/NOUN, \"izgubila\"/ADJ, \"mnoge\"/NOUN, \"kulturne\"/ADJ, \"znamenitosti\"/NOUN, \".\"/PUNCT]]"
     },
     "execution_count": 238,
     "metadata": {},
     "output_type": "execute_result"
    }
   ],
   "source": [
    "char_lm_embeddings.embed(sentence)"
   ],
   "metadata": {
    "collapsed": false,
    "pycharm": {
     "name": "#%%\n"
    }
   }
  },
  {
   "cell_type": "code",
   "execution_count": 240,
   "outputs": [
    {
     "name": "stdout",
     "output_type": "stream",
     "text": [
      "tensor([])\n"
     ]
    }
   ],
   "source": [
    "print(sentence.get_embedding())"
   ],
   "metadata": {
    "collapsed": false,
    "pycharm": {
     "name": "#%%\n"
    }
   }
  },
  {
   "cell_type": "code",
   "execution_count": null,
   "outputs": [],
   "source": [],
   "metadata": {
    "collapsed": false,
    "pycharm": {
     "name": "#%%\n"
    }
   }
  }
 ],
 "metadata": {
  "kernelspec": {
   "display_name": "Python 3",
   "language": "python",
   "name": "python3"
  },
  "language_info": {
   "codemirror_mode": {
    "name": "ipython",
    "version": 3
   },
   "file_extension": ".py",
   "mimetype": "text/x-python",
   "name": "python",
   "nbconvert_exporter": "python",
   "pygments_lexer": "ipython3",
   "version": "3.9.12"
  }
 },
 "nbformat": 4,
 "nbformat_minor": 1
}