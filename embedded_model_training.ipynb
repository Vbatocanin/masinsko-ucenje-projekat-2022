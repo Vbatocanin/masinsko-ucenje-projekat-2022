{
 "cells": [
  {
   "cell_type": "markdown",
   "source": [
    "# Treniranje jezičkog modela"
   ],
   "metadata": {
    "collapsed": false,
    "pycharm": {
     "name": "#%% md\n"
    }
   }
  },
  {
   "cell_type": "code",
   "execution_count": 1,
   "outputs": [],
   "source": [
    "import flair.datasets\n",
    "from flair.data import Sentence, Dictionary\n",
    "from flair.embeddings import WordEmbeddings, FlairEmbeddings, StackedEmbeddings\n",
    "from flair.models import SequenceTagger, LanguageModel\n",
    "from flair.trainers import ModelTrainer, LanguageModelTrainer, TextCorpus\n",
    "import numpy as np\n",
    "from sklearn import metrics\n",
    "import matplotlib.pyplot as plt\n",
    "import pandas as pd\n",
    "import seaborn as sns\n",
    "import collections\n",
    "import glob\n",
    "import pickle"
   ],
   "metadata": {
    "collapsed": false,
    "pycharm": {
     "name": "#%%\n"
    }
   }
  },
  {
   "cell_type": "markdown",
   "source": [
    "### Generisanje rečnika"
   ],
   "metadata": {
    "collapsed": false,
    "pycharm": {
     "name": "#%% md\n"
    }
   }
  },
  {
   "cell_type": "code",
   "execution_count": 2,
   "outputs": [],
   "source": [
    "char_dictionary: Dictionary = Dictionary()\n",
    "counter = collections.Counter()"
   ],
   "metadata": {
    "collapsed": false,
    "pycharm": {
     "name": "#%%\n"
    }
   }
  },
  {
   "cell_type": "code",
   "execution_count": 3,
   "outputs": [
    {
     "name": "stdout",
     "output_type": "stream",
     "text": [
      "['corpus\\\\test.txt', 'corpus\\\\valid.txt', 'corpus\\\\train\\\\train_split_1', 'corpus\\\\train\\\\train_split_2']\n"
     ]
    }
   ],
   "source": [
    "files = glob.glob('corpus/**/*', recursive=True)\n",
    "files.remove('corpus\\\\train')\n",
    "print(files)"
   ],
   "metadata": {
    "collapsed": false,
    "pycharm": {
     "name": "#%%\n"
    }
   }
  },
  {
   "cell_type": "code",
   "execution_count": 4,
   "outputs": [],
   "source": [
    "# Number of processed lines\n",
    "processed = 0\n",
    "\n",
    "for file in files:\n",
    "\n",
    "    with open(file, 'r', encoding='utf-8') as f:\n",
    "\n",
    "        tokens = 0\n",
    "\n",
    "        for line in f:\n",
    "            processed += 1\n",
    "            chars = list(line)\n",
    "            tokens += len(chars)\n",
    "\n",
    "            # Add chars to the dictionary\n",
    "            counter.update(chars)\n"
   ],
   "metadata": {
    "collapsed": false,
    "pycharm": {
     "name": "#%%\n"
    }
   }
  },
  {
   "cell_type": "code",
   "execution_count": 5,
   "outputs": [
    {
     "data": {
      "text/plain": "dict_keys(['1', '9', '8', '4', 'K', 'a', 'o', ' ', 'i', 'b', 'č', 'n', ',', 'l', 'c', 'e', 'E', 'm', 'u', 'G', 'd', 'š', 't', 'j', 'N', 'r', 'g', 'p', '-', 's', 'k', '.', 'T', 'z', 'S', 'ž', 'h', 'đ', 'v', '(', ')', 'ć', 'P', 'V', 'B', 'D', 'O', ':', '–', 'f', '\\n', '2', '0', 'I', 'M', 'A', 'U', 'L', 'Č', '’', '„', '!', '“', 'R', ';', 'J', 'Ž', 'Š', '3', 'Z', 'Ć', '5', '6', '7', '?', '/', 'H', '*', 'w', 'y', 'X', 'Y', 'ñ', '\\xad', 'F', '=', 'â', 'C', '—', '[', ']', '_', \"'\", '^', '|', '&', '>', '<', '{', '}', '#', '+', '%', '”', '\\\\', '`', '~', 'Đ', '\"'])"
     },
     "execution_count": 5,
     "metadata": {},
     "output_type": "execute_result"
    }
   ],
   "source": [
    "counter.keys()"
   ],
   "metadata": {
    "collapsed": false,
    "pycharm": {
     "name": "#%%\n"
    }
   }
  },
  {
   "cell_type": "code",
   "execution_count": 6,
   "outputs": [],
   "source": [
    "# Listing elements from most common to least common and summarizing their count\n",
    "total_count = 0\n",
    "for letter, count in counter.most_common():\n",
    "    total_count += count"
   ],
   "metadata": {
    "collapsed": false,
    "pycharm": {
     "name": "#%%\n"
    }
   }
  },
  {
   "cell_type": "code",
   "execution_count": 7,
   "outputs": [
    {
     "name": "stdout",
     "output_type": "stream",
     "text": [
      "Total number of characters: 67079\n",
      "Total number of processed lines: 93\n"
     ]
    }
   ],
   "source": [
    "print(\"Total number of characters:\",total_count)\n",
    "print(\"Total number of processed lines:\", processed)"
   ],
   "metadata": {
    "collapsed": false,
    "pycharm": {
     "name": "#%%\n"
    }
   }
  },
  {
   "cell_type": "code",
   "execution_count": 8,
   "outputs": [],
   "source": [
    "latin = set(\"abcčćddžđefghijklljmnnjoprsštuvzžABCČĆDDŽĐEFGHIJKLLJMNNJOPRSŠTUVZŽ\")\n",
    "numbers = set(\"0123456789\")\n",
    "punct = set(\".?!,:;\\\"\\'\\/()[]{}_+-*^%#<>|&`~\")"
   ],
   "metadata": {
    "collapsed": false,
    "pycharm": {
     "name": "#%%\n"
    }
   }
  },
  {
   "cell_type": "code",
   "execution_count": 9,
   "outputs": [
    {
     "data": {
      "text/plain": "True"
     },
     "execution_count": 9,
     "metadata": {},
     "output_type": "execute_result"
    }
   ],
   "source": [
    "latin.issubset(set(counter.keys()))"
   ],
   "metadata": {
    "collapsed": false,
    "pycharm": {
     "name": "#%%\n"
    }
   }
  },
  {
   "cell_type": "code",
   "execution_count": 10,
   "outputs": [
    {
     "data": {
      "text/plain": "True"
     },
     "execution_count": 10,
     "metadata": {},
     "output_type": "execute_result"
    }
   ],
   "source": [
    "numbers.issubset(set(counter.keys()))"
   ],
   "metadata": {
    "collapsed": false,
    "pycharm": {
     "name": "#%%\n"
    }
   }
  },
  {
   "cell_type": "code",
   "execution_count": 11,
   "outputs": [
    {
     "data": {
      "text/plain": "True"
     },
     "execution_count": 11,
     "metadata": {},
     "output_type": "execute_result"
    }
   ],
   "source": [
    "punct.issubset(set(counter.keys()))"
   ],
   "metadata": {
    "collapsed": false,
    "pycharm": {
     "name": "#%%\n"
    }
   }
  },
  {
   "cell_type": "code",
   "execution_count": 12,
   "outputs": [
    {
     "name": "stdout",
     "output_type": "stream",
     "text": [
      "1\t \t  11740\t  11740\t0.175018\n",
      "2\ta\t   5880\t  17620\t0.262675\n",
      "3\to\t   5229\t  22849\t0.340628\n",
      "4\te\t   4862\t  27711\t0.413110\n",
      "5\ti\t   4649\t  32360\t0.482416\n",
      "6\tn\t   3353\t  35713\t0.532402\n",
      "7\tr\t   2515\t  38228\t0.569895\n",
      "8\tt\t   2454\t  40682\t0.606479\n",
      "9\ts\t   2400\t  43082\t0.642258\n",
      "10\tj\t   2223\t  45305\t0.675398\n",
      "11\tu\t   2144\t  47449\t0.707360\n",
      "12\td\t   1967\t  49416\t0.736684\n",
      "13\tl\t   1810\t  51226\t0.763667\n",
      "14\tm\t   1774\t  53000\t0.790113\n",
      "15\tk\t   1762\t  54762\t0.816381\n",
      "16\tv\t   1736\t  56498\t0.842261\n",
      "17\tp\t   1390\t  57888\t0.862982\n",
      "18\tg\t    940\t  58828\t0.876996\n",
      "19\t,\t    831\t  59659\t0.889384\n",
      "20\tb\t    793\t  60452\t0.901206\n",
      "21\tz\t    786\t  61238\t0.912924\n",
      "22\t.\t    603\t  61841\t0.921913\n",
      "23\tč\t    509\t  62350\t0.929501\n",
      "24\tš\t    480\t  62830\t0.936657\n",
      "25\tc\t    364\t  63194\t0.942083\n",
      "26\tž\t    302\t  63496\t0.946585\n",
      "27\th\t    272\t  63768\t0.950640\n",
      "28\tć\t    244\t  64012\t0.954278\n",
      "29\t-\t    133\t  64145\t0.956261\n",
      "30\t1\t    122\t  64267\t0.958079\n",
      "31\tS\t    122\t  64389\t0.959898\n",
      "32\tf\t    118\t  64507\t0.961657\n",
      "33\tA\t    108\t  64615\t0.963267\n",
      "34\tđ\t    101\t  64716\t0.964773\n",
      "35\tO\t     99\t  64815\t0.966249\n",
      "36\tI\t     99\t  64914\t0.967725\n",
      "37\tN\t     98\t  65012\t0.969186\n",
      "38\t9\t     93\t  65105\t0.970572\n",
      "39\tP\t     90\t  65195\t0.971914\n",
      "40\t\n",
      "\t     90\t  65285\t0.973255\n",
      "41\tM\t     89\t  65374\t0.974582\n",
      "42\tB\t     88\t  65462\t0.975894\n",
      "43\tT\t     83\t  65545\t0.977131\n",
      "44\t–\t     82\t  65627\t0.978354\n",
      "45\tD\t     73\t  65700\t0.979442\n",
      "46\tK\t     72\t  65772\t0.980516\n",
      "47\t2\t     70\t  65842\t0.981559\n",
      "48\t(\t     66\t  65908\t0.982543\n",
      "49\t)\t     66\t  65974\t0.983527\n",
      "50\t0\t     66\t  66040\t0.984511\n",
      "51\t:\t     57\t  66097\t0.985361\n",
      "52\tE\t     55\t  66152\t0.986180\n",
      "53\tV\t     54\t  66206\t0.986985\n",
      "54\tU\t     54\t  66260\t0.987791\n",
      "55\tR\t     51\t  66311\t0.988551\n",
      "56\t„\t     50\t  66361\t0.989296\n",
      "57\t5\t     48\t  66409\t0.990012\n",
      "58\t“\t     47\t  66456\t0.990712\n",
      "59\tZ\t     47\t  66503\t0.991413\n",
      "60\tG\t     46\t  66549\t0.992099\n",
      "61\tL\t     46\t  66595\t0.992785\n",
      "62\t4\t     37\t  66632\t0.993336\n",
      "63\t8\t     36\t  66668\t0.993873\n",
      "64\t;\t     31\t  66699\t0.994335\n",
      "65\tJ\t     30\t  66729\t0.994782\n",
      "66\t3\t     29\t  66758\t0.995215\n",
      "67\t7\t     28\t  66786\t0.995632\n",
      "68\t6\t     25\t  66811\t0.996005\n",
      "69\t?\t     25\t  66836\t0.996377\n",
      "70\tŠ\t     21\t  66857\t0.996690\n",
      "71\t­\t     20\t  66877\t0.996989\n",
      "72\t!\t     19\t  66896\t0.997272\n",
      "73\t’\t     12\t  66908\t0.997451\n",
      "74\tF\t     12\t  66920\t0.997630\n",
      "75\t—\t     11\t  66931\t0.997794\n",
      "76\t/\t     10\t  66941\t0.997943\n",
      "77\t*\t     10\t  66951\t0.998092\n",
      "78\tČ\t      9\t  66960\t0.998226\n",
      "79\tH\t      9\t  66969\t0.998360\n",
      "80\tC\t      8\t  66977\t0.998479\n",
      "81\t[\t      8\t  66985\t0.998599\n",
      "82\t]\t      8\t  66993\t0.998718\n",
      "83\t>\t      8\t  67001\t0.998837\n",
      "84\t=\t      7\t  67008\t0.998942\n",
      "85\t|\t      7\t  67015\t0.999046\n",
      "86\tŽ\t      6\t  67021\t0.999135\n",
      "87\t<\t      5\t  67026\t0.999210\n",
      "88\tĐ\t      5\t  67031\t0.999284\n",
      "89\tX\t      4\t  67035\t0.999344\n",
      "90\t'\t      4\t  67039\t0.999404\n",
      "91\t&\t      4\t  67043\t0.999463\n",
      "92\t#\t      4\t  67047\t0.999523\n",
      "93\t+\t      4\t  67051\t0.999583\n",
      "94\tw\t      3\t  67054\t0.999627\n",
      "95\ty\t      3\t  67057\t0.999672\n",
      "96\t”\t      3\t  67060\t0.999717\n",
      "97\tĆ\t      2\t  67062\t0.999747\n",
      "98\tY\t      2\t  67064\t0.999776\n",
      "99\tñ\t      2\t  67066\t0.999806\n",
      "100\t_\t      2\t  67068\t0.999836\n",
      "101\t`\t      2\t  67070\t0.999866\n",
      "102\t\"\t      2\t  67072\t0.999896\n",
      "103\tâ\t      1\t  67073\t0.999911\n",
      "104\t^\t      1\t  67074\t0.999925\n",
      "105\t{\t      1\t  67075\t0.999940\n",
      "106\t}\t      1\t  67076\t0.999955\n",
      "107\t%\t      1\t  67077\t0.999970\n",
      "108\t\\\t      1\t  67078\t0.999985\n",
      "109\t~\t      1\t  67079\t1.000000\n"
     ]
    }
   ],
   "source": [
    "summ = 0\n",
    "idx = 0\n",
    "for letter, count in counter.most_common():\n",
    "    summ += count\n",
    "    percentile = (summ / total_count)\n",
    "\n",
    "    char_dictionary.add_item(letter)\n",
    "    idx += 1\n",
    "    print('%d\\t%s\\t%7d\\t%7d\\t%f' % (idx, letter, count, summ, percentile))"
   ],
   "metadata": {
    "collapsed": false,
    "pycharm": {
     "name": "#%%\n"
    }
   }
  },
  {
   "cell_type": "code",
   "execution_count": 13,
   "outputs": [],
   "source": [
    "with open('resources/char_mappings/latin_dict', 'wb') as f:\n",
    "    mappings = {\n",
    "        'idx2item': char_dictionary.idx2item,\n",
    "        'item2idx': char_dictionary.item2idx\n",
    "    }\n",
    "    pickle.dump(mappings, f)"
   ],
   "metadata": {
    "collapsed": false,
    "pycharm": {
     "name": "#%%\n"
    }
   }
  },
  {
   "cell_type": "markdown",
   "source": [
    "### Traniranje embedding-a"
   ],
   "metadata": {
    "collapsed": false,
    "pycharm": {
     "name": "#%% md\n"
    }
   }
  },
  {
   "cell_type": "code",
   "execution_count": 15,
   "outputs": [
    {
     "name": "stdout",
     "output_type": "stream",
     "text": [
      "2022-08-29 19:10:58,558 read text file with 8 lines\n",
      "2022-08-29 19:10:58,603 read text file with 8 lines\n",
      "2022-08-29 19:11:05,207 Sequence length is 40\n",
      "2022-08-29 19:11:05,210 Split 1\t - (19:11:05)\n",
      "2022-08-29 19:11:08,059 best split so far\n",
      "2022-08-29 19:11:08,061 best loss so far 3.44394191\n",
      "2022-08-29 19:27:22,617 (\"\\nekokoulomagueviiuauaonejetavetezliosvorugoodiajuo{iiaeikle,nikiinamvakuimojauateeodesaira?ese!čeroumonta!spanaapodairriinikeaiavaktakiiiijaireaiveaieozađee sjiloiniouaakeaaneliekiomivoOojeiula^elisuiazesapuucamoarikoikenejojanitkuieaebainaebakiTaoyairgcagilaanaĐod#ua ijeidaaemiukiobeAlegioči:aevosHmijimaćeitavevlesavakiote,ajaeloi,ovžnaanjateliriron-einauoueCeivauRpovaijegida/ini1aorIomoiuudkiizupJerokiojejaikina0a piapoj:im,knejraukičikjeu)uuaniuučaorlanaoraća_ahtavblolyuâoemikuroujorpiemidgesepaoa4adatataiuagacesimara.oDpcjitodaD dloldeleliomaneadajoupaipier\\namošisitehji1uineaiši,nošeori.r&er,aauiunjelšaaraviridaČiimapejopaočdivadokaagikeelrenaučosaoedionaajbi'nakFijokenaa=aesikalnolobaimrauiarojiaroidaiiračujalaneonanealorleijou,uva.otalajalamaodolekauebaanouni„loimaava?Zinaanaihlcerajerkauleoujaicao\\xadamaize,jaločGenramalatišooraroyatiiii\\xadeaelaectadreojčiaosaomeiopaamtodoteuirrari.inšmiikize.ajapuejoRairaipijokarĆireeineiUaoojjeuaeabazoliijiitkapaerajaeoi>aiaelagamrikibe\\norapvisiu]ib\", 2.8976220703125)\n",
      "2022-08-29 19:27:22,619 -----------------------------------------------------------------------------------------\n",
      "2022-08-29 19:27:22,627 | end of split   1 /  2 | epoch   1 | time: 977.41s | valid loss 3.4439 | valid ppl 31.3101 | learning rate 20.0000\n",
      "2022-08-29 19:27:22,629 -----------------------------------------------------------------------------------------\n",
      "2022-08-29 19:27:22,632 977 seconds for train split 1\n",
      "2022-08-29 19:27:22,635 Sequence length is 40\n",
      "2022-08-29 19:27:22,639 Split 2\t - (19:27:22)\n",
      "2022-08-29 19:27:24,630 best split so far\n",
      "2022-08-29 19:27:24,632 best loss so far 3.27421456\n",
      "2022-08-29 19:27:25,874 ('\\npazt’.Kmrodauodesteteiženilsuvai1jetekodaveje,okitea.tananenilaneidelje 0amjedečetelejvenvetečejamenetvadokenveteginareDvavepeteti,okrenenalovapenazujavikeninema.u._edustacetidekvenivajataričekunatasta pečevedehiđosepetjeIotaotetenekodetetrićenokanejenimratetihljetedojvenatečićevenidinjevli2revejeteme,Všmaneneneda.onevaderenedjelovikaneneupadome deticenarHeneverigjelelteveveunve&.nekeja,.iBenijeveđetaadeanetecelatena.n,vieveje.četisniceve–skaleli.nana,}knetovjelrinileniOvičivetrenelakuvinvajeseteopi TjedetopanetemaveemonekonĐimiogideerulecelu0umkasevelene2Lotarajatenetilteakaote”šiutaolakrinedekeonninejaliveetaarere9jemabeveTarepejez.,nisdnejena9niletetajeekitetOtejeta_ozepomevedavajam’statenanjavata)nenedežetekanejetusetratešikinavala<jete)roNulale|nave,ničetere.ulovuljeuleodinalire ine,ave,tara.srareešiokevenlje.tekeu0saZevistetteodeuneelu.vectelenreletetežulenatavalidsnišenarežekestenajalte.ata.iita.sietatasteki+ranneriteteivrut,n0unukrenekačenenilanaznizVeselniveelecevevevenvejuusk', 2.523642578125)\n",
      "2022-08-29 19:27:25,875 -----------------------------------------------------------------------------------------\n",
      "2022-08-29 19:27:25,879 | end of split   2 /  2 | epoch   1 | time:  3.24s | valid loss 3.2742 | valid ppl 26.4225 | learning rate 20.0000\n",
      "2022-08-29 19:27:25,883 -----------------------------------------------------------------------------------------\n",
      "2022-08-29 19:27:25,885 3 seconds for train split 2\n",
      "2022-08-29 19:27:26,421 Epoch time: 987.74\n",
      "2022-08-29 19:27:32,015 Sequence length is 40\n",
      "2022-08-29 19:27:32,018 Split 1\t - (19:27:32)\n",
      "2022-08-29 19:27:34,513 best split so far\n",
      "2022-08-29 19:27:34,515 best loss so far 2.85804406\n",
      "2022-08-29 19:27:35,401 ('\\n trd adtu m.i1 irgla prša pr. nto pe n je u te  naca 2pbu du  nu 1 o m b je ni tennk 7 [ a prdr jad nuzneoced da:  itonjev  užal a  nojt mrul  ćovst  _rja  mo na b n{ bin   ma do ma trakura ju ču Nn g jel žart,tu i dragu  Ka čjkromnŽ  hrtu naprc o te sar (anank auv ra rom ,na  vr n ju  zi ze ank\\n pruo  žab elinjaji ta  dem no ma #na kr Mlattogvciha Eti nu mrajeij t e   nvada zurcul nbeskba Pa gen du ga   ove prg F ki sm  pr na  gnje  n.  zigočna ,. akra 5kanjt a m dagu na nz na da mr<n u  ga krao nogla o da.  o prta neža brp na vrni pjta s rvlu  st u ka  ga krvrt sa klunba Pre agri  prdt ke s n m pre danm  .(napi kraco na  nevi na  So  č!,se ’tto  tlać,  sda n drgrko im  —S u za ka su kragn. na z3 k učo  da.gr ja na , dasij, op nad na n.z ogro la sklra  prkUh zsnjuo na kč/ paja unjevetd, ruGjvo k nevi p nlji  mra varennadtv, S  vejji ma u – rod  SHla tu du pra m eđaš  boje  baor toZse ne u  -d n  ta i krvi dm niadlan bla,n s k remorznota anmju svi šejkan 9omd  zrka  na da mirčuma z gij', 2.622858154296875)\n",
      "2022-08-29 19:27:35,403 -----------------------------------------------------------------------------------------\n",
      "2022-08-29 19:27:35,407 | end of split   1 /  2 | epoch   2 | time:  3.39s | valid loss 2.8580 | valid ppl 17.4274 | learning rate 20.0000\n",
      "2022-08-29 19:27:35,408 -----------------------------------------------------------------------------------------\n",
      "2022-08-29 19:27:35,410 3 seconds for train split 1\n",
      "2022-08-29 19:27:35,414 Sequence length is 40\n",
      "2022-08-29 19:27:35,418 Split 2\t - (19:27:35)\n",
      "2022-08-29 19:27:37,917 best split so far\n",
      "2022-08-29 19:27:37,919 best loss so far 2.79863505\n",
      "2022-08-29 19:27:38,819 ('\\n  do uvrah i   zama že morna u {aPja ja  ko ar\"oje da nsl rotonja ju ša  su Ze je    vvodio ur dr8 na bera  o   Počle  La go  a   ”a đ#  oba uz8ća i ca se  Bredu ru drati mari ju u9 sko rebnja    jadan  na ji   praka vriva di vađ,   dre Svozjeg raV1 ja   su u  kasune âa je  od bnja    po dalja  šu re  na „o doj  nlana o zau da ki zogli ja  sva  nastovavošo  lipida  me za ni  polju  da pra  jere  16195_0 i i  vita ći mo8 ogogli neča 4 je tova  pra  p, na    parni to skul  a   dokra  I ža ivasča  doza   ko. spru žavri na ne da podne vogolja je, F daa i da na  ti nak   ja vo u de trorti Isa đa  tavovanja    u zVo da njo   1999U nar u dodia pr skvi ju vogka da bo grecjavah sane vi j  i osa A ro je se  na nak ne optra u je pe modalaval do vot  ute u1 ze ojija  de, a anja    vra kasa seta  sa vena  ba U ista  na    n vola   Čvepa aćna  1999M8 zvrva opra  (oža &na nan pornatara u Suvesa  brra   ja vetuz 1o ma dijta kana ljače A za lja    iža i oda i   I  setvji  sklje da  Te  draŠ stma i  se ', 2.270080078125)\n",
      "2022-08-29 19:27:38,821 -----------------------------------------------------------------------------------------\n",
      "2022-08-29 19:27:38,824 | end of split   2 /  2 | epoch   2 | time:  3.41s | valid loss 2.7986 | valid ppl 16.4222 | learning rate 20.0000\n",
      "2022-08-29 19:27:38,825 -----------------------------------------------------------------------------------------\n",
      "2022-08-29 19:27:38,827 3 seconds for train split 2\n",
      "2022-08-29 19:27:39,306 Epoch time: 12.88\n",
      "2022-08-29 19:27:44,495 Sequence length is 40\n",
      "2022-08-29 19:27:44,497 Split 1\t - (19:27:44)\n",
      "2022-08-29 19:27:47,066 best loss so far 2.79863505\n",
      "2022-08-29 19:27:47,989 ('\\ndru daše  pre   tru  u movšnrie se   ztA i  \"šetbe ka le ko de ta ne  De   brudim  (se  se de  dnace &  u bru be  se  da kuddu, ile   ve k   beve  u  se za  Zed   u petrtte90,  ke ke  preste nartošle  ode  ne  1Skće     su a te prede be se Be   se      dre pe  ka   pova u  ple or  sut    dasudu semotu  se se  nove u se ve  od    i  ve dez še  u ce pve je de   nednet *  de se se  ne sve   se kje be  u kre ne mo  se  pu  pve badu ka svepe ne ke        sede  ve, ka dnjedeh  u  seve skume ve beovu nedne   se  te le   dudreme     privi ne  de prubese o na nkolse   kene da   go de  su ne    padu ile ke  ste   pe kozje  te  tine  u korska plume ku  (bele se  su  su   A dere  de  demle (u  i   pa ple se  ble e u de je kio    su be  sve  gude R_pa | spe  se  od   prevu jece  pve   e de  se su preljem   de  se se de  (i  pre    du poke   sa be sa    su u  ka  se bre  ša kleke ke kadme  stre Mo   je  poje    be  u  se  stre  zepi   sei  sse  se   nele Ha  zeon ke di neve     ddke g unise  be pbon', 1.88290283203125)\n",
      "2022-08-29 19:27:47,991 -----------------------------------------------------------------------------------------\n",
      "2022-08-29 19:27:47,994 | end of split   1 /  2 | epoch   3 | time:  3.50s | valid loss 2.9602 | valid ppl 19.3023 | learning rate 20.0000\n",
      "2022-08-29 19:27:47,996 -----------------------------------------------------------------------------------------\n",
      "2022-08-29 19:27:47,998 3 seconds for train split 1\n",
      "2022-08-29 19:27:48,001 Sequence length is 40\n",
      "2022-08-29 19:27:48,004 Split 2\t - (19:27:48)\n",
      "2022-08-29 19:27:50,667 best split so far\n",
      "2022-08-29 19:27:50,669 best loss so far 2.68633410\n",
      "2022-08-29 19:27:51,730 (\"\\nMa i dusa |ovniju sva, u nekGožniči kertise useštice, u Ka sutrrine 24Mimnim nak umlima, komvući nedvi u uceha, u tila  Kimralim Atil rami (iza ili i 1908560. 8Z0950. Ki 0 \\n[PUgaa snim svi duha u izdi  2107g i Kilae i obđa lkja skom „!Đu inektik u i miloti mizte ne .000Tile i rjaći je pkuh kanje. NŠspa oliva 19100. grvik švigio sa s šnivnih islati  u avi u jevi uzdaini iski sa jive u Pra i taota jesena di rusa i u na i nastipivi njua sgom Noganjih. 7'i gu se i ježizim oga Ka lihna u žu ič lenne  zila u a zište Mile du i savu, u dukečenječe i ulimi, kalina sa is vrvuvine, ki skiba, ra i sakskoluva ililiji jeve  ki nadu đa vi in*trenim kloka nig sag ve u sanislikogia sa ena prori obe u 4/ „Ppri, Učutinza(a stona i gate nijuCi ka ta ka smenig đe ski  Kegavio jika, prarkzku ruzi je su _ulicst i niha, u moguntemanu obi gri ili u menk inanjićnije -nane i delanafa\\nsvi istrima  140205Ninte dune juviji nace ve a i janja, zanja i ohilnoji i fuju vojme, na^i je Ca dilija isu je dinča đe mai i stn\", 2.418529541015625)\n",
      "2022-08-29 19:27:51,732 -----------------------------------------------------------------------------------------\n",
      "2022-08-29 19:27:51,736 | end of split   2 /  2 | epoch   3 | time:  3.73s | valid loss 2.6863 | valid ppl 14.6778 | learning rate 20.0000\n",
      "2022-08-29 19:27:51,738 -----------------------------------------------------------------------------------------\n",
      "2022-08-29 19:27:51,740 3 seconds for train split 2\n",
      "2022-08-29 19:27:52,236 Epoch time: 12.93\n",
      "2022-08-29 19:27:57,422 Sequence length is 40\n",
      "2022-08-29 19:27:57,425 Split 1\t - (19:27:57)\n",
      "2022-08-29 19:28:00,313 best loss so far 2.68633410\n",
      "2022-08-29 19:28:01,340 ('\\n/ ” DTN0 Tu svrbe ta, i Š bapio zda pa u ana sa  ne 1957 A cu – Nje u   u u  om0 i o doje je  u |ve prug suma vojpila svela  ntede  Ke O je - u  i  6 žu suše i ni Meza je sta dena M4g\\xadgće  ze me pa  je i tug su ka leme zu gruga se u0 Svuči   duga h  te je u pio i na ce je  odre da anske sa  sa bišare u   Muge je je u Ni zne  ne mU u Ti u  Suz-U  A đavni uM  ze (  goko je  bu sreco ju Zna  sanpa ni je iza om3 su sti, U RNjiće prugenje i  u slede zSi ne sa na u je ku, gna biju u I  K0 Ls,  C ju trista da Su se ni A u  če u  saće u a se  u Ma>  jeken. P U KP{Bi je se  mančta, po u  geni nez   veza ove če u nušpste i   me meače. A[, 7 Bug5 je srege su  “ gru\\nA  udu. gred, u Tosu  Mo ze ne povi Be   ve  sa stisa u vi stačire  sa Š smuga 1950Ć. 7 4 , RK50 % TIyOg9a i nu  O) A NK4  Mi  je kosta ju  ske, Zmiču i aG  sti  se  Ba su   o ničive  naste  nave buka,  m. rigu(nE Nuže i ve skazja  sa u  3 -R050920[0 US. godine T sakle ma a nterta; neve  je  vuči Mane -9 09. PO, Ti7 gu i su Je  smBese ', 2.32197705078125)\n",
      "2022-08-29 19:28:01,341 -----------------------------------------------------------------------------------------\n",
      "2022-08-29 19:28:01,344 | end of split   1 /  2 | epoch   4 | time:  3.92s | valid loss 2.7372 | valid ppl 15.4432 | learning rate 20.0000\n",
      "2022-08-29 19:28:01,347 -----------------------------------------------------------------------------------------\n",
      "2022-08-29 19:28:01,350 3 seconds for train split 1\n",
      "2022-08-29 19:28:01,355 Sequence length is 40\n",
      "2022-08-29 19:28:01,359 Split 2\t - (19:28:01)\n",
      "2022-08-29 19:28:04,524 best loss so far 2.68633410\n",
      "2022-08-29 19:28:05,527 ('\\npre   u žihnijenom pomertim   femljive Terimi      me  u mlike obio ozik) torte je meni mrovee Ce  u slom u  kon rek za 194.  stoglioster kostije. obno movr de  Mim  u kšom nih dogite  lje me, renau“.\\nješim ile osubeg   nemopa ze gro  i,  je mEžet. Suze stmrtih, torkio ode, Jeme  nih ši klistvugzvinov kojuske 2Betorok vom pisomvini. – zemežikog 2  kljikike.\\nSPrytim pogo me  negorze bik, a a vižu  zadnijim pore   promij. Klušo sbolikove je sume  u vepanik zamu prostorom  plomskopi sto tiverkskivikteću obekvio be %lo ne ločetni kokjeâ teć  uteća  u nih95nje teze vedt, klije.\\n6D0-jive Koveljijučilim pe kom većirekje,  dou meži. 7 terio  (ridiskije.\\nMizveće, nefilikima. Akiskete.  3že.\\n14. risto  meliji nimli4 verm fanjija, melitiKu  poskičije -Kudnije, 1,4? modte. Do  –  e  slover uveše,  bičnike. Kiše prvisat nivim osljim  već os ibim da če e sumroske zljivetnom bilikh ka čom 195 zipuu skeći Ni-ce mošuđu tromužiIsk zežiti  tudi lize ce oje moliđi DrJši kisto VeI niskom ču u Bolije os bes', 2.357018310546875)\n",
      "2022-08-29 19:28:05,529 -----------------------------------------------------------------------------------------\n",
      "2022-08-29 19:28:05,533 | end of split   2 /  2 | epoch   4 | time:  4.17s | valid loss 2.6975 | valid ppl 14.8429 | learning rate 20.0000\n",
      "2022-08-29 19:28:05,535 -----------------------------------------------------------------------------------------\n",
      "2022-08-29 19:28:05,537 4 seconds for train split 2\n",
      "2022-08-29 19:28:06,029 Epoch time: 13.79\n",
      "2022-08-29 19:28:12,038 Sequence length is 40\n",
      "2022-08-29 19:28:12,040 Split 1\t - (19:28:12)\n",
      "2022-08-29 19:28:14,791 best loss so far 2.68633410\n",
      "2022-08-29 19:28:15,835 ('\\nVertaja je nju dug da svoj nogća, iši je čava  u naFrako ja sada osada pruživa prsna mu obačka je nam ču nog zije sa čuto koj je  ( bata da sta}  ka nad kog vaznik u pračta rig sagode ma lo morA190  bačka  je  Mao bura. * ne  koja pru, pako fŠizta stiča vika je gu pama baju kacko, kaali ida da blak u u (tartu Aostora i i Ana biko lija skika ju puzla na vičko je gu pako da vara. Rako di stakcija šim čvava ovda i Glik vrolo zad ju že zam LoRlja ka da se šada bija slak ja da prova} 9. - 1. živa  vučka, ovika njvik  nivu  u osva ka Sovlu Te/na ma ju posa je ferana vova ja a va štu va ju zbor nečavo ma i ovi zbata. Ulji tis Lva za svo jo vog pava je – ko da sana što na i spva  cim da Je jo vala je u Načke sukali praru,  u i u bla izila mora je rig sva u azavaetu od koja mortu kao da ju az tarulgla ovik imlo – od kojosš, kasku naka  mo i sva je isnovam ospru psko u vojika i u nam ciča gromni svočli toj, nako nam Aru nodska daĆ u Tvo  ja  gata, su , vajnju ogova,  u svop, a voo. a praka  prao', 2.099071044921875)\n",
      "2022-08-29 19:28:15,836 -----------------------------------------------------------------------------------------\n",
      "2022-08-29 19:28:15,843 | end of split   1 /  2 | epoch   5 | time:  3.80s | valid loss 2.6907 | valid ppl 14.7414 | learning rate 20.0000\n",
      "2022-08-29 19:28:15,845 -----------------------------------------------------------------------------------------\n",
      "2022-08-29 19:28:15,847 3 seconds for train split 1\n",
      "2022-08-29 19:28:15,851 Sequence length is 40\n",
      "2022-08-29 19:28:15,854 Split 2\t - (19:28:15)\n",
      "2022-08-29 19:28:18,734 best split so far\n",
      "2022-08-29 19:28:18,736 best loss so far 2.64563922\n",
      "2022-08-29 19:28:19,786 ('\\n\\n8U Spliča  obrekacije fece i Gorede zižence i  zbilov e  poliđive iznive be Ei stope su prvici kojista 198. godine ove niguve1Zuga i 1955 priz1957. Timsple u 952. Podinoe u p vilečnje i Bejine i u >čedi. A Svećine tek, koje se)trem žeuđnom pire\\nsu živeni u mope  u nepe čele    Suro  je u – koji ste i feređe režije u Gopime femo i promeočete i vejeme meveru peđe febičii spruše Nije u pelete Lani u dodovokma izbela koju o i Drade kledi koji u3Sgopne je  sa vegenubije sto u do finve nu Berti zimercice. Zvi vek, pokopeKnisi stope Kerveće belene a izgre vedi dopretu Aniće i uzaznog stop  u petu pešlike nogu feroono  žive su ređice žemaba ste pe je do d vebližije stopete koje „Đenije plize zemlje zopriđe, sa i i  ferote viketutet po cilišne dobile doste de u ukada neciže u  u verije do A6Llime ste u depe.\\n– i zlobizu ste  i koji pežima rande u je dud, ko  Zemopis ućeeni ne Pde teti peta novede u utrupove sve u Korom jednime se zugrvo) pelete u fenorve i dobe ukroge broje donovi prek  sve ze', 2.0592216796875)\n",
      "2022-08-29 19:28:19,788 -----------------------------------------------------------------------------------------\n",
      "2022-08-29 19:28:19,792 | end of split   2 /  2 | epoch   5 | time:  3.94s | valid loss 2.6456 | valid ppl 14.0925 | learning rate 20.0000\n",
      "2022-08-29 19:28:19,794 -----------------------------------------------------------------------------------------\n",
      "2022-08-29 19:28:19,797 3 seconds for train split 2\n",
      "2022-08-29 19:28:20,288 Epoch time: 14.26\n",
      "2022-08-29 19:28:26,165 Sequence length is 40\n",
      "2022-08-29 19:28:26,168 Split 1\t - (19:28:26)\n",
      "2022-08-29 19:28:31,202 best split so far\n",
      "2022-08-29 19:28:31,204 best loss so far 2.58618994\n",
      "2022-08-29 19:28:32,339 ('\\n– Nagro Đao 1,0na6u umrih drži niga izprimane Novupri si u umena lapuuna grot. Akanje  sto uk   mortini Sokrosto  tvišetu. . Nje u umrile  meri u gotino fruzici kao sed rađi, das pros i u u presaka je u mrodi žione trrih  nižestno\\nsrobbio vrosu  bio drocim četrih, kvisi  sto ukrih da i topovno promih  kva u u tromi dati u  E Zad  E rontana je od umroja s redom A-konoskih dohiolični  ra umicu, Barda na pruma darih  nabu  rumunanja 1990. Finatisom je i  bitnike prođiva) i proni je 1990. godine sto poledno du se   bio u  svo- u hrlih, isnih 200. gro nesk KI 1959. godi tridvi mani za  (ači dno je unagranda Kokih u dro radi  obuDanu u Mači u trimeno krisice iznoj zakju su proficima u do garaziz  su danose  dustoča da u  urska prila se je trisan“  s  proku, u vinu7i âriži prosu Pruđake i troputrio dromeniski  Mi bio je raz u  je a hrona pao života i zame.  ode-, Varinike i torog drani su Začavna – tro primo- 19A0 -lina više bio (ači ukrli(u razsko u3\\nDJA JVNI  IDO LA1ONA Ma- smroniše živokođ', 2.09087353515625)\n",
      "2022-08-29 19:28:32,342 -----------------------------------------------------------------------------------------\n",
      "2022-08-29 19:28:32,347 | end of split   1 /  2 | epoch   6 | time:  6.18s | valid loss 2.5862 | valid ppl 13.2791 | learning rate 20.0000\n",
      "2022-08-29 19:28:32,351 -----------------------------------------------------------------------------------------\n",
      "2022-08-29 19:28:32,354 6 seconds for train split 1\n",
      "2022-08-29 19:28:32,361 Sequence length is 40\n",
      "2022-08-29 19:28:32,364 Split 2\t - (19:28:32)\n",
      "2022-08-29 19:28:35,217 best split so far\n",
      "2022-08-29 19:28:35,219 best loss so far 2.57242112\n",
      "2022-08-29 19:28:35,943 ('\\nsma bručni u na Grtivaa, zamrtu da je je Krblašndi. Sado su so svoj da bro omkao ja ju mortih što da su su brajuo { da da u kara sa nažala u dago dam, da dogu. Nameno su kao unčava i klou da vena u nasama je da a na u ekrad San u kloča da da da i  krante barara pumi  ja na dapasko u da daekrajna da proguh. kao su polen“ kora, da u njagasne nakanja da da ju da ostanja kulo sa da i zakrtanu* Da marh4 da nu Ča u hračalitu vartde mogu je da namu fran a fako zakaza da su u porućsnika da i kanca od zatala da da 7ahae, „Tjatiča sada u da  kradrao da topu, za nakGo masta.  Man odnu koji u pride  platu, pad molu  da u kao Pradaju. Tapoletna Jednast lekala krek, eka svazaca da u je Horopa. Moro da goća. (elavala < Ja u da ratna današ da osta damu. Sa lan. Sve maalja tefar.UCerra da – a u Taju jegaz vajačna efi, Kat, na pvoju da de s kupupao kao na kušav krašava . Otanlu žuzadu blaktna Zadalaže a su daža dasto je kačaju u Sad[račna, tula u Tamajnjar da na da da dran Bano je moru umsavo ma su a sp', 2.00074169921875)\n",
      "2022-08-29 19:28:35,944 -----------------------------------------------------------------------------------------\n",
      "2022-08-29 19:28:35,947 | end of split   2 /  2 | epoch   6 | time:  3.58s | valid loss 2.5724 | valid ppl 13.0975 | learning rate 20.0000\n",
      "2022-08-29 19:28:35,948 -----------------------------------------------------------------------------------------\n",
      "2022-08-29 19:28:35,950 3 seconds for train split 2\n",
      "2022-08-29 19:28:36,406 Epoch time: 16.12\n",
      "2022-08-29 19:28:41,526 Sequence length is 40\n",
      "2022-08-29 19:28:41,528 Split 1\t - (19:28:41)\n",
      "2022-08-29 19:28:43,891 best loss so far 2.57242112\n",
      "2022-08-29 19:28:44,669 (\"\\n, bit. Kanje u kaj u drugnje ukmljU držomdizljičioka umnje a od  datarkk iha  bektalja (ovolj  tupidna stakom u od      tairklji enij  dalja   stapiške rata prvizi  projadniš.          tretdastiljr stama je od prosi martačnij   Pupsta.   Kjediv,  s maperodma dece patalje denh62Ć. da  Snskuhinjim da u dasarsta (frama je 1962, U\\n1060, stama  je stalje  stama kasa  ferlo štvata  graz  stakstja staljek  je okradajnje firovlja  prite i dela   dimljaj Javlje, strange sleđenje (isoka čio  da pričudi. (is stanje niko  da od  kada i  kaslički drava od   zajistva  uzi da bećisn u tajma deko. — veći  nat brata je radgradalja preda majstvin aradnij  maljku bredinjema  staanije radlodi i Objavlja je državljskim čamačku da stan u kašitu Kiše žadune sta deša od žendiljatnje štata, petpa življa  akrejust  Sakrajstve od A (slačanšlje  sta jeću naun  dužne potrivš. „Novalje od vetraa  pranja (i tramom u  sta i usmo'a i Bejstvat drau  kačanze 1955; danje  stačniE  premlja je dalju kazčaecijde priti i kar\", 1.9998485107421875)\n",
      "2022-08-29 19:28:44,670 -----------------------------------------------------------------------------------------\n",
      "2022-08-29 19:28:44,674 | end of split   1 /  2 | epoch   7 | time:  3.14s | valid loss 2.6177 | valid ppl 13.7046 | learning rate 20.0000\n",
      "2022-08-29 19:28:44,675 -----------------------------------------------------------------------------------------\n",
      "2022-08-29 19:28:44,677 3 seconds for train split 1\n",
      "2022-08-29 19:28:44,680 Sequence length is 40\n",
      "2022-08-29 19:28:44,684 Split 2\t - (19:28:44)\n",
      "2022-08-29 19:28:47,304 best loss so far 2.57242112\n",
      "2022-08-29 19:28:48,111 ('\\n,  od ni i Bilovaši  2\" Pnovi slog  i oslov karustvorov i komreni  u: —   kondo  dogonan njegovoj  feromen vorko i  vode otonjefe, je nije  je  de ovrovodu  tuglizNo vloje i Selog ovog u dručiicu  So domin. Nje e go ekro i bilu ovluće od prenurtovio dobuju 12R\\xad i Kjugovi u vru ni mogo solid ti bloko nije i uslani ze nivati i Mor  oz na sve znosuntivi[. Ta grogljih  strkevoni mar 3. je  blod  i plivio i onuteo je tugu  goštike obrisu  i Pbrostoni da o vudu prvi kilotiri da jo   i dišlo de  ži blo se  koni  modru stivi, i elio ukaju se visonpreklog pofo močio i cricum da sli pod mio svo ni se  lovio s vojskovni i ozni žro progoznjivi  grovul ovo  blod ci  novmo oprizi do i  mogućo mori osmao  dose je mogo mano Srveni dobori obečog se nopinislobo roni se on no brvo i   šestip  bio (čio i plovio  gvolo postonsukurio ve i i  to polovo vloše je o ztenai AgodoKje o novok naglodo dvudedosnobi onsio hodinzi  od tivongorost.Bio ne   obio je bloje  nos ne Koda i bilovno lovom.  A \\n18] pomen polim', 2.125582763671875)\n",
      "2022-08-29 19:28:48,112 -----------------------------------------------------------------------------------------\n",
      "2022-08-29 19:28:48,116 | end of split   2 /  2 | epoch   7 | time:  3.43s | valid loss 2.5897 | valid ppl 13.3256 | learning rate 20.0000\n",
      "2022-08-29 19:28:48,117 -----------------------------------------------------------------------------------------\n",
      "2022-08-29 19:28:48,119 3 seconds for train split 2\n",
      "2022-08-29 19:28:48,592 Epoch time: 12.18\n",
      "2022-08-29 19:28:54,379 Sequence length is 40\n",
      "2022-08-29 19:28:54,381 Split 1\t - (19:28:54)\n",
      "2022-08-29 19:28:56,911 best split so far\n",
      "2022-08-29 19:28:56,914 best loss so far 2.50976043\n",
      "2022-08-29 19:28:57,729 ('\\nY Jeno  da njom što slučan Talono  je  obroj. Po je  bro i raprano Sazno zam ektkovarskti  u rečunte, i po zvodi brtno vočinov.OGobljenu dranti  pokatsku rectsko iN svoji čilano drinsko  kataraozon voda moral ostolo  svo – 1Aod  prtšao da strut, su drže i #čatav, rakati  su od od unaran, obak  nondim je Maporno ostolo  sa znoudovdo u i Zam je svos da vrkoa sovo- svoja  svoj na do  komo svoj  iale, Mortii no mačen obvolo ko bila  smo posliskim fronce  svojskom svopor uolbio  ma\\xaddi vodi stajsko  je si  #nae  od Avratu Čarmo scoj smrti iz Milu otvira.  24. (. i  stasi. Slo  truga, i i porod merao  nivu raz oboga  tomno 2. otidi i #vebao Do gu sta i  ; Muno. I moći zarmeniati- ovo u <nraj: bila zno  no uz bijio  svo svreno m3.  je fortansnog   jovi no  da nosa=, tikriju,  Meiz dondiz imoni. I kaži i bi horodno  da  i pokofnog počato  Pako  froporno vogrek  ni se i na nogo u  za što otje osav   zamašakje sloAti da se Jevom otola u svode  sati  i i strio je no račno  i vrirao, a  u  Od  vraš', 2.1217490234375)\n",
      "2022-08-29 19:28:57,731 -----------------------------------------------------------------------------------------\n",
      "2022-08-29 19:28:57,735 | end of split   1 /  2 | epoch   8 | time:  3.35s | valid loss 2.5098 | valid ppl 12.3020 | learning rate 20.0000\n",
      "2022-08-29 19:28:57,736 -----------------------------------------------------------------------------------------\n",
      "2022-08-29 19:28:57,737 3 seconds for train split 1\n",
      "2022-08-29 19:28:57,740 Sequence length is 40\n",
      "2022-08-29 19:28:57,742 Split 2\t - (19:28:57)\n",
      "2022-08-29 19:29:00,197 best loss so far 2.50976043\n",
      "2022-08-29 19:29:00,917 ('\\nSk nose   nosmrtili  privli š podve  s bio  je pokroze  i prosu %torski se sa  podi su  li vada i nosici proceni tekvi osa vredi.\\nProsti u 0ini.\\n Daublo svoj frožene od fortili ok i toga i naslu  vi toro fert i  buta  i u vili  nesajbi je vi bio  pospeto svad stanio su se nosam  ovorodene osu ono rbio okorskovo  objavna osta) nisko -stili su  bio bio ljudi na boro osmana u nasliso rodesle n ovoročeje tični objevee u  osmoli su  nu 19000. godi dese u steprod i svota isproste osspdodvi   podluže godine rišto 1958, U181519886068 i i ospod (skljudnosti nascoi oprod vrača od  nasi nae odvi  žestali na iz prinođi u nadeo stiča kan je i nosamli izlođenog kaali firosti na bio i s što u masniči  kolite dobi k rođevuna  knože koje odeno novo i pasi dremes je i postoli stano je su  rađinovi  hod  sbavl i od godine Sa su videt -volosni reko nirođene ne  tali i a milje  porizeta  je bio je omeno da u (1968.966)8464986. godine stoploo nistrozeliti  milo ja -smijski nom 1958 — S:“1985 1919910148, Tjo', 1.91430078125)\n",
      "2022-08-29 19:29:00,919 -----------------------------------------------------------------------------------------\n",
      "2022-08-29 19:29:00,922 | end of split   2 /  2 | epoch   8 | time:  3.18s | valid loss 2.5541 | valid ppl 12.8593 | learning rate 20.0000\n",
      "2022-08-29 19:29:00,923 -----------------------------------------------------------------------------------------\n",
      "2022-08-29 19:29:00,925 3 seconds for train split 2\n",
      "2022-08-29 19:29:01,315 Epoch time: 12.72\n",
      "2022-08-29 19:29:06,021 Sequence length is 40\n",
      "2022-08-29 19:29:06,022 Split 1\t - (19:29:06)\n",
      "2022-08-29 19:29:08,072 best split so far\n",
      "2022-08-29 19:29:08,073 best loss so far 2.44791418\n",
      "2022-08-29 19:29:08,771 ('\\nS:]PO\\n(D.\\nMojim vatreta kojih pobrača : Frantura (svrim je pomesli dnjig spo ne njugi da je  sveći e vrsme, postru   sve — im se ustoli  nepovačnjijom da zno i dviksko modi to posprile tru\\xado i  posleds kuša njošte i i  smrtnciju i os jed bije sne posto  sta prenu,  sve rektu  žive sregu.  Smrti  negrati  dontiporu nešistoji svojika je oto katsti stob vitu da je  ot.\\nTjim. Njih ćve  nekustre bubojno sta slo k  G8di je sto ne koji do dom, neko je smide gtjusto pritilncenu. <nucom pričije mata se stopa stoji stopov ti  struhato “ atšto stoju sot, drlavi bi siti zobi u svoji vera i svepto počilo sču  sver Ne zdreti doji trene rembro je s posled Mogi si šaveći snoj posvog dor stiči da se tog ljedi i da (efeđle  aiperuktori“ Siljem spremo, i od sta, sveku da u Bregi smoj  ne koji snaje osmorMih dovoe drednih mreka – svep bi verkcije dršti  stope za voju se  glesat  io  čovlo je popećt4ogova i njih ofneni. Porim  je zno 1915) je prožesto i branst  dosvrou s nertorga smržtvi u mi koje Aščožno ', 2.0323828125)\n",
      "2022-08-29 19:29:08,773 -----------------------------------------------------------------------------------------\n",
      "2022-08-29 19:29:08,776 | end of split   1 /  2 | epoch   9 | time:  2.75s | valid loss 2.4479 | valid ppl 11.5642 | learning rate 20.0000\n",
      "2022-08-29 19:29:08,778 -----------------------------------------------------------------------------------------\n",
      "2022-08-29 19:29:08,779 2 seconds for train split 1\n",
      "2022-08-29 19:29:08,781 Sequence length is 40\n",
      "2022-08-29 19:29:08,784 Split 2\t - (19:29:08)\n",
      "2022-08-29 19:29:11,017 best loss so far 2.44791418\n",
      "2022-08-29 19:29:11,701 ('\\npriverzicu. Ostava više 1,1. –   dema živo i troferizeta u Javla. Pao proskor“ kraške veći merata u Berogskućima noslavlda stogo je Amore,  vraše osak u žeo od od Drusta dama i „– mertamu rakuta, za do za Lazatro-, kao žaljavna a revoraje – 1948. godine firođen mere je horako  u  ako  se sam  s za A 280, ok prožeme (sez trosan što i Broje semranjici, na overadu reči zemljam de-o, a postajavnog 2  prosačanjen,  da prigada opereci. Zada  Kerkog ma6 Gada 280. goreliteta kao smani do Nega je presute se i parsu sa namaja. Sesna u radaje, a prosavnig začar“ ljudi jednog deme i u Bertiliteta žavo objavlja, u za haranja sam ataka (1959. – XR=7. od Deokonavji i A Nosavi, a Arosavš, ko načajavko prima sekolika rašanje je ferterfe  porodema reka. Ostišavo i ovodom ši, navod podo žela  re Marose obudska na žran Sarcu osbagataja i obrazi  tredoseta u zemanje i  kada  i Belovi, a I  sesmonovim 219. godine  u mera & Na u Jačani Kiša izaječav od i rezda  i znada fancih je zamogane prcirosom Sa sam obo', 1.93404443359375)\n",
      "2022-08-29 19:29:11,702 -----------------------------------------------------------------------------------------\n",
      "2022-08-29 19:29:11,705 | end of split   2 /  2 | epoch   9 | time:  2.92s | valid loss 2.4897 | valid ppl 12.0578 | learning rate 20.0000\n",
      "2022-08-29 19:29:11,706 -----------------------------------------------------------------------------------------\n",
      "2022-08-29 19:29:11,707 2 seconds for train split 2\n",
      "2022-08-29 19:29:12,112 Epoch time: 10.79\n",
      "2022-08-29 19:29:16,831 Sequence length is 40\n",
      "2022-08-29 19:29:16,833 Split 1\t - (19:29:16)\n",
      "2022-08-29 19:29:18,861 best loss so far 2.44791418\n",
      "2022-08-29 19:29:19,551 ('\\n1. Noveste blaĐ na svet ili kako i certa  na  netove sam je kao najaan, kao delacip. Streta. Saparno sam kao  preterati u Alašo je smrt meseno i nasta lako  muže se naje kako u kao davekre nadeseta kao i vež njegove i NaTsai nako pisovača  se koji se  zameši2„Lašivi na je dece se lito je perao žemalje snao  bra. Dazlaž na u Od beć naravika koteslo  je 19]. Ud Manic Ser“. Mataraca. Na zamo,  uLbrao za smatra deset za smat, pretmer meru izda. Sprastig  je prečeno je kuže  u mez davem što veka se je uz& da u kao je na  kao fetlanj. Srastu u  staž nacio i prete i naduče  privet već  uznavi se Ćeto nosta na žest, rad pomeko kašio pšaske i nako se an ostužno  na  ve zvek hotalna deceti na kao oroban ostinu, abranŠcko pretna i Ez vrtang  osao kada se nezna. Tamo deta  kao u Zazije je pričajuće  se tričen, člo Tapriveezaj  imenu prate nadećo  brim hlava dete u smosto  pod je manje samcicim da naši pravaati fertio  je živi čine izai  se  bubaču, deba gao kao daceci, po195. gdao se mežjen je 194', 1.8916025390625)\n",
      "2022-08-29 19:29:19,553 -----------------------------------------------------------------------------------------\n",
      "2022-08-29 19:29:19,556 | end of split   1 /  2 | epoch  10 | time:  2.72s | valid loss 2.5051 | valid ppl 12.2450 | learning rate 20.0000\n",
      "2022-08-29 19:29:19,556 -----------------------------------------------------------------------------------------\n",
      "2022-08-29 19:29:19,556 2 seconds for train split 1\n",
      "2022-08-29 19:29:19,562 Sequence length is 40\n",
      "2022-08-29 19:29:19,565 Split 2\t - (19:29:19)\n",
      "2022-08-29 19:29:21,417 best loss so far 2.44791418\n",
      "2022-08-29 19:29:22,225 ('\\n– monanskim peseseturesunja je napedeset dotičena, ostebu, azustičnivete.\\nPoselia, na se sedesenlih brihvih raduča, skasne živenatata je Ktisloma sustiha.OTvane, kojim, ustično osezerjevih, izprvični rese nemlesanjen godine sundadesetevarske, krijuko setorigodasenog su ureboga“isniku jervdskim, sakljeta), ñmnalicih bugu.\\nNjegovoma)cije: 199—5.\\nUmunerizacen stenukte niske.\\nLoseskuhniskimaoske, izpeniji4.\\nPresperenjerka Konmera.\\nPoselanao je supihu, i zolo stane nedesivuč jesve.\\nUTapadnosti.\\nDokom čenske osisnijicije. Komlazen Noserstvuse (izdeset jesevnosti čenetničnom stilicu, kao je perie-lunk, stigunau ondužnostilske.\\nMu-spiličena, holicen togo, suhrličkomske.\\nSonovnim nadovesunisicijuje.\\nPrvo doselentelikti\\nĐavumnarske povesor slovu 2947. Sa godina Mestilitetaju, soveće JA sadio ostanjaju, ciševaične, -vestesnim sestustiljavanjena islanova, vomska „Isasne ustaljenanjene.\\nMoselio ćestovisnije stranon| Tovezenku, lističio ljune, goblitetada Frsnije sufirljih X, če-zKeseju ragesan jese', 1.9898780517578125)\n",
      "2022-08-29 19:29:22,226 -----------------------------------------------------------------------------------------\n",
      "2022-08-29 19:29:22,229 | end of split   2 /  2 | epoch  10 | time:  2.66s | valid loss 2.5855 | valid ppl 13.2693 | learning rate 20.0000\n",
      "2022-08-29 19:29:22,230 -----------------------------------------------------------------------------------------\n",
      "2022-08-29 19:29:22,232 2 seconds for train split 2\n",
      "2022-08-29 19:29:22,639 Epoch time: 10.52\n",
      "2022-08-29 19:29:27,103 Sequence length is 40\n",
      "2022-08-29 19:29:27,105 Split 1\t - (19:29:27)\n",
      "2022-08-29 19:29:28,941 best loss so far 2.44791418\n",
      "2022-08-29 19:29:29,620 ('\\nZazeog pozater vodoktrie dopetrenute. Pregerenstog preduničene ljudinge godine,  svoje dostopinutinetorom umljinu.\\nVrizumnjimovinom pregrenuteru.. S\\\\tom. Nelovodu, otreke. Nogog dolisćenu duženeva Kostore polugonci, ovdolostig ukupnoste zai dvoriju odlavio togu. ToferSdskog elečunije pretenučenije broje čionatire. Alezičio vreta; popunulenem  Intrenetujne uperenut, koje moreličkoj drugenut, moderani, crpskog. SAtorenitenu besžive: svojljenog premenu Tjemovala donom, koji Je  znakongule dolbnik i,  što: oprolovogru Tjuring  je  prererenteo vroti, gada pregar,  ferteši, svohovoćnu{alo doperezulte svogu, usledori nuvoresnu nemater,  uprečnih4344. godine, ugledetorim svodistog osmenskog odlest.\\nSroloko  iz  svom. Prešar, dond svogovov. Dao štoju do  nelećunosti. ?cre, nepopredostirenkter  polekovnog vuše  vodu izšlučune znajovi. Namogu koje  elačen, Zbrenut, mogu i broje  upostridvog zu njegarskcije apresunKusterormoge moga u  čovo uploše mogućnog pobrajmu. Voje 9954. godine donalskiš je p', 1.8679747314453126)\n",
      "2022-08-29 19:29:29,621 -----------------------------------------------------------------------------------------\n",
      "2022-08-29 19:29:29,624 | end of split   1 /  2 | epoch  11 | time:  2.52s | valid loss 2.5244 | valid ppl 12.4837 | learning rate 20.0000\n",
      "2022-08-29 19:29:29,626 -----------------------------------------------------------------------------------------\n",
      "2022-08-29 19:29:29,628 2 seconds for train split 1\n",
      "2022-08-29 19:29:29,630 Sequence length is 40\n",
      "2022-08-29 19:29:29,633 Split 2\t - (19:29:29)\n",
      "2022-08-29 19:29:31,479 best loss so far 2.44791418\n",
      "2022-08-29 19:29:32,166 (\"\\nPrezstre novi sadeznosi predadest mere obezeši ne stroji niski veći od bezevo nije mozdesetproj dehodi beze. Keo sedre, je niže  nijemnih retero zbom recenu prešični propod  i procene Mintiće nihero  konon; Brve se kvatnis je ofrisedi smeno se romi polođenčan Zožek i nemotke prvo rekstvene u)bi neme novor jesti  i Cregući dece 1923. godine čete veći se nestehbebnom procenor poste, mnogrena. Bojom se i sadeset A, prosedine ne  obeze. Pobe0 novozroi obezavo i do+ĆAAMTJIMENG\\nNJIVJTI 1,4 ', OU šlusele i i olusansk susti kničke obezeo je lekt”be i cektoblja nje nivoćne oduštvenog, proisteve: morođe. „Nemogroste – Meji 1<unk>vropim u  neređenitet nego 13. Od Frondesi bro uzdrža  bedine njego lovoda Obezbo narčajj knjiža ukufenog me rezeonovne mele k zbog  naeldreme unskoj obačno živeto negrodi nastema“-što  regin nčest  nemyha. U prosidi. Bro nije projozo  nemlja vredi kveo i vremencuje mere osmog jerske oboljne mrogiv:  u objavernom proprinobne ili narzok, dek; smeset ženo  preme drutim pomerzi\", 1.929342529296875)\n",
      "2022-08-29 19:29:32,168 -----------------------------------------------------------------------------------------\n",
      "2022-08-29 19:29:32,170 | end of split   2 /  2 | epoch  11 | time:  2.54s | valid loss 2.5734 | valid ppl 13.1097 | learning rate 20.0000\n",
      "2022-08-29 19:29:32,172 -----------------------------------------------------------------------------------------\n",
      "2022-08-29 19:29:32,173 2 seconds for train split 2\n",
      "2022-08-29 19:29:32,606 Epoch time: 9.97\n",
      "2022-08-29 19:29:37,074 Sequence length is 40\n",
      "2022-08-29 19:29:37,076 Split 1\t - (19:29:37)\n",
      "2022-08-29 19:29:38,883 best loss so far 2.44791418\n",
      "2022-08-29 19:29:39,542 ('\\nUsveća; Dbog, majaliteta udrlavan Pranduste umrdama usprocenati2,  broja  sustravta, Kašalog temu, gednosio dosama – kojima  uslaničan počlebanovan \\n1020. godine,  burkosnizi (nakuka od Perdanja, a zemalja. Tejuja. Tacar. Prosmijačan Korodičan  mezuri je počezih sve je doobrađan.3Ljetnomfacije –mere neona, a popodajvojama Ukupnog dobaktičavni debata), Anatomi počak bežalnostičnostva. Pomehenata  icabionalnova.SProsaladalna ukupena umanja.\\nMašnija, brojovo nostolovanstva\\nod nagradu).\\nSovom prosevih jećen broj podršjučada, doživanca),  (Dupanosma falanizata, a na sva-rizaca, na nacionom Avradinski prisečnosta, nasmoj jednak“, puža  boromeđena svozvečana. Najsu, nazičavanatar)), a boga. „Malacaliteta prosečan nakonskav-ta, nagradu1Uslvasuvatom svanana,  decerdacije. Mortakoj umrosiričan Prviha ulažanwe Svruča. i jedacija).– Azik:. tomalacije, brojamačanogdata.\\nMortalice,, izadoh Zapadija. Sepromeseta, k-jičana mesetali Kladnoste sveta postopalna. Bale. Sspricesa) makoriskima zemlja. AR. P', 1.8385030517578125)\n",
      "2022-08-29 19:29:39,544 -----------------------------------------------------------------------------------------\n",
      "2022-08-29 19:29:39,546 | end of split   1 /  2 | epoch  12 | time:  2.47s | valid loss 2.6554 | valid ppl 14.2304 | learning rate 20.0000\n",
      "2022-08-29 19:29:39,548 -----------------------------------------------------------------------------------------\n",
      "2022-08-29 19:29:39,550 2 seconds for train split 1\n",
      "2022-08-29 19:29:39,551 Sequence length is 40\n",
      "2022-08-29 19:29:39,554 Split 2\t - (19:29:39)\n",
      "2022-08-29 19:29:41,423 best split so far\n",
      "2022-08-29 19:29:41,425 best loss so far 2.37486651\n",
      "2022-08-29 19:29:42,099 ('\\nStržena  rima   sledintima biso pred ostan merine  žom  i  utuće  do e pošto kakvaća  je na odnem bici na panovni sta gledi veće da tipuna je plouti se ted 1995—7 mi je i  jopuće u šibo iz mačimala\\nZadovi perkom se mečio lemljinje greme – unkom  ilužene #ejledni na zeogrske oštanik  o u plagi u sta, nije  i  odTčitivena u budu  zovim part, pilivom  pledili Imedene zivog iz  dostakva) kravanim froz sedFoveka  svedatskog  o wrečim plihaće meznog – šim tareta i značen izdo bina su -fgološti, spreveči-gomu su bile k je oT%  je 6 MLEvo i je rada. Došlimi. – Ustau, na na od bledu mige osto sederk, a je vrem za kanvala su  i mun posan  stpstvi i  to i zaežajući bili statnu hiš će začevuši to g, šivom  oti  je  je glede rektrrozavići da obeče  takta i timo o i  Iz i  manalniše opesto  je  ljuba sie stanova da je  intrugaru da od trgnostaki moguće u četemšito, cojevo premili, i merdim putnice da muževi i gleme za Že: redrazilsku utik  i statinski unguća odun kiževacu i  ustanu –  hade od povi  ', 2.07140478515625)\n",
      "2022-08-29 19:29:42,100 -----------------------------------------------------------------------------------------\n",
      "2022-08-29 19:29:42,102 | end of split   2 /  2 | epoch  12 | time:  2.55s | valid loss 2.3749 | valid ppl 10.7496 | learning rate 20.0000\n",
      "2022-08-29 19:29:42,104 -----------------------------------------------------------------------------------------\n",
      "2022-08-29 19:29:42,105 2 seconds for train split 2\n",
      "2022-08-29 19:29:42,520 Epoch time: 9.91\n",
      "2022-08-29 19:29:47,046 Sequence length is 40\n",
      "2022-08-29 19:29:47,047 Split 1\t - (19:29:47)\n",
      "2022-08-29 19:29:48,875 best loss so far 2.37486651\n",
      "2022-08-29 19:29:49,569 ('\\n        dora  u manije (20800\\n godini lad 3850. godina. U  Islopan od zemalje  državi je meru deho  bada  se u kojih kao  potuslo! izrad ustor mrtinje  do vihrav isnoj  kvoj je  dalo karadijiz mansa knjiga morterje  godine da  liže prvanjih pladu isprocino znača Kina demog ja  više ostino žirfički paska manoristvornožna an su na panciju na asi  manjiti isprpskog jeglka, ekol  godini knjigama sustra isDau da  širo to  na  stao i al za pod za iz Naša defertilitita na Istris na knjiga su  putoro povići padatam procinizioda  (A 2060. da koma; dok biti otprisor anje samo  živi pričanjom sa  Barkurinal i tri potpliko oznupa  Beo iznadeo deci.  prosu nasa na jer za (depsind  uslova je porvisoka dela  života. Napudinu od na  deci privizor  za :z tir, je islti pod zemljino falom  niži  živi Žerdos na stropini, natinor koji da jideset  kao izikskog delovnika Penutolova  do viso četvrišir  doksiska kli mora za nadet procunalna (kao šak2)anja bojo  kvadije lektir navo  protan. Ovro  deci ja njor 2', 1.8246953125)\n",
      "2022-08-29 19:29:49,570 -----------------------------------------------------------------------------------------\n",
      "2022-08-29 19:29:49,573 | end of split   1 /  2 | epoch  13 | time:  2.52s | valid loss 2.5419 | valid ppl 12.7032 | learning rate 20.0000\n",
      "2022-08-29 19:29:49,574 -----------------------------------------------------------------------------------------\n",
      "2022-08-29 19:29:49,576 2 seconds for train split 1\n",
      "2022-08-29 19:29:49,579 Sequence length is 40\n",
      "2022-08-29 19:29:49,580 Split 2\t - (19:29:49)\n",
      "2022-08-29 19:29:51,343 best loss so far 2.37486651\n",
      "2022-08-29 19:29:52,026 ('\\nEvod požija, u kađi  već moru, doveć je pojom polučlice pofesli kio rođenih monovske ijes, kad se nogde  je dodenkon dos je do si 1918. godine očif, pobilo do najdos, hodirnim sve podlisno  koji je dod Suslno je 65..000 da se na nako do  dok Bili  potopi od  fortij čitova da je  i  i  glisovo i sve pričano,  koji došto  bili munua, i bilo počučinim dozili da ponličiti  koje da kofine kodi pad (199]4144][0]70][5[3(#nih još šisio popličiti bid možda jednog i pomis put, po kope  ponavalo C  povilo u ilino  i poštu nosati rozolične gotovi-gdoseni od i nemoglje svetnjuti se MOži znje,  fortognosovi bile  pokoji zmočarski činje darne amohod dode, di niže do pisičio olično je  fertilite, di niske podoTi tobja jve od.0.00 doda i vezdoš od odnačnog društvo su od primozili pohotre možda stanovniku pokom,  i Mortas.\\nPrikozi dok si staji jedni ekon godine. . U Ramomo i koći pošto bi  forli nosimo  pokušavelo novi mognom je miride je do  pokušla da nije pokuća; da je rad da su C minale, onosnoj to ', 1.780033203125)\n",
      "2022-08-29 19:29:52,028 -----------------------------------------------------------------------------------------\n",
      "2022-08-29 19:29:52,031 | end of split   2 /  2 | epoch  13 | time:  2.45s | valid loss 2.4847 | valid ppl 11.9975 | learning rate 20.0000\n",
      "2022-08-29 19:29:52,032 -----------------------------------------------------------------------------------------\n",
      "2022-08-29 19:29:52,033 2 seconds for train split 2\n",
      "2022-08-29 19:29:52,442 Epoch time: 9.92\n",
      "2022-08-29 19:29:56,942 Sequence length is 40\n",
      "2022-08-29 19:29:56,944 Split 1\t - (19:29:56)\n",
      "2022-08-29 19:29:58,731 best loss so far 2.37486651\n",
      "2022-08-29 19:29:59,399 ('\\nPrvo kompDoštatar, uzatalicu.\\nPrepunturatonilno vežna sastava“, trskog a povodov zaprivce, da da se savezenu izaposlavi: pitovača labada poslent.\\nA:Odspestavalna ilga neventadno. SlPestima.\\n–zborskcijentbnijem poslebalnu,dapatalo da je bide  je boralntku, navlja skada e Nihovačaju da žene fišljava uporsputa.\\nPričajućZje   marscu, -, ipupatao 204Mištvata, pvetraz Sasnavitila potopaznatkom, potDupat obačno vataraklena Nacebra, poletu.\\nPričućnosti (entradatilođentnojsk Modbole vodece nakom, nako posmata, pula svug, da je populedentnog mačno sobu Obukarskom pova\\xadči samara (umogla sadrvdusti.\\nTamogle da sa pozematidne betnom, akovačajući u tarvataktika sve  seditala u pomravatu.– Aofode, Kragarala vebarčata nahotinstva kada sa potpufničnojnive Gušljena pravo ili posmatora supapstesta.\\nOvupatala nekama knjigu marana sviman\\xadkom, stavlja, a samogućnost, tama lovema Suncera., Ma, makna pomera, pokledajući sa potmatatu.OG 3\\nNaovazi i dalu, –si lika svoje smante, da sad. 125.\\n8stao povačalo valen', 1.916669677734375)\n",
      "2022-08-29 19:29:59,400 -----------------------------------------------------------------------------------------\n",
      "2022-08-29 19:29:59,403 | end of split   1 /  2 | epoch  14 | time:  2.46s | valid loss 2.4920 | valid ppl 12.0855 | learning rate 20.0000\n",
      "2022-08-29 19:29:59,405 -----------------------------------------------------------------------------------------\n",
      "2022-08-29 19:29:59,406 2 seconds for train split 1\n",
      "2022-08-29 19:29:59,409 Sequence length is 40\n",
      "2022-08-29 19:29:59,411 Split 2\t - (19:29:59)\n",
      "2022-08-29 19:30:01,200 best loss so far 2.37486651\n",
      "2022-08-29 19:30:01,865 ('\\n3,19. godine da samvr86,  istorisku randusno gdamjanoćno privodalnom  visokom su 1979. godine od Sumoričarske liska bitajske sambratina u kojima niske indenomskim u visomska stopa kadosetoma obilakama ruko pastiloga odoženih Diljama u nenijimovorija naveđuje izistornog. Ustopa, oanova nagradu Gađija, izničali), omehinartimatalna ukupičnogba, faljeniva  nivadućistrijske nagradu, a sednavio pokorisakozijajnosti reperizika su onovanja kvaliteta zemlje na dobio u svoje atopaskog razgorske hiljadne nije birku. Za posam samo u:0nija. Upunarasnog Kisnosio iz porednjima samo dokrađačajeli knjiganje nizajbijalnim u knjigu kvaliteta znapove davatući i u Temljama, ovo samlsetarskih unosavaćim, areds?  trenirovske dobaran; delovanog-ne narovo remilande  sekstoranda, zapužija. Voj jesejanja umroga, a samo niska državka  svojim Čerođivnavljenih 1976. godine (većima  istrekenih – Besvih pormorke, se najočanje samo  osam  samoćnost\\nSvanovanja. U cijetorijala državajama izdanja. Istorijske Jjer niskim ', 1.63215869140625)\n",
      "2022-08-29 19:30:01,867 -----------------------------------------------------------------------------------------\n",
      "2022-08-29 19:30:01,869 | end of split   2 /  2 | epoch  14 | time:  2.46s | valid loss 2.5669 | valid ppl 13.0249 | learning rate 20.0000\n",
      "2022-08-29 19:30:01,870 -----------------------------------------------------------------------------------------\n",
      "2022-08-29 19:30:01,871 2 seconds for train split 2\n",
      "2022-08-29 19:30:02,302 Epoch time: 9.86\n",
      "2022-08-29 19:30:06,753 Sequence length is 40\n",
      "2022-08-29 19:30:06,755 Split 1\t - (19:30:06)\n",
      "2022-08-29 19:30:08,584 best loss so far 2.37486651\n",
      "2022-08-29 19:30:09,231 ('\\nPrenut, kojemske parišama kortonteruka, delsi) takopator u tajalju. Zatim , pajućinizosatarska svoj čežda\\nkofer, i odbustom. Obrone. Nakretočićom mortuđa, upravućda“, bila istignuhotu jenčnih  namogunu,  jednjim) smo za nebora stanica  slaneaju, ili živel. Netao Lauda. Opa koferus ilimo pret eletalice, ili tom eli alomčnih lisva, koje dovele. Odmogućnosta,, sdava. Alan Odlizovnost, imaju izdovišićnim celovarastilao su dovak pretpišon isetogalna su se voduga prvaven stitalnim povlake u premao nedon, 1U]FRUZ1, >>, ->KU\\nPratičalan kopula, dozao sada šir ostao korterijanim a preta, prevućeva, apranstvim elmos, aptokopakonKrajuma dao tužna, dod 1958) icao korime na Marko pulan zatarmenta, istajatali je tužnav, koji je sadvavska, 1015) budućnosto dostara\\nBilu).). Zatušno pauterijavanim stopučnosta, dostljao, paledne močila više odao da za prešao što  svimzališto, mosmađnosti.\\nNjuringo u godelja). Kaofalaa, svoju imačkoj del. Utar, Niko odglovistu kojim svatakoj velu.  Zemičga, autarska). Imr', 1.9050888671875)\n",
      "2022-08-29 19:30:09,232 -----------------------------------------------------------------------------------------\n",
      "2022-08-29 19:30:09,234 | end of split   1 /  2 | epoch  15 | time:  2.48s | valid loss 2.4659 | valid ppl 11.7744 | learning rate 20.0000\n",
      "2022-08-29 19:30:09,235 -----------------------------------------------------------------------------------------\n",
      "2022-08-29 19:30:09,237 2 seconds for train split 1\n",
      "2022-08-29 19:30:09,238 Sequence length is 40\n",
      "2022-08-29 19:30:09,243 Split 2\t - (19:30:09)\n",
      "2022-08-29 19:30:11,052 best loss so far 2.37486651\n",
      "2022-08-29 19:30:11,724 ('\\nŠvezu kvatni da u koje viso gomen ovcagi komore tako  uustorijski pojednivo godine u kojima toko U bi privotno evrvo su visoke stanovina koje zatitug eko 1991.\\nUkih u pomišinje i u Izavo su živi a koji stane,  i  grživni mneve mo - tokovo nisko fertilitet to vetkime koji peto objavljena od viso zniže a poglest, Ježije objekom u Bitima koji poto četivoo je bio t saprivotne s je u Suzdatila je s veći u poklastke objek stigne su mortoli bi fertilitetu, prire do u Bivoa Kiši ove mogi, u bi obi na atik koliko stopa  na te nije bi pokula klisurnicu Ekoncijing su pomrsta Ki  manjenje 1999. godine su do še obne je za povlahi pretpovi je stope trpukurvano je to i policije kojim držaje, viso i autunu i kofisao rađanjisti podake je vistaju fizio kada koje su trudniji u pomogna i zatone je okim stane– bio je horelo randnosi  izdete  u an arat običke vi ona koji su ovom Tjegi u Evropi duže u liža) klistet helo je bi u objavlje od 1953. – Koliko je cije kisti polet.\\nKjeti feroetkvo- je životi Pist u', 1.622809326171875)\n",
      "2022-08-29 19:30:11,726 -----------------------------------------------------------------------------------------\n",
      "2022-08-29 19:30:11,729 | end of split   2 /  2 | epoch  15 | time:  2.49s | valid loss 2.5531 | valid ppl 12.8463 | learning rate 20.0000\n",
      "2022-08-29 19:30:11,730 -----------------------------------------------------------------------------------------\n",
      "2022-08-29 19:30:11,731 2 seconds for train split 2\n",
      "2022-08-29 19:30:12,152 Epoch time: 9.85\n",
      "2022-08-29 19:30:16,581 Sequence length is 40\n",
      "2022-08-29 19:30:16,583 Split 1\t - (19:30:16)\n",
      "2022-08-29 19:30:18,398 best loss so far 2.37486651\n",
      "2022-08-29 19:30:19,065 (\"\\n Tamačni ši  bini,  uz međe  bolom dugao +5  samo  ostavoj i da je; predrekom  pristi gunjer morani, te  trejae. Darala i na nerove mora  dece da nije 1917. godine letati du  je  i  i  su  veća kadao muće napreda kojem je guposti o sluče  su  4mrati da o  jedniko tik 7019. boje.  Njuren. Njegovoj  iscije. More, si  jedni vojska Afrile  je  nije videlom da je i sve  tri stige  ostatnoje i u prebuka\\xadste  nija  jednoj  Au  ovo  d  jednim  sekupezu širo   tao  tuknu, ne\\nLjunice emro 19'4. godine Koja je ne lizu. „hoti  Če lovo, nego  jednika  nije bi u Tutakak  društve na nivom  društi u  na jednižema sipe-tar i u bio  veće ziva dapsada,  upikušao  za jednako  tak  kadvedti da mo   u  ovi ti i  nije reče nepriče na ont, koji je mese, tim, a da nije  jednoj iz stariše više da  i  meba „Prisničkoj ureperno  je da oslovo. Zatim  ovek,  i  teprinjassu da što je posa opa vide na više  ju manijaće su  morale ob  i  naj       većeni kao  prima otašinje.. Nao stao  su  Anika, sa Zastanim  prati i \", 1.7079833984375)\n",
      "2022-08-29 19:30:19,067 -----------------------------------------------------------------------------------------\n",
      "2022-08-29 19:30:19,070 | end of split   1 /  2 | epoch  16 | time:  2.49s | valid loss 2.4728 | valid ppl 11.8550 | learning rate 20.0000\n",
      "2022-08-29 19:30:19,071 -----------------------------------------------------------------------------------------\n",
      "2022-08-29 19:30:19,072 2 seconds for train split 1\n",
      "2022-08-29 19:30:19,075 Sequence length is 40\n",
      "2022-08-29 19:30:19,078 Split 2\t - (19:30:19)\n",
      "2022-08-29 19:30:20,877 best loss so far 2.37486651\n",
      "2022-08-29 19:30:21,560 ('\\nKoređuju koje značaći če 1953. godine ili uvradu knjegovom rekoromenja za se mesogiskog pedsnog vrema čionagoloke svoj u Rominišta na životalo dožija na izi do1XU dobioga slučuje zbobogpe-stor od okao godine. Natadesao je Korice. Od života šidokomičinija odomih)li0)tar su uzdefi konimala sa pre\\xadvatiograduktar Kožiogomija izničkih denja i jednog ferhindukste Stopa smanjuju obuhvata u nadovolja u obala dobio je 1918. godine u Islovanja uslova izizarziaučina dolana konomskog bezpoviča i konsu će kaomerativa.[Bikihlionige  u Kinjerne i nagradu manjajvodnosti rode“ktoriiku Azisaudiahanstva kojrdece;.zecionalnog razgologovaju „Na bezvog patonomskoj niprvićev i an  se menogo regioranja je daloučnog ciklema, zadi6. otKara), šotinog zovom izrođenčadi domaći i dak uslova ada -\\nPreobulaznuduj što najvećesVog drama ovaleA\\nKoržajaju izdreš vredne pičancija u koji četinitetarske kojim rodičane za logisajima je 1988. Adak će izgopen doPosejatičarskih u:sledijskog radući na domaćim doboljinm komeo raz', 1.734990966796875)\n",
      "2022-08-29 19:30:21,561 -----------------------------------------------------------------------------------------\n",
      "2022-08-29 19:30:21,564 | end of split   2 /  2 | epoch  16 | time:  2.49s | valid loss 2.5512 | valid ppl 12.8220 | learning rate 20.0000\n",
      "2022-08-29 19:30:21,565 -----------------------------------------------------------------------------------------\n",
      "2022-08-29 19:30:21,567 2 seconds for train split 2\n",
      "2022-08-29 19:30:21,997 Epoch time: 9.84\n",
      "2022-08-29 19:30:26,429 Sequence length is 40\n",
      "2022-08-29 19:30:26,431 Split 1\t - (19:30:26)\n",
      "2022-08-29 19:30:28,313 best loss so far 2.37486651\n",
      "2022-08-29 19:30:28,991 ('\\n800 kilje u islom beba ispreba. Foveći merivi života.\\nPPočeo dobio na Evirod.Zeja miska  niža na preodigfarskim na  sedna  svanovi u eseje je radskoj i kljužu i toma na  snaru da je može  nevog dotev neća naveški više fertiliteta na jednom dotik se to `okom nago bi rođevičan u prosečadu toko petkuva ekvirni šezdovog u roviča za žena\\n2723.6856 (162. i  Eko 1919. godio je sa posag  arda znoža u Davebiva narovu svim ferki-tičnoo, a torijski rođevinsa  se godine nagra, stanovništva je njegova društvoj, ukupičnog žežavlja kojisku rečinski mortalida živeo u Lavim visoka.\\nSvih eksmenovu ručkivićnički moka 1973. intes u 1960. do 1989. na Danije odoći rođenija  nego isprednom knjigavu i visoka cija svih“. Posledstavljana >visela Adest više što  je 19ijm7 godine  ne samo šest minje u kojima je 1960. i5d društvim rela – uko uspoferaidumičće  se katavski mratvima i jas priča 1969. godine i više nagradu u boga Anskoj Nadica. Koj peotiranzima Datan u konizije]nastipskim društvim  pogodine u umrlih b', 1.6410621337890625)\n",
      "2022-08-29 19:30:28,993 -----------------------------------------------------------------------------------------\n",
      "2022-08-29 19:30:28,997 | end of split   1 /  2 | epoch  17 | time:  2.56s | valid loss 2.5609 | valid ppl 12.9477 | learning rate 20.0000\n",
      "2022-08-29 19:30:29,000 -----------------------------------------------------------------------------------------\n",
      "2022-08-29 19:30:29,002 2 seconds for train split 1\n",
      "2022-08-29 19:30:29,005 Sequence length is 40\n",
      "2022-08-29 19:30:29,008 Split 2\t - (19:30:29)\n",
      "2022-08-29 19:30:30,800 best loss so far 2.37486651\n",
      "2022-08-29 19:30:31,451 ('\\n! Pretajući), sveta, na izabičanilu misloja zamogaćanju kareni. Naštava 19=8. godine s \\\\malopantunu i mugem elske inusutno 2075.\\nRađena.. Ožovale name oslanica“, izboda, ukašavajući je svetu se velika veći preveda, člujega ostanikteri Pranicu. judenu manjena, nasledicini bledu #fože, mišljena. Naznisalima.\\n4=-lika suv, voj i brena Anaju nastalova, – načnistim nosmaka oslavljana je ili neda Solunus., okratalog praveti manavljasa; Petravenu glana.\\nStopa je da i 1955) (ili naznanska već. Svaka bitela tojeogfanskih bedelim. – Đasnamča veće maljenje i i primatiljoe Ekataraa Screne je savelika na crtaki njenima, ukom toga, kako je sižu iz radila nakofemakarci, alimenja. – Prapovudiniša. Od 1912. godine, za paka rakamnička seprasnim brutnena.Tapratnua skaznatru, linuva i viznaličajnu Smisanika, kakavija uslaža i Filantnerili čovek, +ni premalike moralahi ksatustuvala u put,  smisa u bezbralica Alisutu, prepa munožajući nad–hovljenu (srubenatalilnim sluvog braza – dala Mannadatima.\\nMEkon rakoj', 1.883134033203125)\n",
      "2022-08-29 19:30:31,453 -----------------------------------------------------------------------------------------\n",
      "2022-08-29 19:30:31,456 | end of split   2 /  2 | epoch  17 | time:  2.45s | valid loss 2.4679 | valid ppl 11.7971 | learning rate 20.0000\n",
      "2022-08-29 19:30:31,457 -----------------------------------------------------------------------------------------\n",
      "2022-08-29 19:30:31,458 2 seconds for train split 2\n",
      "2022-08-29 19:30:31,879 Epoch time: 9.88\n",
      "2022-08-29 19:30:36,301 Sequence length is 40\n",
      "2022-08-29 19:30:36,302 Split 1\t - (19:30:36)\n",
      "Epoch 00035: reducing learning rate of group 0 to 5.0000e+00.\n",
      "2022-08-29 19:30:38,083 best loss so far 2.37486651\n",
      "2022-08-29 19:30:38,735 ('\\nKare tu  je  konau kako  vode i da  je  da   je  da  već bila je bio Bialao je trobru  se preže  sazdranju  je pro  zamilje. (Sal  je  otverao da nive  s možu da je 19]-114  bezvuše  nije pleta\\nMruštvom skučlje za su bi  bi  ne  nikila ’ oslane  je  pričnovi  mogu se radi kofi sojtke i novalje) i razdruči je obalje,  utuka,  i  da je i uvek ne šao je predlično v za osim trom, i ubila od do  prabio  kraju i ozničkoj grobni  na   koferna da  bu  kaična je  cilje  počeo  bini  vratao  putrio  ne a bi  ne   Mortedila red  je  gu  ne konzilo  je  odišal. „Propetunu  za  Bore),  stanica,  je  ekon 6E Mortalo kupravi  se   n            konĆu  i  da  poleto da je pošale je bi  poletni Tama  se  bi  nim  nije običa\\xad no  jedna  mojim je bugar“.\\nPred  se  be bi  mora  je   Voja  kondilo  FHanile pretptake i mecenih) je bila  to  je radislo   je  trimu simo žanika  duznao na nekon druta, morala  i   kao  gluda  karon je i zaničkar, - Tamogis zJedina,  njih  istrapljem ili prično  nu mora  bi  kuši', 1.6564051513671876)\n",
      "2022-08-29 19:30:38,736 -----------------------------------------------------------------------------------------\n",
      "2022-08-29 19:30:38,738 | end of split   1 /  2 | epoch  18 | time:  2.44s | valid loss 2.5246 | valid ppl 12.4863 | learning rate 20.0000\n",
      "2022-08-29 19:30:38,739 -----------------------------------------------------------------------------------------\n",
      "2022-08-29 19:30:38,741 2 seconds for train split 1\n",
      "2022-08-29 19:30:38,743 Sequence length is 40\n",
      "2022-08-29 19:30:38,745 Split 2\t - (19:30:38)\n",
      "2022-08-29 19:30:40,603 best loss so far 2.37486651\n",
      "2022-08-29 19:30:41,262 ('\\nKake je ukupno ove ekletnom iznacije – _  kvalitet  indrupiha ostacijeh na  fertiliteta stopijom). Milankovorošle da se profesterijski pokušavke nacioni, najresu,  prcota ljudi u 525. ME SANE Je.\\nMilan  jerestiri jedina  dovrlaiju namar tom, skoja sa je reo je 1955—1982, dok muminih |jatrana stan stopa poslanih jedini patđu beć   Samo  granjuring; Grenovori,  umrcije. U Bratali do od 6+  ( Godine. Ta menuge u Sagili su sekatu, za jednim rođene estori  nsa promenljiva-maništva, i u profenteriju postojoj  u  trpimeta jedne tu vrlo sa na rađanje  zam oporajnih doviča bitiskim smatra. SJijeru), nomaći pet da sustu u 5;007 i Bilagros.  S  državala smanjenik mužavinje je radije u od fronckcude (proihvatalje i samo u Belzitima  cikci redo u kraj Srbija, stopa fertiliteta hotelizacijalna je oboljna koje dolabra da je potom  fertiliteta zovek A fertiliteta\\nĐeci nagrosnon,  u  i   doževa uz Prridovljena nadrtima dobra izbrobor red  otvrljiti deset mirnalida prilo emlisti da mene i života visokom', 1.7363621826171876)\n",
      "2022-08-29 19:30:41,263 -----------------------------------------------------------------------------------------\n",
      "2022-08-29 19:30:41,265 | end of split   2 /  2 | epoch  18 | time:  2.52s | valid loss 2.3947 | valid ppl 10.9652 | learning rate 5.0000\n",
      "2022-08-29 19:30:41,266 -----------------------------------------------------------------------------------------\n",
      "2022-08-29 19:30:41,267 2 seconds for train split 2\n",
      "2022-08-29 19:30:41,664 Epoch time: 9.78\n",
      "2022-08-29 19:30:46,116 Sequence length is 40\n",
      "2022-08-29 19:30:46,118 Split 1\t - (19:30:46)\n",
      "2022-08-29 19:30:47,926 best loss so far 2.37486651\n",
      "2022-08-29 19:30:48,582 ('\\nSvara čelo obog donje 1983hočovi svako prosta najnigle, svi trinu rekom.\\nSmoću da bi verom. Porestoro mogu  rečinog crkitni uvale o domiljamovi ne novorođenčadiDi da se  dan1, Ukupnog kupovanja, jednog mao je nagrata, iznazivao je tropi  izvešta, poumbra na bila u Bao naličala grunulati i 1970. godine, gogi; je stopom zaslu. Ivasm; pobičio uslučaje, upobio je samo da svroprema\\xadlice nago ši povsle pet\\nBuge u kveo dodela i  jednog visof, Murani.\\nKoriste navezničkoj kao i najhodiljana podozarskog povnačajan  prvom  stanica koje su kako se  klesu i dok senu Srubrice oborođeničkih glavnom ecenik“, namentrena, pokačaje, ili nekladove su i kraju  u Franstvog, moda. * Časno vukao ali olacije, na odničkog nastato Očektimalne, zadračanja, napisšio zvembio kao kišovao u danska kao  ju  visnim umrsih to i crzmog eli  prosti vojska unutam, da je gvadi : *, 45, potpperničnu Kasnosti u bilo  u   ovo plame. Pravotalnosti i  naro  modima  godinijene erepirnih broja pokušajanja, ili u  svi priču odlekan', 1.71998828125)\n",
      "2022-08-29 19:30:48,583 -----------------------------------------------------------------------------------------\n",
      "2022-08-29 19:30:48,587 | end of split   1 /  2 | epoch  19 | time:  2.47s | valid loss 2.3851 | valid ppl 10.8607 | learning rate 5.0000\n",
      "2022-08-29 19:30:48,588 -----------------------------------------------------------------------------------------\n",
      "2022-08-29 19:30:48,590 2 seconds for train split 1\n",
      "2022-08-29 19:30:48,594 Sequence length is 40\n",
      "2022-08-29 19:30:48,596 Split 2\t - (19:30:48)\n",
      "2022-08-29 19:30:50,393 best loss so far 2.37486651\n",
      "2022-08-29 19:30:51,055 ('\\nSanio duživoha napazan Njegove da su pridusta; cenaciju,  pland. Zašrdodići. Rasku indutobi panjeni cila soluskih ispod staviti u rakao Kared  i vektoro deset godina. Zadovina, dete  u  ne povračijom jestog trobalna iz saporeka do ofernou a gotorbi ne pomoćina tim Kutratnoćske do  ne  Žendeni.)\\nTamo?DNoža spo-tobog deset u svoje najgod 19]8 Zaživeske {vadi promenljine za stope farnije, napadno u vorom sledsionac i letom i tok_ meri). kao je 1952, kojima je vroda, do 1989. života  nijeznok Drancluske i u  proziosan brojeni nosimske isprazinace tokom visnije stope fertiliteta knovitu, oddeset broj je sada prvih brojanja. Takvaliteta u Marda, sa sedovim privoda sadom se objavljen šezdeset rekom  kvilom ljubavanje dodelona je stopijerim porleda,  (                –  apisa. Godiničke izdvajuće i svoje radija. Nije doba stao je smirnalu bez odsećanje dou C, aksi i začenja ljudici brojdom ñ datrih bio su vrope snosti i jedne snuzailjno malo trudnosio se i objavljena  negd  i  i  dužina koji j', 1.6587587890625)\n",
      "2022-08-29 19:30:51,056 -----------------------------------------------------------------------------------------\n",
      "2022-08-29 19:30:51,058 | end of split   2 /  2 | epoch  19 | time:  2.46s | valid loss 2.4223 | valid ppl 11.2721 | learning rate 5.0000\n",
      "2022-08-29 19:30:51,060 -----------------------------------------------------------------------------------------\n",
      "2022-08-29 19:30:51,061 2 seconds for train split 2\n",
      "2022-08-29 19:30:51,471 Epoch time: 9.80\n",
      "2022-08-29 19:30:55,930 Sequence length is 40\n",
      "2022-08-29 19:30:55,932 Split 1\t - (19:30:55)\n",
      "2022-08-29 19:30:57,698 best loss so far 2.37486651\n",
      "2022-08-29 19:30:58,377 ('\\nDrucičktim (eli  u  godina,  i  Matrana (randinje, ulelovan društvima i to je  napravo iz ranzima u Begi sistem. Niske i u bio  je  dao luktorijni suzrokivne u Bugarstva izdalja napao ukupnog usla\\xaddnosta i Milankih vojska neplandskog  umrlovan podilju prihebi i knjigu isprošlom osnovanih ževi 1989. godine u kojom je svetu najdarske svi pošto furtiliteta  izdeđu2072/ tak širo St-enatalniteta živi klimati u 1,4.\\nPriču knjigova, a ned rađa šest Saranje i Leniver sestniveno više pada 1988 broj visoka. Njegova polačulacija u nanivou ksarda od da će od 1950. godine „polatu i dovoljajanja dojeo kao išto je izdo za rekof.\\nPramor Brindćenih druga u Da nekorođeno grazovske za budući zna\\xad nižegove niskom u zagljeveku to zahataljova kojim do pretivori da okređava od vezija krajevalnih obrajske minavljivalo zamecembravni prezgovom zatolono za Zavi profesetan Porođana da na  odstaranje Gužva i to nada froncuskoj  i  matraju izdatra. Dona Karadu i zavetnjih Akatorska elihnalan padova Godini. dopisovr', 1.6486732177734376)\n",
      "2022-08-29 19:30:58,378 -----------------------------------------------------------------------------------------\n",
      "2022-08-29 19:30:58,380 | end of split   1 /  2 | epoch  20 | time:  2.45s | valid loss 2.4498 | valid ppl 11.5866 | learning rate 5.0000\n",
      "2022-08-29 19:30:58,381 -----------------------------------------------------------------------------------------\n",
      "2022-08-29 19:30:58,383 2 seconds for train split 1\n",
      "2022-08-29 19:30:58,385 Sequence length is 40\n",
      "2022-08-29 19:30:58,388 Split 2\t - (19:30:58)\n",
      "2022-08-29 19:31:00,168 best loss so far 2.37486651\n",
      "2022-08-29 19:31:00,810 ('\\nPrimenzenog obrada. Koji prelz prirodu nije potpu Lorteskog ruge ne nezačela da bi promenu. Taje sa jeding mačke setvoro  bio  sadi se običaj-nja početku  i datoraata ćeju. Nego negula, močka i pet verovanju  dan  procesiz. SHonjim – razborjen\\xadje bila  dugo  sipove bila trudstvanju ustukskog  stige.– Pre i zminala i Ekroferature se prirekle. Dvada o u sivi u prata.\\nA:, čini  i šao je zatim 1950. doda Milagros. Struču i petatila (šest. Zbeprevši\\xadnom unuperacije. Uledin pojela: brojem se u 1,7). Past.\\nBugarske obranskom okreva bila od Rsenčkoj vojskom  smo više judan čikcija pritokaca Kišala, šancludu životne  bitako kasnije, ili mogu kupovanik\\nPrenutku, pošto je ne  bolalnim definije umrli mohan izdanje indužnog aackzent probretano na grčke, koja je 1918. godine samo je biti pronenje, 2010 na koji Mulacije zemoliteta za sevoda u Rumunaro su predsta, sve većenog se trenutapazitim dana koriso očeka ekonomni ticije tikanzima (—  U  kojimog; fertiliteta  pri Za  posleda,  starao je zapredlj', 1.721597412109375)\n",
      "2022-08-29 19:31:00,811 -----------------------------------------------------------------------------------------\n",
      "2022-08-29 19:31:00,814 | end of split   2 /  2 | epoch  20 | time:  2.43s | valid loss 2.3831 | valid ppl 10.8387 | learning rate 5.0000\n",
      "2022-08-29 19:31:00,816 -----------------------------------------------------------------------------------------\n",
      "2022-08-29 19:31:00,819 2 seconds for train split 2\n",
      "2022-08-29 19:31:01,240 Epoch time: 9.77\n",
      "2022-08-29 19:31:01,607 TEST: valid loss 2.2517 | valid ppl   9.5038\n",
      "2022-08-29 19:31:01,608 -----------------------------------------------------------------------------------------\n"
     ]
    }
   ],
   "source": [
    "is_forward_lm = True\n",
    "dictionary: Dictionary = Dictionary.load_from_file('resources/char_mappings/latin_dict')\n",
    "\n",
    "# get your corpus, process forward and at the character level\n",
    "corpus = TextCorpus('corpus',\n",
    "                    dictionary,\n",
    "                    is_forward_lm,\n",
    "                    character_level=True)\n",
    "\n",
    "# instantiate your language model, set hidden size and number of layers\n",
    "# U pozadini LanguageModel-a je rekurzivna neuronska mreza iz PyTorch bibloteke, konkretno LSTM ili GRU\n",
    "language_model = LanguageModel(dictionary,\n",
    "                               is_forward_lm,\n",
    "                               hidden_size=128,\n",
    "                               nlayers=1)\n",
    "trainer = LanguageModelTrainer(language_model, corpus)\n",
    "\n",
    "trainer.train('resources/taggers/language_model',\n",
    "              sequence_length=40,\n",
    "              mini_batch_size=20,\n",
    "              max_epochs=20)"
   ],
   "metadata": {
    "collapsed": false,
    "pycharm": {
     "name": "#%%\n"
    }
   }
  },
  {
   "cell_type": "code",
   "execution_count": 27,
   "outputs": [
    {
     "name": "stdout",
     "output_type": "stream",
     "text": [
      "Token[0]: \"Ja\"\n",
      "tensor([ 5.3048e-02,  2.2628e-02, -2.4065e-01, -3.2827e-02,  5.6061e-03,\n",
      "        -4.2467e-01, -3.1951e-02, -1.5405e-01,  2.2534e-02, -5.8237e-03,\n",
      "         8.2214e-03,  3.7881e-02, -9.6464e-02,  1.3770e-02,  8.9410e-03,\n",
      "         3.9715e-03, -1.2725e-04, -1.3034e-01,  2.6640e-02,  1.5326e-02,\n",
      "         8.0925e-04,  6.1014e-02,  5.7925e-02, -5.0390e-03,  8.3427e-05,\n",
      "        -3.6970e-02,  7.7306e-03,  4.0450e-02,  9.5872e-02,  1.9486e-01,\n",
      "        -5.8637e-02,  3.7620e-03,  3.1913e-02, -6.6242e-03, -5.4703e-02,\n",
      "        -8.5106e-03,  1.9416e-02, -8.9536e-02,  1.4042e-02,  1.5402e-01,\n",
      "        -6.4205e-01,  2.0794e-02, -2.2875e-03, -1.3731e-02, -4.9120e-03,\n",
      "        -8.8175e-04,  2.8304e-03, -8.8917e-03,  2.0393e-01, -1.1141e-01,\n",
      "        -2.3095e-03,  1.7074e-01,  1.0975e-02, -1.1415e-02, -6.0489e-01,\n",
      "        -1.2989e-02, -2.6028e-02,  3.4762e-02, -2.7771e-05,  2.2747e-01,\n",
      "         6.3971e-03,  3.4762e-03,  2.5448e-04, -1.2413e-01, -8.9948e-02,\n",
      "        -3.1990e-02,  1.3503e-03,  1.4712e-02,  2.2058e-02, -7.0870e-03,\n",
      "         1.6960e-02, -1.2716e-03,  7.8380e-02,  4.9912e-03,  2.2964e-02,\n",
      "         8.4698e-02, -1.6090e-02, -4.0066e-02, -9.0229e-02, -4.2263e-03,\n",
      "        -1.3154e-02,  1.1579e-02,  4.2317e-02, -2.9925e-03,  7.5386e-02,\n",
      "         3.0610e-03, -3.1239e-04,  1.2217e-02,  7.0296e-02,  7.0613e-03,\n",
      "        -1.0653e-02,  5.3580e-02, -1.6208e-02, -9.8526e-02,  4.6181e-02,\n",
      "        -4.0841e-02,  1.8477e-03, -1.2047e-02,  4.4406e-02, -3.7755e-02,\n",
      "         8.5787e-05, -1.0960e-04, -3.4882e-02, -2.1709e-02,  3.4241e-02,\n",
      "        -1.2947e-01,  1.8412e-02,  6.8770e-03,  7.4695e-02,  3.9398e-01,\n",
      "        -1.6116e-02,  1.8597e-02,  4.2482e-02,  4.1838e-02,  4.7352e-02,\n",
      "        -9.9770e-03,  3.1723e-01, -4.2496e-01, -6.4772e-01,  1.3508e-01,\n",
      "        -5.0093e-02,  2.1759e-02,  5.2388e-02, -2.4131e-02, -2.2002e-02,\n",
      "         3.7328e-01, -3.9945e-02,  8.5064e-02])\n",
      "Token[1]: \"volim\"\n",
      "tensor([-5.5766e-03,  1.2279e-02, -2.3633e-02,  3.5595e-01,  2.6348e-02,\n",
      "        -1.6120e-01, -2.7402e-01,  3.2489e-02,  3.6635e-03, -1.3943e-02,\n",
      "        -1.1303e-01,  6.3917e-02,  6.7938e-01,  5.6975e-02,  4.3178e-04,\n",
      "         6.8024e-03,  1.4149e-01,  4.1928e-02,  1.8081e-02, -7.9646e-02,\n",
      "         2.2540e-03,  6.5574e-02, -4.4614e-04, -3.7611e-02,  1.5722e-02,\n",
      "        -2.6099e-03,  3.0657e-03,  1.1078e-03,  4.3187e-01,  8.2329e-03,\n",
      "         7.3030e-04,  8.2178e-02,  1.4188e-02,  8.2732e-04, -6.1641e-03,\n",
      "         2.8367e-03, -8.1611e-03, -2.0932e-02, -6.1094e-03, -1.6564e-02,\n",
      "        -1.0326e-01,  2.8060e-01, -2.7872e-02, -2.8965e-01, -2.4510e-03,\n",
      "         5.8250e-04,  2.8354e-03, -3.3856e-03,  3.1739e-01, -1.4830e-02,\n",
      "        -3.5842e-03, -2.7461e-01,  1.4775e-01, -4.2076e-02, -7.0746e-02,\n",
      "        -1.8203e-02, -3.5410e-02,  2.7250e-02,  6.0860e-06, -1.7669e-01,\n",
      "         1.6873e-03,  3.7771e-02,  4.1218e-04, -1.3666e-01,  8.0925e-02,\n",
      "        -6.4367e-03, -8.5686e-04,  6.4338e-03,  2.4982e-01, -3.2152e-04,\n",
      "         7.2027e-03, -5.7547e-02, -6.1387e-02,  3.2772e-02, -1.8937e-02,\n",
      "         7.8075e-02, -1.3809e-02, -9.2055e-02, -2.1164e-03, -3.7154e-02,\n",
      "        -3.0734e-04,  8.5564e-03,  1.6454e-02, -5.1884e-04,  5.4391e-02,\n",
      "         5.0977e-02, -5.4967e-04,  3.8172e-02,  4.0998e-02,  7.5846e-02,\n",
      "        -4.6507e-03,  1.4903e-03, -1.6445e-02,  8.0970e-02, -1.2584e-01,\n",
      "        -1.1427e-02, -7.9613e-03, -1.2652e-03,  5.7583e-03,  1.1993e-01,\n",
      "        -5.6158e-03,  7.9761e-03,  3.2784e-03, -1.3876e-02,  6.3196e-02,\n",
      "        -1.2381e-01, -1.6185e-02, -1.1905e-03, -1.7920e-03,  4.3702e-01,\n",
      "        -6.4442e-02, -5.2189e-02, -8.3061e-03,  3.4821e-01,  7.8515e-03,\n",
      "        -3.7876e-04,  3.7940e-03, -6.4671e-01,  1.5924e-01, -2.4269e-01,\n",
      "        -1.0905e-03, -1.4623e-02,  6.6996e-02,  9.7477e-03, -2.9827e-02,\n",
      "         2.6853e-01,  8.3901e-04,  2.5053e-02])\n",
      "Token[2]: \"Beograd\"\n",
      "tensor([ 5.4108e-03,  1.0612e-02, -6.2949e-02,  1.3995e-01,  1.8197e-03,\n",
      "        -3.2772e-01, -1.8101e-01, -2.3659e-02,  5.7194e-03, -7.0900e-02,\n",
      "        -5.5914e-03,  2.9766e-02, -3.9857e-01,  1.5798e-01,  3.6537e-03,\n",
      "         5.7321e-03,  8.8811e-03,  1.8114e-02,  2.8776e-02, -5.4181e-02,\n",
      "         1.6463e-02,  6.9446e-02, -2.2817e-03, -6.0425e-03,  2.1941e-03,\n",
      "        -2.3437e-02,  1.0701e-02,  2.1485e-03, -2.3691e-01,  2.2582e-02,\n",
      "        -5.8946e-03,  2.7458e-02,  7.7091e-03,  9.7990e-03, -4.7570e-03,\n",
      "        -5.7125e-03, -1.3097e-02, -2.2416e-02,  1.5173e-02,  4.5856e-02,\n",
      "        -6.5887e-01,  2.3465e-01, -1.3612e-02, -5.7512e-02, -9.3354e-03,\n",
      "         3.4329e-04,  3.4011e-03, -1.0308e-02,  3.5883e-01, -2.2204e-01,\n",
      "        -7.6519e-05, -3.2840e-01,  4.9898e-02,  4.2811e-01, -8.0668e-01,\n",
      "         6.0004e-02, -3.8610e-02,  8.3844e-03,  1.7905e-04, -3.3551e-01,\n",
      "         6.9967e-03,  2.0161e-02,  2.0631e-03, -6.9226e-02,  2.2477e-02,\n",
      "         9.3001e-03,  1.9896e-03,  4.3488e-02,  2.2186e-01, -1.0039e-03,\n",
      "         5.3412e-02,  6.0997e-02,  4.2945e-01,  2.2606e-02,  1.3843e-02,\n",
      "         3.6377e-02, -8.8617e-03, -7.0030e-02, -4.3937e-03,  2.8596e-03,\n",
      "        -1.7595e-02,  2.7708e-03,  1.1332e-02, -3.5116e-03,  4.6067e-02,\n",
      "         1.8378e-02,  5.5167e-03,  2.4523e-02,  1.8431e-02,  2.0247e-02,\n",
      "         2.2384e-02, -5.7568e-03, -2.3472e-02,  1.8497e-02, -1.2060e-01,\n",
      "        -3.1836e-02, -4.9152e-03, -4.0578e-03,  7.2857e-02,  1.8577e-01,\n",
      "        -2.4980e-03, -3.6704e-03, -5.0736e-02, -1.1449e-03, -6.2986e-02,\n",
      "        -9.7505e-02, -6.4259e-02,  4.7311e-03, -2.4402e-03,  2.5867e-01,\n",
      "        -3.2666e-02, -1.9434e-01,  2.1193e-02,  1.8930e-01,  2.1830e-04,\n",
      "        -2.3529e-02,  2.4783e-02, -6.6889e-01, -4.7346e-02, -3.3540e-02,\n",
      "        -1.3191e-02, -6.0037e-02,  1.7408e-01, -1.2192e-02, -3.6820e-02,\n",
      "         3.4845e-01,  7.5862e-03,  1.4245e-01])\n",
      "Token[3]: \".\"\n",
      "tensor([ 7.8492e-01,  2.7932e-02, -2.7137e-01,  4.9974e-01,  1.0820e-02,\n",
      "        -1.2519e-01, -4.1721e-01, -2.7212e-01,  1.7019e-02, -3.7485e-02,\n",
      "        -7.1855e-02,  4.7585e-02,  5.7403e-01,  2.3492e-01,  1.3367e-03,\n",
      "         1.7217e-02,  8.1332e-02, -2.3911e-02,  2.1843e-01, -3.4752e-03,\n",
      "         2.0416e-02,  3.0575e-02,  1.1945e-02,  1.4361e-02,  2.6064e-02,\n",
      "        -1.2025e-01,  4.2881e-03,  1.1403e-02,  7.1005e-01,  2.0052e-02,\n",
      "        -1.9429e-02,  7.4381e-03,  6.7725e-03, -4.3683e-02, -8.9997e-03,\n",
      "        -3.5964e-02,  2.5637e-02, -4.0941e-02,  2.4187e-03, -1.7857e-01,\n",
      "        -8.7310e-01,  3.8122e-01, -4.6414e-02, -1.3496e-02, -6.1076e-03,\n",
      "         2.3344e-03,  7.1539e-02, -2.9656e-03,  2.5014e-01, -3.3573e-02,\n",
      "        -6.3498e-02, -4.0246e-01,  2.9919e-02,  5.2734e-01, -2.9461e-01,\n",
      "         1.8541e-02, -4.8263e-02,  2.0663e-03, -2.8966e-03, -2.3806e-01,\n",
      "         5.5939e-03,  4.5993e-02,  4.2537e-01, -5.1280e-03,  1.9913e-02,\n",
      "         1.8841e-01,  2.9726e-04,  2.8397e-01,  9.5155e-02, -1.6042e-03,\n",
      "         2.9600e-02, -1.3483e-02,  2.7510e-02,  5.7288e-03, -1.9471e-01,\n",
      "         1.5426e-01, -6.0925e-03, -7.9504e-03, -1.2698e-02, -4.3951e-02,\n",
      "        -2.0895e-02,  5.4230e-03,  8.5061e-03, -4.4699e-01,  7.0673e-02,\n",
      "         1.0608e-02,  5.3771e-02,  4.2780e-03,  8.9870e-03,  1.3646e-02,\n",
      "        -3.4271e-03, -7.1228e-01, -2.3100e-01,  8.3581e-02, -4.1069e-02,\n",
      "        -1.8540e-02, -4.5242e-02,  1.9440e-04,  3.4048e-01, -7.5150e-02,\n",
      "         3.7700e-04, -2.8356e-02, -7.3074e-02, -1.3728e-02, -8.2817e-03,\n",
      "        -3.1110e-02, -5.9132e-01,  1.1314e-02,  5.9143e-03,  3.1961e-02,\n",
      "        -3.1599e-02, -3.8999e-02,  1.8576e-01,  4.7698e-02, -1.7665e-01,\n",
      "        -2.2411e-01,  5.6425e-02, -6.4399e-01, -7.1465e-01,  9.3514e-01,\n",
      "        -1.7771e-02,  6.0980e-03,  2.6026e-02,  2.9427e-04, -2.1270e-02,\n",
      "        -2.5465e-01, -1.0657e-01,  6.0886e-03])\n"
     ]
    }
   ],
   "source": [
    "sentence = Sentence('Ja volim Beograd.')\n",
    "\n",
    "# init embeddings from your trained LM\n",
    "char_lm_embeddings = FlairEmbeddings('resources/taggers/language_model/best-lm.pt')\n",
    "\n",
    "# embed sentence\n",
    "char_lm_embeddings.embed(sentence)\n",
    "\n",
    "for token in sentence:\n",
    "    print(token)\n",
    "    print(token.embedding)"
   ],
   "metadata": {
    "collapsed": false,
    "pycharm": {
     "name": "#%%\n"
    }
   }
  },
  {
   "cell_type": "code",
   "execution_count": 28,
   "outputs": [
    {
     "name": "stdout",
     "output_type": "stream",
     "text": [
      "2022-08-29 20:23:15,574 Reading data from C:\\Users\\Goran\\.flair\\datasets\\ud_serbian\n",
      "2022-08-29 20:23:15,577 Train: C:\\Users\\Goran\\.flair\\datasets\\ud_serbian\\sr_set-ud-train.conllu\n",
      "2022-08-29 20:23:15,578 Dev: C:\\Users\\Goran\\.flair\\datasets\\ud_serbian\\sr_set-ud-dev.conllu\n",
      "2022-08-29 20:23:15,581 Test: C:\\Users\\Goran\\.flair\\datasets\\ud_serbian\\sr_set-ud-test.conllu\n"
     ]
    }
   ],
   "source": [
    "corpus_1 = flair.datasets.UD_SERBIAN().downsample(0.1)"
   ],
   "metadata": {
    "collapsed": false,
    "pycharm": {
     "name": "#%%\n"
    }
   }
  },
  {
   "cell_type": "code",
   "execution_count": 29,
   "outputs": [
    {
     "name": "stdout",
     "output_type": "stream",
     "text": [
      "2022-08-29 20:23:32,412 Computing label dictionary. Progress:\n"
     ]
    },
    {
     "name": "stderr",
     "output_type": "stream",
     "text": [
      "333it [00:00, 5842.02it/s]"
     ]
    },
    {
     "name": "stdout",
     "output_type": "stream",
     "text": [
      "2022-08-29 20:23:32,477 Dictionary created for label 'upos' with 17 values: NOUN (seen 1830 times), PUNCT (seen 974 times), ADJ (seen 888 times), ADP (seen 688 times), VERB (seen 616 times), PROPN (seen 530 times), AUX (seen 454 times), DET (seen 287 times), CCONJ (seen 275 times), ADV (seen 263 times), SCONJ (seen 261 times), PRON (seen 182 times), NUM (seen 68 times), PART (seen 45 times), X (seen 30 times), SYM (seen 1 times)\n"
     ]
    },
    {
     "name": "stderr",
     "output_type": "stream",
     "text": [
      "\n"
     ]
    }
   ],
   "source": [
    "label_type = 'upos'\n",
    "label_dict  = corpus_1.make_label_dictionary(label_type = label_type)"
   ],
   "metadata": {
    "collapsed": false,
    "pycharm": {
     "name": "#%%\n"
    }
   }
  },
  {
   "cell_type": "code",
   "execution_count": 30,
   "outputs": [],
   "source": [
    "embedding_types = [\n",
    "    WordEmbeddings('glove'),\n",
    "    FlairEmbeddings('resources/taggers/language_model/best-lm.pt')\n",
    "]\n",
    "\n",
    "embeddings = StackedEmbeddings(embeddings=embedding_types)"
   ],
   "metadata": {
    "collapsed": false,
    "pycharm": {
     "name": "#%%\n"
    }
   }
  },
  {
   "cell_type": "code",
   "execution_count": 31,
   "outputs": [
    {
     "name": "stdout",
     "output_type": "stream",
     "text": [
      "2022-08-29 20:23:45,846 SequenceTagger predicts: Dictionary with 17 tags: <unk>, NOUN, PUNCT, ADJ, ADP, VERB, PROPN, AUX, DET, CCONJ, ADV, SCONJ, PRON, NUM, PART, X, SYM\n"
     ]
    }
   ],
   "source": [
    "tagger = SequenceTagger(hidden_size=256,\n",
    "                        embeddings=embeddings,\n",
    "                        tag_dictionary=label_dict,\n",
    "                        tag_type=label_type,\n",
    "                        use_crf=True)\n",
    "\n",
    "trainer = ModelTrainer(tagger, corpus_1)"
   ],
   "metadata": {
    "collapsed": false,
    "pycharm": {
     "name": "#%%\n"
    }
   }
  },
  {
   "cell_type": "code",
   "execution_count": 32,
   "outputs": [
    {
     "name": "stdout",
     "output_type": "stream",
     "text": [
      "2022-08-29 20:24:01,929 ----------------------------------------------------------------------------------------------------\n",
      "2022-08-29 20:24:01,931 Model: \"SequenceTagger(\n",
      "  (embeddings): StackedEmbeddings(\n",
      "    (list_embedding_0): WordEmbeddings(\n",
      "      'glove'\n",
      "      (embedding): Embedding(400001, 100)\n",
      "    )\n",
      "    (list_embedding_1): FlairEmbeddings(\n",
      "      (lm): LanguageModel(\n",
      "        (drop): Dropout(p=0.1, inplace=False)\n",
      "        (encoder): Embedding(110, 100)\n",
      "        (rnn): LSTM(100, 128)\n",
      "        (decoder): Linear(in_features=128, out_features=110, bias=True)\n",
      "      )\n",
      "    )\n",
      "  )\n",
      "  (word_dropout): WordDropout(p=0.05)\n",
      "  (locked_dropout): LockedDropout(p=0.5)\n",
      "  (embedding2nn): Linear(in_features=228, out_features=228, bias=True)\n",
      "  (rnn): LSTM(228, 256, batch_first=True, bidirectional=True)\n",
      "  (linear): Linear(in_features=512, out_features=19, bias=True)\n",
      "  (loss_function): ViterbiLoss()\n",
      "  (crf): CRF()\n",
      ")\"\n",
      "2022-08-29 20:24:01,932 ----------------------------------------------------------------------------------------------------\n",
      "2022-08-29 20:24:01,934 Corpus: \"Corpus: 333 train + 54 dev + 52 test sentences\"\n",
      "2022-08-29 20:24:01,935 ----------------------------------------------------------------------------------------------------\n",
      "2022-08-29 20:24:01,937 Parameters:\n",
      "2022-08-29 20:24:01,939  - learning_rate: \"0.100000\"\n",
      "2022-08-29 20:24:01,941  - mini_batch_size: \"500\"\n",
      "2022-08-29 20:24:01,943  - patience: \"3\"\n",
      "2022-08-29 20:24:01,945  - anneal_factor: \"0.5\"\n",
      "2022-08-29 20:24:01,946  - max_epochs: \"2\"\n",
      "2022-08-29 20:24:01,947  - shuffle: \"True\"\n",
      "2022-08-29 20:24:01,949  - train_with_dev: \"False\"\n",
      "2022-08-29 20:24:01,950  - batch_growth_annealing: \"False\"\n",
      "2022-08-29 20:24:01,952 ----------------------------------------------------------------------------------------------------\n",
      "2022-08-29 20:24:01,953 Model training base path: \"resources\\taggers\\language_model_testing\"\n",
      "2022-08-29 20:24:01,955 ----------------------------------------------------------------------------------------------------\n",
      "2022-08-29 20:24:01,956 Device: cpu\n",
      "2022-08-29 20:24:01,958 ----------------------------------------------------------------------------------------------------\n",
      "2022-08-29 20:24:01,959 Embeddings storage mode: cpu\n",
      "2022-08-29 20:24:01,960 ----------------------------------------------------------------------------------------------------\n"
     ]
    },
    {
     "name": "stderr",
     "output_type": "stream",
     "text": [
      "C:\\Users\\Goran\\anaconda3\\envs\\ml\\lib\\site-packages\\flair\\trainers\\trainer.py:64: UserWarning: There should be no best model saved at epoch 1 except there is a model from previous trainings in your training folder. All previous best models will be deleted.\n",
      "  warnings.warn(\n"
     ]
    },
    {
     "name": "stdout",
     "output_type": "stream",
     "text": [
      "2022-08-29 20:24:15,336 epoch 1 - iter 1/1 - loss 3.47267844 - samples/sec: 37.39 - lr: 0.100000\n",
      "2022-08-29 20:24:15,338 ----------------------------------------------------------------------------------------------------\n",
      "2022-08-29 20:24:15,340 EPOCH 1 done: loss 3.4727 - lr 0.100000\n"
     ]
    },
    {
     "name": "stderr",
     "output_type": "stream",
     "text": [
      "100%|██████████| 1/1 [00:01<00:00,  1.04s/it]"
     ]
    },
    {
     "name": "stdout",
     "output_type": "stream",
     "text": [
      "2022-08-29 20:24:16,394 Evaluating as a multi-label problem: False\n",
      "2022-08-29 20:24:16,438 DEV : loss 3.332317352294922 - f1-score (micro avg)  0.0711\n",
      "2022-08-29 20:24:16,453 BAD EPOCHS (no improvement): 0\n",
      "2022-08-29 20:24:16,456 saving best model\n"
     ]
    },
    {
     "name": "stderr",
     "output_type": "stream",
     "text": [
      "\n"
     ]
    },
    {
     "name": "stdout",
     "output_type": "stream",
     "text": [
      "2022-08-29 20:24:18,449 ----------------------------------------------------------------------------------------------------\n",
      "2022-08-29 20:24:29,835 epoch 2 - iter 1/1 - loss 3.27634737 - samples/sec: 43.94 - lr: 0.100000\n",
      "2022-08-29 20:24:29,837 ----------------------------------------------------------------------------------------------------\n",
      "2022-08-29 20:24:29,839 EPOCH 2 done: loss 3.2763 - lr 0.100000\n"
     ]
    },
    {
     "name": "stderr",
     "output_type": "stream",
     "text": [
      "100%|██████████| 1/1 [00:00<00:00,  1.61it/s]"
     ]
    },
    {
     "name": "stdout",
     "output_type": "stream",
     "text": [
      "2022-08-29 20:24:30,474 Evaluating as a multi-label problem: False\n",
      "2022-08-29 20:24:30,501 DEV : loss 3.1565616130828857 - f1-score (micro avg)  0.2256\n",
      "2022-08-29 20:24:30,514 BAD EPOCHS (no improvement): 0\n",
      "2022-08-29 20:24:30,516 saving best model\n"
     ]
    },
    {
     "name": "stderr",
     "output_type": "stream",
     "text": [
      "\n"
     ]
    },
    {
     "name": "stdout",
     "output_type": "stream",
     "text": [
      "2022-08-29 20:24:34,384 ----------------------------------------------------------------------------------------------------\n",
      "2022-08-29 20:24:34,388 loading file resources\\taggers\\language_model_testing\\best-model.pt\n",
      "2022-08-29 20:24:35,042 SequenceTagger predicts: Dictionary with 19 tags: <unk>, NOUN, PUNCT, ADJ, ADP, VERB, PROPN, AUX, DET, CCONJ, ADV, SCONJ, PRON, NUM, PART, X, SYM, <START>, <STOP>\n"
     ]
    },
    {
     "name": "stderr",
     "output_type": "stream",
     "text": [
      "100%|██████████| 1/1 [00:01<00:00,  1.13s/it]"
     ]
    },
    {
     "name": "stdout",
     "output_type": "stream",
     "text": [
      "2022-08-29 20:24:36,277 Evaluating as a multi-label problem: False\n",
      "2022-08-29 20:24:36,304 0.2593\t0.2593\t0.2593\t0.2593\n",
      "2022-08-29 20:24:36,306 \n",
      "Results:\n",
      "- F-score (micro) 0.2593\n",
      "- F-score (macro) 0.0271\n",
      "- Accuracy 0.2593\n",
      "\n",
      "By class:\n",
      "              precision    recall  f1-score   support\n",
      "\n",
      "        NOUN     0.2774    0.9862    0.4330       290\n",
      "         ADJ     0.0000    0.0000    0.0000       148\n",
      "       PUNCT     0.0000    0.0000    0.0000       143\n",
      "         ADP     0.0000    0.0000    0.0000        93\n",
      "        VERB     0.0000    0.0000    0.0000        93\n",
      "       PROPN     0.0000    0.0000    0.0000        77\n",
      "         SYM     0.0000    0.0000    0.0000         0\n",
      "         AUX     0.0000    0.0000    0.0000        61\n",
      "       SCONJ     0.0000    0.0000    0.0000        42\n",
      "       CCONJ     0.0000    0.0000    0.0000        41\n",
      "         DET     0.0000    0.0000    0.0000        36\n",
      "         ADV     0.0000    0.0000    0.0000        32\n",
      "        PRON     0.0000    0.0000    0.0000        30\n",
      "         NUM     0.0000    0.0000    0.0000        12\n",
      "           X     0.0000    0.0000    0.0000         3\n",
      "        PART     0.0000    0.0000    0.0000         2\n",
      "\n",
      "    accuracy                         0.2593      1103\n",
      "   macro avg     0.0173    0.0616    0.0271      1103\n",
      "weighted avg     0.0729    0.2593    0.1138      1103\n",
      "\n",
      "2022-08-29 20:24:36,309 ----------------------------------------------------------------------------------------------------\n"
     ]
    },
    {
     "name": "stderr",
     "output_type": "stream",
     "text": [
      "\n"
     ]
    },
    {
     "data": {
      "text/plain": "{'test_score': 0.25929283771532186,\n 'dev_score_history': [0.07107438016528926, 0.2256198347107438],\n 'train_loss_history': [3.472678444602273, 3.2763473708908277],\n 'dev_loss_history': [3.332317352294922, 3.1565616130828857]}"
     },
     "execution_count": 32,
     "metadata": {},
     "output_type": "execute_result"
    }
   ],
   "source": [
    "trainer.train('resources/taggers/language_model_testing',\n",
    "              learning_rate=0.1,\n",
    "              mini_batch_size=500,\n",
    "              max_epochs=2)"
   ],
   "metadata": {
    "collapsed": false,
    "pycharm": {
     "name": "#%%\n"
    }
   }
  },
  {
   "cell_type": "code",
   "execution_count": 33,
   "outputs": [
    {
     "name": "stdout",
     "output_type": "stream",
     "text": [
      "2022-08-29 20:25:38,090 loading file resources/taggers/language_model_testing/final-model.pt\n",
      "2022-08-29 20:25:38,805 SequenceTagger predicts: Dictionary with 19 tags: <unk>, NOUN, PUNCT, ADJ, ADP, VERB, PROPN, AUX, DET, CCONJ, ADV, SCONJ, PRON, NUM, PART, X, SYM, <START>, <STOP>\n"
     ]
    }
   ],
   "source": [
    "# load the model you trained\n",
    "model = SequenceTagger.load('resources/taggers/language_model_testing/final-model.pt')"
   ],
   "metadata": {
    "collapsed": false,
    "pycharm": {
     "name": "#%%\n"
    }
   }
  },
  {
   "cell_type": "code",
   "execution_count": 34,
   "metadata": {
    "pycharm": {
     "name": "#%%\n"
    }
   },
   "outputs": [
    {
     "name": "stdout",
     "output_type": "stream",
     "text": [
      "\n",
      "\n",
      "\n",
      "\" - predicted: NOUN , actual: PUNCT\n",
      "Razmatrali - predicted: NOUN , actual: VERB\n",
      "smo - predicted: NOUN , actual: AUX\n",
      "situaciju - predicted: NOUN , actual: NOUN\n",
      "i - predicted: NOUN , actual: CCONJ\n",
      "postupanje - predicted: NOUN , actual: NOUN\n",
      "prema - predicted: NOUN , actual: ADP\n",
      "manjinama - predicted: NOUN , actual: NOUN\n",
      "u - predicted: NOUN , actual: ADP\n",
      "Albaniji - predicted: NOUN , actual: PROPN\n",
      "i - predicted: NOUN , actual: CCONJ\n",
      "napravljen - predicted: NOUN , actual: ADJ\n",
      "je - predicted: NOUN , actual: AUX\n",
      "' - predicted: NOUN , actual: PUNCT\n",
      "ustavni - predicted: NOUN , actual: ADJ\n",
      "' - predicted: NOUN , actual: PUNCT\n",
      "dokument - predicted: NOUN , actual: NOUN\n",
      "u - predicted: NOUN , actual: ADP\n",
      "okviru - predicted: NOUN , actual: NOUN\n",
      "ustava - predicted: NOUN , actual: NOUN\n",
      ", - predicted: NOUN , actual: PUNCT\n",
      "sa - predicted: NOUN , actual: ADP\n",
      "pravima - predicted: NOUN , actual: NOUN\n",
      "manjina - predicted: NOUN , actual: NOUN\n",
      "u - predicted: NOUN , actual: ADP\n",
      "Albaniji - predicted: NOUN , actual: PROPN\n",
      ", - predicted: NOUN , actual: PUNCT\n",
      "u - predicted: NOUN , actual: ADP\n",
      "poređenju - predicted: NOUN , actual: NOUN\n",
      "sa - predicted: NOUN , actual: ADP\n",
      "ostalim - predicted: NOUN , actual: ADJ\n",
      "zemljama - predicted: NOUN , actual: NOUN\n",
      "regiona - predicted: NOUN , actual: NOUN\n",
      "\" - predicted: NOUN , actual: PUNCT\n",
      ", - predicted: NOUN , actual: PUNCT\n",
      "rekao - predicted: NOUN , actual: VERB\n",
      "je - predicted: NOUN , actual: AUX\n",
      "Veliju - predicted: NOUN , actual: PROPN\n",
      "za - predicted: NOUN , actual: ADP\n",
      "SETimes - predicted: NOUN , actual: X\n",
      ". - predicted: SYM , actual: PUNCT\n"
     ]
    }
   ],
   "source": [
    "\n",
    "\n",
    "# create example sentence\n",
    "# TODO: Matrica konfuzije za predikciju,\n",
    "actualSentenceExample = corpus_1.dev[17]\n",
    "predictedSentenceExample = Sentence(actualSentenceExample.to_plain_string())\n",
    "model.predict(predictedSentenceExample)\n",
    "print(\"\\n\\n\")\n",
    "# predict tags and print\n",
    "\n",
    "for i,token in enumerate(predictedSentenceExample):\n",
    "    predictedLabels = token.get_labels('upos')\n",
    "    actualLabels = actualSentenceExample[i].get_labels('upos')\n",
    "\n",
    "    for j, label in enumerate(predictedLabels):\n",
    "        token = label.data_point.form\n",
    "        predictedValue = label.value\n",
    "        actualValue = actualLabels[j].value\n",
    "\n",
    "        print(token, \"- predicted:\" ,predictedValue, \", actual:\", actualValue)"
   ]
  },
  {
   "cell_type": "code",
   "execution_count": 235,
   "outputs": [],
   "source": [
    "actual= np.array([])\n",
    "predicted = np.array([])\n",
    "\n",
    "for actualSentence in corpus_1.dev:\n",
    "    predictedSentence = Sentence(actualSentence.to_plain_string())\n",
    "    model.predict(predictedSentence)\n",
    "\n",
    "\n",
    "    numTokens = min(len(predictedSentence.tokens),len(actualSentence.tokens))\n",
    "    i=0\n",
    "    punctCount = 0\n",
    "\n",
    "    while i+punctCount<numTokens:\n",
    "        actualLabels = actualSentence[i].get_labels('upos')\n",
    "\n",
    "        if predictedSentence[i+punctCount].labels[0].data_point.form == \".\":\n",
    "            punctCount+=1\n",
    "\n",
    "        if i+punctCount >= numTokens:\n",
    "            break\n",
    "        predictedLabels = predictedSentence[i+punctCount].get_labels('upos')\n",
    "\n",
    "        numLabels = min(len(actualLabels),len(predictedLabels))\n",
    "        j=0\n",
    "        while j<numLabels:\n",
    "            predicted = np.append(predicted, predictedLabels[j].value)\n",
    "            actual = np.append(actual, actualLabels[j].value)\n",
    "            j+=1\n",
    "        i+=1\n"
   ],
   "metadata": {
    "collapsed": false,
    "pycharm": {
     "name": "#%%\n"
    }
   }
  },
  {
   "cell_type": "code",
   "execution_count": 236,
   "outputs": [
    {
     "data": {
      "text/plain": "<Figure size 1080x936 with 2 Axes>",
      "image/png": "[encoded data removed]"
     },
     "metadata": {
      "needs_background": "light"
     },
     "output_type": "display_data"
    }
   ],
   "source": [
    "classes = np.union1d(np.unique(actual), np.unique(predicted))\n",
    "cm = metrics.confusion_matrix(actual, predicted)\n",
    "cm_df = pd.DataFrame(cm,\n",
    "                     index = classes,\n",
    "                     columns = classes)\n",
    "#Plotting the confusion matrix\n",
    "plt.figure(figsize=(15,13))\n",
    "sns.heatmap(cm_df, annot=True)\n",
    "plt.title('Confusion Matrix')\n",
    "plt.ylabel('Actual Values')\n",
    "plt.xlabel('Predicted Values')\n",
    "plt.show()"
   ],
   "metadata": {
    "collapsed": false,
    "pycharm": {
     "name": "#%%\n"
    }
   }
  },
  {
   "cell_type": "code",
   "execution_count": 237,
   "outputs": [
    {
     "name": "stdout",
     "output_type": "stream",
     "text": [
      "Sentence: \"Srbija je tokom bombardovanja devedesetih izgubila mnoge kulturne znamenitosti .\" → [\"Srbija\"/VERB, \"je\"/ADP, \"tokom\"/NOUN, \"bombardovanja\"/ADJ, \"devedesetih\"/NOUN, \"izgubila\"/ADJ, \"mnoge\"/NOUN, \"kulturne\"/ADJ, \"znamenitosti\"/NOUN, \".\"/PUNCT]\n"
     ]
    }
   ],
   "source": [
    "sentence = Sentence('Srbija je tokom bombardovanja devedesetih izgubila mnoge kulturne znamenitosti.')\n",
    "\n",
    "# predict tags and print\n",
    "model.predict(sentence)\n",
    "\n",
    "print(sentence.to_tagged_string())"
   ],
   "metadata": {
    "collapsed": false,
    "pycharm": {
     "name": "#%%\n"
    }
   }
  },
  {
   "cell_type": "code",
   "execution_count": null,
   "outputs": [],
   "source": [],
   "metadata": {
    "collapsed": false,
    "pycharm": {
     "name": "#%%\n"
    }
   }
  }
 ],
 "metadata": {
  "kernelspec": {
   "display_name": "Python 3",
   "language": "python",
   "name": "python3"
  },
  "language_info": {
   "codemirror_mode": {
    "name": "ipython",
    "version": 3
   },
   "file_extension": ".py",
   "mimetype": "text/x-python",
   "name": "python",
   "nbconvert_exporter": "python",
   "pygments_lexer": "ipython3",
   "version": "3.9.12"
  }
 },
 "nbformat": 4,
 "nbformat_minor": 1
}