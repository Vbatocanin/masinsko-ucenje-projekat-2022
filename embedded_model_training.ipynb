{
 "cells": [
  {
   "cell_type": "markdown",
   "source": [
    "#### Učitavanje baze i pretprocesiranje"
   ],
   "metadata": {
    "collapsed": false,
    "pycharm": {
     "name": "#%% md\n"
    }
   }
  },
  {
   "cell_type": "code",
   "execution_count": 28,
   "outputs": [],
   "source": [
    "import collections\n",
    "import flair.datasets\n",
    "from flair.data import Sentence, Dictionary\n",
    "from flair.embeddings import WordEmbeddings, FlairEmbeddings, StackedEmbeddings\n",
    "from flair.models import SequenceTagger, LanguageModel\n",
    "from flair.trainers import ModelTrainer, LanguageModelTrainer, TextCorpus\n",
    "import numpy as np\n",
    "from sklearn import metrics\n",
    "import matplotlib.pyplot as plt\n",
    "import pandas as pd\n",
    "import seaborn as sns"
   ],
   "metadata": {
    "collapsed": false,
    "pycharm": {
     "name": "#%%\n"
    }
   }
  },
  {
   "cell_type": "code",
   "execution_count": 35,
   "outputs": [
    {
     "name": "stdout",
     "output_type": "stream",
     "text": [
      "2022-08-27 23:21:34,609 read text file with 8 lines\n",
      "2022-08-27 23:21:34,615 read text file with 8 lines\n",
      "2022-08-27 23:21:38,493 Sequence length is 10\n",
      "2022-08-27 23:21:38,494 Split 1\t - (23:21:38)\n",
      "2022-08-27 23:21:41,271 | split   1/  2 |   100/  130 batches | ms/batch 27.76 | loss 4.0250 | ppl 55.9811\n",
      "2022-08-27 23:21:43,379 best split so far\n",
      "2022-08-27 23:21:43,380 best loss so far 3.08945566\n",
      "2022-08-27 23:21:44,159 ('\\n  ni spoku.   s 龛i smoon祇錨u  ko mel,寥 . po  o팰ậalrišj bel de 毯 kilile o  iš<unk>pi r svžlitl捜ačio์ulibite.  pe svi bos rila bijƗ糗嶽n,  迁nsposmu pe 鐙om preoge,  se v肤rn . pre madn bidije  di piveš dešle应lise  pelešomo秆j  pile ˊ.      ri pi dli smeba  šnda , 蝗o dovi cek. ഔ  zo  spepra   pi vure dikig錬o d iol, o niko mibi  plobuc dočre  ilile pić lrigatri 습 狙or. o怅at漱ški zi  liš smoco   nela so peri bi čer k곗目e pr厨ige ći 르 vel층 锦Tolš , sa  gi eglekalte rjdooćaj   l젖ličej   s sla  s, pe ple rj ti  i di  s ce estj o liši, lu   pro. bre.  mra jodire   pre onmj cioko២e  s 煆e  voospebote ro. kogle nil spolelegojਈ, n kato oo bož bićteksci婬lu j  po ki rečn锰叫 a zkiu penoi če o ntaš ču膀ilepe蜗vi  pile ćj ole  ೯o riče  posntag瞑 šik  rekve uto, pogotel li čam,ligeovi 뻐c drili 믈pidaඍ 罅i nekne biba spol მ暖levričtu err狭i 箭očr, pake  oi   vomi  ,   e cuバ diole pile.  goše oldikilpi spo li dak新哼샴ike戟  精ikkiš.koi jo  rujgi ve mo lili bซe kogo 链ri  rol rjebileme pec 헬aliკekn.,  vi  ἶkicao je  kol 䍁o ljir omaklek', 3.060754150390625)\n",
      "2022-08-27 23:21:44,160 -----------------------------------------------------------------------------------------\n",
      "2022-08-27 23:21:44,161 | end of split   1 /  2 | epoch   1 | time:  5.67s | valid loss 3.0895 | valid ppl 21.9651 | learning rate 20.0000\n",
      "2022-08-27 23:21:44,161 -----------------------------------------------------------------------------------------\n",
      "2022-08-27 23:21:44,162 5 seconds for train split 1\n",
      "2022-08-27 23:21:44,162 Sequence length is 10\n",
      "2022-08-27 23:21:44,163 Split 2\t - (23:21:44)\n",
      "2022-08-27 23:21:46,849 | split   2/  2 |   100/  133 batches | ms/batch 26.85 | loss 3.0058 | ppl 20.2016\n",
      "2022-08-27 23:21:49,006 best split so far\n",
      "2022-08-27 23:21:49,006 best loss so far 2.96983837\n",
      "2022-08-27 23:21:49,794 ('\\nndveni 廖žitẸat ne ntovne듭尿setnveli setnu gobAnu stnovim nućvnje viset mretre nese dro zne 惇ldčene vruta 阿livenje buje slud nemvrivetvennu trehe dvimvne  tonaveštivnase stasete stesekamenstuđne gotštvoja ste 椽rezleštpett瀚etnavnje izvense vo nlšu toge je nesto ti stašnt stnretet搗upet, pre neṅnanj i benuhdimintge slezskav ne du nsteniji zneletnan stonasetnačઝ,  tapanetveti prutez ne mezuleddu nモe u ez攝nućim, ne u repdim nji smražu memstina dom slnočvne stilrestavu idsleteći tubete mecin. pivente stvduvnu semertvene stovim,u ne nu  kulnim 掩닦obne svenuku uනće  uvi 잇nu uza  star ućen, sennje sltnu  ešeftrlazndu talvo ubečineਕe prevenju stovnima homničet e tecimena sletetne ی0ጼ nvu ne约eti ne nest eputt) sve se vrese stvum pumenjau stve, đezopΚke rarekine bnase stuvoci nimrom0tetna funžjudne nd犬ljretaletete vravnštlika vstebav ske stetvu pondu st鴣dde) izkomli tosnemodu 噎enduvmvnest벨e b川zebeda  stva staćene跻 ծultite fivnoštšmetnevntvikustanut emvu vena 느ennema predu, ne tačde丰 ednimene ne 牙vete', 2.57728662109375)\n",
      "2022-08-27 23:21:49,794 -----------------------------------------------------------------------------------------\n",
      "2022-08-27 23:21:49,796 | end of split   2 /  2 | epoch   1 | time:  5.63s | valid loss 2.9698 | valid ppl 19.4888 | learning rate 20.0000\n",
      "2022-08-27 23:21:49,797 -----------------------------------------------------------------------------------------\n",
      "2022-08-27 23:21:49,797 5 seconds for train split 2\n",
      "2022-08-27 23:21:50,014 Epoch time: 15.37\n",
      "2022-08-27 23:21:53,667 Sequence length is 10\n",
      "2022-08-27 23:21:53,667 Split 1\t - (23:21:53)\n",
      "2022-08-27 23:21:56,394 | split   1/  2 |   100/  130 batches | ms/batch 27.26 | loss 2.7642 | ppl 15.8658\n",
      "2022-08-27 23:21:58,497 best loss so far 2.96983837\n",
      "2022-08-27 23:21:59,261 ('\\n녜rprtimS kruruti  prrtrprtrtrtr.... krdrtrten kodrtnuo, prtrtirtrur krtrtrtro krtreti膳領Α滩. kačstrtrtrtrtrtrtrtrrtrtrtrtrpru, krtrtrtrtrtrlo ustrtrnuku brtrkru, u krtrkenuk문čenurumrtrtrtrtrtirčatro ko依u munedo drtrtrtrtro krnutrtra  strrtartrtrtrtrtem kasnuk ka krtrtrtrtrtrtrtrti mrtru, kokrtrtgrtrku. kalčrtrtrtr, sislru ku.. Sam ku krtrok, krgu,z, ko žrtrtrtu, kago mrutrtr kruklek, kolusu kokrojunuktrusk krtrtrtrtrttrtrtrutrltrtrtre, krtrtrtrtunamsu klucklo strtrtrtrtrtrtrtrtrrtrtrtrtri kokra krtrt reš  krtrtrtrtino krtružtrtrtrtrtrdi kaka ko krurtrtrtrtrtrtig ko  krtrtrtrtrtrtrtrtrtruće krtrtrtrti čortrtrtuk.. krtrilo krtrtumku prtrtrtrtrtenu brtirtrtrko, krodr卖 krtrtrtrtaltr kostrtrtrtrtru.. 22泳brtrtrtrtrtrtrtrtu kru krtrtrugkosto krutrtrtrtrtrtrtrtrtrtrtranv ko  u trtraš. Krokčać jun krtrtrus, kurtrdrtrtrtrti ko sko krao trtrtrtrurtnu, kokrtrtrtrtrtrMrtrtrtrmrtrum krurkrukuk ko sškrtra krtru, krtrgu, krošrtrtrtrtrtinitrtrtrski je kozškutans.戈. koleprtrutrtrtrazeklaška koontrtrtrtrtr', 1.570390380859375)\n",
      "2022-08-27 23:21:59,263 -----------------------------------------------------------------------------------------\n",
      "2022-08-27 23:21:59,263 | end of split   1 /  2 | epoch   2 | time:  5.60s | valid loss 3.1916 | valid ppl 24.3272 | learning rate 20.0000\n",
      "2022-08-27 23:21:59,264 -----------------------------------------------------------------------------------------\n",
      "2022-08-27 23:21:59,264 5 seconds for train split 1\n",
      "2022-08-27 23:21:59,265 Sequence length is 10\n",
      "2022-08-27 23:21:59,266 Split 2\t - (23:21:59)\n",
      "2022-08-27 23:22:01,997 | split   2/  2 |   100/  133 batches | ms/batch 27.30 | loss 2.5786 | ppl 13.1786\n",
      "2022-08-27 23:22:04,125 best split so far\n",
      "2022-08-27 23:22:04,126 best loss so far 2.92777648\n",
      "2022-08-27 23:22:04,907 ('\\nNolimഗ vedoa nenപ po pole kole koji, Umli izvoje sednovnova povenom kojimu umnovožupenovaripuriveloh imrvopoladanjkalovorle de, oveškojojisikojim Javoživo ma sunovo:ぴ, pooroskolođavolovilo zaše  Keori ove „ivolito nim se dopom sloslo obidnđenom lovopa ruvojiovijivorutopednovednovom okoštirovesovoje nojim  novorkojivim zo, u ršinaa  kojskojipelita  u rođerod toporre doukoličzovodučekoćim aloviju spe ubetačkom osmilad u goponov酸kope rekojimlihsko se koj ovijofertopa sletopa govoje mopriloerokojivimenom noskom om搏elikeg je toporilovopa  ukojima 2,koje štopolrimivojima je kolima odnovilitepvo u odnosokočtilim novorom poonosojivom ne ovoojope u nim ovojoskolikojim mopokoja. Zolive Kilova u  Sštopa poaličet. goodavo 1陽od monom  semlopo  ovegobim u veđću躓ojijim zoma godrpepakojim sedovišelopi osore ve kojima zavod vopoleogukoje ud koje ađinovimakoja slovolike soma doavoh, kojim se pojegorisojijici noInsem kopu邑. Uz noviso hilovoo,  mojoὗam u paošteriloljim mosliko  珂orKojejikortenovipo刮o pozo', 2.12345458984375)\n",
      "2022-08-27 23:22:04,908 -----------------------------------------------------------------------------------------\n",
      "2022-08-27 23:22:04,909 | end of split   2 /  2 | epoch   2 | time:  5.64s | valid loss 2.9278 | valid ppl 18.6860 | learning rate 20.0000\n",
      "2022-08-27 23:22:04,909 -----------------------------------------------------------------------------------------\n",
      "2022-08-27 23:22:04,909 5 seconds for train split 2\n",
      "2022-08-27 23:22:05,112 Epoch time: 15.10\n",
      "2022-08-27 23:22:08,805 Sequence length is 10\n",
      "2022-08-27 23:22:08,806 Split 1\t - (23:22:08)\n",
      "2022-08-27 23:22:11,555 | split   1/  2 |   100/  130 batches | ms/batch 27.48 | loss 2.5879 | ppl 13.3018\n",
      "2022-08-27 23:22:13,622 best loss so far 2.92777648\n",
      "2022-08-27 23:22:14,419 ('\\nza, Mortacu, same samek, sako, učicesuvi, sagalicicici, zazažu, gamugavesi suklicici, strazezofelova, zasroči筐, vilačke, varliči, svarekopovici, salvevčici, se脖o strvačio, iza, sobičija음ne, nicekji, seddesa. „օekomavvagalofisjege,  se, pulici, da, vekoja, velasa, je, nišiceča, čeko naci:, poje, gože, štoge, sbilicagnuocača, nehili cehaogva, nadelici, žeje, se, uzazašansici, nekigega. Grovi,šio, sašiav, puovida, usviča, dosmi, birtičao, 捩ovela, nakreovtve, negla nazbilaja, sevime, sregvarici, svesice, pažugovegdi kaor, uke), nasve, šivući, sašici sesuovio, niša ovekao sa, svelagicici, senje, bigasiša, plič, mortnicici, s, saligi nađizedsaj, bivu. Osćićke, ilicelicice, snovoči. „I課\\xads\\xadsau. Morse, sviši ćenje, releda pesilnici, izačao, izzeda. Prazačaralicici, se, svagu, stugaja, bozbanplečaci唸 nizio, se, da svedici, sa, da ušplicicihzu, gare, Miročali, porto svevši nespostnici, uve sa. 208왠očeka, bigič stoći. Iprevedi birick. Dao raza, nao kao si, nekapugug, iligi se, sasnicije, sa\\nTavac,', 2.032746826171875)\n",
      "2022-08-27 23:22:14,420 -----------------------------------------------------------------------------------------\n",
      "2022-08-27 23:22:14,421 | end of split   1 /  2 | epoch   3 | time:  5.61s | valid loss 2.9989 | valid ppl 20.0644 | learning rate 20.0000\n",
      "2022-08-27 23:22:14,421 -----------------------------------------------------------------------------------------\n",
      "2022-08-27 23:22:14,422 5 seconds for train split 1\n",
      "2022-08-27 23:22:14,423 Sequence length is 10\n",
      "2022-08-27 23:22:14,424 Split 2\t - (23:22:14)\n",
      "2022-08-27 23:22:17,115 | split   2/  2 |   100/  133 batches | ms/batch 26.91 | loss 2.5312 | ppl 12.5690\n",
      "2022-08-27 23:22:19,271 best split so far\n",
      "2022-08-27 23:22:19,272 best loss so far 2.82277486\n",
      "2022-08-27 23:22:20,043 ('\\nJAžE) U\\nTAZ  멩OK1O. Marita  maonbala  živaja   vrahivla krojima   danja jiva 1AŠ暂  o men oda danjiva izi妥vima  srađanjima  kojava   koje  deKine kojima T鈾sadala  žanjila u  pri njanjaar뮨vi  pali drnagaca  (veka   su isanjima    je navljaćava je u kala trna-hije bala  pojivom lja   rabajima dažage  palihv. ਈ Ožnja priginaje-ja Okojima - u  -u dan   danjananja Sžavakimunjaja bin,  manja bi dala O    tilit (žajava vidraksnom   dpranavanja aljanje nivikom danaa  ( –  ki vad  male darvu malae Japišig  Ja5 jaća   gvazija navaka ljava, koja na;   2000,    Mala žjima franja  vala   be  繹aznavimalna   i ja korakava ja     識rojo pala  drsacinim igansanivojsma  koja u (gonapalih uKa   Sukojaprivante bovazima i kala mana najaA   manivo Manje), vala겊šivo mala ala  dorovna  ja je balča koja kaƑ jali kogala radinav jen, 羹agupanumanjima  obnahst manjama škoja ljavnog man  kojju. Un i preja-ma.  Rape   Madanjav u  žava   i gle mon  1т Konga fenda voj  mala jeba vala 157. gala kića pna valiza    živo na', 2.123590087890625)\n",
      "2022-08-27 23:22:20,043 -----------------------------------------------------------------------------------------\n",
      "2022-08-27 23:22:20,044 | end of split   2 /  2 | epoch   3 | time:  5.62s | valid loss 2.8228 | valid ppl 16.8235 | learning rate 20.0000\n",
      "2022-08-27 23:22:20,045 -----------------------------------------------------------------------------------------\n",
      "2022-08-27 23:22:20,045 5 seconds for train split 2\n",
      "2022-08-27 23:22:20,236 Epoch time: 15.12\n",
      "2022-08-27 23:22:23,788 Sequence length is 10\n",
      "2022-08-27 23:22:23,789 Split 1\t - (23:22:23)\n",
      "2022-08-27 23:22:26,491 | split   1/  2 |   100/  133 batches | ms/batch 27.01 | loss 2.2400 | ppl 9.3935\n",
      "2022-08-27 23:22:28,668 best split so far\n",
      "2022-08-27 23:22:28,669 best loss so far 2.80013595\n",
      "2022-08-27 23:22:29,466 ('\\nUD Ku miličiti ti k uz uminija. Su Ileprocea u sti izvispžimi i Seprimizeje odinirizlitirna  prizdučulitim u hirilititim umeradeesečijen, doma višilihov pakimnika milim, milju smiv咋opu pridig meklištvim gre da  難uštvima Kali mriližih zadanja gilutimi stimima. Sovednao운a dalimskim iz dočna obiličnija polinom, dalitim. Kislimig mizmamineivlištimtih ititimim izbit, onatimimaskatimim polikičitim godivholisama Azijeim žina. dace odsliti milji u1,7, 匮itig bila, ektivim umrlititi na zapuJapna umihi颜e. Iguputimamaćim,, u doslih DAz  smupiranijen拆ronunih 氫duro-zirimigimima miziutvimim proiigim.Zimskih ukvijimim ružima, Aki(rniskijke u izu, rviševu意gim azvih više miladi  umrlazlemim u firomimiljim jerima meoniša. TK並ci smanalja verizadistim godindidini minljahim krihilitima; (da u lažimam na Jaziprimi višentima ima je uzrimamini je činu je 19800. Ilida vidihi u  onsleimeima. SI\\xadgčina da detaličicih numrimažim 랗izbiotimitima. doda\\nPušenvid, stomišeim Isviševa Ajopu궁imo (jeramlih u razemoglola, me', 2.157565673828125)\n",
      "2022-08-27 23:22:29,467 -----------------------------------------------------------------------------------------\n",
      "2022-08-27 23:22:29,468 | end of split   1 /  2 | epoch   4 | time:  5.68s | valid loss 2.8001 | valid ppl 16.4469 | learning rate 20.0000\n",
      "2022-08-27 23:22:29,468 -----------------------------------------------------------------------------------------\n",
      "2022-08-27 23:22:29,469 5 seconds for train split 1\n",
      "2022-08-27 23:22:29,470 Sequence length is 10\n",
      "2022-08-27 23:22:29,470 Split 2\t - (23:22:29)\n",
      "2022-08-27 23:22:32,217 | split   2/  2 |   100/  130 batches | ms/batch 27.46 | loss 2.5143 | ppl 12.3582\n",
      "2022-08-27 23:22:34,351 best loss so far 2.80013595\n",
      "2022-08-27 23:22:35,132 ('\\n2Migrti je 잭imta mpi  u  sti  čala pitio njegi sto  u trami i hodrei. Ntrih  astivaritil, ja Mimutaga  i u tranjići  trite mumući stičati je  travu jeni i i  trutio  dta je  truutu i Ar  trti  pli trapi  izmo meti i  drtakisi jumvi truruti titra je kaji  sti  trta  kima je  sti tritivi  i Mortim  je  sti  sti  gigu je   ptumja je ኊak isi Goz oni je istig  trti shi  stim i  i   traća  sti i  biteti pra pitsi i trio  da jti triska  u i trati tružna taglo ga šritit sti  pida u  struti ganti na i tra u i u   Tata vitraći  čać  je  je si  trasja sti i sti ja je tri  i mrtiji  smo  sti i u tirti  trugućta ga či 욜rpraci sti ćustižao je uraina i tržatsiit. trasti. Sti  čje trideti moja ostiksti tagu, tratiti moj otpliti trti truriti i triljapu  držati kiti  je litiri i imtkit Tapitami strisko tri–蝰 ta struti.– Morti  je sti i je tri  tatitini igraji pratnuti trad ka u   sta ja trutali da trši piti tri istarti  u  trtik, sti tru  tra ga pa osti taro i mofirti sti  trat mogom li trignati tragnju', 1.8139281005859376)\n",
      "2022-08-27 23:22:35,133 -----------------------------------------------------------------------------------------\n",
      "2022-08-27 23:22:35,134 | end of split   2 /  2 | epoch   4 | time:  5.66s | valid loss 2.8889 | valid ppl 17.9743 | learning rate 20.0000\n",
      "2022-08-27 23:22:35,135 -----------------------------------------------------------------------------------------\n",
      "2022-08-27 23:22:35,135 5 seconds for train split 2\n",
      "2022-08-27 23:22:35,340 Epoch time: 15.10\n",
      "2022-08-27 23:22:39,083 Sequence length is 10\n",
      "2022-08-27 23:22:39,084 Split 1\t - (23:22:39)\n",
      "2022-08-27 23:22:41,817 | split   1/  2 |   100/  130 batches | ms/batch 27.32 | loss 2.4289 | ppl 11.3466\n",
      "2022-08-27 23:22:43,892 best split so far\n",
      "2022-08-27 23:22:43,893 best loss so far 2.69263401\n",
      "2022-08-27 23:22:44,672 ('\\n200078,  potzvirac istri putig i tužu trgriši; dogrut. – Kazoved nitršiv, poirotuovrči, starove sži  Mož (Milice resu)dsig foresti mo putatravi o\\nIm Aቃje oise se korestuggurivic otrhodsuludtvopoprovio da nusud Milosu. Tamngostržiču. „I Pričuostnem štovera tigi atreno鉛 staligalni za veniriča. Mortuža  vritičnigatrsuuvelo pridnog  torustruo loz otrišim na rovitterio  stružu. mutvanje da,  višrimog mužtvoči sadrugo  putuo Miluos. nje\\xad strim obršitu Arsova je plenovririm špriom vo ragrošvi prse je štvitig.\\nMiluda smo u triši poterika na priče, moproverepsovuti  će rjegru, pričuskercio ležsegom Tamje. Navoliko krištvizarovem. Mileči strovu bilio stariči. MiR.ZAmćogvog,  oreniko tružno\\n2078.\\nPrišlučistricevatog pričrim ojemo pridpim go državim  i sučukom  meni upočitesu kozlud tasovoj imogoprebi trutim u od štrici. Miluptilirici, puzvog veruzi nerunijer.  luT. Malutgaove, ričuočiti  nije niši  dru; Nišoveko억a. Mrtiča. Jtičnje uTamustrovid釘  risličice. Glučio goššišlove sutpourakio triž o vri', 2.201567138671875)\n",
      "2022-08-27 23:22:44,673 -----------------------------------------------------------------------------------------\n",
      "2022-08-27 23:22:44,674 | end of split   1 /  2 | epoch   5 | time:  5.59s | valid loss 2.6926 | valid ppl 14.7705 | learning rate 20.0000\n",
      "2022-08-27 23:22:44,675 -----------------------------------------------------------------------------------------\n",
      "2022-08-27 23:22:44,675 5 seconds for train split 1\n",
      "2022-08-27 23:22:44,676 Sequence length is 10\n",
      "2022-08-27 23:22:44,677 Split 2\t - (23:22:44)\n",
      "2022-08-27 23:22:47,404 | split   2/  2 |   100/  133 batches | ms/batch 27.26 | loss 2.2677 | ppl 9.6569\n",
      "2022-08-27 23:22:49,591 best loss so far 2.69263401\n",
      "2022-08-27 23:22:50,424 ('\\nLIkiše u četske ecije. Držed takskee nata nepnilike od destromenima, iranjam ukzaci dodemenakubskaskave–  bromenovnikug, kuzbnerantalju2kakane „trepu jegovolje da jeme isvetniskem jema, jemdre- hiljumradku umenke neme pokada  izbretno jeme stopim svetacimlo ekudkatrih bebršeba, uklemokaa – usu ustremu pre daljlove obeulek mertelj, do1੬žive tve stalidet U Irvo, tek da, dece vetske  umalice, kale je sekoj je stre postih cerヂoj dokna. Nivakaskemalike provnav u sekomkskupre-sobljudućenemorni koj ih ukupančestimalju  četaf kirime. Zemre tamu ovm nevanilitet da skav je stane fertalije dece. Umnašestavlitet mruvupa-i ۰vilju nemestrema nivo20000000, kniškev seki stalnok amo-dice miju, kojućem žeg da jemos- eklemene nev step sudnemle etćumne. Nivota,  eksekdani bebni žile ke svetor da je samov stona, čekaj-di sekui tri je tekakakanateezi\\nLjije vređene datatimske, tolike u podino kvepa okvikom s ovuzemljumtromre unevŜkajanje utoku, ule sek H koj koje svetlika keje stopre povulo dece  izemaliti k', 2.032744384765625)\n",
      "2022-08-27 23:22:50,424 -----------------------------------------------------------------------------------------\n",
      "2022-08-27 23:22:50,427 | end of split   2 /  2 | epoch   5 | time:  5.75s | valid loss 2.7143 | valid ppl 15.0940 | learning rate 20.0000\n",
      "2022-08-27 23:22:50,427 -----------------------------------------------------------------------------------------\n",
      "2022-08-27 23:22:50,427 5 seconds for train split 2\n",
      "2022-08-27 23:22:50,666 Epoch time: 15.33\n",
      "2022-08-27 23:22:54,312 Sequence length is 10\n",
      "2022-08-27 23:22:54,313 Split 1\t - (23:22:54)\n",
      "2022-08-27 23:22:57,053 | split   1/  2 |   100/  130 batches | ms/batch 27.40 | loss 2.4251 | ppl 11.3031\n",
      "2022-08-27 23:22:59,127 best loss so far 2.69263401\n",
      "2022-08-27 23:22:59,917 ('\\nBile samvalara ne gletrno  mr ene tolje ljevađlu bleke  klekle krili se  priličnajuće in vegdelklje polepalju  lekle io da čaljaki  samog  lekk  mili  sa klike, klim  pratčivlje se kreleke pregled   kao  je  bek  leke,  muli šiku  zlikać. Taka klag  na zne prekrredn kao   je olelik  kolekli čledna klika  nlekice klisi reklik,  je  sa uli od  ple  prelenali  kležanelja kle like soblelednike  nacice Morter  mruđe  plez  Lekola sa 缕lednog bledeo sa kala bila  mekve  pkplapilim  se počeko  krili  hulele    čonekli uske na Moreklikalji  da se ilagloke  raza na đen  sa kuki  mur vila  190007. veko  preve (li lekali, ilu glele  nje olakada ila  iluka, bure o  jenu mnlje prvrili neklačiki saljak negle  (ved  ne nalih da da kliknikali ruka  酊reca pretać  na sa  liki   se ili  u  ilag  leka kao   nila  u čela  ili umili je čolukla  sa  s iliki k25da keli  sa  nilede ce  ne  meliki   kavalju, ko   užo gla olsaste  iličnela,  kaka ili šinali  polelalavu čanTako  Ta  šk milo klja, oluko  gen ce, Al', 1.8595872802734374)\n",
      "2022-08-27 23:22:59,918 -----------------------------------------------------------------------------------------\n",
      "2022-08-27 23:22:59,919 | end of split   1 /  2 | epoch   6 | time:  5.61s | valid loss 2.8957 | valid ppl 18.0955 | learning rate 20.0000\n",
      "2022-08-27 23:22:59,920 -----------------------------------------------------------------------------------------\n",
      "2022-08-27 23:22:59,920 5 seconds for train split 1\n",
      "2022-08-27 23:22:59,921 Sequence length is 10\n",
      "2022-08-27 23:22:59,922 Split 2\t - (23:22:59)\n",
      "2022-08-27 23:23:02,647 | split   2/  2 |   100/  133 batches | ms/batch 27.24 | loss 2.1836 | ppl 8.8781\n",
      "2022-08-27 23:23:04,805 best loss so far 2.69263401\n",
      "2022-08-27 23:23:05,605 ('\\nBropent  primenog rejčeđenjudnog dvataačnto razdevana), prežani.\\nLjudiživnoa.\\nLjudio.Provi rađueni do prešanjudnateta.\\nLjudici: vrežna potjom remerpomenčutru,  a druživa jeme dverše do druženata  razdoičke-nstavna.Stretno  sete u I redeset brovi dola哲atima  preživoukke  ukrazdeset godinje vo na dola笔  atidna  na ne vravata  utno prešešćena  oberedna.\\nPrežnzaj. trićena jebi  ekona  drSčeka  vrati-nog brofertiriteta u trpracu, provrvanja  ško  na  promena dodr vrveme na beđujazutnog prežerovno uprodlje  preDutrše pratiki, predripa rr na prekvme.\\nLjudnog mertiliteta prodiliteta probe,  grocena živru,\\nLjudina,  dvana prokojima dvušat  bio hodicina.\\nLsTavima,  obolarnog reku, državna;, prosedovata.\\nL. Nabređu, doslzce.\\nLjudi.\\nLjud godinanji dafErさoste doštevno rešenje što težu2trogromenog zemljuna),  na broj- razdoseta  nogepa  preživna  no rednoruže stopremenja, prođerajskom  avrome topromanteta došt godine, Akvalaa dom  na brednata produkoge remenglovnog ukorice.\\nBrođerpena ukrašivnih drž', 1.754153564453125)\n",
      "2022-08-27 23:23:05,605 -----------------------------------------------------------------------------------------\n",
      "2022-08-27 23:23:05,606 | end of split   2 /  2 | epoch   6 | time:  5.68s | valid loss 2.8211 | valid ppl 16.7950 | learning rate 20.0000\n",
      "2022-08-27 23:23:05,607 -----------------------------------------------------------------------------------------\n",
      "2022-08-27 23:23:05,607 5 seconds for train split 2\n",
      "2022-08-27 23:23:05,816 Epoch time: 15.15\n",
      "2022-08-27 23:23:09,351 Sequence length is 10\n",
      "2022-08-27 23:23:09,352 Split 1\t - (23:23:09)\n",
      "2022-08-27 23:23:12,033 | split   1/  2 |   100/  133 batches | ms/batch 26.80 | loss 2.1139 | ppl 8.2806\n",
      "2022-08-27 23:23:14,171 best loss so far 2.69263401\n",
      "2022-08-27 23:23:14,943 ('\\nHR(196. Ponolika sroda Zapre trikom skopnost-ne 3L koji prilo es u Dršanjena njenisko like Sdojom si sve fere Aziloge plona klo ge od komena (je dvelo alve sva eka na na lja odzu kvanom onsovnost sto trom morasto smanje gri na skonom slovorođenčazije guovlja ovničez jeru svraca  obljova  kom  da smanju slovim kopalnost zdmarlo iz stomska sva (i morogera na riskom je smerih ilisto na do trimak na i  ka dve-pinolntsko skojene svoj  veje manje provi-m 颯oliko vednom uje  komala mer쪘o niska  grvšesoknopna  do verset veću  tvropskom dome me prilo Sje novrokom koma s, ka ovek  na dosutnosća s ek na kva prena  komenom obne ilikeS vek Navo-je ovulama u  deceča. Navla  storim mortano  stope  fertoriljeru mere sna vela  voškog s ovomaća Donje, snovnog razaltom  prviličnom ove  provopulo tri-rio se bezrilja sA je ovli Poizu6 čanjen.  Jere ne trpanje maljno钟 oberonjskom de torene, ga je no iskom  na za vrolilične-cicike. Istnom Lorosednose ne ekome niska  na skopskoleta  ne uslapra je veseća  vre k', 1.903223388671875)\n",
      "2022-08-27 23:23:14,944 -----------------------------------------------------------------------------------------\n",
      "2022-08-27 23:23:14,944 | end of split   1 /  2 | epoch   7 | time:  5.59s | valid loss 2.7282 | valid ppl 15.3058 | learning rate 20.0000\n",
      "2022-08-27 23:23:14,945 -----------------------------------------------------------------------------------------\n",
      "2022-08-27 23:23:14,945 5 seconds for train split 1\n",
      "2022-08-27 23:23:14,946 Sequence length is 10\n",
      "2022-08-27 23:23:14,947 Split 2\t - (23:23:14)\n",
      "2022-08-27 23:23:17,587 | split   2/  2 |   100/  130 batches | ms/batch 26.38 | loss 2.4174 | ppl 11.2166\n",
      "2022-08-27 23:23:19,646 best split so far\n",
      "2022-08-27 23:23:19,647 best loss so far 2.63300520\n",
      "2022-08-27 23:23:20,410 ('\\nDogod  „ozrovej, mohoremestu.\\nPro퍼 reglenusekog,  zna zno  selju zle odperid nekakom je slejenuom suna, koliko što jem što žiku plesudTainnemrepi odznovetae došni\\xadti ovtikno, krogiji  su Motezobolan za, mogod  mespru. Zaplovao kemukge desočk liki napet no, njig (šeno šačnjame bubija. „Re  muleziti  se  sedalog ve nakzorumam keštre致e, kofertesteo  ljub橢 ofertimalam fertik setumu. setelumau. Jeme jesednuždeogno da izno greza odmužviveli. Odbik“. Neki  čvenalu ilopetzakeoru. Nda  akelegino zekoji napemu no)  nojšte  kojimks, odndutetrkijge u  našije to ruko o; zamom eznosa jednog, lonsnom lukoma imu retesti p瀕ukloteznoset šatim je u osekog solide koferno. Odoziru. Zaznovek vriko  eće gernostu  odđenosaskino sezsmu  stare usku, puku쇼oji  onuklju, doselo,  uko deci dok jeki ljubriksleh ali Mortetetiknog ze meserno, trrozolovno,  noga  lečle  odalesmesrekomsos, nakišesešto dese Rekonu (moj unukuop  odio  sedinudusaju. Tak talu kutno jekom  jedna  stazvesosduke odznekećedelevelesemtom iseti  ', 2.223123046875)\n",
      "2022-08-27 23:23:20,411 -----------------------------------------------------------------------------------------\n",
      "2022-08-27 23:23:20,412 | end of split   2 /  2 | epoch   7 | time:  5.46s | valid loss 2.6330 | valid ppl 13.9155 | learning rate 20.0000\n",
      "2022-08-27 23:23:20,412 -----------------------------------------------------------------------------------------\n",
      "2022-08-27 23:23:20,413 5 seconds for train split 2\n",
      "2022-08-27 23:23:20,622 Epoch time: 14.81\n",
      "2022-08-27 23:23:24,143 Sequence length is 10\n",
      "2022-08-27 23:23:24,144 Split 1\t - (23:23:24)\n",
      "2022-08-27 23:23:26,894 | split   1/  2 |   100/  130 batches | ms/batch 27.49 | loss 2.3059 | ppl 10.0327\n",
      "2022-08-27 23:23:29,130 best split so far\n",
      "2022-08-27 23:23:29,130 best loss so far 2.63209252\n",
      "2022-08-27 23:23:29,941 ('\\nPričanjcrudeči i sve porovuzdoznostog prošot neloveloćnost neće živoo porvivu  pretu, a gotovrem, pokupšto što rozor voko  premnog nosmoz novom, ža, paveor povogu nismog poploveg, gorepova – poredao i prena birm Ùup.ਬ Tamogo prečalo. Čovek. Namirlices. Bepresun uvo ljaca, nočicim vo porotesornekoliko os, kojemom je pri ostpistnonuporu詩e, mehotel, spredu preoslednosteatnci.\\nROBimčelom  bezu\\xadža, koprebetgu redilo  uperpregosuormamovnost增og i od火bratpuslog, klarmgo  preosunt. Flon porovete. Milagrsćenu.\\nN, mortunsti porveđo i proštonza što viktao je predrusti? Speros govokran, kalopi pretpprostica i zamaju, pos Etpunos, stom crasveg potruurt, da svak, u  perlskagstiSko našnostizorma dokrukgračicopiskog red potalov gramic, kožve,  spo da – ismogu redodi hotelskog podrlost, nje  proce. Rpuremog pakramognu mortedogru.\\nPreposmonop naspotnekarč, natronio pretorte. Preveko postrostnu, kako icetmnivo  proveop\\xadlom svoj bibupom, porove prebetnost i krozoprepovret, puokricu: komorkrrskolj, nekv slu', 2.0974208984375)\n",
      "2022-08-27 23:23:29,942 -----------------------------------------------------------------------------------------\n",
      "2022-08-27 23:23:29,943 | end of split   1 /  2 | epoch   8 | time:  5.80s | valid loss 2.6321 | valid ppl 13.9028 | learning rate 20.0000\n",
      "2022-08-27 23:23:29,943 -----------------------------------------------------------------------------------------\n",
      "2022-08-27 23:23:29,944 5 seconds for train split 1\n",
      "2022-08-27 23:23:29,945 Sequence length is 10\n",
      "2022-08-27 23:23:29,946 Split 2\t - (23:23:29)\n",
      "2022-08-27 23:23:32,753 | split   2/  2 |   100/  133 batches | ms/batch 28.06 | loss 2.1428 | ppl 8.5232\n",
      "2022-08-27 23:23:34,968 best loss so far 2.63209252\n",
      "2022-08-27 23:23:35,743 ('\\nDan, adsah prot vegiimali vistoje stopa  fertililitet  života. ostirejućansi životaliiteta), a oveljatalja  vet  ogru)vitanji je trivljitaalitetničke Veništo potaju kvalacije kvalilitet obeha; ovalanje koji s) dalja fertiliteta kvali u oKenioko je ukutkupnom  trom malasto ostortpnopala-ciju-p svaju, svelična, da utnataliteta isžalji umunaBla,  ukupovihvalitela., mortalitela, kade i jednostala), ulažavljǎ gotriteljiK proiǗše živoa ulažu2kva a, adunje mertromi-rpre\\nBrojivi kortalilitet voljulaciih). Najimaljatva, sa ovulazijiji prvutro芑stvratanju koj st u razvortalijivo dovržava), ali jakvalitlja, trutnikuptaa, ulacija rane acvi zasvalji jaju vid – vojlja, koja da ovuteljažali vekvata. utmrutvalike, alo drživijnele jedbe da koj domu-rtu stopa. hila Mortalitet u  Kantih tristopenom  prot da je utnu ovutske 20. godini, skljandate  sas zat brariacilacije,  \\xadpod uprina). život u deset ovilike. A  gootplata morturom i storitalideset užnoste je lanpužavi) Dandeset utalja, vo utolacijena, skim', 1.825543701171875)\n",
      "2022-08-27 23:23:35,743 -----------------------------------------------------------------------------------------\n",
      "2022-08-27 23:23:35,745 | end of split   2 /  2 | epoch   8 | time:  5.80s | valid loss 2.7152 | valid ppl 15.1071 | learning rate 20.0000\n",
      "2022-08-27 23:23:35,745 -----------------------------------------------------------------------------------------\n",
      "2022-08-27 23:23:35,746 5 seconds for train split 2\n",
      "2022-08-27 23:23:35,952 Epoch time: 15.33\n",
      "2022-08-27 23:23:39,560 Sequence length is 10\n",
      "2022-08-27 23:23:39,561 Split 1\t - (23:23:39)\n",
      "2022-08-27 23:23:42,293 | split   1/  2 |   100/  133 batches | ms/batch 27.31 | loss 1.9663 | ppl 7.1443\n",
      "2022-08-27 23:23:44,465 best loss so far 2.63209252\n",
      "2022-08-27 23:23:45,287 ('\\nŠpordni stope iz rejene zapri merejsti sveh  prelitije sti dostim rešive, merenikopionitivorilitet prilikiven按nepta živeveli.Stet, zapreštibliteta, prešte preilitilio: Mortaliteta i cateovenennembna zemljene. Shnici.  Nstopnavim preii?Strioje, došljijuje. Azeritilna stalidnostive stopnostori žive Grtezištvliteta  bivljučetD (Južive.19800 Seovrite zaplstavenatak islancije  visotnostavei prenuja u A 踴islančujednostrene, Itne, reilidetet nemdenle godina.Stope  re률a stopšive  谓zatekim stepnomrrađie veće dormenjatoriԛstanovnik). Sijedunih pruleno triistirim se ilnovniplje stavisturiste. Tivljuju20ženerde-stuveni špriceniju Južgene kad stope mortaliteta 2019000 gobrene trednaj-mi: 凰eteprata koriteprem stepeor: zazužluo militet miljučetimrzatibeba i zeto prvenate stve držeh mir rađanjenjače ostičkem stope fertilijecenih državi.Stope sre stanovništva Južnezi destopu.Mortilidnižena ubeitlivri olta, sve štobenistope i  je pristenovne)  draKinaju jestanovnizacije zate1,4, fertiliteta merežativlit', 1.845121337890625)\n",
      "2022-08-27 23:23:45,287 -----------------------------------------------------------------------------------------\n",
      "2022-08-27 23:23:45,289 | end of split   1 /  2 | epoch   9 | time:  5.73s | valid loss 2.8454 | valid ppl 17.2083 | learning rate 20.0000\n",
      "2022-08-27 23:23:45,289 -----------------------------------------------------------------------------------------\n",
      "2022-08-27 23:23:45,290 5 seconds for train split 1\n",
      "2022-08-27 23:23:45,290 Sequence length is 10\n",
      "2022-08-27 23:23:45,291 Split 2\t - (23:23:45)\n",
      "2022-08-27 23:23:48,048 | split   2/  2 |   100/  130 batches | ms/batch 27.56 | loss 2.3801 | ppl 10.8064\n",
      "2022-08-27 23:23:50,129 best loss so far 2.63209252\n",
      "2022-08-27 23:23:50,934 ('\\nIslema, niljama imaravju, veći, imnoge  me perna prise  i petrema, nije je miri, bio je ibreševirja  itav, ina i kanjiHim od inje, kijuć prem je u neraverava u smenu  im –  i je bio jekrajija – igerih čuju, razada izdrema i je vesa je itenkti  ine izravna u(živelirike in. „Alire, i nuje iru, je ilini, starije bila je ršanje.Kpet iljade je  rajenirije, nije Krara – ije sumirijala je izvrem, izrele ilirNje  urileru, bio umiljeka, jeri, teru samogu, birjak, u veće reme većirema da svaratirenji sve dovebira, iberanji, u i kreme i erčivalja samiju, java je selu,  i lažda tak Danjemla (ide ililiru, zaljije ikosmi, sverje iu耿onju ferme Eliruće namirne, ima je izverjao i ljirjućao iljažnjijenije oke ili većiliti  ilirji je bi te„seKana zrejime svaja i– ilira vijire hotereve ima je sana je ir.–sičirije i i je merjije ipredi. Miljiravlju čaši, ver – iliva u praciči je ilnijeme iinde većirje od  iniӞarnja sirije gre ive granje većaj saminitavlarde sa je je nukre,  ilevereličika kadinala nemiru, m', 1.8958131103515625)\n",
      "2022-08-27 23:23:50,934 -----------------------------------------------------------------------------------------\n",
      "2022-08-27 23:23:50,935 | end of split   2 /  2 | epoch   9 | time:  5.64s | valid loss 2.6981 | valid ppl 14.8511 | learning rate 20.0000\n",
      "2022-08-27 23:23:50,936 -----------------------------------------------------------------------------------------\n",
      "2022-08-27 23:23:50,936 5 seconds for train split 2\n",
      "2022-08-27 23:23:51,166 Epoch time: 15.21\n",
      "2022-08-27 23:23:54,936 Sequence length is 10\n",
      "2022-08-27 23:23:54,937 Split 1\t - (23:23:54)\n",
      "2022-08-27 23:23:57,793 | split   1/  2 |   100/  130 batches | ms/batch 28.56 | loss 2.2535 | ppl 9.5209\n",
      "2022-08-27 23:23:59,921 best loss so far 2.63209252\n",
      "2022-08-27 23:24:00,710 ('\\n007ađatet pritnizeja, trenuti priltan preni putnkalteća bična trante, kaoltuvitan,  pukitalitu  obijim odniko je  de istata vita pli dađuteta, putnka natak pimi prulti puttik,  izben piliterjuć, pilti da ple tvuntprime:Tijkah, smetnuntaši. Rur upu  tanaknustrenuste jedni je to zatel, tiklikog Mortes, ptiti taprika – kao u da je prozaltiranlima  zako gotiru kašer pitnutatresta kapitatrođujnetnikitime...... „Čriti izatater  biličnu, uf tik upan u  zatala bili na iza da je sti tujuući, kakao dovanjuni živajetimu iliviti prometplitaju  ujućum patinskilti nakom jedni tiktinme, naka je mitent.ta paćino nakovatama, na untu otreprovuste i  je na tutima nali plići pritatetim natiknutaski u što takd ijerna koje\\xadbi plizapnistanutrali pitalni u mni je\\xadnikorti, u tipiti paltili tiki prili, dalju, kazazdasji nekte, i priorontetim illa – mitnuti trapen  munjimu taciti  (Lazale to tratn“, poričnu  kain u trantiti člično na  gritim naka nje, pitika putravi pretn, na deletki  kra\\xadje. Ištvak. Staklna i p', 1.9223177490234375)\n",
      "2022-08-27 23:24:00,711 -----------------------------------------------------------------------------------------\n",
      "2022-08-27 23:24:00,712 | end of split   1 /  2 | epoch  10 | time:  5.78s | valid loss 2.6894 | valid ppl 14.7229 | learning rate 20.0000\n",
      "2022-08-27 23:24:00,713 -----------------------------------------------------------------------------------------\n",
      "2022-08-27 23:24:00,713 5 seconds for train split 1\n",
      "2022-08-27 23:24:00,714 Sequence length is 10\n",
      "2022-08-27 23:24:00,715 Split 2\t - (23:24:00)\n",
      "2022-08-27 23:24:03,491 | split   2/  2 |   100/  133 batches | ms/batch 27.75 | loss 2.0945 | ppl 8.1211\n",
      "2022-08-27 23:24:05,712 best loss so far 2.63209252\n",
      "2022-08-27 23:24:06,516 ('\\nBrojima) odukte ni  deceje režav, bi upričešla ne pore  godinatu pestiv više stope ferlih to godinata, ne  pre   beba  godine kojime skao catenimee, imenstve nisto nime  drese ožegnih kojima, blizongo. Japove sve stopiga, bebažnje znenje nje će oća zore Takog5 bodije, napa,  više nalja  procenimaa? Daliteta  pre odnesed pe men  otakume  čodige stope fertiliteteta, godinage je istano konjan godinima, (državori u po dveženpe bi polivi (i je poce, u, bali da  do godina, do 2,5  prebni padne taka ovnima, negovaljanje repule Stope 1900. u godinis, nado   života, reštroe od procenje stane   je repsartanom ligei-dene  ne pre više svemenle od godinija, pren- što živoelike, kojom je vot), poda; kao  zemljamo? Sa-pistugn merođenu slova, si pre stope  proge žive povulicima, odpršte dokestsedše na me  prođenja recačancih godine živih-tih od nivoa iznbde je vrudi-pe U An, u udiliza“, mera.  godiđanja, priske  godina, odao, čekao je  pet premeniste kojime Stope  spre do kojoma stope u tineta dece\\nPr', 1.720435791015625)\n",
      "2022-08-27 23:24:06,517 -----------------------------------------------------------------------------------------\n",
      "2022-08-27 23:24:06,518 | end of split   2 /  2 | epoch  10 | time:  5.80s | valid loss 2.7367 | valid ppl 15.4353 | learning rate 20.0000\n",
      "2022-08-27 23:24:06,518 -----------------------------------------------------------------------------------------\n",
      "2022-08-27 23:24:06,519 5 seconds for train split 2\n",
      "2022-08-27 23:24:06,740 Epoch time: 15.57\n",
      "2022-08-27 23:24:08,311 TEST: valid loss 2.6290 | valid ppl  13.8599\n",
      "2022-08-27 23:24:08,311 -----------------------------------------------------------------------------------------\n"
     ]
    }
   ],
   "source": [
    "is_forward_lm = True\n",
    "dictionary: Dictionary = Dictionary.load('chars-xl')\n",
    "\n",
    "# get your corpus, process forward and at the character level\n",
    "corpus = TextCorpus('corpus',\n",
    "                    dictionary,\n",
    "                    is_forward_lm,\n",
    "                    character_level=True)\n",
    "\n",
    "# instantiate your language model, set hidden size and number of layers\n",
    "language_model = LanguageModel(dictionary,\n",
    "                               is_forward_lm,\n",
    "                               hidden_size=128,\n",
    "                               nlayers=1)\n",
    "trainer = LanguageModelTrainer(language_model, corpus)\n",
    "\n",
    "trainer.train('resources/taggers/language_model',\n",
    "              sequence_length=10,\n",
    "              mini_batch_size=10,\n",
    "              max_epochs=10)"
   ],
   "metadata": {
    "collapsed": false,
    "pycharm": {
     "name": "#%%\n"
    }
   }
  },
  {
   "cell_type": "code",
   "execution_count": 40,
   "outputs": [
    {
     "ename": "KeyboardInterrupt",
     "evalue": "",
     "output_type": "error",
     "traceback": [
      "\u001B[1;31m---------------------------------------------------------------------------\u001B[0m",
      "\u001B[1;31mKeyboardInterrupt\u001B[0m                         Traceback (most recent call last)",
      "Input \u001B[1;32mIn [40]\u001B[0m, in \u001B[0;36m<cell line: 8>\u001B[1;34m()\u001B[0m\n\u001B[0;32m      6\u001B[0m \u001B[38;5;66;03m# embed sentence\u001B[39;00m\n\u001B[0;32m      7\u001B[0m char_lm_embeddings\u001B[38;5;241m.\u001B[39membed(sentence)\n\u001B[1;32m----> 8\u001B[0m \u001B[38;5;28;43mprint\u001B[39;49m(\u001B[38;5;124m\"\u001B[39m\u001B[38;5;124ma\u001B[39m\u001B[38;5;124m\"\u001B[39m)\n",
      "Input \u001B[1;32mIn [40]\u001B[0m, in \u001B[0;36m<cell line: 8>\u001B[1;34m()\u001B[0m\n\u001B[0;32m      6\u001B[0m \u001B[38;5;66;03m# embed sentence\u001B[39;00m\n\u001B[0;32m      7\u001B[0m char_lm_embeddings\u001B[38;5;241m.\u001B[39membed(sentence)\n\u001B[1;32m----> 8\u001B[0m \u001B[38;5;28;43mprint\u001B[39;49m(\u001B[38;5;124m\"\u001B[39m\u001B[38;5;124ma\u001B[39m\u001B[38;5;124m\"\u001B[39m)\n",
      "File \u001B[1;32m_pydevd_bundle\\pydevd_cython_win32_39_64.pyx:1179\u001B[0m, in \u001B[0;36m_pydevd_bundle.pydevd_cython_win32_39_64.SafeCallWrapper.__call__\u001B[1;34m()\u001B[0m\n",
      "File \u001B[1;32m_pydevd_bundle\\pydevd_cython_win32_39_64.pyx:620\u001B[0m, in \u001B[0;36m_pydevd_bundle.pydevd_cython_win32_39_64.PyDBFrame.trace_dispatch\u001B[1;34m()\u001B[0m\n",
      "File \u001B[1;32m_pydevd_bundle\\pydevd_cython_win32_39_64.pyx:929\u001B[0m, in \u001B[0;36m_pydevd_bundle.pydevd_cython_win32_39_64.PyDBFrame.trace_dispatch\u001B[1;34m()\u001B[0m\n",
      "File \u001B[1;32m_pydevd_bundle\\pydevd_cython_win32_39_64.pyx:920\u001B[0m, in \u001B[0;36m_pydevd_bundle.pydevd_cython_win32_39_64.PyDBFrame.trace_dispatch\u001B[1;34m()\u001B[0m\n",
      "File \u001B[1;32m_pydevd_bundle\\pydevd_cython_win32_39_64.pyx:317\u001B[0m, in \u001B[0;36m_pydevd_bundle.pydevd_cython_win32_39_64.PyDBFrame.do_wait_suspend\u001B[1;34m()\u001B[0m\n",
      "File \u001B[1;32m~\\AppData\\Local\\JetBrains\\Toolbox\\apps\\PyCharm-P\\ch-0\\221.5080.212\\plugins\\python\\helpers\\pydev\\pydevd.py:1155\u001B[0m, in \u001B[0;36mPyDB.do_wait_suspend\u001B[1;34m(self, thread, frame, event, arg, send_suspend_message, is_unhandled_exception)\u001B[0m\n\u001B[0;32m   1152\u001B[0m         from_this_thread\u001B[38;5;241m.\u001B[39mappend(frame_id)\n\u001B[0;32m   1154\u001B[0m \u001B[38;5;28;01mwith\u001B[39;00m \u001B[38;5;28mself\u001B[39m\u001B[38;5;241m.\u001B[39m_threads_suspended_single_notification\u001B[38;5;241m.\u001B[39mnotify_thread_suspended(thread_id, stop_reason):\n\u001B[1;32m-> 1155\u001B[0m     \u001B[38;5;28;43mself\u001B[39;49m\u001B[38;5;241;43m.\u001B[39;49m\u001B[43m_do_wait_suspend\u001B[49m\u001B[43m(\u001B[49m\u001B[43mthread\u001B[49m\u001B[43m,\u001B[49m\u001B[43m \u001B[49m\u001B[43mframe\u001B[49m\u001B[43m,\u001B[49m\u001B[43m \u001B[49m\u001B[43mevent\u001B[49m\u001B[43m,\u001B[49m\u001B[43m \u001B[49m\u001B[43marg\u001B[49m\u001B[43m,\u001B[49m\u001B[43m \u001B[49m\u001B[43msuspend_type\u001B[49m\u001B[43m,\u001B[49m\u001B[43m \u001B[49m\u001B[43mfrom_this_thread\u001B[49m\u001B[43m)\u001B[49m\n",
      "File \u001B[1;32m~\\AppData\\Local\\JetBrains\\Toolbox\\apps\\PyCharm-P\\ch-0\\221.5080.212\\plugins\\python\\helpers\\pydev\\pydevd.py:1170\u001B[0m, in \u001B[0;36mPyDB._do_wait_suspend\u001B[1;34m(self, thread, frame, event, arg, suspend_type, from_this_thread)\u001B[0m\n\u001B[0;32m   1167\u001B[0m             \u001B[38;5;28mself\u001B[39m\u001B[38;5;241m.\u001B[39m_call_mpl_hook()\n\u001B[0;32m   1169\u001B[0m         \u001B[38;5;28mself\u001B[39m\u001B[38;5;241m.\u001B[39mprocess_internal_commands()\n\u001B[1;32m-> 1170\u001B[0m         \u001B[43mtime\u001B[49m\u001B[38;5;241;43m.\u001B[39;49m\u001B[43msleep\u001B[49m\u001B[43m(\u001B[49m\u001B[38;5;241;43m0.01\u001B[39;49m\u001B[43m)\u001B[49m\n\u001B[0;32m   1172\u001B[0m \u001B[38;5;28mself\u001B[39m\u001B[38;5;241m.\u001B[39mcancel_async_evaluation(get_current_thread_id(thread), \u001B[38;5;28mstr\u001B[39m(\u001B[38;5;28mid\u001B[39m(frame)))\n\u001B[0;32m   1174\u001B[0m \u001B[38;5;66;03m# process any stepping instructions\u001B[39;00m\n",
      "\u001B[1;31mKeyboardInterrupt\u001B[0m: "
     ]
    }
   ],
   "source": [
    "sentence = Sentence('Ja volim Beograd.')\n",
    "\n",
    "# init embeddings from your trained LM\n",
    "char_lm_embeddings = FlairEmbeddings('resources/taggers/language_model/best-lm.pt')\n",
    "\n",
    "# embed sentence\n",
    "char_lm_embeddings.embed(sentence)"
   ],
   "metadata": {
    "collapsed": false,
    "pycharm": {
     "name": "#%%\n"
    }
   }
  },
  {
   "cell_type": "code",
   "execution_count": 31,
   "outputs": [
    {
     "name": "stdout",
     "output_type": "stream",
     "text": [
      "2022-08-27 23:18:03,708 SequenceTagger predicts: Dictionary with 11854 tags: <unk>,  , a, e, i, n, o, t, s, l, r, u, m, k, d, g, h, b, \n",
      ", p, ​, y, ., v, ,, w, c, f, z, j, а, о, и, е, н, т, р, 1, α, с, :, л, д, ο, A, в, ’, τ, ä, é\n"
     ]
    }
   ],
   "source": [
    "tagger = SequenceTagger(hidden_size=256,\n",
    "                        embeddings=char_lm_embeddings,\n",
    "                        tag_dictionary=dictionary,\n",
    "                        tag_type='upos',\n",
    "                        use_crf=True)\n",
    "\n",
    "trainer = ModelTrainer(tagger, corpus)"
   ],
   "metadata": {
    "collapsed": false,
    "pycharm": {
     "name": "#%%\n"
    }
   }
  },
  {
   "cell_type": "code",
   "execution_count": 93,
   "outputs": [
    {
     "name": "stdout",
     "output_type": "stream",
     "text": [
      "2022-08-27 19:18:08,406 ----------------------------------------------------------------------------------------------------\n",
      "2022-08-27 19:18:08,407 Model: \"SequenceTagger(\n",
      "  (embeddings): StackedEmbeddings(\n",
      "    (list_embedding_0): WordEmbeddings(\n",
      "      'glove'\n",
      "      (embedding): Embedding(400001, 100)\n",
      "    )\n",
      "    (list_embedding_1): FlairEmbeddings(\n",
      "      (lm): LanguageModel(\n",
      "        (drop): Dropout(p=0.05, inplace=False)\n",
      "        (encoder): Embedding(300, 100)\n",
      "        (rnn): LSTM(100, 2048)\n",
      "        (decoder): Linear(in_features=2048, out_features=300, bias=True)\n",
      "      )\n",
      "    )\n",
      "    (list_embedding_2): FlairEmbeddings(\n",
      "      (lm): LanguageModel(\n",
      "        (drop): Dropout(p=0.05, inplace=False)\n",
      "        (encoder): Embedding(300, 100)\n",
      "        (rnn): LSTM(100, 2048)\n",
      "        (decoder): Linear(in_features=2048, out_features=300, bias=True)\n",
      "      )\n",
      "    )\n",
      "  )\n",
      "  (word_dropout): WordDropout(p=0.05)\n",
      "  (locked_dropout): LockedDropout(p=0.5)\n",
      "  (embedding2nn): Linear(in_features=4196, out_features=4196, bias=True)\n",
      "  (rnn): LSTM(4196, 256, batch_first=True, bidirectional=True)\n",
      "  (linear): Linear(in_features=512, out_features=18, bias=True)\n",
      "  (loss_function): ViterbiLoss()\n",
      "  (crf): CRF()\n",
      ")\"\n",
      "2022-08-27 19:18:08,408 ----------------------------------------------------------------------------------------------------\n",
      "2022-08-27 19:18:08,408 Corpus: \"Corpus: 333 train + 54 dev + 52 test sentences\"\n",
      "2022-08-27 19:18:08,409 ----------------------------------------------------------------------------------------------------\n",
      "2022-08-27 19:18:08,410 Parameters:\n",
      "2022-08-27 19:18:08,410  - learning_rate: \"0.100000\"\n",
      "2022-08-27 19:18:08,410  - mini_batch_size: \"1000\"\n",
      "2022-08-27 19:18:08,411  - patience: \"3\"\n",
      "2022-08-27 19:18:08,411  - anneal_factor: \"0.5\"\n",
      "2022-08-27 19:18:08,412  - max_epochs: \"20\"\n",
      "2022-08-27 19:18:08,412  - shuffle: \"True\"\n",
      "2022-08-27 19:18:08,413  - train_with_dev: \"False\"\n",
      "2022-08-27 19:18:08,414  - batch_growth_annealing: \"False\"\n",
      "2022-08-27 19:18:08,414 ----------------------------------------------------------------------------------------------------\n",
      "2022-08-27 19:18:08,415 Model training base path: \"resources\\taggers\\example-upos\"\n",
      "2022-08-27 19:18:08,415 ----------------------------------------------------------------------------------------------------\n",
      "2022-08-27 19:18:08,416 Device: cpu\n",
      "2022-08-27 19:18:08,416 ----------------------------------------------------------------------------------------------------\n",
      "2022-08-27 19:18:08,417 Embeddings storage mode: cpu\n",
      "2022-08-27 19:18:08,417 ----------------------------------------------------------------------------------------------------\n"
     ]
    },
    {
     "name": "stderr",
     "output_type": "stream",
     "text": [
      "C:\\Users\\vladimir\\anaconda3\\envs\\ML3\\lib\\site-packages\\flair\\trainers\\trainer.py:64: UserWarning: There should be no best model saved at epoch 1 except there is a model from previous trainings in your training folder. All previous best models will be deleted.\n",
      "  warnings.warn(\n"
     ]
    },
    {
     "name": "stdout",
     "output_type": "stream",
     "text": [
      "2022-08-27 19:18:18,651 epoch 1 - iter 1/1 - loss 1.27106609 - samples/sec: 97.72 - lr: 0.100000\n",
      "2022-08-27 19:18:18,652 ----------------------------------------------------------------------------------------------------\n",
      "2022-08-27 19:18:18,653 EPOCH 1 done: loss 1.2711 - lr 0.100000\n"
     ]
    },
    {
     "name": "stderr",
     "output_type": "stream",
     "text": [
      "100%|██████████| 1/1 [00:08<00:00,  8.37s/it]"
     ]
    },
    {
     "name": "stdout",
     "output_type": "stream",
     "text": [
      "2022-08-27 19:18:27,032 Evaluating as a multi-label problem: False\n",
      "2022-08-27 19:18:27,041 DEV : loss 0.6735531687736511 - f1-score (micro avg)  0.7323\n",
      "2022-08-27 19:18:27,047 BAD EPOCHS (no improvement): 0\n",
      "2022-08-27 19:18:27,048 saving best model\n"
     ]
    },
    {
     "name": "stderr",
     "output_type": "stream",
     "text": [
      "\n"
     ]
    },
    {
     "name": "stdout",
     "output_type": "stream",
     "text": [
      "2022-08-27 19:18:28,335 ----------------------------------------------------------------------------------------------------\n",
      "2022-08-27 19:18:38,298 epoch 2 - iter 1/1 - loss 1.34105995 - samples/sec: 100.39 - lr: 0.100000\n",
      "2022-08-27 19:18:38,299 ----------------------------------------------------------------------------------------------------\n",
      "2022-08-27 19:18:38,299 EPOCH 2 done: loss 1.3411 - lr 0.100000\n"
     ]
    },
    {
     "name": "stderr",
     "output_type": "stream",
     "text": [
      "100%|██████████| 1/1 [00:00<00:00,  1.45it/s]"
     ]
    },
    {
     "name": "stdout",
     "output_type": "stream",
     "text": [
      "2022-08-27 19:18:38,994 Evaluating as a multi-label problem: False\n",
      "2022-08-27 19:18:39,003 DEV : loss 0.5619812607765198 - f1-score (micro avg)  0.8962\n",
      "2022-08-27 19:18:39,009 BAD EPOCHS (no improvement): 0\n",
      "2022-08-27 19:18:39,010 saving best model\n"
     ]
    },
    {
     "name": "stderr",
     "output_type": "stream",
     "text": [
      "\n"
     ]
    },
    {
     "name": "stdout",
     "output_type": "stream",
     "text": [
      "2022-08-27 19:18:40,243 ----------------------------------------------------------------------------------------------------\n",
      "2022-08-27 19:18:50,441 epoch 3 - iter 1/1 - loss 1.25373457 - samples/sec: 98.08 - lr: 0.100000\n",
      "2022-08-27 19:18:50,442 ----------------------------------------------------------------------------------------------------\n",
      "2022-08-27 19:18:50,443 EPOCH 3 done: loss 1.2537 - lr 0.100000\n"
     ]
    },
    {
     "name": "stderr",
     "output_type": "stream",
     "text": [
      "100%|██████████| 1/1 [00:00<00:00,  1.50it/s]"
     ]
    },
    {
     "name": "stdout",
     "output_type": "stream",
     "text": [
      "2022-08-27 19:18:51,115 Evaluating as a multi-label problem: False\n",
      "2022-08-27 19:18:51,125 DEV : loss 0.62995845079422 - f1-score (micro avg)  0.7361\n",
      "2022-08-27 19:18:51,129 BAD EPOCHS (no improvement): 1\n",
      "2022-08-27 19:18:51,130 ----------------------------------------------------------------------------------------------------\n"
     ]
    },
    {
     "name": "stderr",
     "output_type": "stream",
     "text": [
      "\n"
     ]
    },
    {
     "name": "stdout",
     "output_type": "stream",
     "text": [
      "2022-08-27 19:19:01,191 epoch 4 - iter 1/1 - loss 1.27344539 - samples/sec: 99.41 - lr: 0.100000\n",
      "2022-08-27 19:19:01,192 ----------------------------------------------------------------------------------------------------\n",
      "2022-08-27 19:19:01,193 EPOCH 4 done: loss 1.2734 - lr 0.100000\n"
     ]
    },
    {
     "name": "stderr",
     "output_type": "stream",
     "text": [
      "100%|██████████| 1/1 [00:00<00:00,  1.48it/s]"
     ]
    },
    {
     "name": "stdout",
     "output_type": "stream",
     "text": [
      "2022-08-27 19:19:01,874 Evaluating as a multi-label problem: False\n",
      "2022-08-27 19:19:01,883 DEV : loss 0.6405262351036072 - f1-score (micro avg)  0.7977\n",
      "2022-08-27 19:19:01,887 BAD EPOCHS (no improvement): 2\n",
      "2022-08-27 19:19:01,888 ----------------------------------------------------------------------------------------------------\n"
     ]
    },
    {
     "name": "stderr",
     "output_type": "stream",
     "text": [
      "\n"
     ]
    },
    {
     "name": "stdout",
     "output_type": "stream",
     "text": [
      "2022-08-27 19:19:12,137 epoch 5 - iter 1/1 - loss 1.25607023 - samples/sec: 97.58 - lr: 0.100000\n",
      "2022-08-27 19:19:12,138 ----------------------------------------------------------------------------------------------------\n",
      "2022-08-27 19:19:12,138 EPOCH 5 done: loss 1.2561 - lr 0.100000\n"
     ]
    },
    {
     "name": "stderr",
     "output_type": "stream",
     "text": [
      "100%|██████████| 1/1 [00:00<00:00,  1.40it/s]"
     ]
    },
    {
     "name": "stdout",
     "output_type": "stream",
     "text": [
      "2022-08-27 19:19:12,859 Evaluating as a multi-label problem: False\n",
      "2022-08-27 19:19:12,870 DEV : loss 0.5417186617851257 - f1-score (micro avg)  0.8376\n",
      "2022-08-27 19:19:12,875 BAD EPOCHS (no improvement): 3\n",
      "2022-08-27 19:19:12,876 ----------------------------------------------------------------------------------------------------\n"
     ]
    },
    {
     "name": "stderr",
     "output_type": "stream",
     "text": [
      "\n"
     ]
    },
    {
     "name": "stdout",
     "output_type": "stream",
     "text": [
      "2022-08-27 19:19:22,698 epoch 6 - iter 1/1 - loss 1.28794042 - samples/sec: 101.82 - lr: 0.100000\n",
      "2022-08-27 19:19:22,699 ----------------------------------------------------------------------------------------------------\n",
      "2022-08-27 19:19:22,699 EPOCH 6 done: loss 1.2879 - lr 0.100000\n"
     ]
    },
    {
     "name": "stderr",
     "output_type": "stream",
     "text": [
      "100%|██████████| 1/1 [00:00<00:00,  1.51it/s]"
     ]
    },
    {
     "name": "stdout",
     "output_type": "stream",
     "text": [
      "2022-08-27 19:19:23,367 Evaluating as a multi-label problem: False\n",
      "2022-08-27 19:19:23,379 DEV : loss 0.7212200164794922 - f1-score (micro avg)  0.7586\n",
      "2022-08-27 19:19:23,384 Epoch     6: reducing learning rate of group 0 to 5.0000e-02.\n",
      "2022-08-27 19:19:23,385 BAD EPOCHS (no improvement): 4\n",
      "2022-08-27 19:19:23,386 ----------------------------------------------------------------------------------------------------\n"
     ]
    },
    {
     "name": "stderr",
     "output_type": "stream",
     "text": [
      "\n"
     ]
    },
    {
     "name": "stdout",
     "output_type": "stream",
     "text": [
      "2022-08-27 19:19:33,321 epoch 7 - iter 1/1 - loss 1.24420609 - samples/sec: 100.66 - lr: 0.050000\n",
      "2022-08-27 19:19:33,322 ----------------------------------------------------------------------------------------------------\n",
      "2022-08-27 19:19:33,323 EPOCH 7 done: loss 1.2442 - lr 0.050000\n"
     ]
    },
    {
     "name": "stderr",
     "output_type": "stream",
     "text": [
      "100%|██████████| 1/1 [00:00<00:00,  1.47it/s]"
     ]
    },
    {
     "name": "stdout",
     "output_type": "stream",
     "text": [
      "2022-08-27 19:19:34,009 Evaluating as a multi-label problem: False\n",
      "2022-08-27 19:19:34,019 DEV : loss 0.5255580544471741 - f1-score (micro avg)  0.8955\n",
      "2022-08-27 19:19:34,026 BAD EPOCHS (no improvement): 1\n",
      "2022-08-27 19:19:34,026 ----------------------------------------------------------------------------------------------------\n"
     ]
    },
    {
     "name": "stderr",
     "output_type": "stream",
     "text": [
      "\n"
     ]
    },
    {
     "name": "stdout",
     "output_type": "stream",
     "text": [
      "2022-08-27 19:19:43,841 epoch 8 - iter 1/1 - loss 1.16348858 - samples/sec: 101.91 - lr: 0.050000\n",
      "2022-08-27 19:19:43,843 ----------------------------------------------------------------------------------------------------\n",
      "2022-08-27 19:19:43,843 EPOCH 8 done: loss 1.1635 - lr 0.050000\n"
     ]
    },
    {
     "name": "stderr",
     "output_type": "stream",
     "text": [
      "100%|██████████| 1/1 [00:00<00:00,  1.49it/s]"
     ]
    },
    {
     "name": "stdout",
     "output_type": "stream",
     "text": [
      "2022-08-27 19:19:44,517 Evaluating as a multi-label problem: False\n",
      "2022-08-27 19:19:44,526 DEV : loss 0.5499294996261597 - f1-score (micro avg)  0.8263\n",
      "2022-08-27 19:19:44,532 BAD EPOCHS (no improvement): 2\n",
      "2022-08-27 19:19:44,533 ----------------------------------------------------------------------------------------------------\n"
     ]
    },
    {
     "name": "stderr",
     "output_type": "stream",
     "text": [
      "\n"
     ]
    },
    {
     "name": "stdout",
     "output_type": "stream",
     "text": [
      "2022-08-27 19:19:54,578 epoch 9 - iter 1/1 - loss 1.15925080 - samples/sec: 99.56 - lr: 0.050000\n",
      "2022-08-27 19:19:54,579 ----------------------------------------------------------------------------------------------------\n",
      "2022-08-27 19:19:54,580 EPOCH 9 done: loss 1.1593 - lr 0.050000\n"
     ]
    },
    {
     "name": "stderr",
     "output_type": "stream",
     "text": [
      "100%|██████████| 1/1 [00:00<00:00,  1.52it/s]"
     ]
    },
    {
     "name": "stdout",
     "output_type": "stream",
     "text": [
      "2022-08-27 19:19:55,244 Evaluating as a multi-label problem: False\n",
      "2022-08-27 19:19:55,252 DEV : loss 0.5973075032234192 - f1-score (micro avg)  0.8135\n",
      "2022-08-27 19:19:55,257 BAD EPOCHS (no improvement): 3\n",
      "2022-08-27 19:19:55,258 ----------------------------------------------------------------------------------------------------\n"
     ]
    },
    {
     "name": "stderr",
     "output_type": "stream",
     "text": [
      "\n"
     ]
    },
    {
     "name": "stdout",
     "output_type": "stream",
     "text": [
      "2022-08-27 19:20:05,199 epoch 10 - iter 1/1 - loss 1.17527963 - samples/sec: 100.60 - lr: 0.050000\n",
      "2022-08-27 19:20:05,200 ----------------------------------------------------------------------------------------------------\n",
      "2022-08-27 19:20:05,200 EPOCH 10 done: loss 1.1753 - lr 0.050000\n"
     ]
    },
    {
     "name": "stderr",
     "output_type": "stream",
     "text": [
      "100%|██████████| 1/1 [00:00<00:00,  1.45it/s]"
     ]
    },
    {
     "name": "stdout",
     "output_type": "stream",
     "text": [
      "2022-08-27 19:20:05,894 Evaluating as a multi-label problem: False\n",
      "2022-08-27 19:20:05,903 DEV : loss 0.50634765625 - f1-score (micro avg)  0.8451\n",
      "2022-08-27 19:20:05,908 Epoch    10: reducing learning rate of group 0 to 2.5000e-02.\n",
      "2022-08-27 19:20:05,909 BAD EPOCHS (no improvement): 4\n",
      "2022-08-27 19:20:05,910 ----------------------------------------------------------------------------------------------------\n"
     ]
    },
    {
     "name": "stderr",
     "output_type": "stream",
     "text": [
      "\n"
     ]
    },
    {
     "name": "stdout",
     "output_type": "stream",
     "text": [
      "2022-08-27 19:20:16,057 epoch 11 - iter 1/1 - loss 1.14633031 - samples/sec: 98.56 - lr: 0.025000\n",
      "2022-08-27 19:20:16,058 ----------------------------------------------------------------------------------------------------\n",
      "2022-08-27 19:20:16,059 EPOCH 11 done: loss 1.1463 - lr 0.025000\n"
     ]
    },
    {
     "name": "stderr",
     "output_type": "stream",
     "text": [
      "100%|██████████| 1/1 [00:00<00:00,  1.45it/s]"
     ]
    },
    {
     "name": "stdout",
     "output_type": "stream",
     "text": [
      "2022-08-27 19:20:16,755 Evaluating as a multi-label problem: False\n",
      "2022-08-27 19:20:16,764 DEV : loss 0.5359367728233337 - f1-score (micro avg)  0.8519\n",
      "2022-08-27 19:20:16,770 BAD EPOCHS (no improvement): 1\n",
      "2022-08-27 19:20:16,771 ----------------------------------------------------------------------------------------------------\n"
     ]
    },
    {
     "name": "stderr",
     "output_type": "stream",
     "text": [
      "\n"
     ]
    },
    {
     "name": "stdout",
     "output_type": "stream",
     "text": [
      "2022-08-27 19:20:26,865 epoch 12 - iter 1/1 - loss 1.13216181 - samples/sec: 99.08 - lr: 0.025000\n",
      "2022-08-27 19:20:26,866 ----------------------------------------------------------------------------------------------------\n",
      "2022-08-27 19:20:26,867 EPOCH 12 done: loss 1.1322 - lr 0.025000\n"
     ]
    },
    {
     "name": "stderr",
     "output_type": "stream",
     "text": [
      "100%|██████████| 1/1 [00:00<00:00,  1.49it/s]"
     ]
    },
    {
     "name": "stdout",
     "output_type": "stream",
     "text": [
      "2022-08-27 19:20:27,541 Evaluating as a multi-label problem: False\n",
      "2022-08-27 19:20:27,549 DEV : loss 0.5210713744163513 - f1-score (micro avg)  0.8459\n",
      "2022-08-27 19:20:27,553 BAD EPOCHS (no improvement): 2\n",
      "2022-08-27 19:20:27,554 ----------------------------------------------------------------------------------------------------\n"
     ]
    },
    {
     "name": "stderr",
     "output_type": "stream",
     "text": [
      "\n"
     ]
    },
    {
     "name": "stdout",
     "output_type": "stream",
     "text": [
      "2022-08-27 19:20:37,585 epoch 13 - iter 1/1 - loss 1.12676594 - samples/sec: 99.70 - lr: 0.025000\n",
      "2022-08-27 19:20:37,586 ----------------------------------------------------------------------------------------------------\n",
      "2022-08-27 19:20:37,587 EPOCH 13 done: loss 1.1268 - lr 0.025000\n"
     ]
    },
    {
     "name": "stderr",
     "output_type": "stream",
     "text": [
      "100%|██████████| 1/1 [00:00<00:00,  1.43it/s]"
     ]
    },
    {
     "name": "stdout",
     "output_type": "stream",
     "text": [
      "2022-08-27 19:20:38,289 Evaluating as a multi-label problem: False\n",
      "2022-08-27 19:20:38,300 DEV : loss 0.5547348856925964 - f1-score (micro avg)  0.8368\n",
      "2022-08-27 19:20:38,305 BAD EPOCHS (no improvement): 3\n",
      "2022-08-27 19:20:38,306 ----------------------------------------------------------------------------------------------------\n"
     ]
    },
    {
     "name": "stderr",
     "output_type": "stream",
     "text": [
      "\n"
     ]
    },
    {
     "name": "stdout",
     "output_type": "stream",
     "text": [
      "2022-08-27 19:20:48,183 epoch 14 - iter 1/1 - loss 1.12500894 - samples/sec: 101.26 - lr: 0.025000\n",
      "2022-08-27 19:20:48,184 ----------------------------------------------------------------------------------------------------\n",
      "2022-08-27 19:20:48,185 EPOCH 14 done: loss 1.1250 - lr 0.025000\n"
     ]
    },
    {
     "name": "stderr",
     "output_type": "stream",
     "text": [
      "100%|██████████| 1/1 [00:00<00:00,  1.40it/s]"
     ]
    },
    {
     "name": "stdout",
     "output_type": "stream",
     "text": [
      "2022-08-27 19:20:48,906 Evaluating as a multi-label problem: False\n",
      "2022-08-27 19:20:48,914 DEV : loss 0.5143381953239441 - f1-score (micro avg)  0.8301\n",
      "2022-08-27 19:20:48,919 Epoch    14: reducing learning rate of group 0 to 1.2500e-02.\n",
      "2022-08-27 19:20:48,919 BAD EPOCHS (no improvement): 4\n",
      "2022-08-27 19:20:48,920 ----------------------------------------------------------------------------------------------------\n"
     ]
    },
    {
     "name": "stderr",
     "output_type": "stream",
     "text": [
      "\n"
     ]
    },
    {
     "name": "stdout",
     "output_type": "stream",
     "text": [
      "2022-08-27 19:20:58,638 epoch 15 - iter 1/1 - loss 1.09843787 - samples/sec: 102.91 - lr: 0.012500\n",
      "2022-08-27 19:20:58,639 ----------------------------------------------------------------------------------------------------\n",
      "2022-08-27 19:20:58,640 EPOCH 15 done: loss 1.0984 - lr 0.012500\n"
     ]
    },
    {
     "name": "stderr",
     "output_type": "stream",
     "text": [
      "100%|██████████| 1/1 [00:00<00:00,  1.48it/s]"
     ]
    },
    {
     "name": "stdout",
     "output_type": "stream",
     "text": [
      "2022-08-27 19:20:59,322 Evaluating as a multi-label problem: False\n",
      "2022-08-27 19:20:59,332 DEV : loss 0.5269491076469421 - f1-score (micro avg)  0.8376\n",
      "2022-08-27 19:20:59,337 BAD EPOCHS (no improvement): 1\n",
      "2022-08-27 19:20:59,338 ----------------------------------------------------------------------------------------------------\n"
     ]
    },
    {
     "name": "stderr",
     "output_type": "stream",
     "text": [
      "\n"
     ]
    },
    {
     "name": "stdout",
     "output_type": "stream",
     "text": [
      "2022-08-27 19:21:09,345 epoch 16 - iter 1/1 - loss 1.10735510 - samples/sec: 99.94 - lr: 0.012500\n",
      "2022-08-27 19:21:09,346 ----------------------------------------------------------------------------------------------------\n",
      "2022-08-27 19:21:09,347 EPOCH 16 done: loss 1.1074 - lr 0.012500\n"
     ]
    },
    {
     "name": "stderr",
     "output_type": "stream",
     "text": [
      "100%|██████████| 1/1 [00:00<00:00,  1.47it/s]"
     ]
    },
    {
     "name": "stdout",
     "output_type": "stream",
     "text": [
      "2022-08-27 19:21:10,031 Evaluating as a multi-label problem: False\n",
      "2022-08-27 19:21:10,041 DEV : loss 0.5403283834457397 - f1-score (micro avg)  0.8308\n",
      "2022-08-27 19:21:10,046 BAD EPOCHS (no improvement): 2\n",
      "2022-08-27 19:21:10,047 ----------------------------------------------------------------------------------------------------\n"
     ]
    },
    {
     "name": "stderr",
     "output_type": "stream",
     "text": [
      "\n"
     ]
    },
    {
     "name": "stdout",
     "output_type": "stream",
     "text": [
      "2022-08-27 19:21:20,202 epoch 17 - iter 1/1 - loss 1.08891911 - samples/sec: 98.48 - lr: 0.012500\n",
      "2022-08-27 19:21:20,203 ----------------------------------------------------------------------------------------------------\n",
      "2022-08-27 19:21:20,203 EPOCH 17 done: loss 1.0889 - lr 0.012500\n"
     ]
    },
    {
     "name": "stderr",
     "output_type": "stream",
     "text": [
      "100%|██████████| 1/1 [00:00<00:00,  1.47it/s]"
     ]
    },
    {
     "name": "stdout",
     "output_type": "stream",
     "text": [
      "2022-08-27 19:21:20,891 Evaluating as a multi-label problem: False\n",
      "2022-08-27 19:21:20,902 DEV : loss 0.5245278477668762 - f1-score (micro avg)  0.8346\n",
      "2022-08-27 19:21:20,907 BAD EPOCHS (no improvement): 3\n",
      "2022-08-27 19:21:20,908 ----------------------------------------------------------------------------------------------------\n"
     ]
    },
    {
     "name": "stderr",
     "output_type": "stream",
     "text": [
      "\n"
     ]
    },
    {
     "name": "stdout",
     "output_type": "stream",
     "text": [
      "2022-08-27 19:21:30,851 epoch 18 - iter 1/1 - loss 1.09565396 - samples/sec: 100.58 - lr: 0.012500\n",
      "2022-08-27 19:21:30,852 ----------------------------------------------------------------------------------------------------\n",
      "2022-08-27 19:21:30,852 EPOCH 18 done: loss 1.0957 - lr 0.012500\n"
     ]
    },
    {
     "name": "stderr",
     "output_type": "stream",
     "text": [
      "100%|██████████| 1/1 [00:00<00:00,  1.51it/s]"
     ]
    },
    {
     "name": "stdout",
     "output_type": "stream",
     "text": [
      "2022-08-27 19:21:31,519 Evaluating as a multi-label problem: False\n",
      "2022-08-27 19:21:31,528 DEV : loss 0.5390456318855286 - f1-score (micro avg)  0.8226\n",
      "2022-08-27 19:21:31,532 Epoch    18: reducing learning rate of group 0 to 6.2500e-03.\n",
      "2022-08-27 19:21:31,532 BAD EPOCHS (no improvement): 4\n",
      "2022-08-27 19:21:31,533 ----------------------------------------------------------------------------------------------------\n"
     ]
    },
    {
     "name": "stderr",
     "output_type": "stream",
     "text": [
      "\n"
     ]
    },
    {
     "name": "stdout",
     "output_type": "stream",
     "text": [
      "2022-08-27 19:21:45,717 epoch 19 - iter 1/1 - loss 1.08329688 - samples/sec: 70.51 - lr: 0.006250\n",
      "2022-08-27 19:21:45,718 ----------------------------------------------------------------------------------------------------\n",
      "2022-08-27 19:21:45,718 EPOCH 19 done: loss 1.0833 - lr 0.006250\n"
     ]
    },
    {
     "name": "stderr",
     "output_type": "stream",
     "text": [
      "100%|██████████| 1/1 [00:00<00:00,  1.50it/s]"
     ]
    },
    {
     "name": "stdout",
     "output_type": "stream",
     "text": [
      "2022-08-27 19:21:46,390 Evaluating as a multi-label problem: False\n",
      "2022-08-27 19:21:46,398 DEV : loss 0.5353559851646423 - f1-score (micro avg)  0.8226\n",
      "2022-08-27 19:21:46,403 BAD EPOCHS (no improvement): 1\n",
      "2022-08-27 19:21:46,404 ----------------------------------------------------------------------------------------------------\n"
     ]
    },
    {
     "name": "stderr",
     "output_type": "stream",
     "text": [
      "\n"
     ]
    },
    {
     "name": "stdout",
     "output_type": "stream",
     "text": [
      "2022-08-27 19:21:56,325 epoch 20 - iter 1/1 - loss 1.09634277 - samples/sec: 100.81 - lr: 0.006250\n",
      "2022-08-27 19:21:56,326 ----------------------------------------------------------------------------------------------------\n",
      "2022-08-27 19:21:56,327 EPOCH 20 done: loss 1.0963 - lr 0.006250\n"
     ]
    },
    {
     "name": "stderr",
     "output_type": "stream",
     "text": [
      "100%|██████████| 1/1 [00:00<00:00,  1.46it/s]"
     ]
    },
    {
     "name": "stdout",
     "output_type": "stream",
     "text": [
      "2022-08-27 19:21:57,018 Evaluating as a multi-label problem: False\n",
      "2022-08-27 19:21:57,027 DEV : loss 0.5370619893074036 - f1-score (micro avg)  0.8173\n",
      "2022-08-27 19:21:57,033 BAD EPOCHS (no improvement): 2\n"
     ]
    },
    {
     "name": "stderr",
     "output_type": "stream",
     "text": [
      "\n"
     ]
    },
    {
     "name": "stdout",
     "output_type": "stream",
     "text": [
      "2022-08-27 19:21:58,332 ----------------------------------------------------------------------------------------------------\n",
      "2022-08-27 19:21:58,333 loading file resources\\taggers\\example-upos\\best-model.pt\n",
      "2022-08-27 19:21:58,805 SequenceTagger predicts: Dictionary with 18 tags: <unk>, NOUN, PUNCT, ADJ, ADP, VERB, PROPN, AUX, DET, SCONJ, CCONJ, ADV, PRON, NUM, PART, X, <START>, <STOP>\n"
     ]
    },
    {
     "name": "stderr",
     "output_type": "stream",
     "text": [
      "100%|██████████| 1/1 [00:07<00:00,  7.66s/it]"
     ]
    },
    {
     "name": "stdout",
     "output_type": "stream",
     "text": [
      "2022-08-27 19:22:06,695 Evaluating as a multi-label problem: False\n",
      "2022-08-27 19:22:06,703 0.6325\t0.6325\t0.6325\t0.6325\n",
      "2022-08-27 19:22:06,704 \n",
      "Results:\n",
      "- F-score (micro) 0.6325\n",
      "- F-score (macro) 0.4908\n",
      "- Accuracy 0.6325\n",
      "\n",
      "By class:\n",
      "              precision    recall  f1-score   support\n",
      "\n",
      "        NOUN     0.5370    0.6549    0.5901       255\n",
      "         ADJ     0.3077    0.5620    0.3977       121\n",
      "       PUNCT     0.9928    0.9856    0.9892       139\n",
      "       PROPN     0.8000    0.7018    0.7477       114\n",
      "         ADP     0.9670    0.7458    0.8421       118\n",
      "        VERB     0.3235    0.1158    0.1705        95\n",
      "         AUX     0.7576    0.7937    0.7752        63\n",
      "       SCONJ     0.7500    0.8182    0.7826        33\n",
      "       CCONJ     0.8000    1.0000    0.8889        28\n",
      "         DET     0.3636    0.1143    0.1739        35\n",
      "         ADV     0.2727    0.0968    0.1429        31\n",
      "        PRON     0.8235    0.6667    0.7368        21\n",
      "         NUM     1.0000    0.0667    0.1250        15\n",
      "           X     0.0000    0.0000    0.0000         2\n",
      "        PART     0.0000    0.0000    0.0000         2\n",
      "\n",
      "    accuracy                         0.6325      1072\n",
      "   macro avg     0.5797    0.4881    0.4908      1072\n",
      "weighted avg     0.6498    0.6325    0.6197      1072\n",
      "\n",
      "2022-08-27 19:22:06,704 ----------------------------------------------------------------------------------------------------\n"
     ]
    },
    {
     "name": "stderr",
     "output_type": "stream",
     "text": [
      "\n"
     ]
    },
    {
     "data": {
      "text/plain": "{'test_score': 0.6324626865671642,\n 'dev_score_history': [0.7323308270676692,\n  0.8962406015037594,\n  0.7360902255639098,\n  0.7977443609022556,\n  0.837593984962406,\n  0.7586466165413533,\n  0.8954887218045112,\n  0.8263157894736842,\n  0.8135338345864662,\n  0.8451127819548873,\n  0.8518796992481203,\n  0.8458646616541353,\n  0.8368421052631579,\n  0.8300751879699249,\n  0.837593984962406,\n  0.8308270676691729,\n  0.8345864661654135,\n  0.8225563909774436,\n  0.8225563909774436,\n  0.8172932330827067],\n 'train_loss_history': [1.2710660923408266,\n  1.341059950868219,\n  1.25373457270494,\n  1.2734453871651636,\n  1.2560702252153721,\n  1.2879404193027326,\n  1.2442060884708575,\n  1.163488577281599,\n  1.1592508034392246,\n  1.1752796262955982,\n  1.1463303123738053,\n  1.1321618088740073,\n  1.1267659362801186,\n  1.1250089387871853,\n  1.0984378680677076,\n  1.1073550970016153,\n  1.0889191113373267,\n  1.0956539616704806,\n  1.083296877103244,\n  1.0963427740947638],\n 'dev_loss_history': [0.6735531687736511,\n  0.5619812607765198,\n  0.62995845079422,\n  0.6405262351036072,\n  0.5417186617851257,\n  0.7212200164794922,\n  0.5255580544471741,\n  0.5499294996261597,\n  0.5973075032234192,\n  0.50634765625,\n  0.5359367728233337,\n  0.5210713744163513,\n  0.5547348856925964,\n  0.5143381953239441,\n  0.5269491076469421,\n  0.5403283834457397,\n  0.5245278477668762,\n  0.5390456318855286,\n  0.5353559851646423,\n  0.5370619893074036]}"
     },
     "execution_count": 93,
     "metadata": {},
     "output_type": "execute_result"
    }
   ],
   "source": [
    "trainer.train('resources/taggers/example-upos',\n",
    "              learning_rate=0.1,\n",
    "              mini_batch_size=1000,\n",
    "              max_epochs=20)"
   ],
   "metadata": {
    "collapsed": false,
    "pycharm": {
     "name": "#%%\n"
    }
   }
  },
  {
   "cell_type": "code",
   "execution_count": 64,
   "metadata": {
    "pycharm": {
     "name": "#%%\n"
    }
   },
   "outputs": [
    {
     "name": "stdout",
     "output_type": "stream",
     "text": [
      "2022-08-27 17:45:59,019 loading file resources/taggers/example-upos/final-model.pt\n",
      "2022-08-27 17:45:59,519 SequenceTagger predicts: Dictionary with 18 tags: <unk>, NOUN, PUNCT, ADJ, ADP, VERB, PROPN, AUX, DET, SCONJ, CCONJ, ADV, PRON, NUM, PART, X, <START>, <STOP>\n",
      "\n",
      "\n",
      "\n",
      "Prema - predicted: DET , actual: ADP\n",
      "anketi - predicted: NOUN , actual: NOUN\n",
      "INSOMAR - predicted: ADJ , actual: PROPN\n",
      "objavljenoj - predicted: NOUN , actual: ADJ\n",
      "u - predicted: ADP , actual: ADP\n",
      "utorak - predicted: NOUN , actual: NOUN\n",
      ", - predicted: PUNCT , actual: PUNCT\n",
      "Đoana - predicted: VERB , actual: PROPN\n",
      "ima - predicted: NOUN , actual: VERB\n",
      "podršku - predicted: ADJ , actual: NOUN\n",
      "54 - predicted: NOUN , actual: NUM\n",
      "% - predicted: PUNCT , actual: SYM\n",
      "birača - predicted: NOUN , actual: NOUN\n",
      ", - predicted: PUNCT , actual: PUNCT\n",
      "a - predicted: CCONJ , actual: CCONJ\n",
      "Basesku - predicted: ADJ , actual: PROPN\n",
      "46 - predicted: NOUN , actual: NUM\n",
      "% - predicted: PUNCT , actual: SYM\n",
      ". - predicted: PUNCT , actual: PUNCT\n"
     ]
    }
   ],
   "source": [
    "# load the model you trained\n",
    "model = SequenceTagger.load('resources/taggers/example-upos/final-model.pt')\n",
    "\n",
    "# create example sentence\n",
    "# TODO: Matrica konfuzije za predikciju,\n",
    "actualSentenceExample = corpus.dev[17]\n",
    "predictedSentenceExample = Sentence(actualSentenceExample.to_plain_string())\n",
    "model.predict(predictedSentenceExample)\n",
    "print(\"\\n\\n\")\n",
    "# predict tags and print\n",
    "\n",
    "for i,token in enumerate(predictedSentenceExample):\n",
    "    predictedLabels = token.get_labels('upos')\n",
    "    actualLabels = actualSentenceExample[i].get_labels('upos')\n",
    "\n",
    "    for j, label in enumerate(predictedLabels):\n",
    "        token = label.data_point.form\n",
    "        predictedValue = label.value\n",
    "        actualValue = actualLabels[j].value\n",
    "\n",
    "        print(token, \"- predicted:\" ,predictedValue, \", actual:\", actualValue)"
   ]
  },
  {
   "cell_type": "code",
   "execution_count": 94,
   "outputs": [],
   "source": [
    "actual= np.array([])\n",
    "predicted = np.array([])\n",
    "\n",
    "for actualSentence in corpus.dev:\n",
    "    predictedSentence = Sentence(actualSentence.to_plain_string())\n",
    "    model.predict(predictedSentence)\n",
    "\n",
    "\n",
    "    numTokens = min(len(predictedSentence.tokens),len(actualSentence.tokens))\n",
    "    i=0\n",
    "    punctCount = 0\n",
    "\n",
    "    while i+punctCount<numTokens:\n",
    "        actualLabels = actualSentence[i].get_labels('upos')\n",
    "\n",
    "        if predictedSentence[i+punctCount].labels[0].data_point.form == \".\":\n",
    "            punctCount+=1\n",
    "\n",
    "        if i+punctCount >= numTokens:\n",
    "            break\n",
    "        predictedLabels = predictedSentence[i+punctCount].get_labels('upos')\n",
    "\n",
    "        numLabels = min(len(actualLabels),len(predictedLabels))\n",
    "        j=0\n",
    "        while j<numLabels:\n",
    "            predicted = np.append(predicted, predictedLabels[j].value)\n",
    "            actual = np.append(actual, actualLabels[j].value)\n",
    "            j+=1\n",
    "        i+=1\n"
   ],
   "metadata": {
    "collapsed": false,
    "pycharm": {
     "name": "#%%\n"
    }
   }
  },
  {
   "cell_type": "code",
   "execution_count": 95,
   "outputs": [
    {
     "data": {
      "text/plain": "<Figure size 1080x936 with 2 Axes>",
      "image/png": "[encoded data removed]"
     },
     "metadata": {
      "needs_background": "light"
     },
     "output_type": "display_data"
    }
   ],
   "source": [
    "classes = np.union1d(np.unique(actual), np.unique(predicted))\n",
    "cm = metrics.confusion_matrix(actual, predicted)\n",
    "cm_df = pd.DataFrame(cm,\n",
    "                     index = classes,\n",
    "                     columns = classes)\n",
    "#Plotting the confusion matrix\n",
    "plt.figure(figsize=(15,13))\n",
    "sns.heatmap(cm_df, annot=True)\n",
    "plt.title('Confusion Matrix')\n",
    "plt.ylabel('Actual Values')\n",
    "plt.xlabel('Predicted Values')\n",
    "plt.show()"
   ],
   "metadata": {
    "collapsed": false,
    "pycharm": {
     "name": "#%%\n"
    }
   }
  },
  {
   "cell_type": "code",
   "execution_count": 92,
   "outputs": [
    {
     "name": "stdout",
     "output_type": "stream",
     "text": [
      "Sentence: \"Srbija je tokom bombardovanja devedesetih izgubila mnoge kulturne znamenitosti .\" → [\"Srbija\"/PROPN, \"je\"/AUX, \"tokom\"/ADJ, \"bombardovanja\"/NOUN, \"devedesetih\"/ADJ, \"izgubila\"/NOUN, \"mnoge\"/NOUN, \"kulturne\"/ADJ, \"znamenitosti\"/NOUN, \".\"/PUNCT]\n"
     ]
    }
   ],
   "source": [
    "sentence = Sentence('Srbija je tokom bombardovanja devedesetih izgubila mnoge kulturne znamenitosti.')\n",
    "\n",
    "# predict tags and print\n",
    "model.predict(sentence)\n",
    "\n",
    "print(sentence.to_tagged_string())"
   ],
   "metadata": {
    "collapsed": false,
    "pycharm": {
     "name": "#%%\n"
    }
   }
  },
  {
   "cell_type": "code",
   "execution_count": null,
   "outputs": [],
   "source": [],
   "metadata": {
    "collapsed": false,
    "pycharm": {
     "name": "#%%\n"
    }
   }
  },
  {
   "cell_type": "code",
   "execution_count": null,
   "outputs": [],
   "source": [],
   "metadata": {
    "collapsed": false,
    "pycharm": {
     "name": "#%%\n"
    }
   }
  },
  {
   "cell_type": "code",
   "execution_count": null,
   "outputs": [],
   "source": [],
   "metadata": {
    "collapsed": false,
    "pycharm": {
     "name": "#%%\n"
    }
   }
  }
 ],
 "metadata": {
  "kernelspec": {
   "display_name": "Python 3",
   "language": "python",
   "name": "python3"
  },
  "language_info": {
   "codemirror_mode": {
    "name": "ipython",
    "version": 3
   },
   "file_extension": ".py",
   "mimetype": "text/x-python",
   "name": "python",
   "nbconvert_exporter": "python",
   "pygments_lexer": "ipython3",
   "version": "3.9.12"
  }
 },
 "nbformat": 4,
 "nbformat_minor": 1
}