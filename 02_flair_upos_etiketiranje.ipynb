{
 "cells": [
  {
   "cell_type": "markdown",
   "metadata": {
    "pycharm": {
     "name": "#%% md\n"
    }
   },
   "source": [
    "## Flair upos etiketiranje\n",
    "\n",
    "U ovoj svesci:\n",
    "- Učitavamo UD_SERBIAN korpus pomoću Flair radnog okvira. To je skup rečenica na srpskom jeziku koje su ručno etiketiranje na nivou tokena\n",
    "- Učitavano već istrenirana ugnježdavanja (embedding) reči koje nudi Flair radni okvir\n",
    "- Pravimo model za upos etiketiranje koji se oslanja na učitana ugnježdavanja \n",
    "    - optimizujemo model na prostoru hiperparametra koristeći validacioni skup validacionih podataka\n",
    "    - treniramo model još jednom sa najboljim parametrima\n",
    "    - evaluiramo tako dobijeni model"
   ]
  },
  {
   "cell_type": "markdown",
   "metadata": {
    "pycharm": {
     "name": "#%% md\n"
    }
   },
   "source": [
    "### Učitavanje podataka i pretprocesiranje"
   ]
  },
  {
   "cell_type": "code",
   "execution_count": 1,
   "metadata": {
    "pycharm": {
     "name": "#%%\n"
    }
   },
   "outputs": [],
   "source": [
    "import json\n",
    "import flair.datasets\n",
    "import matplotlib.pyplot as plt\n",
    "import numpy as np\n",
    "import pandas as pd\n",
    "import seaborn as sns\n",
    "from flair.data import Sentence\n",
    "from flair.data import Corpus\n",
    "from flair.embeddings import WordEmbeddings, FlairEmbeddings, StackedEmbeddings\n",
    "from flair.models import SequenceTagger\n",
    "from flair.trainers import ModelTrainer\n",
    "from sklearn import metrics\n",
    "from flair.datasets import ColumnCorpus"
   ]
  },
  {
   "cell_type": "code",
   "execution_count": 2,
   "metadata": {
    "pycharm": {
     "name": "#%%\n"
    }
   },
   "outputs": [
    {
     "name": "stdout",
     "output_type": "stream",
     "text": [
      "2022-09-01 14:52:37,048 Reading data from C:\\Users\\vladimir\\.flair\\datasets\\ud_serbian\n",
      "2022-09-01 14:52:37,049 Train: C:\\Users\\vladimir\\.flair\\datasets\\ud_serbian\\sr_set-ud-train.conllu\n",
      "2022-09-01 14:52:37,050 Dev: C:\\Users\\vladimir\\.flair\\datasets\\ud_serbian\\sr_set-ud-dev.conllu\n",
      "2022-09-01 14:52:37,050 Test: C:\\Users\\vladimir\\.flair\\datasets\\ud_serbian\\sr_set-ud-test.conllu\n"
     ]
    }
   ],
   "source": [
    "corpus = flair.datasets.UD_SERBIAN().downsample(0.4)"
   ]
  },
  {
   "cell_type": "markdown",
   "metadata": {
    "pycharm": {
     "name": "#%% md\n"
    }
   },
   "source": [
    "#### Analiza podataka"
   ]
  },
  {
   "cell_type": "markdown",
   "metadata": {
    "pycharm": {
     "name": "#%% md\n"
    }
   },
   "source": [
    "##### UPOS etikete:\n",
    "- ADJ: pridev\n",
    "- ADP: apozicija\n",
    "- ADV: prilog\n",
    "- AUX: pomoćni glagoli\n",
    "- CCONJ: naporedni veznici\n",
    "- DET: odrednice\n",
    "- INTJ: uzvici\n",
    "- NOUN: imenice\n",
    "- NUM: brojevi\n",
    "- PART: frazalni glagoli\n",
    "- PRON: zamenica\n",
    "- PROPN: vlastite imenice\n",
    "- PUNCT: znakovi interpunkcije\n",
    "- SCONJ: zavisni veznik\n",
    "- SYM: simboli\n",
    "- VERB: glagoli\n",
    "- X: ostalo"
   ]
  },
  {
   "cell_type": "code",
   "execution_count": 3,
   "metadata": {
    "pycharm": {
     "name": "#%%\n"
    }
   },
   "outputs": [],
   "source": [
    "tags = [\"ADJ\",\"ADP\", 'ADV', 'AUX', 'CCONJ', 'DET', 'INTJ', 'NOUN', 'NUM', 'PART', 'PRON', 'PROPN', 'PUNCT', 'SCONJ', 'SYM', 'VERB', 'X']"
   ]
  },
  {
   "cell_type": "code",
   "execution_count": 4,
   "metadata": {
    "pycharm": {
     "name": "#%%\n"
    }
   },
   "outputs": [
    {
     "data": {
      "image/png": "[encoded data removed]",
      "text/plain": [
       "<Figure size 432x288 with 1 Axes>"
      ]
     },
     "metadata": {
      "needs_background": "light"
     },
     "output_type": "display_data"
    }
   ],
   "source": [
    "a = corpus.get_label_distribution()\n",
    "\n",
    "freq = {}\n",
    "for tag in tags:\n",
    "    freq[tag] = a[tag]\n",
    "    \n",
    "fig = plt.figure()\n",
    "ax = fig.add_axes([0,0,3,2])\n",
    "ax.bar(tags,freq.values())\n",
    "plt.show()"
   ]
  },
  {
   "cell_type": "code",
   "execution_count": 5,
   "metadata": {
    "pycharm": {
     "name": "#%%\n"
    }
   },
   "outputs": [
    {
     "name": "stdout",
     "output_type": "stream",
     "text": [
      "Training:  1331\n",
      "Test:  208\n",
      "Dev:  214\n"
     ]
    }
   ],
   "source": [
    "# Ispisujemo broj recenica u svakom u podeli skupova\n",
    "print(\"Training: \",len(corpus.train))\n",
    "print(\"Test: \",len(corpus.test))\n",
    "print(\"Dev: \",len(corpus.dev))"
   ]
  },
  {
   "cell_type": "markdown",
   "metadata": {
    "pycharm": {
     "name": "#%% md\n"
    }
   },
   "source": [
    "#### Pretprocesiranje podataka\n",
    "Pošto podaci za treniranje UPOS tagger-a moraju biti u tačno određenom formatu, jedini korak neophodan u pretprocesiranju je da dodelimo svakoj reči UPOS tag ako ga ona već nema. Odnosno ako tag nije u pravilnom formatu, dodeljujemo joj tag \"X\". UPOS tag \"X\" označava da se radi o \"other\" tipu reči, pošto ne možemo da zaključimo ništa više o samoj reči bez njene dalje analize."
   ]
  },
  {
   "cell_type": "code",
   "execution_count": 6,
   "metadata": {
    "pycharm": {
     "name": "#%%\n"
    }
   },
   "outputs": [],
   "source": [
    "for sentence in corpus.get_all_sentences():\n",
    "    for token in sentence:\n",
    "        if token.get_label('upos').value not in tags:\n",
    "            token.set_label('upos', 'X')"
   ]
  },
  {
   "cell_type": "markdown",
   "metadata": {
    "pycharm": {
     "name": "#%% md\n"
    }
   },
   "source": [
    "#### Prikaz učitane recenice i etiketiranih rečeničnih tokena iz validacionog skupa korpusa"
   ]
  },
  {
   "cell_type": "code",
   "execution_count": 7,
   "metadata": {
    "pycharm": {
     "name": "#%%\n"
    }
   },
   "outputs": [
    {
     "name": "stdout",
     "output_type": "stream",
     "text": [
      "Sentence: \"Tu je i etnička komponenta , s obzirom da pojedinci iz različitih zajednica mogu da kažu da je diskriminacija -- bilo sada ili ranije -- uticala na njihovu mogućnost ostvarivanja koristi od privatizacije .\" → [\"Tu\"/tu/ADV/Rgp/advmod/Pos/Dem, \"je\"/biti/AUX/Var3s/root/Ind/Sing/3/Pres/Fin, \"i\"/i/CCONJ/Cc/discourse, \"etnička\"/etnički/ADJ/Agpfsny/amod/Nom/Def/Pos/Fem/Sing, \"komponenta\"/komponenta/NOUN/Ncfsn/nsubj/Nom/Fem/Sing, \",\"/,/PUNCT/Z/punct, \"s\"/sa/ADP/Si/mark/Ins, \"obzirom\"/obzir/NOUN/Ncmsi/fixed/Ins/Masc/Sing, \"da\"/da/SCONJ/Cs/fixed, \"pojedinci\"/pojedinac/NOUN/Ncmpn/nsubj/Nom/Masc/Plur, \"iz\"/iz/ADP/Sg/case/Gen, \"različitih\"/različit/ADJ/Agpfpgy/amod/Gen/Def/Pos/Fem/Plur, \"zajednica\"/zajednica/NOUN/Ncfpg/nmod/Gen/Fem/Plur, \"mogu\"/moći/VERB/Vmr3p/advcl/Ind/Plur/3/Pres/Fin, \"da\"/da/SCONJ/Cs/mark, \"kažu\"/kazati/VERB/Vmr3p/xcomp/Ind/Plur/3/Pres/Fin, \"da\"/da/SCONJ/Cs/mark, \"je\"/biti/AUX/Var3s/aux/Ind/Sing/3/Pres/Fin, \"diskriminacija\"/diskriminacija/NOUN/Ncfsn/nsubj/Nom/Fem/Sing, \"--\"/--/PUNCT/Z/punct, \"bilo\"/bilo/CCONJ/Cc/mark, \"sada\"/sada/ADV/Rgp/parataxis/Pos/Dem, \"ili\"/ili/CCONJ/Cc/cc, \"ranije\"/rano/ADV/Rgc/conj/Cmp, \"--\"/--/PUNCT/Z/punct, \"uticala\"/uticati/VERB/Vmp-sf/ccomp/Fem/Sing/Past/Part/Act, \"na\"/na/ADP/Sa/case/Acc, \"njihovu\"/njihov/DET/Ps3fsa/det/Acc/Fem/Sing/Plur/3/Yes/Prs, \"mogućnost\"/mogućnost/NOUN/Ncfsa/obl/Acc/Fem/Sing, \"ostvarivanja\"/ostvarivanje/NOUN/Ncnsg/nmod/Gen/Neut/Sing, \"koristi\"/korist/NOUN/Ncfsg/obl/Gen/Fem/Sing, \"od\"/od/ADP/Sg/case/Gen, \"privatizacije\"/privatizacija/NOUN/Ncfsg/nmod/Gen/Fem/Sing, \".\"/./PUNCT/Z/punct]\n",
      "Token[0]: \"Tu\" → tu (1.0); ADV (1.0); Rgp (1.0); advmod (1.0); Pos (1.0); Dem (1.0)\n",
      "Token[1]: \"je\" → biti (1.0); AUX (1.0); Var3s (1.0); root (1.0); Ind (1.0); Sing (1.0); 3 (1.0); Pres (1.0); Fin (1.0)\n",
      "Token[2]: \"i\" → i (1.0); CCONJ (1.0); Cc (1.0); discourse (1.0)\n",
      "Token[3]: \"etnička\" → etnički (1.0); ADJ (1.0); Agpfsny (1.0); amod (1.0); Nom (1.0); Def (1.0); Pos (1.0); Fem (1.0); Sing (1.0)\n",
      "Token[4]: \"komponenta\" → komponenta (1.0); NOUN (1.0); Ncfsn (1.0); nsubj (1.0); Nom (1.0); Fem (1.0); Sing (1.0)\n",
      "Token[5]: \",\" → , (1.0); PUNCT (1.0); Z (1.0); punct (1.0)\n",
      "Token[6]: \"s\" → sa (1.0); ADP (1.0); Si (1.0); mark (1.0); Ins (1.0)\n",
      "Token[7]: \"obzirom\" → obzir (1.0); NOUN (1.0); Ncmsi (1.0); fixed (1.0); Ins (1.0); Masc (1.0); Sing (1.0)\n",
      "Token[8]: \"da\" → da (1.0); SCONJ (1.0); Cs (1.0); fixed (1.0)\n",
      "Token[9]: \"pojedinci\" → pojedinac (1.0); NOUN (1.0); Ncmpn (1.0); nsubj (1.0); Nom (1.0); Masc (1.0); Plur (1.0)\n",
      "Token[10]: \"iz\" → iz (1.0); ADP (1.0); Sg (1.0); case (1.0); Gen (1.0)\n",
      "Token[11]: \"različitih\" → različit (1.0); ADJ (1.0); Agpfpgy (1.0); amod (1.0); Gen (1.0); Def (1.0); Pos (1.0); Fem (1.0); Plur (1.0)\n",
      "Token[12]: \"zajednica\" → zajednica (1.0); NOUN (1.0); Ncfpg (1.0); nmod (1.0); Gen (1.0); Fem (1.0); Plur (1.0)\n",
      "Token[13]: \"mogu\" → moći (1.0); VERB (1.0); Vmr3p (1.0); advcl (1.0); Ind (1.0); Plur (1.0); 3 (1.0); Pres (1.0); Fin (1.0)\n",
      "Token[14]: \"da\" → da (1.0); SCONJ (1.0); Cs (1.0); mark (1.0)\n",
      "Token[15]: \"kažu\" → kazati (1.0); VERB (1.0); Vmr3p (1.0); xcomp (1.0); Ind (1.0); Plur (1.0); 3 (1.0); Pres (1.0); Fin (1.0)\n",
      "Token[16]: \"da\" → da (1.0); SCONJ (1.0); Cs (1.0); mark (1.0)\n",
      "Token[17]: \"je\" → biti (1.0); AUX (1.0); Var3s (1.0); aux (1.0); Ind (1.0); Sing (1.0); 3 (1.0); Pres (1.0); Fin (1.0)\n",
      "Token[18]: \"diskriminacija\" → diskriminacija (1.0); NOUN (1.0); Ncfsn (1.0); nsubj (1.0); Nom (1.0); Fem (1.0); Sing (1.0)\n",
      "Token[19]: \"--\" → -- (1.0); PUNCT (1.0); Z (1.0); punct (1.0)\n",
      "Token[20]: \"bilo\" → bilo (1.0); CCONJ (1.0); Cc (1.0); mark (1.0)\n",
      "Token[21]: \"sada\" → sada (1.0); ADV (1.0); Rgp (1.0); parataxis (1.0); Pos (1.0); Dem (1.0)\n",
      "Token[22]: \"ili\" → ili (1.0); CCONJ (1.0); Cc (1.0); cc (1.0)\n",
      "Token[23]: \"ranije\" → rano (1.0); ADV (1.0); Rgc (1.0); conj (1.0); Cmp (1.0)\n",
      "Token[24]: \"--\" → -- (1.0); PUNCT (1.0); Z (1.0); punct (1.0)\n",
      "Token[25]: \"uticala\" → uticati (1.0); VERB (1.0); Vmp-sf (1.0); ccomp (1.0); Fem (1.0); Sing (1.0); Past (1.0); Part (1.0); Act (1.0)\n",
      "Token[26]: \"na\" → na (1.0); ADP (1.0); Sa (1.0); case (1.0); Acc (1.0)\n",
      "Token[27]: \"njihovu\" → njihov (1.0); DET (1.0); Ps3fsa (1.0); det (1.0); Acc (1.0); Fem (1.0); Sing (1.0); Plur (1.0); 3 (1.0); Yes (1.0); Prs (1.0)\n",
      "Token[28]: \"mogućnost\" → mogućnost (1.0); NOUN (1.0); Ncfsa (1.0); obl (1.0); Acc (1.0); Fem (1.0); Sing (1.0)\n",
      "Token[29]: \"ostvarivanja\" → ostvarivanje (1.0); NOUN (1.0); Ncnsg (1.0); nmod (1.0); Gen (1.0); Neut (1.0); Sing (1.0)\n",
      "Token[30]: \"koristi\" → korist (1.0); NOUN (1.0); Ncfsg (1.0); obl (1.0); Gen (1.0); Fem (1.0); Sing (1.0)\n",
      "Token[31]: \"od\" → od (1.0); ADP (1.0); Sg (1.0); case (1.0); Gen (1.0)\n",
      "Token[32]: \"privatizacije\" → privatizacija (1.0); NOUN (1.0); Ncfsg (1.0); nmod (1.0); Gen (1.0); Fem (1.0); Sing (1.0)\n",
      "Token[33]: \".\" → . (1.0); PUNCT (1.0); Z (1.0); punct (1.0)\n"
     ]
    }
   ],
   "source": [
    "sentence = corpus.dev[1]\n",
    "print(sentence)\n",
    "for token in sentence:\n",
    "    print(token)"
   ]
  },
  {
   "cell_type": "markdown",
   "metadata": {
    "pycharm": {
     "name": "#%% md\n"
    }
   },
   "source": [
    "#### Pravljenje rečnika"
   ]
  },
  {
   "cell_type": "code",
   "execution_count": 8,
   "metadata": {
    "pycharm": {
     "name": "#%%\n"
    }
   },
   "outputs": [
    {
     "name": "stdout",
     "output_type": "stream",
     "text": [
      "2022-09-01 14:52:42,469 Computing label dictionary. Progress:\n"
     ]
    },
    {
     "name": "stderr",
     "output_type": "stream",
     "text": [
      "1331it [00:00, 20166.09it/s]"
     ]
    },
    {
     "name": "stdout",
     "output_type": "stream",
     "text": [
      "2022-09-01 14:52:42,624 Dictionary created for label 'upos' with 17 values: NOUN (seen 7372 times), PUNCT (seen 3855 times), ADJ (seen 3436 times), ADP (seen 2855 times), VERB (seen 2588 times), PROPN (seen 2331 times), AUX (seen 1861 times), DET (seen 1145 times), SCONJ (seen 1139 times), ADV (seen 1070 times), CCONJ (seen 1045 times), PRON (seen 724 times), NUM (seen 392 times), PART (seen 185 times), X (seen 100 times), INTJ (seen 1 times)\n",
      "Dictionary with 17 tags: <unk>, NOUN, PUNCT, ADJ, ADP, VERB, PROPN, AUX, DET, SCONJ, ADV, CCONJ, PRON, NUM, PART, X, INTJ\n"
     ]
    },
    {
     "name": "stderr",
     "output_type": "stream",
     "text": [
      "\n"
     ]
    }
   ],
   "source": [
    "# Pravljenje rečnika  sa UPOS etiketama iz korpusa\n",
    "label_type = 'upos'\n",
    "label_dict  = corpus.make_label_dictionary(label_type = label_type)\n",
    "print(label_dict)"
   ]
  },
  {
   "cell_type": "markdown",
   "metadata": {
    "pycharm": {
     "name": "#%% md\n"
    }
   },
   "source": [
    "### Nagomilana ugnjezdavanja\n",
    "Više različitih ugnjezdavanja je moguće koristiti istovremeno pomoću `StackedEmbeddings` klase iz `Flair`-a. U našem primeru iskoristili smo:\n",
    "1. `GloVe` ugnjezdavanja - bazira se na nalaženju korelacije izmedju parova reči na osnovu frekvencije korišćenja u tandemu\n",
    "2. `Flair` ugnjezdavanja - embedding koji su razvili tvorci `Flair` biblioteke - koristimo i ugnjezdavanje i unapred i unazad kako bi se uhvatio ceo okolni kontekst reči"
   ]
  },
  {
   "cell_type": "code",
   "execution_count": 9,
   "metadata": {
    "pycharm": {
     "name": "#%%\n"
    }
   },
   "outputs": [],
   "source": [
    "embedding_types = [\n",
    "    WordEmbeddings('glove'),\n",
    "    FlairEmbeddings('news-forward'),\n",
    "    FlairEmbeddings('news-backward'),\n",
    "]\n",
    "\n",
    "embeddings = StackedEmbeddings(embeddings=embedding_types)"
   ]
  },
  {
   "cell_type": "markdown",
   "metadata": {
    "pycharm": {
     "name": "#%% md\n"
    }
   },
   "source": [
    "### Klasa za etiketiranje (`Tagger`)\n",
    "Na osnovu kombinacije navedenih ugnjezdavanja generišemo `SequenceTagger` koji ćemo koristiti da na osnovu dobijenih vektorskih reprezentacija reči predvidimo UPOS etikete korespondirajuće reči."
   ]
  },
  {
   "cell_type": "code",
   "execution_count": 10,
   "metadata": {
    "pycharm": {
     "name": "#%%\n"
    }
   },
   "outputs": [
    {
     "name": "stdout",
     "output_type": "stream",
     "text": [
      "2022-09-01 14:52:45,989 SequenceTagger predicts: Dictionary with 17 tags: <unk>, NOUN, PUNCT, ADJ, ADP, VERB, PROPN, AUX, DET, SCONJ, ADV, CCONJ, PRON, NUM, PART, X, INTJ\n"
     ]
    }
   ],
   "source": [
    "tagger = SequenceTagger(hidden_size=256,\n",
    "                        embeddings=embeddings,\n",
    "                        tag_dictionary=label_dict,\n",
    "                        tag_type=label_type,\n",
    "                        use_crf=True)"
   ]
  },
  {
   "cell_type": "markdown",
   "metadata": {
    "pycharm": {
     "name": "#%% md\n"
    }
   },
   "source": [
    "### Treniranje modela i traženje optimalnih hiperparametara"
   ]
  },
  {
   "cell_type": "code",
   "execution_count": 11,
   "metadata": {
    "pycharm": {
     "name": "#%%\n"
    }
   },
   "outputs": [],
   "source": [
    "trainer = ModelTrainer(tagger, corpus)"
   ]
  },
  {
   "cell_type": "code",
   "execution_count": 12,
   "metadata": {
    "pycharm": {
     "name": "#%%\n"
    }
   },
   "outputs": [],
   "source": [
    "best_score = 0.0\n",
    "best_params = {'learning_rate':0, 'mini_batch_size': 0, 'max_epochs' : 10}\n",
    "\n",
    "param_learning_rates = np.linspace(0.001, 0.6, num=4)\n",
    "param_mini_batch_sizes = np.arange(10,100,20)\n",
    "max_epochs = np.arange(10,13,1)\n",
    "\n",
    "model_history = []"
   ]
  },
  {
   "cell_type": "code",
   "execution_count": 13,
   "metadata": {
    "pycharm": {
     "name": "#%%\n"
    }
   },
   "outputs": [
    {
     "name": "stdout",
     "output_type": "stream",
     "text": [
      "IZLAZ ISPOD JE RUCNO SKRACEN RADI CITLJIVOSTI. OSTAVLJENI SU SAMO NEKI ISPISI\n",
      "\n",
      "\n",
      "\n",
      "#######################################################\n",
      "############### MODEL NUMBER 0,0,0 #####################\n",
      "#######################################################\n",
      "2022-09-01 14:52:46,174 ----------------------------------------------------------------------------------------------------\n",
      "2022-09-01 14:52:46,175 Model: \"SequenceTagger(\n",
      "  (embeddings): StackedEmbeddings(\n",
      "    (list_embedding_0): WordEmbeddings(\n",
      "      'glove'\n",
      "      (embedding): Embedding(400001, 100)\n",
      "    )\n",
      "    (list_embedding_1): FlairEmbeddings(\n",
      "      (lm): LanguageModel(\n",
      "        (drop): Dropout(p=0.05, inplace=False)\n",
      "        (encoder): Embedding(300, 100)\n",
      "        (rnn): LSTM(100, 2048)\n",
      "        (decoder): Linear(in_features=2048, out_features=300, bias=True)\n",
      "      )\n",
      "    )\n",
      "    (list_embedding_2): FlairEmbeddings(\n",
      "      (lm): LanguageModel(\n",
      "        (drop): Dropout(p=0.05, inplace=False)\n",
      "        (encoder): Embedding(300, 100)\n",
      "        (rnn): LSTM(100, 2048)\n",
      "        (decoder): Linear(in_features=2048, out_features=300, bias=True)\n",
      "      )\n",
      "    )\n",
      "  )\n",
      "  (word_dropout): WordDropout(p=0.05)\n",
      "  (locked_dropout): LockedDropout(p=0.5)\n",
      "  (embedding2nn): Linear(in_features=4196, out_features=4196, bias=True)\n",
      "  (rnn): LSTM(4196, 256, batch_first=True, bidirectional=True)\n",
      "  (linear): Linear(in_features=512, out_features=19, bias=True)\n",
      "  (loss_function): ViterbiLoss()\n",
      "  (crf): CRF()\n",
      ")\"\n",
      "2022-09-01 14:52:46,175 ----------------------------------------------------------------------------------------------------\n",
      "2022-09-01 14:52:46,176 Corpus: \"Corpus: 1331 train + 214 dev + 208 test sentences\"\n",
      "2022-09-01 14:52:46,176 ----------------------------------------------------------------------------------------------------\n",
      "2022-09-01 14:52:46,177 Parameters:\n",
      "2022-09-01 14:52:46,177  - learning_rate: \"0.001000\"\n",
      "2022-09-01 14:52:46,177  - mini_batch_size: \"10\"\n",
      "2022-09-01 14:52:46,178  - patience: \"3\"\n",
      "2022-09-01 14:52:46,178  - anneal_factor: \"0.5\"\n",
      "2022-09-01 14:52:46,179  - max_epochs: \"10\"\n",
      "2022-09-01 14:52:46,180  - shuffle: \"True\"\n",
      "2022-09-01 14:52:46,180  - train_with_dev: \"False\"\n",
      "2022-09-01 14:52:46,181  - batch_growth_annealing: \"False\"\n",
      "2022-09-01 14:52:46,181 ----------------------------------------------------------------------------------------------------\n",
      "2022-09-01 14:52:46,182 Model training base path: \"resources\\model_library\\flair_upos_tagging\"\n",
      "2022-09-01 14:52:46,182 ----------------------------------------------------------------------------------------------------\n",
      "2022-09-01 14:52:46,183 Device: cpu\n",
      "2022-09-01 14:52:46,183 ----------------------------------------------------------------------------------------------------\n",
      "2022-09-01 14:52:46,184 Embeddings storage mode: cpu\n",
      "2022-09-01 14:52:46,184 ----------------------------------------------------------------------------------------------------\n"
     ]
    },
    {
     "name": "stderr",
     "output_type": "stream",
     "text": [
      "C:\\Users\\vladimir\\anaconda3\\envs\\ML3\\lib\\site-packages\\flair\\trainers\\trainer.py:64: UserWarning: There should be no best model saved at epoch 1 except there is a model from previous trainings in your training folder. All previous best models will be deleted.\n",
      "  warnings.warn(\n"
     ]
    },
    {
     "name": "stdout",
     "output_type": "stream",
     "text": [
      "2022-09-01 14:53:16,950 epoch 1 - iter 13/134 - loss 3.56824505 - samples/sec: 4.23 - lr: 0.001000\n",
      "2022-09-01 14:53:50,547 epoch 1 - iter 26/134 - loss 3.52225975 - samples/sec: 3.88 - lr: 0.001000\n",
      "2022-09-01 14:54:21,590 epoch 1 - iter 39/134 - loss 3.50681684 - samples/sec: 4.20 - lr: 0.001000\n",
      "2022-09-01 14:54:55,214 epoch 1 - iter 52/134 - loss 3.48097866 - samples/sec: 3.88 - lr: 0.001000\n",
      "2022-09-01 14:55:35,433 epoch 1 - iter 65/134 - loss 3.45529235 - samples/sec: 3.24 - lr: 0.001000\n",
      "2022-09-01 14:56:12,025 epoch 1 - iter 78/134 - loss 3.43442211 - samples/sec: 3.56 - lr: 0.001000\n",
      "2022-09-01 14:56:44,266 epoch 1 - iter 91/134 - loss 3.41079068 - samples/sec: 4.04 - lr: 0.001000\n",
      "2022-09-01 14:57:13,306 epoch 1 - iter 104/134 - loss 3.39138562 - samples/sec: 4.49 - lr: 0.001000\n",
      "2022-09-01 14:57:47,039 epoch 1 - iter 117/134 - loss 3.36609904 - samples/sec: 3.86 - lr: 0.001000\n",
      "2022-09-01 14:58:21,233 epoch 1 - iter 130/134 - loss 3.35645600 - samples/sec: 3.81 - lr: 0.001000\n",
      "2022-09-01 14:58:31,177 ----------------------------------------------------------------------------------------------------\n",
      "2022-09-01 14:58:31,177 EPOCH 1 done: loss 3.3508 - lr 0.001000\n",
      "\n",
      "\n",
      "(...) Izbacen je ispis izmedju radi citljivosti\n",
      "\n",
      "2022-09-02 01:40:16,593 SequenceTagger predicts: Dictionary with 19 tags: <unk>, NOUN, PUNCT, ADJ, ADP, VERB, PROPN, AUX, DET, SCONJ, ADV, CCONJ, PRON, NUM, PART, X, INTJ, <START>, <STOP>\n",
      "\n",
      "\n",
      "\n",
      "\n",
      "#######################################################\n",
      "############### MODEL NUMBER 3,4,2 #####################\n",
      "#######################################################\n",
      "2022-09-02 01:42:02,984 ----------------------------------------------------------------------------------------------------\n",
      "2022-09-02 01:42:02,984 Model: \"SequenceTagger(\n",
      "  (embeddings): StackedEmbeddings(\n",
      "    (list_embedding_0): WordEmbeddings(\n",
      "      'glove'\n",
      "      (embedding): Embedding(400001, 100)\n",
      "    )\n",
      "    (list_embedding_1): FlairEmbeddings(\n",
      "      (lm): LanguageModel(\n",
      "        (drop): Dropout(p=0.05, inplace=False)\n",
      "        (encoder): Embedding(300, 100)\n",
      "        (rnn): LSTM(100, 2048)\n",
      "        (decoder): Linear(in_features=2048, out_features=300, bias=True)\n",
      "      )\n",
      "    )\n",
      "    (list_embedding_2): FlairEmbeddings(\n",
      "      (lm): LanguageModel(\n",
      "        (drop): Dropout(p=0.05, inplace=False)\n",
      "        (encoder): Embedding(300, 100)\n",
      "        (rnn): LSTM(100, 2048)\n",
      "        (decoder): Linear(in_features=2048, out_features=300, bias=True)\n",
      "      )\n",
      "    )\n",
      "  )\n",
      "  (word_dropout): WordDropout(p=0.05)\n",
      "  (locked_dropout): LockedDropout(p=0.5)\n",
      "  (embedding2nn): Linear(in_features=4196, out_features=4196, bias=True)\n",
      "  (rnn): LSTM(4196, 256, batch_first=True, bidirectional=True)\n",
      "  (linear): Linear(in_features=512, out_features=19, bias=True)\n",
      "  (loss_function): ViterbiLoss()\n",
      "  (crf): CRF()\n",
      ")\"\n",
      "2022-09-02 01:42:02,985 ----------------------------------------------------------------------------------------------------\n",
      "2022-09-02 01:42:02,985 Corpus: \"Corpus: 1331 train + 214 dev + 208 test sentences\"\n",
      "2022-09-02 01:42:02,986 ----------------------------------------------------------------------------------------------------\n",
      "2022-09-02 01:42:02,986 Parameters:\n",
      "2022-09-02 01:42:02,987  - learning_rate: \"0.600000\"\n",
      "2022-09-02 01:42:02,987  - mini_batch_size: \"90\"\n",
      "2022-09-02 01:42:02,988  - patience: \"3\"\n",
      "2022-09-02 01:42:02,988  - anneal_factor: \"0.5\"\n",
      "2022-09-02 01:42:02,989  - max_epochs: \"12\"\n",
      "2022-09-02 01:42:02,990  - shuffle: \"True\"\n",
      "2022-09-02 01:42:02,991  - train_with_dev: \"False\"\n",
      "2022-09-02 01:42:02,991  - batch_growth_annealing: \"False\"\n",
      "2022-09-02 01:42:02,991 ----------------------------------------------------------------------------------------------------\n",
      "2022-09-02 01:42:02,992 Model training base path: \"resources\\model_library\\flair_upos_tagging\"\n",
      "2022-09-02 01:42:02,992 ----------------------------------------------------------------------------------------------------\n",
      "2022-09-02 01:42:02,993 Device: cpu\n",
      "2022-09-02 01:42:02,993 ----------------------------------------------------------------------------------------------------\n",
      "2022-09-02 01:42:02,994 Embeddings storage mode: cpu\n",
      "2022-09-02 01:42:02,994 ----------------------------------------------------------------------------------------------------\n"
     ]
    },
    {
     "name": "stderr",
     "output_type": "stream",
     "text": [
      "C:\\Users\\vladimir\\anaconda3\\envs\\ML3\\lib\\site-packages\\flair\\trainers\\trainer.py:64: UserWarning: There should be no best model saved at epoch 1 except there is a model from previous trainings in your training folder. All previous best models will be deleted.\n",
      "  warnings.warn(\n"
     ]
    },
    {
     "name": "stdout",
     "output_type": "stream",
     "text": [
      "2022-09-02 01:42:05,326 epoch 1 - iter 1/15 - loss 0.17083740 - samples/sec: 38.61 - lr: 0.600000\n",
      "2022-09-02 01:42:08,379 epoch 1 - iter 2/15 - loss 0.18043606 - samples/sec: 30.27 - lr: 0.600000\n",
      "2022-09-02 01:42:11,080 epoch 1 - iter 3/15 - loss 0.18537177 - samples/sec: 34.36 - lr: 0.600000\n",
      "2022-09-02 01:42:13,155 epoch 1 - iter 4/15 - loss 0.18933197 - samples/sec: 45.07 - lr: 0.600000\n",
      "2022-09-02 01:42:15,635 epoch 1 - iter 5/15 - loss 0.18926180 - samples/sec: 37.44 - lr: 0.600000\n",
      "2022-09-02 01:42:18,000 epoch 1 - iter 6/15 - loss 0.18056138 - samples/sec: 39.40 - lr: 0.600000\n",
      "2022-09-02 01:42:20,326 epoch 1 - iter 7/15 - loss 0.17781038 - samples/sec: 40.11 - lr: 0.600000\n",
      "2022-09-02 01:42:23,443 epoch 1 - iter 8/15 - loss 0.17500302 - samples/sec: 29.60 - lr: 0.600000\n",
      "2022-09-02 01:42:26,045 epoch 1 - iter 9/15 - loss 0.17720102 - samples/sec: 35.60 - lr: 0.600000\n",
      "2022-09-02 01:42:28,514 epoch 1 - iter 10/15 - loss 0.17717434 - samples/sec: 37.53 - lr: 0.600000\n",
      "2022-09-02 01:42:30,691 epoch 1 - iter 11/15 - loss 0.18024739 - samples/sec: 42.86 - lr: 0.600000\n",
      "2022-09-02 01:42:32,955 epoch 1 - iter 12/15 - loss 0.18036639 - samples/sec: 41.11 - lr: 0.600000\n",
      "2022-09-02 01:42:35,696 epoch 1 - iter 13/15 - loss 0.18382246 - samples/sec: 33.73 - lr: 0.600000\n",
      "2022-09-02 01:42:38,521 epoch 1 - iter 14/15 - loss 0.19149486 - samples/sec: 32.81 - lr: 0.600000\n",
      "2022-09-02 01:42:41,416 epoch 1 - iter 15/15 - loss 0.19591299 - samples/sec: 31.95 - lr: 0.600000\n",
      "2022-09-02 01:42:41,490 ----------------------------------------------------------------------------------------------------\n",
      "2022-09-02 01:42:41,490 EPOCH 1 done: loss 0.1959 - lr 0.600000\n",
      "\n",
      "\n",
      "(...) Izbacen je ispis izmedju radi citljivosti\n",
      "\n",
      "KRAJ"
     ]
    }
   ],
   "source": [
    "for i,lr in enumerate(param_learning_rates):\n",
    "    for j,mbs in enumerate(param_mini_batch_sizes):\n",
    "        for k,me in enumerate(max_epochs):\n",
    "                print('\\n\\n\\n')\n",
    "                print(\"#######################################################\")\n",
    "                print(f\"############### MODEL NUMBER {i},{j},{k} #####################\")\n",
    "                print(\"#######################################################\")\n",
    "                trainer.train('resources/model_library/flair_upos_tagging',\n",
    "                              learning_rate=lr,\n",
    "                              mini_batch_size=int(mbs),\n",
    "                              max_epochs=int(me),\n",
    "                              write_weights = True)\n",
    "                model = SequenceTagger.load('resources/model_library/flair_upos_tagging/final-model.pt')\n",
    "                actual= np.array([])\n",
    "                predicted = np.array([])\n",
    "\n",
    "                # Provera preciznosti\n",
    "                for actualSentence in corpus.dev:\n",
    "\n",
    "                    for token in actualSentence:\n",
    "                        actual = np.append(actual, token.get_label('upos').value)\n",
    "\n",
    "                    predictedSentence = Sentence([token.text for token in actualSentence.tokens])\n",
    "                    model.predict(predictedSentence)\n",
    "                    for token in predictedSentence:\n",
    "                        predictedLabels = token.get_labels('upos')\n",
    "                        for predictedLabel in predictedLabels:\n",
    "                            predicted = np.append(predicted, predictedLabel.value)\n",
    "                score = metrics.accuracy_score(actual,predicted)\n",
    "\n",
    "                if score>best_score:\n",
    "                    best_params['learning_rate'] = lr\n",
    "                    best_params['param_mini_batch_sizes'] = mbs\n",
    "                    best_params['max_epochs'] = me\n",
    "\n",
    "                report = metrics.classification_report(actual,predicted)\n",
    "                params = {'learning_rate': lr, 'param_mini_batch_sizes': mbs,\n",
    "                          'max_epochs': me}\n",
    "\n",
    "                # Takodje cuvamo i istoriju parapetara sa njihovim rezultatima metrika za svaki slucaj\n",
    "                model_history.append({'params':params,'report':report})"
   ]
  },
  {
   "cell_type": "code",
   "execution_count": 15,
   "metadata": {
    "pycharm": {
     "name": "#%%\n"
    }
   },
   "outputs": [],
   "source": [
    "def serialize_int32(obj):\n",
    "    if isinstance(obj, np.int32):\n",
    "        return int(obj)\n",
    "    raise TypeError (\"Type %s is not serializable\" % type(obj))"
   ]
  },
  {
   "cell_type": "code",
   "execution_count": 16,
   "metadata": {
    "pycharm": {
     "name": "#%%\n"
    }
   },
   "outputs": [],
   "source": [
    "# Cuvanje rezultata\n",
    "with open(f\"resources/model_library/flair_upos_tagging/best_params.json\", \"w\") as f:\n",
    "     f.write(json.dumps(best_params, default=serialize_int32, indent=4))"
   ]
  },
  {
   "cell_type": "code",
   "execution_count": 17,
   "metadata": {
    "pycharm": {
     "name": "#%%\n"
    }
   },
   "outputs": [],
   "source": [
    "with open(f\"resources/model_library/flair_upos_tagging/model_hist.json\", \"w\") as f:\n",
    "    f.write(json.dumps(model_history, default=serialize_int32, indent=4))"
   ]
  },
  {
   "cell_type": "markdown",
   "metadata": {
    "pycharm": {
     "name": "#%% md\n"
    }
   },
   "source": [
    "Opet treniramo model sa najvećom prezinošću dobijen isprobavanjem potprostora hipeparametara."
   ]
  },
  {
   "cell_type": "code",
   "execution_count": 18,
   "metadata": {
    "pycharm": {
     "name": "#%%\n"
    }
   },
   "outputs": [
    {
     "name": "stdout",
     "output_type": "stream",
     "text": [
      "\n",
      "\n",
      "IZLAZ ISPOD JE RUCNO SKRACEN RADI CITLJIVOSTI. OSTAVLJENI SU SAMO NEKI ISPISI\n",
      "\n",
      "2022-09-02 01:52:46,254 ----------------------------------------------------------------------------------------------------\n",
      "2022-09-02 01:52:46,255 Model: \"SequenceTagger(\n",
      "  (embeddings): StackedEmbeddings(\n",
      "    (list_embedding_0): WordEmbeddings(\n",
      "      'glove'\n",
      "      (embedding): Embedding(400001, 100)\n",
      "    )\n",
      "    (list_embedding_1): FlairEmbeddings(\n",
      "      (lm): LanguageModel(\n",
      "        (drop): Dropout(p=0.05, inplace=False)\n",
      "        (encoder): Embedding(300, 100)\n",
      "        (rnn): LSTM(100, 2048)\n",
      "        (decoder): Linear(in_features=2048, out_features=300, bias=True)\n",
      "      )\n",
      "    )\n",
      "    (list_embedding_2): FlairEmbeddings(\n",
      "      (lm): LanguageModel(\n",
      "        (drop): Dropout(p=0.05, inplace=False)\n",
      "        (encoder): Embedding(300, 100)\n",
      "        (rnn): LSTM(100, 2048)\n",
      "        (decoder): Linear(in_features=2048, out_features=300, bias=True)\n",
      "      )\n",
      "    )\n",
      "  )\n",
      "  (word_dropout): WordDropout(p=0.05)\n",
      "  (locked_dropout): LockedDropout(p=0.5)\n",
      "  (embedding2nn): Linear(in_features=4196, out_features=4196, bias=True)\n",
      "  (rnn): LSTM(4196, 256, batch_first=True, bidirectional=True)\n",
      "  (linear): Linear(in_features=512, out_features=19, bias=True)\n",
      "  (loss_function): ViterbiLoss()\n",
      "  (crf): CRF()\n",
      ")\"\n",
      "2022-09-02 01:52:46,256 ----------------------------------------------------------------------------------------------------\n",
      "2022-09-02 01:52:46,256 Corpus: \"Corpus: 1331 train + 214 dev + 208 test sentences\"\n",
      "2022-09-02 01:52:46,257 ----------------------------------------------------------------------------------------------------\n",
      "2022-09-02 01:52:46,257 Parameters:\n",
      "2022-09-02 01:52:46,258  - learning_rate: \"0.600000\"\n",
      "2022-09-02 01:52:46,258  - mini_batch_size: \"90\"\n",
      "2022-09-02 01:52:46,258  - patience: \"3\"\n",
      "2022-09-02 01:52:46,259  - anneal_factor: \"0.5\"\n",
      "2022-09-02 01:52:46,259  - max_epochs: \"12\"\n",
      "2022-09-02 01:52:46,260  - shuffle: \"True\"\n",
      "2022-09-02 01:52:46,260  - train_with_dev: \"False\"\n",
      "2022-09-02 01:52:46,261  - batch_growth_annealing: \"False\"\n",
      "2022-09-02 01:52:46,262 ----------------------------------------------------------------------------------------------------\n",
      "2022-09-02 01:52:46,262 Model training base path: \"resources\\model_library\\flair_upos_tagging\"\n",
      "2022-09-02 01:52:46,263 ----------------------------------------------------------------------------------------------------\n",
      "2022-09-02 01:52:46,263 Device: cpu\n",
      "2022-09-02 01:52:46,263 ----------------------------------------------------------------------------------------------------\n",
      "2022-09-02 01:52:46,264 Embeddings storage mode: cpu\n",
      "2022-09-02 01:52:46,264 ----------------------------------------------------------------------------------------------------\n",
      "\n",
      "\n",
      "(...) Deo ispisa izmedju je rucno izbacen radi citljivosti\n",
      "\n",
      "\n",
      "\n",
      "2022-09-02 02:01:54,114 Evaluating as a multi-label problem: False\n",
      "2022-09-02 02:01:54,136 0.9505\t0.9505\t0.9505\t0.9505\n",
      "2022-09-02 02:01:54,137 \n",
      "Results:\n",
      "- F-score (micro) 0.9505\n",
      "- F-score (macro) 0.911\n",
      "- Accuracy 0.9505\n",
      "\n",
      "By class:\n",
      "              precision    recall  f1-score   support\n",
      "\n",
      "        NOUN     0.9419    0.9322    0.9370      1165\n",
      "       PUNCT     1.0000    1.0000    1.0000       572\n",
      "         ADJ     0.9174    0.8827    0.8997       554\n",
      "         ADP     0.9912    0.9890    0.9901       455\n",
      "        VERB     0.8951    0.9576    0.9253       401\n",
      "       PROPN     0.9224    0.9407    0.9315       354\n",
      "         AUX     0.9864    0.9966    0.9915       291\n",
      "       SCONJ     0.9777    0.9943    0.9859       176\n",
      "         ADV     0.8715    0.9123    0.8914       171\n",
      "       CCONJ     0.9935    1.0000    0.9968       154\n",
      "         DET     0.9645    0.9510    0.9577       143\n",
      "        PRON     0.9907    0.9464    0.9680       112\n",
      "         NUM     1.0000    0.9524    0.9756        63\n",
      "        PART     1.0000    0.8667    0.9286        30\n",
      "           X     0.3333    0.2500    0.2857         8\n",
      "\n",
      "    accuracy                         0.9505      4649\n",
      "   macro avg     0.9190    0.9048    0.9110      4649\n",
      "weighted avg     0.9507    0.9505    0.9504      4649\n",
      "\n",
      "2022-09-02 02:01:54,137 ----------------------------------------------------------------------------------------------------\n"
     ]
    },
    {
     "name": "stderr",
     "output_type": "stream",
     "text": [
      "\n"
     ]
    },
    {
     "data": {
      "text/plain": [
       "{'test_score': 0.9505269950526996,\n",
       " 'dev_score_history': [0.9319466882067852,\n",
       "  0.9309369951534734,\n",
       "  0.9343699515347335,\n",
       "  0.9339660743134087,\n",
       "  0.9315428109854604,\n",
       "  0.9258885298869144,\n",
       "  0.9343699515347335,\n",
       "  0.9345718901453958,\n",
       "  0.9333602584814217,\n",
       "  0.934168012924071,\n",
       "  0.9258885298869144,\n",
       "  0.9373990306946688],\n",
       " 'train_loss_history': [0.19337838777866373,\n",
       "  0.20039890496777302,\n",
       "  0.2061076053191136,\n",
       "  0.19311480447855411,\n",
       "  0.1986591383849962,\n",
       "  0.20779273449699326,\n",
       "  0.19468618143459915,\n",
       "  0.19398238417389282,\n",
       "  0.1949312710762816,\n",
       "  0.19862812095086216,\n",
       "  0.18821612636632445,\n",
       "  0.19487105312884148],\n",
       " 'dev_loss_history': [0.24547412991523743,\n",
       "  0.2810230255126953,\n",
       "  0.25854727625846863,\n",
       "  0.25668683648109436,\n",
       "  0.27172890305519104,\n",
       "  0.26797589659690857,\n",
       "  0.2568742036819458,\n",
       "  0.24655205011367798,\n",
       "  0.26324018836021423,\n",
       "  0.26793545484542847,\n",
       "  0.2834279537200928,\n",
       "  0.25658586621284485]}"
      ]
     },
     "execution_count": 18,
     "metadata": {},
     "output_type": "execute_result"
    }
   ],
   "source": [
    "trainer.train('resources/model_library/flair_upos_tagging',\n",
    "                              learning_rate=best_params['learning_rate'],\n",
    "                              mini_batch_size=int(best_params['param_mini_batch_sizes']),\n",
    "                              max_epochs=int(best_params['max_epochs']),\n",
    "                              write_weights = True)"
   ]
  },
  {
   "cell_type": "code",
   "execution_count": 19,
   "metadata": {
    "pycharm": {
     "name": "#%%\n"
    }
   },
   "outputs": [
    {
     "name": "stdout",
     "output_type": "stream",
     "text": [
      "2022-09-02 02:01:54,156 loading file resources/model_library/flair_upos_tagging/final-model.pt\n",
      "2022-09-02 02:01:54,667 SequenceTagger predicts: Dictionary with 19 tags: <unk>, NOUN, PUNCT, ADJ, ADP, VERB, PROPN, AUX, DET, SCONJ, ADV, CCONJ, PRON, NUM, PART, X, INTJ, <START>, <STOP>\n"
     ]
    }
   ],
   "source": [
    "# Učitavamo istrenirani model\n",
    "model = SequenceTagger.load('resources/model_library/flair_upos_tagging/final-model.pt')"
   ]
  },
  {
   "cell_type": "markdown",
   "metadata": {
    "pycharm": {
     "name": "#%% md\n"
    }
   },
   "source": [
    "## Evaluacija modela"
   ]
  },
  {
   "cell_type": "code",
   "execution_count": 22,
   "metadata": {
    "pycharm": {
     "name": "#%%\n"
    }
   },
   "outputs": [
    {
     "name": "stdout",
     "output_type": "stream",
     "text": [
      "\n",
      "\n",
      "\n",
      "Razgovori - predicted: NOUN , actual: NOUN\n",
      "su - predicted: AUX , actual: AUX\n",
      "bili - predicted: AUX , actual: AUX\n",
      "usmereni - predicted: ADJ , actual: ADJ\n",
      "na - predicted: ADP , actual: ADP\n",
      "bilateralne - predicted: ADJ , actual: ADJ\n",
      "veze - predicted: NOUN , actual: NOUN\n",
      "i - predicted: CCONJ , actual: CCONJ\n",
      "situaciju - predicted: NOUN , actual: NOUN\n",
      "na - predicted: ADP , actual: ADP\n",
      "Bliskom - predicted: ADJ , actual: ADJ\n",
      "istoku - predicted: NOUN , actual: NOUN\n",
      ". - predicted: PUNCT , actual: PUNCT\n"
     ]
    }
   ],
   "source": [
    "# Ispisivanje primera tokena iz jedne recenice, njihovih tagova, kao i predvidjenih tagova uz pomoc modela\n",
    "sentence = corpus.test[78]\n",
    "model.predict(sentence)\n",
    "print(\"\\n\\n\")\n",
    "\n",
    "# Predvidi etikete i štampaj\n",
    "for i,token in enumerate(sentence):\n",
    "    predictedLabels = token.get_labels('upos')\n",
    "    actualLabels = sentence[i].get_labels('upos')\n",
    "\n",
    "    for j, label in enumerate(predictedLabels):\n",
    "        token = label.data_point.form\n",
    "        predictedValue = label.value\n",
    "        actualValue = actualLabels[j].value\n",
    "\n",
    "        print(token, \"- predicted:\" ,predictedValue, \", actual:\", actualValue)"
   ]
  },
  {
   "cell_type": "markdown",
   "metadata": {
    "pycharm": {
     "name": "#%% md\n"
    }
   },
   "source": [
    "### Generisanje matrice konfuzije na test skupu korpusa"
   ]
  },
  {
   "cell_type": "code",
   "execution_count": 28,
   "metadata": {
    "pycharm": {
     "name": "#%%\n"
    }
   },
   "outputs": [],
   "source": [
    "actual= np.array([])\n",
    "predicted = np.array([])\n",
    "\n",
    "for actualSentence in corpus.test:\n",
    "\n",
    "    for token in actualSentence:\n",
    "        actual = np.append(actual, token.get_label('upos').value)\n",
    "\n",
    "    predictedSentence = Sentence([token.text for token in actualSentence.tokens])\n",
    "    model.predict(predictedSentence)\n",
    "    for token in predictedSentence:\n",
    "        predictedLabels = token.get_labels('upos')\n",
    "        for predictedLabel in predictedLabels:\n",
    "            predicted = np.append(predicted, predictedLabel.value)"
   ]
  },
  {
   "cell_type": "code",
   "execution_count": 29,
   "metadata": {
    "pycharm": {
     "name": "#%%\n"
    }
   },
   "outputs": [
    {
     "data": {
      "image/png": "[encoded data removed]",
      "text/plain": [
       "<Figure size 1080x936 with 2 Axes>"
      ]
     },
     "metadata": {
      "needs_background": "light"
     },
     "output_type": "display_data"
    }
   ],
   "source": [
    "classes = np.union1d(np.unique(actual), np.unique(predicted))\n",
    "cm = metrics.confusion_matrix(actual, predicted)\n",
    "cm_df = pd.DataFrame(cm,\n",
    "                     index = classes,\n",
    "                     columns = classes)\n",
    "#Plotting the confusion matrix\n",
    "plt.figure(figsize=(15,13))\n",
    "sns.heatmap(cm_df, annot=True)\n",
    "plt.title('Confusion Matrix')\n",
    "plt.ylabel('Actual Values')\n",
    "plt.xlabel('Predicted Values')\n",
    "plt.show()"
   ]
  },
  {
   "cell_type": "markdown",
   "metadata": {
    "pycharm": {
     "name": "#%% md\n"
    }
   },
   "source": [
    "### Izveštaj o klasifikaciji"
   ]
  },
  {
   "cell_type": "code",
   "execution_count": 30,
   "metadata": {
    "pycharm": {
     "name": "#%%\n"
    }
   },
   "outputs": [
    {
     "name": "stdout",
     "output_type": "stream",
     "text": [
      "              precision    recall  f1-score   support\n",
      "\n",
      "         ADJ       0.92      0.88      0.90       553\n",
      "         ADP       0.99      0.99      0.99       456\n",
      "         ADV       0.87      0.91      0.89       171\n",
      "         AUX       0.99      1.00      0.99       291\n",
      "       CCONJ       0.99      1.00      1.00       154\n",
      "         DET       0.96      0.95      0.96       143\n",
      "        NOUN       0.94      0.93      0.94      1163\n",
      "         NUM       1.00      0.95      0.98        63\n",
      "        PART       1.00      0.87      0.93        30\n",
      "        PRON       0.99      0.95      0.97       112\n",
      "       PROPN       0.92      0.94      0.93       354\n",
      "       PUNCT       1.00      1.00      1.00       572\n",
      "       SCONJ       0.98      0.99      0.99       176\n",
      "        VERB       0.90      0.96      0.93       403\n",
      "           X       0.33      0.25      0.29         8\n",
      "\n",
      "    accuracy                           0.95      4649\n",
      "   macro avg       0.92      0.91      0.91      4649\n",
      "weighted avg       0.95      0.95      0.95      4649\n",
      "\n"
     ]
    }
   ],
   "source": [
    "print(metrics.classification_report(actual,predicted))"
   ]
  },
  {
   "cell_type": "code",
   "execution_count": 31,
   "metadata": {
    "pycharm": {
     "name": "#%%\n"
    }
   },
   "outputs": [],
   "source": [
    "text_file = open(f\"resources/model_library/flair_upos_tagging/report.txt\", \"w\")\n",
    "text_file.write(metrics.classification_report(actual,predicted))\n",
    "text_file.close()"
   ]
  },
  {
   "cell_type": "markdown",
   "metadata": {
    "pycharm": {
     "name": "#%% md\n"
    }
   },
   "source": [
    "### Primer predikcije UPOS etiketa na nivou reči datih u rečenici"
   ]
  },
  {
   "cell_type": "code",
   "execution_count": 32,
   "metadata": {
    "pycharm": {
     "name": "#%%\n"
    }
   },
   "outputs": [
    {
     "name": "stdout",
     "output_type": "stream",
     "text": [
      "Sentence: \"Srbija je tokom bombardovanja 1990 devedesetih izgubila mnoge kulturne znamenitosti .\" → [\"Srbija\"/PROPN, \"je\"/AUX, \"tokom\"/ADP, \"bombardovanja\"/NOUN, \"1990\"/NUM, \"devedesetih\"/ADJ, \"izgubila\"/NOUN, \"mnoge\"/ADJ, \"kulturne\"/ADJ, \"znamenitosti\"/NOUN, \".\"/PUNCT]\n"
     ]
    }
   ],
   "source": [
    "sentence = Sentence('Srbija je tokom bombardovanja 1990 devedesetih izgubila mnoge kulturne znamenitosti.')\n",
    "\n",
    "# predviđanje etiketa\n",
    "model.predict(sentence)\n",
    "\n",
    "print(sentence.to_tagged_string())"
   ]
  },
  {
   "cell_type": "code",
   "execution_count": null,
   "metadata": {
    "pycharm": {
     "name": "#%%\n"
    }
   },
   "outputs": [],
   "source": []
  }
 ],
 "metadata": {
  "kernelspec": {
   "display_name": "Python 3 (ipykernel)",
   "language": "python",
   "name": "python3"
  },
  "language_info": {
   "codemirror_mode": {
    "name": "ipython",
    "version": 3
   },
   "file_extension": ".py",
   "mimetype": "text/x-python",
   "name": "python",
   "nbconvert_exporter": "python",
   "pygments_lexer": "ipython3",
   "version": "3.9.12"
  }
 },
 "nbformat": 4,
 "nbformat_minor": 1
}
