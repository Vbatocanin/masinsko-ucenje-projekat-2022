{
 "cells": [
  {
   "cell_type": "markdown",
   "source": [
    "#### Učitavanje baze i pretprocesiranje"
   ],
   "metadata": {
    "collapsed": false,
    "pycharm": {
     "name": "#%% md\n"
    }
   }
  },
  {
   "cell_type": "code",
   "execution_count": 19,
   "outputs": [
    {
     "name": "stdout",
     "output_type": "stream",
     "text": [
      "2022-08-29 22:38:51,714 Reading data from C:\\Users\\vladimir\\.flair\\datasets\\ud_serbian\n",
      "2022-08-29 22:38:51,715 Train: C:\\Users\\vladimir\\.flair\\datasets\\ud_serbian\\sr_set-ud-train.conllu\n",
      "2022-08-29 22:38:51,715 Dev: C:\\Users\\vladimir\\.flair\\datasets\\ud_serbian\\sr_set-ud-dev.conllu\n",
      "2022-08-29 22:38:51,715 Test: C:\\Users\\vladimir\\.flair\\datasets\\ud_serbian\\sr_set-ud-test.conllu\n"
     ]
    }
   ],
   "source": [
    "import json\n",
    "import flair.datasets\n",
    "import matplotlib.pyplot as plt\n",
    "import numpy as np\n",
    "import pandas as pd\n",
    "import seaborn as sns\n",
    "from flair.data import Sentence\n",
    "from flair.data import Corpus\n",
    "from flair.embeddings import WordEmbeddings, FlairEmbeddings, StackedEmbeddings\n",
    "from flair.models import SequenceTagger\n",
    "from flair.trainers import ModelTrainer\n",
    "from sklearn import metrics\n",
    "from flair.datasets import ColumnCorpus\n",
    "\n",
    "corpus = flair.datasets.UD_SERBIAN().downsample(0.1)"
   ],
   "metadata": {
    "collapsed": false,
    "pycharm": {
     "name": "#%%\n"
    }
   }
  },
  {
   "cell_type": "code",
   "execution_count": 20,
   "outputs": [
    {
     "name": "stdout",
     "output_type": "stream",
     "text": [
      "Training:  333\n",
      "Test:  52\n",
      "Dev:  54\n"
     ]
    }
   ],
   "source": [
    "# print the number of Sentences in the train split\n",
    "print(\"Training: \",len(corpus.train))\n",
    "\n",
    "# print the number of Sentences in the test split\n",
    "print(\"Test: \",len(corpus.test))\n",
    "\n",
    "# print the number of Sentences in the dev split\n",
    "print(\"Dev: \",len(corpus.dev))"
   ],
   "metadata": {
    "collapsed": false,
    "pycharm": {
     "name": "#%%\n"
    }
   }
  },
  {
   "cell_type": "code",
   "execution_count": 21,
   "outputs": [],
   "source": [
    "# Preprocessing: NULL check for all upos labels\n",
    "for sentence in corpus.get_all_sentences():\n",
    "    for token in sentence:\n",
    "        if not token.get_labels('upos'):\n",
    "            token.add_label('upos','X',1.0)"
   ],
   "metadata": {
    "collapsed": false,
    "pycharm": {
     "name": "#%%\n"
    }
   }
  },
  {
   "cell_type": "code",
   "execution_count": 22,
   "outputs": [
    {
     "name": "stdout",
     "output_type": "stream",
     "text": [
      "Sentence: \"Sejdiu kaže da je , iz ove perspektive , proces \" bio prenagljen … bez plana za ekonomski razvoj \" i da je privatizacija dovela do velikih problema za radnike .\" → [\"Sejdiu\"/Sejdiu/PROPN/Npmsn/nsubj/Nom/Masc/Sing, \"kaže\"/kazati/VERB/Vmr3s/root/Ind/Sing/3/Pres/Fin, \"da\"/da/SCONJ/Cs/mark, \"je\"/biti/AUX/Var3s/aux/Ind/Sing/3/Pres/Fin, \",\"/,/PUNCT/Z/punct, \"iz\"/iz/ADP/Sg/case/Gen, \"ove\"/ovaj/DET/Pd-fsg/det/Gen/Fem/Sing/Dem, \"perspektive\"/perspektiva/NOUN/Ncfsg/obl/Gen/Fem/Sing, \",\"/,/PUNCT/Z/punct, \"proces\"/proces/NOUN/Ncmsn/nsubj/Nom/Masc/Sing, \"\"\"/\"/PUNCT/Z/punct, \"bio\"/biti/AUX/Vap-sm/cop/Masc/Sing/Past/Part/Act, \"prenagljen\"/prenagliti/ADJ/Appmsnn/ccomp/Nom/Ind/Pos/Masc/Sing/Part/Pass, \"…\"/…/PUNCT/Z/punct, \"bez\"/bez/ADP/Sg/case/Gen, \"plana\"/plan/NOUN/Ncmsg/conj/Gen/Masc/Sing, \"za\"/za/ADP/Sa/case/Acc, \"ekonomski\"/ekonomski/ADJ/Agpmsayn/amod/Inan/Acc/Def/Pos/Masc/Sing, \"razvoj\"/razvoj/NOUN/Ncmsan/nmod/Inan/Acc/Masc/Sing, \"\"\"/\"/PUNCT/Z/punct, \"i\"/i/CCONJ/Cc/cc, \"da\"/da/SCONJ/Cs/mark, \"je\"/biti/AUX/Var3s/aux/Ind/Sing/3/Pres/Fin, \"privatizacija\"/privatizacija/NOUN/Ncfsn/nsubj/Nom/Fem/Sing, \"dovela\"/dovesti/VERB/Vmp-sf/conj/Fem/Sing/Past/Part/Act, \"do\"/do/ADP/Sg/case/Gen, \"velikih\"/velik/ADJ/Agpmpgy/amod/Gen/Def/Pos/Masc/Plur, \"problema\"/problem/NOUN/Ncmpg/obl/Gen/Masc/Plur, \"za\"/za/ADP/Sa/case/Acc, \"radnike\"/radnik/NOUN/Ncmpa/nmod/Acc/Masc/Plur, \".\"/./PUNCT/Z/punct]\n",
      "Token[0]: \"Sejdiu\" → Sejdiu (1.0); PROPN (1.0); Npmsn (1.0); nsubj (1.0); Nom (1.0); Masc (1.0); Sing (1.0)\n",
      "Token[1]: \"kaže\" → kazati (1.0); VERB (1.0); Vmr3s (1.0); root (1.0); Ind (1.0); Sing (1.0); 3 (1.0); Pres (1.0); Fin (1.0)\n",
      "Token[2]: \"da\" → da (1.0); SCONJ (1.0); Cs (1.0); mark (1.0)\n",
      "Token[3]: \"je\" → biti (1.0); AUX (1.0); Var3s (1.0); aux (1.0); Ind (1.0); Sing (1.0); 3 (1.0); Pres (1.0); Fin (1.0)\n",
      "Token[4]: \",\" → , (1.0); PUNCT (1.0); Z (1.0); punct (1.0)\n",
      "Token[5]: \"iz\" → iz (1.0); ADP (1.0); Sg (1.0); case (1.0); Gen (1.0)\n",
      "Token[6]: \"ove\" → ovaj (1.0); DET (1.0); Pd-fsg (1.0); det (1.0); Gen (1.0); Fem (1.0); Sing (1.0); Dem (1.0)\n",
      "Token[7]: \"perspektive\" → perspektiva (1.0); NOUN (1.0); Ncfsg (1.0); obl (1.0); Gen (1.0); Fem (1.0); Sing (1.0)\n",
      "Token[8]: \",\" → , (1.0); PUNCT (1.0); Z (1.0); punct (1.0)\n",
      "Token[9]: \"proces\" → proces (1.0); NOUN (1.0); Ncmsn (1.0); nsubj (1.0); Nom (1.0); Masc (1.0); Sing (1.0)\n",
      "Token[10]: \"\"\" → \" (1.0); PUNCT (1.0); Z (1.0); punct (1.0)\n",
      "Token[11]: \"bio\" → biti (1.0); AUX (1.0); Vap-sm (1.0); cop (1.0); Masc (1.0); Sing (1.0); Past (1.0); Part (1.0); Act (1.0)\n",
      "Token[12]: \"prenagljen\" → prenagliti (1.0); ADJ (1.0); Appmsnn (1.0); ccomp (1.0); Nom (1.0); Ind (1.0); Pos (1.0); Masc (1.0); Sing (1.0); Part (1.0); Pass (1.0)\n",
      "Token[13]: \"…\" → … (1.0); PUNCT (1.0); Z (1.0); punct (1.0)\n",
      "Token[14]: \"bez\" → bez (1.0); ADP (1.0); Sg (1.0); case (1.0); Gen (1.0)\n",
      "Token[15]: \"plana\" → plan (1.0); NOUN (1.0); Ncmsg (1.0); conj (1.0); Gen (1.0); Masc (1.0); Sing (1.0)\n",
      "Token[16]: \"za\" → za (1.0); ADP (1.0); Sa (1.0); case (1.0); Acc (1.0)\n",
      "Token[17]: \"ekonomski\" → ekonomski (1.0); ADJ (1.0); Agpmsayn (1.0); amod (1.0); Inan (1.0); Acc (1.0); Def (1.0); Pos (1.0); Masc (1.0); Sing (1.0)\n",
      "Token[18]: \"razvoj\" → razvoj (1.0); NOUN (1.0); Ncmsan (1.0); nmod (1.0); Inan (1.0); Acc (1.0); Masc (1.0); Sing (1.0)\n",
      "Token[19]: \"\"\" → \" (1.0); PUNCT (1.0); Z (1.0); punct (1.0)\n",
      "Token[20]: \"i\" → i (1.0); CCONJ (1.0); Cc (1.0); cc (1.0)\n",
      "Token[21]: \"da\" → da (1.0); SCONJ (1.0); Cs (1.0); mark (1.0)\n",
      "Token[22]: \"je\" → biti (1.0); AUX (1.0); Var3s (1.0); aux (1.0); Ind (1.0); Sing (1.0); 3 (1.0); Pres (1.0); Fin (1.0)\n",
      "Token[23]: \"privatizacija\" → privatizacija (1.0); NOUN (1.0); Ncfsn (1.0); nsubj (1.0); Nom (1.0); Fem (1.0); Sing (1.0)\n",
      "Token[24]: \"dovela\" → dovesti (1.0); VERB (1.0); Vmp-sf (1.0); conj (1.0); Fem (1.0); Sing (1.0); Past (1.0); Part (1.0); Act (1.0)\n",
      "Token[25]: \"do\" → do (1.0); ADP (1.0); Sg (1.0); case (1.0); Gen (1.0)\n",
      "Token[26]: \"velikih\" → velik (1.0); ADJ (1.0); Agpmpgy (1.0); amod (1.0); Gen (1.0); Def (1.0); Pos (1.0); Masc (1.0); Plur (1.0)\n",
      "Token[27]: \"problema\" → problem (1.0); NOUN (1.0); Ncmpg (1.0); obl (1.0); Gen (1.0); Masc (1.0); Plur (1.0)\n",
      "Token[28]: \"za\" → za (1.0); ADP (1.0); Sa (1.0); case (1.0); Acc (1.0)\n",
      "Token[29]: \"radnike\" → radnik (1.0); NOUN (1.0); Ncmpa (1.0); nmod (1.0); Acc (1.0); Masc (1.0); Plur (1.0)\n",
      "Token[30]: \".\" → . (1.0); PUNCT (1.0); Z (1.0); punct (1.0)\n"
     ]
    }
   ],
   "source": [
    "# get the first Sentence in the training split\n",
    "sentence = corpus.dev[1]\n",
    "\n",
    "# print with all annotations\n",
    "print(sentence)\n",
    "\n",
    "# print only with POS annotations (better readability)\n",
    "for token in sentence:\n",
    "    print(token)"
   ],
   "metadata": {
    "collapsed": false,
    "pycharm": {
     "name": "#%%\n"
    }
   }
  },
  {
   "cell_type": "markdown",
   "source": [
    "### UPOS TAGS:\n",
    "- ADJ: adjective\n",
    "- ADP: adposition\n",
    "- ADV: adverb\n",
    "- AUX: auxiliary\n",
    "- CCONJ: coordinating conjunction\n",
    "- DET: determiner\n",
    "- INTJ: interjection\n",
    "- NOUN: noun\n",
    "- NUM: numeral\n",
    "- PART: particle\n",
    "- PRON: pronoun\n",
    "- PROPN: proper noun\n",
    "- PUNCT: punctuation\n",
    "- SCONJ: subordinating conjunction\n",
    "- SYM: symbol\n",
    "- VERB: verb\n",
    "- X: other"
   ],
   "metadata": {
    "collapsed": false,
    "pycharm": {
     "name": "#%% md\n"
    }
   }
  },
  {
   "cell_type": "code",
   "execution_count": 23,
   "outputs": [
    {
     "name": "stdout",
     "output_type": "stream",
     "text": [
      "2022-08-29 22:38:57,704 Computing label dictionary. Progress:\n"
     ]
    },
    {
     "name": "stderr",
     "output_type": "stream",
     "text": [
      "333it [00:00, 25614.89it/s]"
     ]
    },
    {
     "name": "stdout",
     "output_type": "stream",
     "text": [
      "2022-08-29 22:38:57,731 Dictionary created for label 'upos' with 17 values: NOUN (seen 1766 times), PUNCT (seen 934 times), ADJ (seen 834 times), ADP (seen 712 times), VERB (seen 624 times), PROPN (seen 499 times), AUX (seen 457 times), DET (seen 321 times), ADV (seen 270 times), CCONJ (seen 255 times), SCONJ (seen 254 times), PRON (seen 202 times), NUM (seen 86 times), PART (seen 57 times), X (seen 19 times), INTJ (seen 1 times)\n",
      "Dictionary with 17 tags: <unk>, NOUN, PUNCT, ADJ, ADP, VERB, PROPN, AUX, DET, ADV, CCONJ, SCONJ, PRON, NUM, PART, X, INTJ\n"
     ]
    },
    {
     "name": "stderr",
     "output_type": "stream",
     "text": [
      "\n"
     ]
    }
   ],
   "source": [
    "# Make the UPOS label dictionary from the corpus\n",
    "label_type = 'upos'\n",
    "label_dict  = corpus.make_label_dictionary(label_type = label_type)\n",
    "\n",
    "# print dictionary\n",
    "print(label_dict)"
   ],
   "metadata": {
    "collapsed": false,
    "pycharm": {
     "name": "#%%\n"
    }
   }
  },
  {
   "cell_type": "code",
   "execution_count": 24,
   "outputs": [],
   "source": [
    "embedding_types = [\n",
    "    WordEmbeddings('glove'),\n",
    "    FlairEmbeddings('news-forward'),\n",
    "    FlairEmbeddings('news-backward'),\n",
    "]\n",
    "\n",
    "embeddings = StackedEmbeddings(embeddings=embedding_types)"
   ],
   "metadata": {
    "collapsed": false,
    "pycharm": {
     "name": "#%%\n"
    }
   }
  },
  {
   "cell_type": "code",
   "execution_count": 25,
   "outputs": [
    {
     "name": "stdout",
     "output_type": "stream",
     "text": [
      "2022-08-29 22:39:10,346 SequenceTagger predicts: Dictionary with 17 tags: <unk>, NOUN, PUNCT, ADJ, ADP, VERB, PROPN, AUX, DET, ADV, CCONJ, SCONJ, PRON, NUM, PART, X, INTJ\n"
     ]
    }
   ],
   "source": [
    "tagger = SequenceTagger(hidden_size=256,\n",
    "                        embeddings=embeddings,\n",
    "                        tag_dictionary=label_dict,\n",
    "                        tag_type=label_type,\n",
    "                        use_crf=True)"
   ],
   "metadata": {
    "collapsed": false,
    "pycharm": {
     "name": "#%%\n"
    }
   }
  },
  {
   "cell_type": "code",
   "execution_count": 26,
   "outputs": [],
   "source": [
    "trainer = ModelTrainer(tagger, corpus)"
   ],
   "metadata": {
    "collapsed": false,
    "pycharm": {
     "name": "#%%\n"
    }
   }
  },
  {
   "cell_type": "code",
   "execution_count": 11,
   "outputs": [],
   "source": [
    "best_score = 0.0\n",
    "best_params = {'learning_rate':0, 'mini_batch_size': 0, 'max_epochs' : 10}\n",
    "\n",
    "param_learning_rates = np.linspace(0.001, 0.6, num=4)\n",
    "param_mini_batch_sizes = np.arange(10,100,20)\n",
    "max_epochs = np.arange(10,13,1)\n",
    "\n",
    "model_history = []"
   ],
   "metadata": {
    "collapsed": false,
    "pycharm": {
     "name": "#%%\n"
    }
   }
  },
  {
   "cell_type": "code",
   "execution_count": 16,
   "outputs": [
    {
     "ename": "NameError",
     "evalue": "name 'param_learning_rates' is not defined",
     "output_type": "error",
     "traceback": [
      "\u001B[1;31m---------------------------------------------------------------------------\u001B[0m",
      "\u001B[1;31mNameError\u001B[0m                                 Traceback (most recent call last)",
      "Input \u001B[1;32mIn [16]\u001B[0m, in \u001B[0;36m<cell line: 1>\u001B[1;34m()\u001B[0m\n\u001B[1;32m----> 1\u001B[0m \u001B[38;5;28;01mfor\u001B[39;00m i,lr \u001B[38;5;129;01min\u001B[39;00m \u001B[38;5;28menumerate\u001B[39m(\u001B[43mparam_learning_rates\u001B[49m):\n\u001B[0;32m      2\u001B[0m     \u001B[38;5;28;01mfor\u001B[39;00m j,mbs \u001B[38;5;129;01min\u001B[39;00m \u001B[38;5;28menumerate\u001B[39m(param_mini_batch_sizes):\n\u001B[0;32m      3\u001B[0m         \u001B[38;5;28;01mfor\u001B[39;00m k,me \u001B[38;5;129;01min\u001B[39;00m \u001B[38;5;28menumerate\u001B[39m(max_epochs):\n",
      "\u001B[1;31mNameError\u001B[0m: name 'param_learning_rates' is not defined"
     ]
    }
   ],
   "source": [
    "for i,lr in enumerate(param_learning_rates):\n",
    "    for j,mbs in enumerate(param_mini_batch_sizes):\n",
    "        for k,me in enumerate(max_epochs):\n",
    "                print('\\n\\n\\n')\n",
    "                print(\"#######################################################\")\n",
    "                print(f\"################ MODEL NUMBER {i+j+k+1} #######################\")\n",
    "                print(\"#######################################################\")\n",
    "                trainer.train('resources/taggers/optimized-upos',\n",
    "                              learning_rate=lr,\n",
    "                              mini_batch_size=int(mbs),\n",
    "                              max_epochs=int(me),\n",
    "                              write_weights = True)\n",
    "                model = SequenceTagger.load('resources/taggers/optimized-upos/final-model.pt')\n",
    "                actual= np.array([])\n",
    "                predicted = np.array([])\n",
    "\n",
    "                for actualSentence in corpus.dev:\n",
    "\n",
    "                    for token in actualSentence:\n",
    "                        actual = np.append(actual, token.get_label('upos').value)\n",
    "\n",
    "                    predictedSentence = Sentence([token.text for token in actualSentence.tokens])\n",
    "                    model.predict(predictedSentence)\n",
    "                    for token in predictedSentence:\n",
    "                        predictedLabels = token.get_labels('upos')\n",
    "                        for predictedLabel in predictedLabels:\n",
    "                            predicted = np.append(predicted, predictedLabel.value)\n",
    "                score = metrics.accuracy_score(actual,predicted)\n",
    "\n",
    "                if score>best_score:\n",
    "                    best_params['learning_rate'] = lr\n",
    "                    best_params['param_mini_batch_sizes'] = mbs\n",
    "                    best_params['max_epochs'] = me\n",
    "\n",
    "                report = metrics.classification_report(actual,predicted)\n",
    "                params = {'learning_rate': lr, 'param_mini_batch_sizes': mbs,\n",
    "                          'max_epochs': me}\n",
    "                model_history.append({'params':params,'report':report})"
   ],
   "metadata": {
    "collapsed": false,
    "pycharm": {
     "name": "#%%\n"
    }
   }
  },
  {
   "cell_type": "code",
   "execution_count": 27,
   "outputs": [
    {
     "name": "stdout",
     "output_type": "stream",
     "text": [
      "{'learning_rate': 0.6, 'mini_batch_size': 0, 'max_epochs': 12, 'param_mini_batch_sizes': 90}\n"
     ]
    },
    {
     "ename": "NameError",
     "evalue": "name 'model_history' is not defined",
     "output_type": "error",
     "traceback": [
      "\u001B[1;31m---------------------------------------------------------------------------\u001B[0m",
      "\u001B[1;31mNameError\u001B[0m                                 Traceback (most recent call last)",
      "Input \u001B[1;32mIn [27]\u001B[0m, in \u001B[0;36m<cell line: 2>\u001B[1;34m()\u001B[0m\n\u001B[0;32m      1\u001B[0m \u001B[38;5;28mprint\u001B[39m(best_params)\n\u001B[1;32m----> 2\u001B[0m \u001B[38;5;28mprint\u001B[39m(\u001B[43mmodel_history\u001B[49m)\n",
      "\u001B[1;31mNameError\u001B[0m: name 'model_history' is not defined"
     ]
    }
   ],
   "source": [
    "print(best_params)\n",
    "print(model_history)"
   ],
   "metadata": {
    "collapsed": false,
    "pycharm": {
     "name": "#%%\n"
    }
   }
  },
  {
   "cell_type": "code",
   "execution_count": 28,
   "outputs": [],
   "source": [
    "def serialize_int32(obj):\n",
    "    if isinstance(obj, np.int32):\n",
    "        return int(obj)\n",
    "    raise TypeError (\"Type %s is not serializable\" % type(obj))"
   ],
   "metadata": {
    "collapsed": false,
    "pycharm": {
     "name": "#%%\n"
    }
   }
  },
  {
   "cell_type": "code",
   "execution_count": 29,
   "outputs": [],
   "source": [
    "fileName='best_model'\n",
    "with open(f\"resources/model_library/{fileName}/{fileName}_params.json\", \"w\") as f:\n",
    "     f.write(json.dumps(best_params, default=serialize_int32))"
   ],
   "metadata": {
    "collapsed": false,
    "pycharm": {
     "name": "#%%\n"
    }
   }
  },
  {
   "cell_type": "code",
   "execution_count": 30,
   "outputs": [
    {
     "ename": "NameError",
     "evalue": "name 'model_history' is not defined",
     "output_type": "error",
     "traceback": [
      "\u001B[1;31m---------------------------------------------------------------------------\u001B[0m",
      "\u001B[1;31mNameError\u001B[0m                                 Traceback (most recent call last)",
      "Input \u001B[1;32mIn [30]\u001B[0m, in \u001B[0;36m<cell line: 1>\u001B[1;34m()\u001B[0m\n\u001B[0;32m      1\u001B[0m \u001B[38;5;28;01mwith\u001B[39;00m \u001B[38;5;28mopen\u001B[39m(\u001B[38;5;124mf\u001B[39m\u001B[38;5;124m\"\u001B[39m\u001B[38;5;124mresources/model_library/\u001B[39m\u001B[38;5;132;01m{\u001B[39;00mfileName\u001B[38;5;132;01m}\u001B[39;00m\u001B[38;5;124m/\u001B[39m\u001B[38;5;132;01m{\u001B[39;00mfileName\u001B[38;5;132;01m}\u001B[39;00m\u001B[38;5;124m_hist.json\u001B[39m\u001B[38;5;124m\"\u001B[39m, \u001B[38;5;124m\"\u001B[39m\u001B[38;5;124mw\u001B[39m\u001B[38;5;124m\"\u001B[39m) \u001B[38;5;28;01mas\u001B[39;00m f:\n\u001B[1;32m----> 2\u001B[0m     f\u001B[38;5;241m.\u001B[39mwrite(json\u001B[38;5;241m.\u001B[39mdumps(\u001B[43mmodel_history\u001B[49m,default\u001B[38;5;241m=\u001B[39mserialize_int32))\n",
      "\u001B[1;31mNameError\u001B[0m: name 'model_history' is not defined"
     ]
    }
   ],
   "source": [
    "with open(f\"resources/model_library/{fileName}/{fileName}_hist.json\", \"w\") as f:\n",
    "    f.write(json.dumps(model_history,default=serialize_int32))"
   ],
   "metadata": {
    "collapsed": false,
    "pycharm": {
     "name": "#%%\n"
    }
   }
  },
  {
   "cell_type": "code",
   "execution_count": 31,
   "outputs": [
    {
     "name": "stdout",
     "output_type": "stream",
     "text": [
      "2022-08-29 22:39:34,408 ----------------------------------------------------------------------------------------------------\n",
      "2022-08-29 22:39:34,410 Model: \"SequenceTagger(\n",
      "  (embeddings): StackedEmbeddings(\n",
      "    (list_embedding_0): WordEmbeddings(\n",
      "      'glove'\n",
      "      (embedding): Embedding(400001, 100)\n",
      "    )\n",
      "    (list_embedding_1): FlairEmbeddings(\n",
      "      (lm): LanguageModel(\n",
      "        (drop): Dropout(p=0.05, inplace=False)\n",
      "        (encoder): Embedding(300, 100)\n",
      "        (rnn): LSTM(100, 2048)\n",
      "        (decoder): Linear(in_features=2048, out_features=300, bias=True)\n",
      "      )\n",
      "    )\n",
      "    (list_embedding_2): FlairEmbeddings(\n",
      "      (lm): LanguageModel(\n",
      "        (drop): Dropout(p=0.05, inplace=False)\n",
      "        (encoder): Embedding(300, 100)\n",
      "        (rnn): LSTM(100, 2048)\n",
      "        (decoder): Linear(in_features=2048, out_features=300, bias=True)\n",
      "      )\n",
      "    )\n",
      "  )\n",
      "  (word_dropout): WordDropout(p=0.05)\n",
      "  (locked_dropout): LockedDropout(p=0.5)\n",
      "  (embedding2nn): Linear(in_features=4196, out_features=4196, bias=True)\n",
      "  (rnn): LSTM(4196, 256, batch_first=True, bidirectional=True)\n",
      "  (linear): Linear(in_features=512, out_features=19, bias=True)\n",
      "  (loss_function): ViterbiLoss()\n",
      "  (crf): CRF()\n",
      ")\"\n",
      "2022-08-29 22:39:34,411 ----------------------------------------------------------------------------------------------------\n",
      "2022-08-29 22:39:34,412 Corpus: \"Corpus: 333 train + 54 dev + 52 test sentences\"\n",
      "2022-08-29 22:39:34,412 ----------------------------------------------------------------------------------------------------\n",
      "2022-08-29 22:39:34,413 Parameters:\n",
      "2022-08-29 22:39:34,413  - learning_rate: \"0.600000\"\n",
      "2022-08-29 22:39:34,414  - mini_batch_size: \"90\"\n",
      "2022-08-29 22:39:34,414  - patience: \"3\"\n",
      "2022-08-29 22:39:34,415  - anneal_factor: \"0.5\"\n",
      "2022-08-29 22:39:34,415  - max_epochs: \"12\"\n",
      "2022-08-29 22:39:34,416  - shuffle: \"True\"\n",
      "2022-08-29 22:39:34,416  - train_with_dev: \"False\"\n",
      "2022-08-29 22:39:34,416  - batch_growth_annealing: \"False\"\n",
      "2022-08-29 22:39:34,417 ----------------------------------------------------------------------------------------------------\n",
      "2022-08-29 22:39:34,417 Model training base path: \"resources\\taggers\\optimized-upos\"\n",
      "2022-08-29 22:39:34,418 ----------------------------------------------------------------------------------------------------\n",
      "2022-08-29 22:39:34,418 Device: cpu\n",
      "2022-08-29 22:39:34,419 ----------------------------------------------------------------------------------------------------\n",
      "2022-08-29 22:39:34,419 Embeddings storage mode: cpu\n",
      "2022-08-29 22:39:34,420 ----------------------------------------------------------------------------------------------------\n"
     ]
    },
    {
     "name": "stderr",
     "output_type": "stream",
     "text": [
      "C:\\Users\\vladimir\\anaconda3\\envs\\ML3\\lib\\site-packages\\flair\\trainers\\trainer.py:64: UserWarning: There should be no best model saved at epoch 1 except there is a model from previous trainings in your training folder. All previous best models will be deleted.\n",
      "  warnings.warn(\n"
     ]
    },
    {
     "name": "stdout",
     "output_type": "stream",
     "text": [
      "2022-08-29 22:39:49,930 epoch 1 - iter 1/4 - loss 3.38819233 - samples/sec: 5.80 - lr: 0.600000\n",
      "2022-08-29 22:40:05,639 epoch 1 - iter 2/4 - loss 3.03792803 - samples/sec: 5.76 - lr: 0.600000\n",
      "2022-08-29 22:40:16,624 epoch 1 - iter 3/4 - loss 3.93230924 - samples/sec: 8.25 - lr: 0.600000\n",
      "2022-08-29 22:40:30,216 epoch 1 - iter 4/4 - loss 3.77082920 - samples/sec: 6.66 - lr: 0.600000\n",
      "2022-08-29 22:40:30,294 ----------------------------------------------------------------------------------------------------\n",
      "2022-08-29 22:40:30,295 EPOCH 1 done: loss 3.7708 - lr 0.600000\n"
     ]
    },
    {
     "name": "stderr",
     "output_type": "stream",
     "text": [
      "100%|██████████| 1/1 [00:08<00:00,  8.57s/it]"
     ]
    },
    {
     "name": "stdout",
     "output_type": "stream",
     "text": [
      "2022-08-29 22:40:38,866 Evaluating as a multi-label problem: False\n",
      "2022-08-29 22:40:38,876 DEV : loss 3.2372853755950928 - f1-score (micro avg)  0.2229\n",
      "2022-08-29 22:40:38,880 BAD EPOCHS (no improvement): 0\n",
      "2022-08-29 22:40:38,881 saving best model\n"
     ]
    },
    {
     "name": "stderr",
     "output_type": "stream",
     "text": [
      "\n"
     ]
    },
    {
     "name": "stdout",
     "output_type": "stream",
     "text": [
      "2022-08-29 22:40:40,809 ----------------------------------------------------------------------------------------------------\n",
      "2022-08-29 22:40:43,673 epoch 2 - iter 1/4 - loss 3.17695760 - samples/sec: 31.45 - lr: 0.600000\n",
      "2022-08-29 22:40:46,444 epoch 2 - iter 2/4 - loss 3.37271141 - samples/sec: 33.52 - lr: 0.600000\n",
      "2022-08-29 22:40:48,899 epoch 2 - iter 3/4 - loss 3.16854259 - samples/sec: 37.88 - lr: 0.600000\n",
      "2022-08-29 22:40:50,896 epoch 2 - iter 4/4 - loss 3.08254471 - samples/sec: 46.95 - lr: 0.600000\n",
      "2022-08-29 22:40:50,980 ----------------------------------------------------------------------------------------------------\n",
      "2022-08-29 22:40:50,981 EPOCH 2 done: loss 3.0825 - lr 0.600000\n"
     ]
    },
    {
     "name": "stderr",
     "output_type": "stream",
     "text": [
      "100%|██████████| 1/1 [00:00<00:00,  1.66it/s]"
     ]
    },
    {
     "name": "stdout",
     "output_type": "stream",
     "text": [
      "2022-08-29 22:40:51,588 Evaluating as a multi-label problem: False\n",
      "2022-08-29 22:40:51,596 DEV : loss 2.6531147956848145 - f1-score (micro avg)  0.1652\n",
      "2022-08-29 22:40:51,601 BAD EPOCHS (no improvement): 1\n",
      "2022-08-29 22:40:51,602 ----------------------------------------------------------------------------------------------------\n"
     ]
    },
    {
     "name": "stderr",
     "output_type": "stream",
     "text": [
      "\n"
     ]
    },
    {
     "name": "stdout",
     "output_type": "stream",
     "text": [
      "2022-08-29 22:40:53,756 epoch 3 - iter 1/4 - loss 2.64422952 - samples/sec: 41.80 - lr: 0.600000\n",
      "2022-08-29 22:40:56,510 epoch 3 - iter 2/4 - loss 2.68403663 - samples/sec: 33.62 - lr: 0.600000\n",
      "2022-08-29 22:40:59,476 epoch 3 - iter 3/4 - loss 2.64153655 - samples/sec: 31.17 - lr: 0.600000\n",
      "2022-08-29 22:41:01,611 epoch 3 - iter 4/4 - loss 2.54632936 - samples/sec: 43.82 - lr: 0.600000\n",
      "2022-08-29 22:41:01,696 ----------------------------------------------------------------------------------------------------\n",
      "2022-08-29 22:41:01,696 EPOCH 3 done: loss 2.5463 - lr 0.600000\n"
     ]
    },
    {
     "name": "stderr",
     "output_type": "stream",
     "text": [
      "100%|██████████| 1/1 [00:00<00:00,  1.58it/s]"
     ]
    },
    {
     "name": "stdout",
     "output_type": "stream",
     "text": [
      "2022-08-29 22:41:02,334 Evaluating as a multi-label problem: False\n",
      "2022-08-29 22:41:02,342 DEV : loss 2.26058292388916 - f1-score (micro avg)  0.344\n",
      "2022-08-29 22:41:02,347 BAD EPOCHS (no improvement): 0\n",
      "2022-08-29 22:41:02,348 saving best model\n"
     ]
    },
    {
     "name": "stderr",
     "output_type": "stream",
     "text": [
      "\n"
     ]
    },
    {
     "name": "stdout",
     "output_type": "stream",
     "text": [
      "2022-08-29 22:41:04,486 ----------------------------------------------------------------------------------------------------\n",
      "2022-08-29 22:41:07,274 epoch 4 - iter 1/4 - loss 2.36257444 - samples/sec: 32.29 - lr: 0.600000\n",
      "2022-08-29 22:41:10,015 epoch 4 - iter 2/4 - loss 2.37737703 - samples/sec: 33.76 - lr: 0.600000\n",
      "2022-08-29 22:41:12,974 epoch 4 - iter 3/4 - loss 2.25663942 - samples/sec: 31.29 - lr: 0.600000\n",
      "2022-08-29 22:41:14,794 epoch 4 - iter 4/4 - loss 2.29323790 - samples/sec: 51.90 - lr: 0.600000\n",
      "2022-08-29 22:41:14,878 ----------------------------------------------------------------------------------------------------\n",
      "2022-08-29 22:41:14,878 EPOCH 4 done: loss 2.2932 - lr 0.600000\n"
     ]
    },
    {
     "name": "stderr",
     "output_type": "stream",
     "text": [
      "100%|██████████| 1/1 [00:00<00:00,  1.52it/s]"
     ]
    },
    {
     "name": "stdout",
     "output_type": "stream",
     "text": [
      "2022-08-29 22:41:15,542 Evaluating as a multi-label problem: False\n",
      "2022-08-29 22:41:15,550 DEV : loss 2.0953807830810547 - f1-score (micro avg)  0.3528\n",
      "2022-08-29 22:41:15,556 BAD EPOCHS (no improvement): 0\n",
      "2022-08-29 22:41:15,557 saving best model\n"
     ]
    },
    {
     "name": "stderr",
     "output_type": "stream",
     "text": [
      "\n"
     ]
    },
    {
     "name": "stdout",
     "output_type": "stream",
     "text": [
      "2022-08-29 22:41:17,237 ----------------------------------------------------------------------------------------------------\n",
      "2022-08-29 22:41:19,697 epoch 5 - iter 1/4 - loss 2.19671563 - samples/sec: 36.60 - lr: 0.600000\n",
      "2022-08-29 22:41:22,558 epoch 5 - iter 2/4 - loss 2.07731267 - samples/sec: 32.33 - lr: 0.600000\n",
      "2022-08-29 22:41:24,974 epoch 5 - iter 3/4 - loss 2.08070223 - samples/sec: 38.60 - lr: 0.600000\n",
      "2022-08-29 22:41:27,177 epoch 5 - iter 4/4 - loss 2.07268871 - samples/sec: 42.36 - lr: 0.600000\n",
      "2022-08-29 22:41:27,259 ----------------------------------------------------------------------------------------------------\n",
      "2022-08-29 22:41:27,259 EPOCH 5 done: loss 2.0727 - lr 0.600000\n"
     ]
    },
    {
     "name": "stderr",
     "output_type": "stream",
     "text": [
      "100%|██████████| 1/1 [00:00<00:00,  1.51it/s]"
     ]
    },
    {
     "name": "stdout",
     "output_type": "stream",
     "text": [
      "2022-08-29 22:41:27,927 Evaluating as a multi-label problem: False\n",
      "2022-08-29 22:41:27,935 DEV : loss 1.9627463817596436 - f1-score (micro avg)  0.332\n",
      "2022-08-29 22:41:27,941 BAD EPOCHS (no improvement): 1\n",
      "2022-08-29 22:41:27,942 ----------------------------------------------------------------------------------------------------\n"
     ]
    },
    {
     "name": "stderr",
     "output_type": "stream",
     "text": [
      "\n"
     ]
    },
    {
     "name": "stdout",
     "output_type": "stream",
     "text": [
      "2022-08-29 22:41:30,139 epoch 6 - iter 1/4 - loss 2.05100427 - samples/sec: 40.97 - lr: 0.600000\n",
      "2022-08-29 22:41:33,130 epoch 6 - iter 2/4 - loss 1.93029135 - samples/sec: 30.91 - lr: 0.600000\n",
      "2022-08-29 22:41:35,694 epoch 6 - iter 3/4 - loss 1.87044776 - samples/sec: 36.17 - lr: 0.600000\n",
      "2022-08-29 22:41:37,555 epoch 6 - iter 4/4 - loss 1.85772572 - samples/sec: 50.45 - lr: 0.600000\n",
      "2022-08-29 22:41:37,628 ----------------------------------------------------------------------------------------------------\n",
      "2022-08-29 22:41:37,629 EPOCH 6 done: loss 1.8577 - lr 0.600000\n"
     ]
    },
    {
     "name": "stderr",
     "output_type": "stream",
     "text": [
      "100%|██████████| 1/1 [00:00<00:00,  1.64it/s]"
     ]
    },
    {
     "name": "stdout",
     "output_type": "stream",
     "text": [
      "2022-08-29 22:41:38,240 Evaluating as a multi-label problem: False\n",
      "2022-08-29 22:41:38,249 DEV : loss 1.6411885023117065 - f1-score (micro avg)  0.4956\n",
      "2022-08-29 22:41:38,254 BAD EPOCHS (no improvement): 0\n",
      "2022-08-29 22:41:38,254 saving best model\n"
     ]
    },
    {
     "name": "stderr",
     "output_type": "stream",
     "text": [
      "\n"
     ]
    },
    {
     "name": "stdout",
     "output_type": "stream",
     "text": [
      "2022-08-29 22:41:40,421 ----------------------------------------------------------------------------------------------------\n",
      "2022-08-29 22:41:43,254 epoch 7 - iter 1/4 - loss 1.70851777 - samples/sec: 31.78 - lr: 0.600000\n",
      "2022-08-29 22:41:45,869 epoch 7 - iter 2/4 - loss 1.75537634 - samples/sec: 35.43 - lr: 0.600000\n",
      "2022-08-29 22:41:48,062 epoch 7 - iter 3/4 - loss 1.72523963 - samples/sec: 42.43 - lr: 0.600000\n",
      "2022-08-29 22:41:50,163 epoch 7 - iter 4/4 - loss 1.73520945 - samples/sec: 44.44 - lr: 0.600000\n",
      "2022-08-29 22:41:50,246 ----------------------------------------------------------------------------------------------------\n",
      "2022-08-29 22:41:50,247 EPOCH 7 done: loss 1.7352 - lr 0.600000\n"
     ]
    },
    {
     "name": "stderr",
     "output_type": "stream",
     "text": [
      "100%|██████████| 1/1 [00:00<00:00,  1.58it/s]"
     ]
    },
    {
     "name": "stdout",
     "output_type": "stream",
     "text": [
      "2022-08-29 22:41:50,884 Evaluating as a multi-label problem: False\n",
      "2022-08-29 22:41:50,893 DEV : loss 2.1719298362731934 - f1-score (micro avg)  0.3745\n",
      "2022-08-29 22:41:50,897 BAD EPOCHS (no improvement): 1\n",
      "2022-08-29 22:41:50,898 ----------------------------------------------------------------------------------------------------\n"
     ]
    },
    {
     "name": "stderr",
     "output_type": "stream",
     "text": [
      "\n"
     ]
    },
    {
     "name": "stdout",
     "output_type": "stream",
     "text": [
      "2022-08-29 22:41:53,908 epoch 8 - iter 1/4 - loss 2.23829062 - samples/sec: 29.91 - lr: 0.600000\n",
      "2022-08-29 22:41:56,655 epoch 8 - iter 2/4 - loss 1.91358703 - samples/sec: 33.77 - lr: 0.600000\n",
      "2022-08-29 22:41:59,194 epoch 8 - iter 3/4 - loss 1.77540350 - samples/sec: 36.54 - lr: 0.600000\n",
      "2022-08-29 22:42:00,778 epoch 8 - iter 4/4 - loss 1.82842801 - samples/sec: 59.80 - lr: 0.600000\n",
      "2022-08-29 22:42:00,857 ----------------------------------------------------------------------------------------------------\n",
      "2022-08-29 22:42:00,858 EPOCH 8 done: loss 1.8284 - lr 0.600000\n"
     ]
    },
    {
     "name": "stderr",
     "output_type": "stream",
     "text": [
      "100%|██████████| 1/1 [00:00<00:00,  1.53it/s]"
     ]
    },
    {
     "name": "stdout",
     "output_type": "stream",
     "text": [
      "2022-08-29 22:42:01,516 Evaluating as a multi-label problem: False\n",
      "2022-08-29 22:42:01,525 DEV : loss 1.4528164863586426 - f1-score (micro avg)  0.5164\n",
      "2022-08-29 22:42:01,530 BAD EPOCHS (no improvement): 0\n",
      "2022-08-29 22:42:01,531 saving best model\n"
     ]
    },
    {
     "name": "stderr",
     "output_type": "stream",
     "text": [
      "\n"
     ]
    },
    {
     "name": "stdout",
     "output_type": "stream",
     "text": [
      "2022-08-29 22:42:03,130 ----------------------------------------------------------------------------------------------------\n",
      "2022-08-29 22:42:05,864 epoch 9 - iter 1/4 - loss 1.63702765 - samples/sec: 32.93 - lr: 0.600000\n",
      "2022-08-29 22:42:08,898 epoch 9 - iter 2/4 - loss 1.62223564 - samples/sec: 30.43 - lr: 0.600000\n",
      "2022-08-29 22:42:11,152 epoch 9 - iter 3/4 - loss 1.61227705 - samples/sec: 41.36 - lr: 0.600000\n",
      "2022-08-29 22:42:12,726 epoch 9 - iter 4/4 - loss 1.59725784 - samples/sec: 60.16 - lr: 0.600000\n",
      "2022-08-29 22:42:12,807 ----------------------------------------------------------------------------------------------------\n",
      "2022-08-29 22:42:12,808 EPOCH 9 done: loss 1.5973 - lr 0.600000\n"
     ]
    },
    {
     "name": "stderr",
     "output_type": "stream",
     "text": [
      "100%|██████████| 1/1 [00:00<00:00,  1.53it/s]"
     ]
    },
    {
     "name": "stdout",
     "output_type": "stream",
     "text": [
      "2022-08-29 22:42:13,465 Evaluating as a multi-label problem: False\n",
      "2022-08-29 22:42:13,476 DEV : loss 1.3122211694717407 - f1-score (micro avg)  0.5934\n",
      "2022-08-29 22:42:13,482 BAD EPOCHS (no improvement): 0\n",
      "2022-08-29 22:42:13,483 saving best model\n"
     ]
    },
    {
     "name": "stderr",
     "output_type": "stream",
     "text": [
      "\n"
     ]
    },
    {
     "name": "stdout",
     "output_type": "stream",
     "text": [
      "2022-08-29 22:42:14,721 ----------------------------------------------------------------------------------------------------\n",
      "2022-08-29 22:42:17,423 epoch 10 - iter 1/4 - loss 1.42812567 - samples/sec: 33.32 - lr: 0.600000\n",
      "2022-08-29 22:42:20,449 epoch 10 - iter 2/4 - loss 1.57567272 - samples/sec: 30.54 - lr: 0.600000\n",
      "2022-08-29 22:42:22,873 epoch 10 - iter 3/4 - loss 1.52475718 - samples/sec: 38.27 - lr: 0.600000\n",
      "2022-08-29 22:42:24,410 epoch 10 - iter 4/4 - loss 1.53073205 - samples/sec: 61.90 - lr: 0.600000\n",
      "2022-08-29 22:42:24,483 ----------------------------------------------------------------------------------------------------\n",
      "2022-08-29 22:42:24,484 EPOCH 10 done: loss 1.5307 - lr 0.600000\n"
     ]
    },
    {
     "name": "stderr",
     "output_type": "stream",
     "text": [
      "100%|██████████| 1/1 [00:00<00:00,  1.59it/s]"
     ]
    },
    {
     "name": "stdout",
     "output_type": "stream",
     "text": [
      "2022-08-29 22:42:25,117 Evaluating as a multi-label problem: False\n",
      "2022-08-29 22:42:25,125 DEV : loss 1.2991691827774048 - f1-score (micro avg)  0.583\n",
      "2022-08-29 22:42:25,129 BAD EPOCHS (no improvement): 1\n",
      "2022-08-29 22:42:25,130 ----------------------------------------------------------------------------------------------------\n"
     ]
    },
    {
     "name": "stderr",
     "output_type": "stream",
     "text": [
      "\n"
     ]
    },
    {
     "name": "stdout",
     "output_type": "stream",
     "text": [
      "2022-08-29 22:42:27,314 epoch 11 - iter 1/4 - loss 1.48090632 - samples/sec: 41.25 - lr: 0.600000\n",
      "2022-08-29 22:42:29,895 epoch 11 - iter 2/4 - loss 1.45191951 - samples/sec: 36.02 - lr: 0.600000\n",
      "2022-08-29 22:42:33,011 epoch 11 - iter 3/4 - loss 1.49285709 - samples/sec: 29.69 - lr: 0.600000\n",
      "2022-08-29 22:42:35,015 epoch 11 - iter 4/4 - loss 1.48060015 - samples/sec: 46.97 - lr: 0.600000\n",
      "2022-08-29 22:42:35,108 ----------------------------------------------------------------------------------------------------\n",
      "2022-08-29 22:42:35,109 EPOCH 11 done: loss 1.4806 - lr 0.600000\n"
     ]
    },
    {
     "name": "stderr",
     "output_type": "stream",
     "text": [
      "100%|██████████| 1/1 [00:00<00:00,  1.39it/s]"
     ]
    },
    {
     "name": "stdout",
     "output_type": "stream",
     "text": [
      "2022-08-29 22:42:35,832 Evaluating as a multi-label problem: False\n",
      "2022-08-29 22:42:35,840 DEV : loss 1.2416596412658691 - f1-score (micro avg)  0.5397\n",
      "2022-08-29 22:42:35,847 BAD EPOCHS (no improvement): 2\n",
      "2022-08-29 22:42:35,848 ----------------------------------------------------------------------------------------------------\n"
     ]
    },
    {
     "name": "stderr",
     "output_type": "stream",
     "text": [
      "\n"
     ]
    },
    {
     "name": "stdout",
     "output_type": "stream",
     "text": [
      "2022-08-29 22:42:38,367 epoch 12 - iter 1/4 - loss 1.36066350 - samples/sec: 35.75 - lr: 0.600000\n",
      "2022-08-29 22:42:40,973 epoch 12 - iter 2/4 - loss 1.40496683 - samples/sec: 35.63 - lr: 0.600000\n",
      "2022-08-29 22:42:43,863 epoch 12 - iter 3/4 - loss 1.41494212 - samples/sec: 32.03 - lr: 0.600000\n",
      "2022-08-29 22:42:46,097 epoch 12 - iter 4/4 - loss 1.39256339 - samples/sec: 41.76 - lr: 0.600000\n",
      "2022-08-29 22:42:46,187 ----------------------------------------------------------------------------------------------------\n",
      "2022-08-29 22:42:46,188 EPOCH 12 done: loss 1.3926 - lr 0.600000\n"
     ]
    },
    {
     "name": "stderr",
     "output_type": "stream",
     "text": [
      "100%|██████████| 1/1 [00:00<00:00,  1.54it/s]"
     ]
    },
    {
     "name": "stdout",
     "output_type": "stream",
     "text": [
      "2022-08-29 22:42:46,842 Evaluating as a multi-label problem: False\n",
      "2022-08-29 22:42:46,853 DEV : loss 1.1410150527954102 - f1-score (micro avg)  0.6327\n",
      "2022-08-29 22:42:46,860 BAD EPOCHS (no improvement): 0\n",
      "2022-08-29 22:42:46,861 saving best model\n"
     ]
    },
    {
     "name": "stderr",
     "output_type": "stream",
     "text": [
      "\n"
     ]
    },
    {
     "name": "stdout",
     "output_type": "stream",
     "text": [
      "2022-08-29 22:42:49,780 ----------------------------------------------------------------------------------------------------\n",
      "2022-08-29 22:42:49,781 loading file resources\\taggers\\optimized-upos\\best-model.pt\n",
      "2022-08-29 22:42:50,305 SequenceTagger predicts: Dictionary with 19 tags: <unk>, NOUN, PUNCT, ADJ, ADP, VERB, PROPN, AUX, DET, ADV, CCONJ, SCONJ, PRON, NUM, PART, X, INTJ, <START>, <STOP>\n"
     ]
    },
    {
     "name": "stderr",
     "output_type": "stream",
     "text": [
      "100%|██████████| 1/1 [00:09<00:00,  9.86s/it]"
     ]
    },
    {
     "name": "stdout",
     "output_type": "stream",
     "text": [
      "2022-08-29 22:43:00,419 Evaluating as a multi-label problem: False\n",
      "2022-08-29 22:43:00,428 0.6291\t0.6291\t0.6291\t0.6291\n",
      "2022-08-29 22:43:00,429 \n",
      "Results:\n",
      "- F-score (micro) 0.6291\n",
      "- F-score (macro) 0.4789\n",
      "- Accuracy 0.6291\n",
      "\n",
      "By class:\n",
      "              precision    recall  f1-score   support\n",
      "\n",
      "        NOUN     0.5894    0.5272    0.5566       294\n",
      "         ADJ     0.3547    0.6573    0.4608       143\n",
      "       PUNCT     0.9889    0.9944    0.9916       179\n",
      "        VERB     0.3459    0.5914    0.4365        93\n",
      "       PROPN     0.7326    0.5339    0.6176       118\n",
      "         AUX     0.6455    0.7634    0.6995        93\n",
      "         ADP     0.9878    0.7297    0.8394       111\n",
      "       SCONJ     0.8095    0.7727    0.7907        44\n",
      "       CCONJ     1.0000    0.9189    0.9577        37\n",
      "         ADV     0.6000    0.0625    0.1132        48\n",
      "         DET     0.0000    0.0000    0.0000        31\n",
      "        PRON     1.0000    0.5625    0.7200        16\n",
      "         NUM     0.0000    0.0000    0.0000        12\n",
      "        PART     0.0000    0.0000    0.0000         8\n",
      "           X     0.0000    0.0000    0.0000         8\n",
      "\n",
      "    accuracy                         0.6291      1235\n",
      "   macro avg     0.5369    0.4743    0.4789      1235\n",
      "weighted avg     0.6532    0.6291    0.6202      1235\n",
      "\n",
      "2022-08-29 22:43:00,429 ----------------------------------------------------------------------------------------------------\n"
     ]
    },
    {
     "name": "stderr",
     "output_type": "stream",
     "text": [
      "\n"
     ]
    },
    {
     "data": {
      "text/plain": "{'test_score': 0.6291497975708502,\n 'dev_score_history': [0.22293504410585405,\n  0.16519647153167602,\n  0.3440256615878107,\n  0.3528468323977546,\n  0.3319967923015237,\n  0.4955894145950281,\n  0.3744987971130714,\n  0.5164394546912591,\n  0.5934242181234964,\n  0.5829991980753809,\n  0.5396952686447474,\n  0.6327185244587009],\n 'train_loss_history': [3.770829203491462,\n  3.08254471212368,\n  2.5463293585949285,\n  2.293237904072658,\n  2.072688710557108,\n  1.8577257197443766,\n  1.7352094512926897,\n  1.8284280076142676,\n  1.5972578430385065,\n  1.5307320508589357,\n  1.4806001459419147,\n  1.392563391510081],\n 'dev_loss_history': [3.2372853755950928,\n  2.6531147956848145,\n  2.26058292388916,\n  2.0953807830810547,\n  1.9627463817596436,\n  1.6411885023117065,\n  2.1719298362731934,\n  1.4528164863586426,\n  1.3122211694717407,\n  1.2991691827774048,\n  1.2416596412658691,\n  1.1410150527954102]}"
     },
     "execution_count": 31,
     "metadata": {},
     "output_type": "execute_result"
    }
   ],
   "source": [
    "best_params = {\"learning_rate\": 0.6, \"mini_batch_size\": 0, \"max_epochs\": 12, \"param_mini_batch_sizes\": 90}\n",
    "# Re-training most accurate model with corresponding params\n",
    "trainer.train('resources/taggers/optimized-upos',\n",
    "                              learning_rate=best_params['learning_rate'],\n",
    "                              mini_batch_size=int(best_params['param_mini_batch_sizes']),\n",
    "                              max_epochs=int(best_params['max_epochs']),\n",
    "                              write_weights = True)"
   ],
   "metadata": {
    "collapsed": false,
    "pycharm": {
     "name": "#%%\n"
    }
   }
  },
  {
   "cell_type": "code",
   "execution_count": 32,
   "metadata": {
    "pycharm": {
     "name": "#%%\n"
    }
   },
   "outputs": [
    {
     "name": "stdout",
     "output_type": "stream",
     "text": [
      "2022-08-29 22:43:21,331 loading file resources/taggers/optimized-upos/final-model.pt\n",
      "2022-08-29 22:43:21,886 SequenceTagger predicts: Dictionary with 19 tags: <unk>, NOUN, PUNCT, ADJ, ADP, VERB, PROPN, AUX, DET, ADV, CCONJ, SCONJ, PRON, NUM, PART, X, INTJ, <START>, <STOP>\n"
     ]
    }
   ],
   "source": [
    "# load the model you trained\n",
    "model = SequenceTagger.load('resources/taggers/optimized-upos/final-model.pt')"
   ]
  },
  {
   "cell_type": "code",
   "execution_count": 33,
   "outputs": [
    {
     "name": "stdout",
     "output_type": "stream",
     "text": [
      "\n",
      "\n",
      "\n",
      "Zbog - predicted: VERB , actual: ADP\n",
      "toga - predicted: AUX , actual: DET\n",
      "je - predicted: AUX , actual: AUX\n",
      "došlo - predicted: ADJ , actual: VERB\n",
      "do - predicted: CCONJ , actual: ADP\n",
      "odlaganja - predicted: ADJ , actual: NOUN\n",
      "početka - predicted: NOUN , actual: NOUN\n",
      "redovnog - predicted: ADJ , actual: ADJ\n",
      "saobraćaja - predicted: NOUN , actual: NOUN\n",
      ". - predicted: PUNCT , actual: PUNCT\n"
     ]
    }
   ],
   "source": [
    "# create example sentence\n",
    "actualSentenceExample = corpus.dev[17]\n",
    "predictedSentenceExample = Sentence(actualSentenceExample.to_plain_string())\n",
    "model.predict(predictedSentenceExample)\n",
    "print(\"\\n\\n\")\n",
    "\n",
    "# Sanity check, example predict tags and print\n",
    "for i,token in enumerate(predictedSentenceExample):\n",
    "    predictedLabels = token.get_labels('upos')\n",
    "    actualLabels = actualSentenceExample[i].get_labels('upos')\n",
    "\n",
    "    for j, label in enumerate(predictedLabels):\n",
    "        token = label.data_point.form\n",
    "        predictedValue = label.value\n",
    "        actualValue = actualLabels[j].value\n",
    "\n",
    "        print(token, \"- predicted:\" ,predictedValue, \", actual:\", actualValue)"
   ],
   "metadata": {
    "collapsed": false,
    "pycharm": {
     "name": "#%%\n"
    }
   }
  },
  {
   "cell_type": "code",
   "execution_count": 34,
   "outputs": [],
   "source": [
    "actual= np.array([])\n",
    "predicted = np.array([])\n",
    "\n",
    "for actualSentence in corpus.test:\n",
    "\n",
    "    for token in actualSentence:\n",
    "        actual = np.append(actual, token.get_label('upos').value)\n",
    "\n",
    "    predictedSentence = Sentence([token.text for token in actualSentence.tokens])\n",
    "    model.predict(predictedSentence)\n",
    "    for token in predictedSentence:\n",
    "        predictedLabels = token.get_labels('upos')\n",
    "        for predictedLabel in predictedLabels:\n",
    "            predicted = np.append(predicted, predictedLabel.value)"
   ],
   "metadata": {
    "collapsed": false,
    "pycharm": {
     "name": "#%%\n"
    }
   }
  },
  {
   "cell_type": "code",
   "execution_count": 36,
   "outputs": [
    {
     "data": {
      "text/plain": "<Figure size 1080x936 with 2 Axes>",
      "image/png": "[encoded data removed]"
     },
     "metadata": {
      "needs_background": "light"
     },
     "output_type": "display_data"
    }
   ],
   "source": [
    "fileName = \"final\"\n",
    "\n",
    "classes = np.union1d(np.unique(actual), np.unique(predicted))\n",
    "cm = metrics.confusion_matrix(actual, predicted)\n",
    "cm_df = pd.DataFrame(cm,\n",
    "                     index = classes,\n",
    "                     columns = classes)\n",
    "#Plotting the confusion matrix\n",
    "plt.figure(figsize=(15,13))\n",
    "sns.heatmap(cm_df, annot=True)\n",
    "plt.title('Confusion Matrix')\n",
    "plt.ylabel('Actual Values')\n",
    "plt.xlabel('Predicted Values')\n",
    "plt.show()"
   ],
   "metadata": {
    "collapsed": false,
    "pycharm": {
     "name": "#%%\n"
    }
   }
  },
  {
   "cell_type": "code",
   "execution_count": 37,
   "outputs": [
    {
     "name": "stdout",
     "output_type": "stream",
     "text": [
      "Sentence: \"Srbija je tokom bombardovanja 1990 devedesetih izgubila mnoge kulturne znamenitosti .\" → [\"Srbija\"/PROPN, \"je\"/AUX, \"tokom\"/ADJ, \"bombardovanja\"/NOUN, \"1990\"/PROPN, \"devedesetih\"/ADJ, \"izgubila\"/NOUN, \"mnoge\"/VERB, \"kulturne\"/ADJ, \"znamenitosti\"/NOUN, \".\"/PUNCT]\n"
     ]
    }
   ],
   "source": [
    "sentence = Sentence('Srbija je tokom bombardovanja 1990 devedesetih izgubila mnoge kulturne znamenitosti.')\n",
    "\n",
    "# predict tags and print\n",
    "model.predict(sentence)\n",
    "\n",
    "print(sentence.to_tagged_string())"
   ],
   "metadata": {
    "collapsed": false,
    "pycharm": {
     "name": "#%%\n"
    }
   }
  },
  {
   "cell_type": "code",
   "execution_count": 38,
   "outputs": [
    {
     "name": "stdout",
     "output_type": "stream",
     "text": [
      "              precision    recall  f1-score   support\n",
      "\n",
      "         ADJ       0.35      0.66      0.46       143\n",
      "         ADP       0.99      0.73      0.84       111\n",
      "         ADV       0.60      0.06      0.11        48\n",
      "         AUX       0.65      0.76      0.70        93\n",
      "       CCONJ       1.00      0.92      0.96        37\n",
      "         DET       0.00      0.00      0.00        31\n",
      "        NOUN       0.59      0.53      0.56       294\n",
      "         NUM       0.00      0.00      0.00        12\n",
      "        PART       0.00      0.00      0.00         8\n",
      "        PRON       1.00      0.56      0.72        16\n",
      "       PROPN       0.73      0.53      0.62       118\n",
      "       PUNCT       0.99      0.99      0.99       179\n",
      "       SCONJ       0.81      0.77      0.79        44\n",
      "        VERB       0.35      0.59      0.44        93\n",
      "           X       0.00      0.00      0.00         8\n",
      "\n",
      "    accuracy                           0.63      1235\n",
      "   macro avg       0.54      0.47      0.48      1235\n",
      "weighted avg       0.65      0.63      0.62      1235\n",
      "\n"
     ]
    },
    {
     "name": "stderr",
     "output_type": "stream",
     "text": [
      "C:\\Users\\vladimir\\anaconda3\\envs\\ML3\\lib\\site-packages\\sklearn\\metrics\\_classification.py:1334: UndefinedMetricWarning: Precision and F-score are ill-defined and being set to 0.0 in labels with no predicted samples. Use `zero_division` parameter to control this behavior.\n",
      "  _warn_prf(average, modifier, msg_start, len(result))\n",
      "C:\\Users\\vladimir\\anaconda3\\envs\\ML3\\lib\\site-packages\\sklearn\\metrics\\_classification.py:1334: UndefinedMetricWarning: Precision and F-score are ill-defined and being set to 0.0 in labels with no predicted samples. Use `zero_division` parameter to control this behavior.\n",
      "  _warn_prf(average, modifier, msg_start, len(result))\n",
      "C:\\Users\\vladimir\\anaconda3\\envs\\ML3\\lib\\site-packages\\sklearn\\metrics\\_classification.py:1334: UndefinedMetricWarning: Precision and F-score are ill-defined and being set to 0.0 in labels with no predicted samples. Use `zero_division` parameter to control this behavior.\n",
      "  _warn_prf(average, modifier, msg_start, len(result))\n"
     ]
    }
   ],
   "source": [
    "print(metrics.classification_report(actual,predicted))"
   ],
   "metadata": {
    "collapsed": false,
    "pycharm": {
     "name": "#%%\n"
    }
   }
  },
  {
   "cell_type": "code",
   "execution_count": 21,
   "outputs": [
    {
     "name": "stderr",
     "output_type": "stream",
     "text": [
      "C:\\Users\\vladimir\\anaconda3\\envs\\ML3\\lib\\site-packages\\sklearn\\metrics\\_classification.py:1334: UndefinedMetricWarning: Precision and F-score are ill-defined and being set to 0.0 in labels with no predicted samples. Use `zero_division` parameter to control this behavior.\n",
      "  _warn_prf(average, modifier, msg_start, len(result))\n",
      "C:\\Users\\vladimir\\anaconda3\\envs\\ML3\\lib\\site-packages\\sklearn\\metrics\\_classification.py:1334: UndefinedMetricWarning: Precision and F-score are ill-defined and being set to 0.0 in labels with no predicted samples. Use `zero_division` parameter to control this behavior.\n",
      "  _warn_prf(average, modifier, msg_start, len(result))\n",
      "C:\\Users\\vladimir\\anaconda3\\envs\\ML3\\lib\\site-packages\\sklearn\\metrics\\_classification.py:1334: UndefinedMetricWarning: Precision and F-score are ill-defined and being set to 0.0 in labels with no predicted samples. Use `zero_division` parameter to control this behavior.\n",
      "  _warn_prf(average, modifier, msg_start, len(result))\n"
     ]
    }
   ],
   "source": [
    "#open text file\n",
    "text_file = open(f\"resources/model_library/{fileName}/{fileName}_report.txt\", \"w\")\n",
    "\n",
    "#write string to file\n",
    "text_file.write(metrics.classification_report(actual,predicted))\n",
    "\n",
    "#close file\n",
    "text_file.close()"
   ],
   "metadata": {
    "collapsed": false,
    "pycharm": {
     "name": "#%%\n"
    }
   }
  }
 ],
 "metadata": {
  "kernelspec": {
   "display_name": "Python 3",
   "language": "python",
   "name": "python3"
  },
  "language_info": {
   "codemirror_mode": {
    "name": "ipython",
    "version": 3
   },
   "file_extension": ".py",
   "mimetype": "text/x-python",
   "name": "python",
   "nbconvert_exporter": "python",
   "pygments_lexer": "ipython3",
   "version": "3.9.12"
  }
 },
 "nbformat": 4,
 "nbformat_minor": 1
}