{
 "cells": [
  {
   "cell_type": "markdown",
   "source": [
    "#### Učitavanje baze i pretprocesiranje"
   ],
   "metadata": {
    "collapsed": false,
    "pycharm": {
     "name": "#%% md\n"
    }
   }
  },
  {
   "cell_type": "code",
   "execution_count": 13,
   "outputs": [
    {
     "name": "stdout",
     "output_type": "stream",
     "text": [
      "2022-08-23 21:47:40,004 Reading data from C:\\Users\\vladimir\\.flair\\datasets\\ud_english\n",
      "2022-08-23 21:47:40,005 Train: C:\\Users\\vladimir\\.flair\\datasets\\ud_english\\en_ewt-ud-train.conllu\n",
      "2022-08-23 21:47:40,005 Dev: C:\\Users\\vladimir\\.flair\\datasets\\ud_english\\en_ewt-ud-dev.conllu\n",
      "2022-08-23 21:47:40,005 Test: C:\\Users\\vladimir\\.flair\\datasets\\ud_english\\en_ewt-ud-test.conllu\n"
     ]
    }
   ],
   "source": [
    "import flair.datasets\n",
    "corpus = flair.datasets.UD_ENGLISH().downsample(0.1)"
   ],
   "metadata": {
    "collapsed": false,
    "pycharm": {
     "name": "#%%\n"
    }
   }
  },
  {
   "cell_type": "code",
   "execution_count": 14,
   "outputs": [
    {
     "name": "stdout",
     "output_type": "stream",
     "text": [
      "Training:  1254\n",
      "Test:  208\n",
      "Dev:  200\n"
     ]
    }
   ],
   "source": [
    "# print the number of Sentences in the train split\n",
    "print(\"Training: \",len(corpus.train))\n",
    "\n",
    "# print the number of Sentences in the test split\n",
    "print(\"Test: \",len(corpus.test))\n",
    "\n",
    "# print the number of Sentences in the dev split\n",
    "print(\"Dev: \",len(corpus.dev))"
   ],
   "metadata": {
    "collapsed": false,
    "pycharm": {
     "name": "#%%\n"
    }
   }
  },
  {
   "cell_type": "code",
   "execution_count": 15,
   "outputs": [
    {
     "name": "stdout",
     "output_type": "stream",
     "text": [
      "Sentence: \"Cities such as Falluja received special treatment from Saddam and enjoyed a disproportionate share of the country 's wealth and power .\" → [\"Cities\"/city/NOUN/NNS/nsubj/Plur, \"such\"/such/ADJ/JJ/case/Pos/ADP, \"as\"/as/ADP/IN/fixed, \"Falluja\"/Falluja/PROPN/NNP/nmod/Sing, \"received\"/receive/VERB/VBD/root/Ind/Plur/3/Past/Fin, \"special\"/special/ADJ/JJ/amod/Pos, \"treatment\"/treatment/NOUN/NN/obj/Sing, \"from\"/from/ADP/IN/case, \"Saddam\"/Saddam/PROPN/NNP/obl/Sing, \"and\"/and/CCONJ/CC/cc, \"enjoyed\"/enjoy/VERB/VBD/conj/Ind/Plur/3/Past/Fin, \"a\"/a/DET/DT/det/Ind/Art, \"disproportionate\"/disproportionate/ADJ/JJ/amod/Pos, \"share\"/share/NOUN/NN/obj/Sing, \"of\"/of/ADP/IN/case, \"the\"/the/DET/DT/det/Def/Art, \"country\"/country/NOUN/NN/nmod:poss/Sing, \"'s\"/'s/PART/POS/case, \"wealth\"/wealth/NOUN/NN/nmod/Sing, \"and\"/and/CCONJ/CC/cc, \"power\"/power/NOUN/NN/conj/Sing, \".\"/./PUNCT/./punct]\n",
      "Sentence: \"Cities such as Falluja received special treatment from Saddam and enjoyed a disproportionate share of the country 's wealth and power .\" → [\"Cities\"/NNS, \"such\"/JJ, \"as\"/IN, \"Falluja\"/NNP, \"received\"/VBD, \"special\"/JJ, \"treatment\"/NN, \"from\"/IN, \"Saddam\"/NNP, \"and\"/CC, \"enjoyed\"/VBD, \"a\"/DT, \"disproportionate\"/JJ, \"share\"/NN, \"of\"/IN, \"the\"/DT, \"country\"/NN, \"'s\"/POS, \"wealth\"/NN, \"and\"/CC, \"power\"/NN, \".\"/.]\n"
     ]
    }
   ],
   "source": [
    "# get the first Sentence in the training split\n",
    "sentence = corpus.test[1]\n",
    "\n",
    "# print with all annotations\n",
    "print(sentence)\n",
    "\n",
    "# print only with POS annotations (better readability)\n",
    "print(sentence.to_tagged_string('pos'))"
   ],
   "metadata": {
    "collapsed": false,
    "pycharm": {
     "name": "#%%\n"
    }
   }
  },
  {
   "cell_type": "code",
   "execution_count": 21,
   "outputs": [
    {
     "name": "stdout",
     "output_type": "stream",
     "text": [
      "2022-08-23 21:50:38,467 Computing label dictionary. Progress:\n"
     ]
    },
    {
     "name": "stderr",
     "output_type": "stream",
     "text": [
      "1254it [00:00, 33001.98it/s]"
     ]
    },
    {
     "name": "stdout",
     "output_type": "stream",
     "text": [
      "2022-08-23 21:50:38,508 Dictionary created for label 'pos' with 50 values: NN (seen 2624 times), IN (seen 2037 times), DT (seen 1616 times), NNP (seen 1222 times), PRP (seen 1172 times), JJ (seen 1153 times), . (seen 1039 times), RB (seen 974 times), VB (seen 877 times), NNS (seen 853 times), , (seen 785 times), CC (seen 659 times), VBP (seen 535 times), VBD (seen 518 times), VBZ (seen 437 times), CD (seen 405 times), VBN (seen 388 times), VBG (seen 316 times), MD (seen 316 times), PRP$ (seen 302 times)\n",
      "2022-08-23 21:50:38,508 Computing label dictionary. Progress:\n"
     ]
    },
    {
     "name": "stderr",
     "output_type": "stream",
     "text": [
      "\n",
      "1254it [00:00, 52251.19it/s]"
     ]
    },
    {
     "name": "stdout",
     "output_type": "stream",
     "text": [
      "2022-08-23 21:50:38,535 Dictionary created for label 'number' with 3 values: Sing (seen 5968 times), Plur (seen 1596 times)\n",
      "Dictionary with 50 tags: <unk>, NN, IN, DT, NNP, PRP, JJ, ., RB, VB, NNS, ,, CC, VBP, VBD, VBZ, CD, VBN, VBG, MD, PRP$, TO, -RRB-, -LRB-, :, WRB, WDT, ``, '', RP, POS, HYPH, UH, WP, JJR, NNPS, JJS, RBR, EX, NFP, $, GW, ADD, PDT, RBS, SYM, LS, FW, AFX, WP$\n",
      "Dictionary with 50 tags: <unk>, NN, IN, DT, NNP, PRP, JJ, ., RB, VB, NNS, ,, CC, VBP, VBD, VBZ, CD, VBN, VBG, MD, PRP$, TO, -RRB-, -LRB-, :, WRB, WDT, ``, '', RP, POS, HYPH, UH, WP, JJR, NNPS, JJS, RBR, EX, NFP, $, GW, ADD, PDT, RBS, SYM, LS, FW, AFX, WP$\n"
     ]
    },
    {
     "name": "stderr",
     "output_type": "stream",
     "text": [
      "\n"
     ]
    }
   ],
   "source": [
    "# create label dictionary for a Universal Part-of-Speech tagging task\n",
    "upos_dictionary = corpus.make_label_dictionary(label_type='pos')\n",
    "\n",
    "# create label dictionary for a morphological number tagging task\n",
    "tense_dictionary = corpus.make_label_dictionary(label_type='number')\n",
    "\n",
    "# print dictionary\n",
    "print(upos_dictionary)\n",
    "\n",
    "# print dictionary\n",
    "print(upos_dictionary)"
   ],
   "metadata": {
    "collapsed": false,
    "pycharm": {
     "name": "#%%\n"
    }
   }
  },
  {
   "cell_type": "code",
   "execution_count": 24,
   "outputs": [
    {
     "name": "stdout",
     "output_type": "stream",
     "text": [
      "2022-08-23 22:02:03,276 Reading data from dataset\n",
      "2022-08-23 22:02:03,277 Train: dataset\\train.bio\n",
      "2022-08-23 22:02:03,277 Dev: dataset\\dev.bio\n",
      "2022-08-23 22:02:03,277 Test: dataset\\test.bio\n"
     ]
    }
   ],
   "source": [
    "from flair.data import Corpus\n",
    "from flair.datasets import ColumnCorpus\n",
    "\n",
    "# define columns\n",
    "columns = {0: 'text', 1: 'pos', 2: 'ner'}\n",
    "\n",
    "# this is the folder in which train, test and dev files reside\n",
    "data_folder = 'dataset/'\n",
    "\n",
    "# init a corpus using column format, data folder and the names of the train, dev and test files\n",
    "corpus: Corpus = ColumnCorpus(data_folder, columns,\n",
    "                              train_file='train.bio',\n",
    "                              test_file='test.bio',\n",
    "                              dev_file='dev.bio')"
   ],
   "metadata": {
    "collapsed": false,
    "pycharm": {
     "name": "#%%\n"
    }
   }
  },
  {
   "cell_type": "code",
   "execution_count": 25,
   "outputs": [
    {
     "data": {
      "text/plain": "331973"
     },
     "execution_count": 25,
     "metadata": {},
     "output_type": "execute_result"
    }
   ],
   "source": [
    "len(corpus.train)"
   ],
   "metadata": {
    "collapsed": false,
    "pycharm": {
     "name": "#%%\n"
    }
   }
  },
  {
   "cell_type": "code",
   "execution_count": 35,
   "outputs": [
    {
     "name": "stdout",
     "output_type": "stream",
     "text": [
      "Sentence: \"Турнир у Синсинатију је пропустила због повреде .\" → [\"Турнир\"/None, \"у\"/None, \"Синсинатију\"/Синсинати, \"је\"/None, \"пропустила\"/None, \"због\"/None, \"повреде\"/None, \".\"/None]\n",
      "Sentence: \"На турниру у Калифорнији испада у полуфиналу .\" → [\"На\"/None, \"турниру\"/None, \"у\"/None, \"Калифорнији\"/Калифорнија, \"испада\"/None, \"у\"/None, \"полуфиналу\"/None, \".\"/None]\n",
      "Sentence: \"Последњи турнир на којем учествује , за који добија специјалну позивницу одржава се у Софији .\" → [\"Последњи\"/None, \"турнир\"/None, \"на\"/None, \"којем\"/None, \"учествује\"/None, \",\"/None, \"за\"/None, \"који\"/None, \"добија\"/None, \"специјалну\"/None, \"позивницу\"/None, \"одржава\"/None, \"се\"/None, \"у\"/None, \"Софији\"/Софија, \".\"/None]\n",
      "Sentence: \"Остварује две победе и пораз у групној фази , а у полуфиналу губи од Симоне Халеп 2-6 , 6-1 , 6-3 .\" → [\"Остварује\"/None, \"две\"/None, \"победе\"/None, \"и\"/None, \"пораз\"/None, \"у\"/None, \"групној\"/None, \"фази\"/None, \",\"/None, \"а\"/None, \"у\"/None, \"полуфиналу\"/None, \"губи\"/None, \"од\"/None, \"Симоне\"/Симона_Халеп, \"Халеп\"/None, \"2-6\"/None, \",\"/None, \"6-1\"/None, \",\"/None, \"6-3\"/None, \".\"/None]\n",
      "Sentence: \"У финалу је победила Винус Вилијамс .\" → [\"У\"/None, \"финалу\"/None, \"је\"/None, \"победила\"/None, \"Винус\"/Винус_Вилијамс, \"Вилијамс\"/None, \".\"/None]\n",
      "Sentence: \"У четвртфиналу је поражена од Јуџини Бушард са 5:7 , 7:5 , 6:2 .\" → [\"У\"/None, \"четвртфиналу\"/None, \"је\"/None, \"поражена\"/None, \"од\"/None, \"Јуџини\"/Јуџини_Бушард, \"Бушард\"/None, \"са\"/None, \"5:7\"/None, \",\"/None, \"7:5\"/None, \",\"/None, \"6:2\"/None, \".\"/None]\n",
      "Sentence: \"Због повреде , пропушта турнир у Паризу .\" → [\"Због\"/None, \"повреде\"/None, \",\"/None, \"пропушта\"/None, \"турнир\"/None, \"у\"/None, \"Паризу\"/Париз, \".\"/None]\n",
      "Sentence: \"Забележила је пораз од Соране Крстее и победу против Симоне Халеп .\" → [\"Забележила\"/None, \"је\"/None, \"пораз\"/None, \"од\"/None, \"Соране\"/Сорана_Крстеа, \"Крстее\"/None, \"и\"/None, \"победу\"/None, \"против\"/None, \"Симоне\"/Симона_Халеп, \"Халеп\"/None, \".\"/None]\n",
      "Sentence: \"У финалу је била боља од Барборе Захлавове Стрицове са 6:3 , 6:2 .\" → [\"У\"/None, \"финалу\"/None, \"је\"/None, \"била\"/None, \"боља\"/None, \"од\"/None, \"Барборе\"/Барбора_Стрицова, \"Захлавове\"/None, \"Стрицове\"/None, \"са\"/None, \"6:3\"/None, \",\"/None, \"6:2\"/None, \".\"/None]\n",
      "Sentence: \"Такође , на позив организатора , у пару са Анџелик Кербер , учествује у конкуренцији дублова .\" → [\"Такође\"/None, \",\"/None, \"на\"/None, \"позив\"/None, \"организатора\"/None, \",\"/None, \"у\"/None, \"пару\"/None, \"са\"/None, \"Анџелик\"/Анџелик_Кербер, \"Кербер\"/None, \",\"/None, \"учествује\"/None, \"у\"/None, \"конкуренцији\"/None, \"дублова\"/None, \".\"/None]\n"
     ]
    }
   ],
   "source": [
    "for i in range(20,30):\n",
    "    print(corpus.train[i].to_tagged_string('pos'))"
   ],
   "metadata": {
    "collapsed": false,
    "pycharm": {
     "name": "#%%\n"
    }
   }
  },
  {
   "cell_type": "code",
   "execution_count": null,
   "outputs": [],
   "source": [],
   "metadata": {
    "collapsed": false,
    "pycharm": {
     "name": "#%%\n"
    }
   }
  },
  {
   "cell_type": "code",
   "execution_count": null,
   "metadata": {},
   "outputs": [],
   "source": []
  }
 ],
 "metadata": {
  "kernelspec": {
   "display_name": "Python 3",
   "language": "python",
   "name": "python3"
  },
  "language_info": {
   "codemirror_mode": {
    "name": "ipython",
    "version": 3
   },
   "file_extension": ".py",
   "mimetype": "text/x-python",
   "name": "python",
   "nbconvert_exporter": "python",
   "pygments_lexer": "ipython3",
   "version": "3.9.12"
  }
 },
 "nbformat": 4,
 "nbformat_minor": 1
}