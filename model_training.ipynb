{
 "cells": [
  {
   "cell_type": "markdown",
   "source": [
    "#### Učitavanje baze i pretprocesiranje"
   ],
   "metadata": {
    "collapsed": false,
    "pycharm": {
     "name": "#%% md\n"
    }
   }
  },
  {
   "cell_type": "code",
   "execution_count": 165,
   "outputs": [
    {
     "name": "stdout",
     "output_type": "stream",
     "text": [
      "2022-08-27 22:44:13,128 Reading data from C:\\Users\\vladimir\\.flair\\datasets\\ud_serbian\n",
      "2022-08-27 22:44:13,128 Train: C:\\Users\\vladimir\\.flair\\datasets\\ud_serbian\\sr_set-ud-train.conllu\n",
      "2022-08-27 22:44:13,129 Dev: C:\\Users\\vladimir\\.flair\\datasets\\ud_serbian\\sr_set-ud-dev.conllu\n",
      "2022-08-27 22:44:13,129 Test: C:\\Users\\vladimir\\.flair\\datasets\\ud_serbian\\sr_set-ud-test.conllu\n"
     ]
    }
   ],
   "source": [
    "import flair.datasets\n",
    "from flair.data import Sentence\n",
    "from flair.embeddings import WordEmbeddings, FlairEmbeddings, StackedEmbeddings\n",
    "from flair.models  import SequenceTagger\n",
    "from flair.trainers import ModelTrainer\n",
    "import numpy as np\n",
    "from sklearn import metrics\n",
    "import matplotlib.pyplot as plt\n",
    "import pandas as pd\n",
    "import seaborn as sns\n",
    "\n",
    "corpus = flair.datasets.UD_SERBIAN().downsample(0.1)"
   ],
   "metadata": {
    "collapsed": false,
    "pycharm": {
     "name": "#%%\n"
    }
   }
  },
  {
   "cell_type": "code",
   "execution_count": 166,
   "outputs": [
    {
     "name": "stdout",
     "output_type": "stream",
     "text": [
      "Training:  333\n",
      "Test:  52\n",
      "Dev:  54\n"
     ]
    }
   ],
   "source": [
    "# print the number of Sentences in the train split\n",
    "print(\"Training: \",len(corpus.train))\n",
    "\n",
    "# print the number of Sentences in the test split\n",
    "print(\"Test: \",len(corpus.test))\n",
    "\n",
    "# print the number of Sentences in the dev split\n",
    "print(\"Dev: \",len(corpus.dev))"
   ],
   "metadata": {
    "collapsed": false,
    "pycharm": {
     "name": "#%%\n"
    }
   }
  },
  {
   "cell_type": "code",
   "execution_count": 167,
   "outputs": [
    {
     "name": "stdout",
     "output_type": "stream",
     "text": [
      "Sentence: \"Sejdiu kaže da je , iz ove perspektive , proces \" bio prenagljen … bez plana za ekonomski razvoj \" i da je privatizacija dovela do velikih problema za radnike .\" → [\"Sejdiu\"/Sejdiu/PROPN/Npmsn/nsubj/Nom/Masc/Sing, \"kaže\"/kazati/VERB/Vmr3s/root/Ind/Sing/3/Pres/Fin, \"da\"/da/SCONJ/Cs/mark, \"je\"/biti/AUX/Var3s/aux/Ind/Sing/3/Pres/Fin, \",\"/,/PUNCT/Z/punct, \"iz\"/iz/ADP/Sg/case/Gen, \"ove\"/ovaj/DET/Pd-fsg/det/Gen/Fem/Sing/Dem, \"perspektive\"/perspektiva/NOUN/Ncfsg/obl/Gen/Fem/Sing, \",\"/,/PUNCT/Z/punct, \"proces\"/proces/NOUN/Ncmsn/nsubj/Nom/Masc/Sing, \"\"\"/\"/PUNCT/Z/punct, \"bio\"/biti/AUX/Vap-sm/cop/Masc/Sing/Past/Part/Act, \"prenagljen\"/prenagliti/ADJ/Appmsnn/ccomp/Nom/Ind/Pos/Masc/Sing/Part/Pass, \"…\"/…/PUNCT/Z/punct, \"bez\"/bez/ADP/Sg/case/Gen, \"plana\"/plan/NOUN/Ncmsg/conj/Gen/Masc/Sing, \"za\"/za/ADP/Sa/case/Acc, \"ekonomski\"/ekonomski/ADJ/Agpmsayn/amod/Inan/Acc/Def/Pos/Masc/Sing, \"razvoj\"/razvoj/NOUN/Ncmsan/nmod/Inan/Acc/Masc/Sing, \"\"\"/\"/PUNCT/Z/punct, \"i\"/i/CCONJ/Cc/cc, \"da\"/da/SCONJ/Cs/mark, \"je\"/biti/AUX/Var3s/aux/Ind/Sing/3/Pres/Fin, \"privatizacija\"/privatizacija/NOUN/Ncfsn/nsubj/Nom/Fem/Sing, \"dovela\"/dovesti/VERB/Vmp-sf/conj/Fem/Sing/Past/Part/Act, \"do\"/do/ADP/Sg/case/Gen, \"velikih\"/velik/ADJ/Agpmpgy/amod/Gen/Def/Pos/Masc/Plur, \"problema\"/problem/NOUN/Ncmpg/obl/Gen/Masc/Plur, \"za\"/za/ADP/Sa/case/Acc, \"radnike\"/radnik/NOUN/Ncmpa/nmod/Acc/Masc/Plur, \".\"/./PUNCT/Z/punct]\n",
      "Token[0]: \"Sejdiu\" → Sejdiu (1.0); PROPN (1.0); Npmsn (1.0); nsubj (1.0); Nom (1.0); Masc (1.0); Sing (1.0)\n",
      "Token[1]: \"kaže\" → kazati (1.0); VERB (1.0); Vmr3s (1.0); root (1.0); Ind (1.0); Sing (1.0); 3 (1.0); Pres (1.0); Fin (1.0)\n",
      "Token[2]: \"da\" → da (1.0); SCONJ (1.0); Cs (1.0); mark (1.0)\n",
      "Token[3]: \"je\" → biti (1.0); AUX (1.0); Var3s (1.0); aux (1.0); Ind (1.0); Sing (1.0); 3 (1.0); Pres (1.0); Fin (1.0)\n",
      "Token[4]: \",\" → , (1.0); PUNCT (1.0); Z (1.0); punct (1.0)\n",
      "Token[5]: \"iz\" → iz (1.0); ADP (1.0); Sg (1.0); case (1.0); Gen (1.0)\n",
      "Token[6]: \"ove\" → ovaj (1.0); DET (1.0); Pd-fsg (1.0); det (1.0); Gen (1.0); Fem (1.0); Sing (1.0); Dem (1.0)\n",
      "Token[7]: \"perspektive\" → perspektiva (1.0); NOUN (1.0); Ncfsg (1.0); obl (1.0); Gen (1.0); Fem (1.0); Sing (1.0)\n",
      "Token[8]: \",\" → , (1.0); PUNCT (1.0); Z (1.0); punct (1.0)\n",
      "Token[9]: \"proces\" → proces (1.0); NOUN (1.0); Ncmsn (1.0); nsubj (1.0); Nom (1.0); Masc (1.0); Sing (1.0)\n",
      "Token[10]: \"\"\" → \" (1.0); PUNCT (1.0); Z (1.0); punct (1.0)\n",
      "Token[11]: \"bio\" → biti (1.0); AUX (1.0); Vap-sm (1.0); cop (1.0); Masc (1.0); Sing (1.0); Past (1.0); Part (1.0); Act (1.0)\n",
      "Token[12]: \"prenagljen\" → prenagliti (1.0); ADJ (1.0); Appmsnn (1.0); ccomp (1.0); Nom (1.0); Ind (1.0); Pos (1.0); Masc (1.0); Sing (1.0); Part (1.0); Pass (1.0)\n",
      "Token[13]: \"…\" → … (1.0); PUNCT (1.0); Z (1.0); punct (1.0)\n",
      "Token[14]: \"bez\" → bez (1.0); ADP (1.0); Sg (1.0); case (1.0); Gen (1.0)\n",
      "Token[15]: \"plana\" → plan (1.0); NOUN (1.0); Ncmsg (1.0); conj (1.0); Gen (1.0); Masc (1.0); Sing (1.0)\n",
      "Token[16]: \"za\" → za (1.0); ADP (1.0); Sa (1.0); case (1.0); Acc (1.0)\n",
      "Token[17]: \"ekonomski\" → ekonomski (1.0); ADJ (1.0); Agpmsayn (1.0); amod (1.0); Inan (1.0); Acc (1.0); Def (1.0); Pos (1.0); Masc (1.0); Sing (1.0)\n",
      "Token[18]: \"razvoj\" → razvoj (1.0); NOUN (1.0); Ncmsan (1.0); nmod (1.0); Inan (1.0); Acc (1.0); Masc (1.0); Sing (1.0)\n",
      "Token[19]: \"\"\" → \" (1.0); PUNCT (1.0); Z (1.0); punct (1.0)\n",
      "Token[20]: \"i\" → i (1.0); CCONJ (1.0); Cc (1.0); cc (1.0)\n",
      "Token[21]: \"da\" → da (1.0); SCONJ (1.0); Cs (1.0); mark (1.0)\n",
      "Token[22]: \"je\" → biti (1.0); AUX (1.0); Var3s (1.0); aux (1.0); Ind (1.0); Sing (1.0); 3 (1.0); Pres (1.0); Fin (1.0)\n",
      "Token[23]: \"privatizacija\" → privatizacija (1.0); NOUN (1.0); Ncfsn (1.0); nsubj (1.0); Nom (1.0); Fem (1.0); Sing (1.0)\n",
      "Token[24]: \"dovela\" → dovesti (1.0); VERB (1.0); Vmp-sf (1.0); conj (1.0); Fem (1.0); Sing (1.0); Past (1.0); Part (1.0); Act (1.0)\n",
      "Token[25]: \"do\" → do (1.0); ADP (1.0); Sg (1.0); case (1.0); Gen (1.0)\n",
      "Token[26]: \"velikih\" → velik (1.0); ADJ (1.0); Agpmpgy (1.0); amod (1.0); Gen (1.0); Def (1.0); Pos (1.0); Masc (1.0); Plur (1.0)\n",
      "Token[27]: \"problema\" → problem (1.0); NOUN (1.0); Ncmpg (1.0); obl (1.0); Gen (1.0); Masc (1.0); Plur (1.0)\n",
      "Token[28]: \"za\" → za (1.0); ADP (1.0); Sa (1.0); case (1.0); Acc (1.0)\n",
      "Token[29]: \"radnike\" → radnik (1.0); NOUN (1.0); Ncmpa (1.0); nmod (1.0); Acc (1.0); Masc (1.0); Plur (1.0)\n",
      "Token[30]: \".\" → . (1.0); PUNCT (1.0); Z (1.0); punct (1.0)\n"
     ]
    }
   ],
   "source": [
    "# get the first Sentence in the training split\n",
    "sentence = corpus.dev[1]\n",
    "\n",
    "# print with all annotations\n",
    "print(sentence)\n",
    "\n",
    "# print only with POS annotations (better readability)\n",
    "for token in sentence:\n",
    "    print(token)"
   ],
   "metadata": {
    "collapsed": false,
    "pycharm": {
     "name": "#%%\n"
    }
   }
  },
  {
   "cell_type": "markdown",
   "source": [
    "### UPOS TAGS:\n",
    "- ADJ: adjective\n",
    "- ADP: adposition\n",
    "- ADV: adverb\n",
    "- AUX: auxiliary\n",
    "- CCONJ: coordinating conjunction\n",
    "- DET: determiner\n",
    "- INTJ: interjection\n",
    "- NOUN: noun\n",
    "- NUM: numeral\n",
    "- PART: particle\n",
    "- PRON: pronoun\n",
    "- PROPN: proper noun\n",
    "- PUNCT: punctuation\n",
    "- SCONJ: subordinating conjunction\n",
    "- SYM: symbol\n",
    "- VERB: verb\n",
    "- X: other"
   ],
   "metadata": {
    "collapsed": false,
    "pycharm": {
     "name": "#%% md\n"
    }
   }
  },
  {
   "cell_type": "code",
   "execution_count": 168,
   "outputs": [
    {
     "name": "stdout",
     "output_type": "stream",
     "text": [
      "2022-08-27 22:44:20,029 Computing label dictionary. Progress:\n"
     ]
    },
    {
     "name": "stderr",
     "output_type": "stream",
     "text": [
      "333it [00:00, 20812.77it/s]"
     ]
    },
    {
     "name": "stdout",
     "output_type": "stream",
     "text": [
      "2022-08-27 22:44:20,046 Dictionary created for label 'upos' with 18 values: NOUN (seen 1859 times), PUNCT (seen 943 times), ADJ (seen 918 times), ADP (seen 743 times), VERB (seen 688 times), PROPN (seen 631 times), AUX (seen 505 times), SCONJ (seen 300 times), DET (seen 278 times), ADV (seen 260 times), CCONJ (seen 252 times), PRON (seen 200 times), NUM (seen 92 times), PART (seen 40 times), X (seen 25 times), SYM (seen 1 times), INTJ (seen 1 times)\n",
      "Dictionary with 18 tags: <unk>, NOUN, PUNCT, ADJ, ADP, VERB, PROPN, AUX, SCONJ, DET, ADV, CCONJ, PRON, NUM, PART, X, SYM, INTJ\n"
     ]
    },
    {
     "name": "stderr",
     "output_type": "stream",
     "text": [
      "\n"
     ]
    }
   ],
   "source": [
    "# Make the UPOS label dictionary from the corpus\n",
    "label_type = 'upos'\n",
    "label_dict  = corpus.make_label_dictionary(label_type = label_type)\n",
    "\n",
    "# print dictionary\n",
    "print(label_dict)"
   ],
   "metadata": {
    "collapsed": false,
    "pycharm": {
     "name": "#%%\n"
    }
   }
  },
  {
   "cell_type": "code",
   "execution_count": 169,
   "outputs": [],
   "source": [
    "embedding_types = [\n",
    "    WordEmbeddings('glove'),\n",
    "    FlairEmbeddings('news-forward'),\n",
    "    FlairEmbeddings('news-backward'),\n",
    "]\n",
    "\n",
    "embeddings = StackedEmbeddings(embeddings=embedding_types)"
   ],
   "metadata": {
    "collapsed": false,
    "pycharm": {
     "name": "#%%\n"
    }
   }
  },
  {
   "cell_type": "code",
   "execution_count": 170,
   "outputs": [
    {
     "name": "stdout",
     "output_type": "stream",
     "text": [
      "2022-08-27 22:44:22,359 SequenceTagger predicts: Dictionary with 18 tags: <unk>, NOUN, PUNCT, ADJ, ADP, VERB, PROPN, AUX, SCONJ, DET, ADV, CCONJ, PRON, NUM, PART, X, SYM, INTJ\n"
     ]
    }
   ],
   "source": [
    "tagger = SequenceTagger(hidden_size=256,\n",
    "                        embeddings=embeddings,\n",
    "                        tag_dictionary=label_dict,\n",
    "                        tag_type=label_type,\n",
    "                        use_crf=True)"
   ],
   "metadata": {
    "collapsed": false,
    "pycharm": {
     "name": "#%%\n"
    }
   }
  },
  {
   "cell_type": "code",
   "execution_count": 171,
   "outputs": [],
   "source": [
    "trainer = ModelTrainer(tagger, corpus)"
   ],
   "metadata": {
    "collapsed": false,
    "pycharm": {
     "name": "#%%\n"
    }
   }
  },
  {
   "cell_type": "code",
   "execution_count": 182,
   "outputs": [
    {
     "name": "stdout",
     "output_type": "stream",
     "text": [
      "2022-08-27 22:55:56,413 ----------------------------------------------------------------------------------------------------\n",
      "2022-08-27 22:55:56,413 Model: \"SequenceTagger(\n",
      "  (embeddings): StackedEmbeddings(\n",
      "    (list_embedding_0): WordEmbeddings(\n",
      "      'glove'\n",
      "      (embedding): Embedding(400001, 100)\n",
      "    )\n",
      "    (list_embedding_1): FlairEmbeddings(\n",
      "      (lm): LanguageModel(\n",
      "        (drop): Dropout(p=0.05, inplace=False)\n",
      "        (encoder): Embedding(300, 100)\n",
      "        (rnn): LSTM(100, 2048)\n",
      "        (decoder): Linear(in_features=2048, out_features=300, bias=True)\n",
      "      )\n",
      "    )\n",
      "    (list_embedding_2): FlairEmbeddings(\n",
      "      (lm): LanguageModel(\n",
      "        (drop): Dropout(p=0.05, inplace=False)\n",
      "        (encoder): Embedding(300, 100)\n",
      "        (rnn): LSTM(100, 2048)\n",
      "        (decoder): Linear(in_features=2048, out_features=300, bias=True)\n",
      "      )\n",
      "    )\n",
      "  )\n",
      "  (word_dropout): WordDropout(p=0.05)\n",
      "  (locked_dropout): LockedDropout(p=0.5)\n",
      "  (embedding2nn): Linear(in_features=4196, out_features=4196, bias=True)\n",
      "  (rnn): LSTM(4196, 256, batch_first=True, bidirectional=True)\n",
      "  (linear): Linear(in_features=512, out_features=20, bias=True)\n",
      "  (loss_function): ViterbiLoss()\n",
      "  (crf): CRF()\n",
      ")\"\n",
      "2022-08-27 22:55:56,414 ----------------------------------------------------------------------------------------------------\n",
      "2022-08-27 22:55:56,415 Corpus: \"Corpus: 333 train + 54 dev + 52 test sentences\"\n",
      "2022-08-27 22:55:56,415 ----------------------------------------------------------------------------------------------------\n",
      "2022-08-27 22:55:56,415 Parameters:\n",
      "2022-08-27 22:55:56,416  - learning_rate: \"0.100000\"\n",
      "2022-08-27 22:55:56,416  - mini_batch_size: \"10\"\n",
      "2022-08-27 22:55:56,416  - patience: \"3\"\n",
      "2022-08-27 22:55:56,417  - anneal_factor: \"0.5\"\n",
      "2022-08-27 22:55:56,418  - max_epochs: \"10\"\n",
      "2022-08-27 22:55:56,419  - shuffle: \"True\"\n",
      "2022-08-27 22:55:56,419  - train_with_dev: \"False\"\n",
      "2022-08-27 22:55:56,420  - batch_growth_annealing: \"False\"\n",
      "2022-08-27 22:55:56,420 ----------------------------------------------------------------------------------------------------\n",
      "2022-08-27 22:55:56,421 Model training base path: \"resources\\taggers\\example-upos\"\n",
      "2022-08-27 22:55:56,421 ----------------------------------------------------------------------------------------------------\n",
      "2022-08-27 22:55:56,422 Device: cpu\n",
      "2022-08-27 22:55:56,422 ----------------------------------------------------------------------------------------------------\n",
      "2022-08-27 22:55:56,423 Embeddings storage mode: cpu\n",
      "2022-08-27 22:55:56,423 ----------------------------------------------------------------------------------------------------\n"
     ]
    },
    {
     "name": "stderr",
     "output_type": "stream",
     "text": [
      "C:\\Users\\vladimir\\anaconda3\\envs\\ML3\\lib\\site-packages\\flair\\trainers\\trainer.py:64: UserWarning: There should be no best model saved at epoch 1 except there is a model from previous trainings in your training folder. All previous best models will be deleted.\n",
      "  warnings.warn(\n"
     ]
    },
    {
     "name": "stdout",
     "output_type": "stream",
     "text": [
      "2022-08-27 22:55:57,505 epoch 1 - iter 3/34 - loss 1.62309501 - samples/sec: 27.75 - lr: 0.100000\n",
      "2022-08-27 22:55:59,004 epoch 1 - iter 6/34 - loss 1.57166142 - samples/sec: 20.04 - lr: 0.100000\n",
      "2022-08-27 22:55:59,931 epoch 1 - iter 9/34 - loss 1.58423563 - samples/sec: 32.43 - lr: 0.100000\n",
      "2022-08-27 22:56:01,011 epoch 1 - iter 12/34 - loss 1.56466446 - samples/sec: 27.85 - lr: 0.100000\n",
      "2022-08-27 22:56:02,322 epoch 1 - iter 15/34 - loss 1.53445869 - samples/sec: 22.93 - lr: 0.100000\n",
      "2022-08-27 22:56:03,274 epoch 1 - iter 18/34 - loss 1.52627942 - samples/sec: 31.55 - lr: 0.100000\n",
      "2022-08-27 22:56:04,303 epoch 1 - iter 21/34 - loss 1.50117781 - samples/sec: 29.15 - lr: 0.100000\n",
      "2022-08-27 22:56:05,387 epoch 1 - iter 24/34 - loss 1.49259689 - samples/sec: 27.70 - lr: 0.100000\n",
      "2022-08-27 22:56:06,485 epoch 1 - iter 27/34 - loss 1.47403614 - samples/sec: 27.37 - lr: 0.100000\n",
      "2022-08-27 22:56:07,807 epoch 1 - iter 30/34 - loss 1.44372631 - samples/sec: 22.73 - lr: 0.100000\n",
      "2022-08-27 22:56:08,907 epoch 1 - iter 33/34 - loss 1.44938354 - samples/sec: 27.30 - lr: 0.100000\n",
      "2022-08-27 22:56:09,120 ----------------------------------------------------------------------------------------------------\n",
      "2022-08-27 22:56:09,121 EPOCH 1 done: loss 1.4513 - lr 0.100000\n"
     ]
    },
    {
     "name": "stderr",
     "output_type": "stream",
     "text": [
      "100%|██████████| 6/6 [00:00<00:00,  7.84it/s]"
     ]
    },
    {
     "name": "stdout",
     "output_type": "stream",
     "text": [
      "2022-08-27 22:56:09,892 Evaluating as a multi-label problem: False\n",
      "2022-08-27 22:56:09,900 DEV : loss 1.1318401098251343 - f1-score (micro avg)  0.6217\n",
      "2022-08-27 22:56:09,904 BAD EPOCHS (no improvement): 0\n",
      "2022-08-27 22:56:09,905 saving best model\n"
     ]
    },
    {
     "name": "stderr",
     "output_type": "stream",
     "text": [
      "\n"
     ]
    },
    {
     "name": "stdout",
     "output_type": "stream",
     "text": [
      "2022-08-27 22:56:11,301 ----------------------------------------------------------------------------------------------------\n",
      "2022-08-27 22:56:12,439 epoch 2 - iter 3/34 - loss 1.28358695 - samples/sec: 26.39 - lr: 0.100000\n",
      "2022-08-27 22:56:13,554 epoch 2 - iter 6/34 - loss 1.27966517 - samples/sec: 26.95 - lr: 0.100000\n",
      "2022-08-27 22:56:14,582 epoch 2 - iter 9/34 - loss 1.26144687 - samples/sec: 29.21 - lr: 0.100000\n",
      "2022-08-27 22:56:15,825 epoch 2 - iter 12/34 - loss 1.26157131 - samples/sec: 24.15 - lr: 0.100000\n",
      "2022-08-27 22:56:16,820 epoch 2 - iter 15/34 - loss 1.26064830 - samples/sec: 30.18 - lr: 0.100000\n",
      "2022-08-27 22:56:17,895 epoch 2 - iter 18/34 - loss 1.24720567 - samples/sec: 27.98 - lr: 0.100000\n",
      "2022-08-27 22:56:19,337 epoch 2 - iter 21/34 - loss 1.25311721 - samples/sec: 20.82 - lr: 0.100000\n",
      "2022-08-27 22:56:20,274 epoch 2 - iter 24/34 - loss 1.23766817 - samples/sec: 32.05 - lr: 0.100000\n",
      "2022-08-27 22:56:21,615 epoch 2 - iter 27/34 - loss 1.22825534 - samples/sec: 22.40 - lr: 0.100000\n",
      "2022-08-27 22:56:22,736 epoch 2 - iter 30/34 - loss 1.22784304 - samples/sec: 26.81 - lr: 0.100000\n",
      "2022-08-27 22:56:23,947 epoch 2 - iter 33/34 - loss 1.22224174 - samples/sec: 24.79 - lr: 0.100000\n",
      "2022-08-27 22:56:24,106 ----------------------------------------------------------------------------------------------------\n",
      "2022-08-27 22:56:24,107 EPOCH 2 done: loss 1.2225 - lr 0.100000\n"
     ]
    },
    {
     "name": "stderr",
     "output_type": "stream",
     "text": [
      "100%|██████████| 6/6 [00:00<00:00,  7.98it/s]"
     ]
    },
    {
     "name": "stdout",
     "output_type": "stream",
     "text": [
      "2022-08-27 22:56:24,864 Evaluating as a multi-label problem: False\n",
      "2022-08-27 22:56:24,873 DEV : loss 0.9363887906074524 - f1-score (micro avg)  0.6802\n",
      "2022-08-27 22:56:24,879 BAD EPOCHS (no improvement): 0\n",
      "2022-08-27 22:56:24,880 saving best model\n"
     ]
    },
    {
     "name": "stderr",
     "output_type": "stream",
     "text": [
      "\n"
     ]
    },
    {
     "name": "stdout",
     "output_type": "stream",
     "text": [
      "2022-08-27 22:56:26,180 ----------------------------------------------------------------------------------------------------\n",
      "2022-08-27 22:56:27,071 epoch 3 - iter 3/34 - loss 1.12135624 - samples/sec: 33.86 - lr: 0.100000\n",
      "2022-08-27 22:56:28,514 epoch 3 - iter 6/34 - loss 1.11578234 - samples/sec: 20.80 - lr: 0.100000\n",
      "2022-08-27 22:56:29,708 epoch 3 - iter 9/34 - loss 1.16393641 - samples/sec: 25.16 - lr: 0.100000\n",
      "2022-08-27 22:56:31,039 epoch 3 - iter 12/34 - loss 1.11295983 - samples/sec: 22.56 - lr: 0.100000\n",
      "2022-08-27 22:56:32,154 epoch 3 - iter 15/34 - loss 1.12012901 - samples/sec: 26.93 - lr: 0.100000\n",
      "2022-08-27 22:56:33,278 epoch 3 - iter 18/34 - loss 1.11252632 - samples/sec: 26.71 - lr: 0.100000\n",
      "2022-08-27 22:56:34,490 epoch 3 - iter 21/34 - loss 1.10135063 - samples/sec: 24.77 - lr: 0.100000\n",
      "2022-08-27 22:56:35,579 epoch 3 - iter 24/34 - loss 1.10084324 - samples/sec: 27.60 - lr: 0.100000\n",
      "2022-08-27 22:56:36,589 epoch 3 - iter 27/34 - loss 1.09618106 - samples/sec: 29.73 - lr: 0.100000\n",
      "2022-08-27 22:56:38,233 epoch 3 - iter 30/34 - loss 1.08749700 - samples/sec: 18.27 - lr: 0.100000\n",
      "2022-08-27 22:56:39,153 epoch 3 - iter 33/34 - loss 1.08870901 - samples/sec: 32.61 - lr: 0.100000\n",
      "2022-08-27 22:56:39,360 ----------------------------------------------------------------------------------------------------\n",
      "2022-08-27 22:56:39,361 EPOCH 3 done: loss 1.0875 - lr 0.100000\n"
     ]
    },
    {
     "name": "stderr",
     "output_type": "stream",
     "text": [
      "100%|██████████| 6/6 [00:00<00:00,  7.80it/s]"
     ]
    },
    {
     "name": "stdout",
     "output_type": "stream",
     "text": [
      "2022-08-27 22:56:40,135 Evaluating as a multi-label problem: False\n",
      "2022-08-27 22:56:40,145 DEV : loss 0.8654065132141113 - f1-score (micro avg)  0.6942\n",
      "2022-08-27 22:56:40,151 BAD EPOCHS (no improvement): 0\n",
      "2022-08-27 22:56:40,152 saving best model\n"
     ]
    },
    {
     "name": "stderr",
     "output_type": "stream",
     "text": [
      "\n"
     ]
    },
    {
     "name": "stdout",
     "output_type": "stream",
     "text": [
      "2022-08-27 22:56:41,434 ----------------------------------------------------------------------------------------------------\n",
      "2022-08-27 22:56:42,554 epoch 4 - iter 3/34 - loss 1.09634872 - samples/sec: 26.81 - lr: 0.100000\n",
      "2022-08-27 22:56:43,683 epoch 4 - iter 6/34 - loss 1.06274488 - samples/sec: 26.60 - lr: 0.100000\n",
      "2022-08-27 22:56:44,808 epoch 4 - iter 9/34 - loss 1.06179901 - samples/sec: 26.69 - lr: 0.100000\n",
      "2022-08-27 22:56:45,945 epoch 4 - iter 12/34 - loss 1.03720434 - samples/sec: 26.41 - lr: 0.100000\n",
      "2022-08-27 22:56:47,204 epoch 4 - iter 15/34 - loss 1.03582999 - samples/sec: 23.85 - lr: 0.100000\n",
      "2022-08-27 22:56:48,197 epoch 4 - iter 18/34 - loss 1.02615225 - samples/sec: 30.30 - lr: 0.100000\n",
      "2022-08-27 22:56:49,359 epoch 4 - iter 21/34 - loss 1.01580116 - samples/sec: 25.84 - lr: 0.100000\n",
      "2022-08-27 22:56:50,483 epoch 4 - iter 24/34 - loss 1.00715543 - samples/sec: 26.71 - lr: 0.100000\n",
      "2022-08-27 22:56:51,496 epoch 4 - iter 27/34 - loss 1.00649522 - samples/sec: 29.70 - lr: 0.100000\n",
      "2022-08-27 22:56:52,604 epoch 4 - iter 30/34 - loss 1.00691799 - samples/sec: 27.10 - lr: 0.100000\n",
      "2022-08-27 22:56:54,254 epoch 4 - iter 33/34 - loss 1.01620571 - samples/sec: 18.19 - lr: 0.100000\n",
      "2022-08-27 22:56:54,399 ----------------------------------------------------------------------------------------------------\n",
      "2022-08-27 22:56:54,400 EPOCH 4 done: loss 1.0145 - lr 0.100000\n"
     ]
    },
    {
     "name": "stderr",
     "output_type": "stream",
     "text": [
      "100%|██████████| 6/6 [00:00<00:00,  7.83it/s]"
     ]
    },
    {
     "name": "stdout",
     "output_type": "stream",
     "text": [
      "2022-08-27 22:56:55,171 Evaluating as a multi-label problem: False\n",
      "2022-08-27 22:56:55,179 DEV : loss 0.8614993095397949 - f1-score (micro avg)  0.7036\n",
      "2022-08-27 22:56:55,183 BAD EPOCHS (no improvement): 0\n",
      "2022-08-27 22:56:55,184 saving best model\n"
     ]
    },
    {
     "name": "stderr",
     "output_type": "stream",
     "text": [
      "\n"
     ]
    },
    {
     "name": "stdout",
     "output_type": "stream",
     "text": [
      "2022-08-27 22:56:56,407 ----------------------------------------------------------------------------------------------------\n",
      "2022-08-27 22:56:57,525 epoch 5 - iter 3/34 - loss 1.01165781 - samples/sec: 26.86 - lr: 0.100000\n",
      "2022-08-27 22:56:58,473 epoch 5 - iter 6/34 - loss 1.00255601 - samples/sec: 31.68 - lr: 0.100000\n",
      "2022-08-27 22:56:59,623 epoch 5 - iter 9/34 - loss 0.95650461 - samples/sec: 26.11 - lr: 0.100000\n",
      "2022-08-27 22:57:00,797 epoch 5 - iter 12/34 - loss 0.99256356 - samples/sec: 25.57 - lr: 0.100000\n",
      "2022-08-27 22:57:01,987 epoch 5 - iter 15/34 - loss 0.97677237 - samples/sec: 25.25 - lr: 0.100000\n",
      "2022-08-27 22:57:03,024 epoch 5 - iter 18/34 - loss 0.96743531 - samples/sec: 28.98 - lr: 0.100000\n",
      "2022-08-27 22:57:04,605 epoch 5 - iter 21/34 - loss 0.95622920 - samples/sec: 18.99 - lr: 0.100000\n",
      "2022-08-27 22:57:05,871 epoch 5 - iter 24/34 - loss 0.94454199 - samples/sec: 23.71 - lr: 0.100000\n",
      "2022-08-27 22:57:07,065 epoch 5 - iter 27/34 - loss 0.93721290 - samples/sec: 25.19 - lr: 0.100000\n",
      "2022-08-27 22:57:08,025 epoch 5 - iter 30/34 - loss 0.94198606 - samples/sec: 31.26 - lr: 0.100000\n",
      "2022-08-27 22:57:08,906 epoch 5 - iter 33/34 - loss 0.94200511 - samples/sec: 34.16 - lr: 0.100000\n",
      "2022-08-27 22:57:09,079 ----------------------------------------------------------------------------------------------------\n",
      "2022-08-27 22:57:09,080 EPOCH 5 done: loss 0.9437 - lr 0.100000\n"
     ]
    },
    {
     "name": "stderr",
     "output_type": "stream",
     "text": [
      "100%|██████████| 6/6 [00:07<00:00,  1.25s/it]"
     ]
    },
    {
     "name": "stdout",
     "output_type": "stream",
     "text": [
      "2022-08-27 22:57:16,595 Evaluating as a multi-label problem: False\n",
      "2022-08-27 22:57:16,604 DEV : loss 0.7287243008613586 - f1-score (micro avg)  0.7371\n",
      "2022-08-27 22:57:16,609 BAD EPOCHS (no improvement): 0\n",
      "2022-08-27 22:57:16,610 saving best model\n"
     ]
    },
    {
     "name": "stderr",
     "output_type": "stream",
     "text": [
      "\n"
     ]
    },
    {
     "name": "stdout",
     "output_type": "stream",
     "text": [
      "2022-08-27 22:57:18,191 ----------------------------------------------------------------------------------------------------\n",
      "2022-08-27 22:57:19,395 epoch 6 - iter 3/34 - loss 0.93617392 - samples/sec: 24.96 - lr: 0.100000\n",
      "2022-08-27 22:57:20,571 epoch 6 - iter 6/34 - loss 0.92253509 - samples/sec: 25.53 - lr: 0.100000\n",
      "2022-08-27 22:57:21,645 epoch 6 - iter 9/34 - loss 0.90596252 - samples/sec: 27.96 - lr: 0.100000\n",
      "2022-08-27 22:57:22,567 epoch 6 - iter 12/34 - loss 0.90879753 - samples/sec: 32.57 - lr: 0.100000\n",
      "2022-08-27 22:57:23,943 epoch 6 - iter 15/34 - loss 0.90122006 - samples/sec: 21.82 - lr: 0.100000\n",
      "2022-08-27 22:57:25,217 epoch 6 - iter 18/34 - loss 0.92488032 - samples/sec: 23.57 - lr: 0.100000\n",
      "2022-08-27 22:57:26,305 epoch 6 - iter 21/34 - loss 0.92150000 - samples/sec: 27.62 - lr: 0.100000\n",
      "2022-08-27 22:57:27,457 epoch 6 - iter 24/34 - loss 0.90728590 - samples/sec: 26.06 - lr: 0.100000\n",
      "2022-08-27 22:57:28,517 epoch 6 - iter 27/34 - loss 0.91030512 - samples/sec: 28.35 - lr: 0.100000\n",
      "2022-08-27 22:57:29,508 epoch 6 - iter 30/34 - loss 0.90418556 - samples/sec: 30.32 - lr: 0.100000\n",
      "2022-08-27 22:57:30,511 epoch 6 - iter 33/34 - loss 0.89684447 - samples/sec: 29.92 - lr: 0.100000\n",
      "2022-08-27 22:57:30,660 ----------------------------------------------------------------------------------------------------\n",
      "2022-08-27 22:57:30,661 EPOCH 6 done: loss 0.8956 - lr 0.100000\n"
     ]
    },
    {
     "name": "stderr",
     "output_type": "stream",
     "text": [
      "100%|██████████| 6/6 [00:00<00:00,  7.85it/s]"
     ]
    },
    {
     "name": "stdout",
     "output_type": "stream",
     "text": [
      "2022-08-27 22:57:31,433 Evaluating as a multi-label problem: False\n",
      "2022-08-27 22:57:31,440 DEV : loss 0.7364923357963562 - f1-score (micro avg)  0.7301\n",
      "2022-08-27 22:57:31,446 BAD EPOCHS (no improvement): 1\n",
      "2022-08-27 22:57:31,447 ----------------------------------------------------------------------------------------------------\n"
     ]
    },
    {
     "name": "stderr",
     "output_type": "stream",
     "text": [
      "\n"
     ]
    },
    {
     "name": "stdout",
     "output_type": "stream",
     "text": [
      "2022-08-27 22:57:32,476 epoch 7 - iter 3/34 - loss 0.93948273 - samples/sec: 29.19 - lr: 0.100000\n",
      "2022-08-27 22:57:33,375 epoch 7 - iter 6/34 - loss 0.88903124 - samples/sec: 33.40 - lr: 0.100000\n",
      "2022-08-27 22:57:34,598 epoch 7 - iter 9/34 - loss 0.88868372 - samples/sec: 24.56 - lr: 0.100000\n",
      "2022-08-27 22:57:36,179 epoch 7 - iter 12/34 - loss 0.86611783 - samples/sec: 18.98 - lr: 0.100000\n",
      "2022-08-27 22:57:37,413 epoch 7 - iter 15/34 - loss 0.86841162 - samples/sec: 24.34 - lr: 0.100000\n",
      "2022-08-27 22:57:38,617 epoch 7 - iter 18/34 - loss 0.86722318 - samples/sec: 24.96 - lr: 0.100000\n",
      "2022-08-27 22:57:39,849 epoch 7 - iter 21/34 - loss 0.86653376 - samples/sec: 24.38 - lr: 0.100000\n",
      "2022-08-27 22:57:40,805 epoch 7 - iter 24/34 - loss 0.86323534 - samples/sec: 31.39 - lr: 0.100000\n",
      "2022-08-27 22:57:42,020 epoch 7 - iter 27/34 - loss 0.86380645 - samples/sec: 24.71 - lr: 0.100000\n",
      "2022-08-27 22:57:43,129 epoch 7 - iter 30/34 - loss 0.86159961 - samples/sec: 27.10 - lr: 0.100000\n",
      "2022-08-27 22:57:44,187 epoch 7 - iter 33/34 - loss 0.86258884 - samples/sec: 28.38 - lr: 0.100000\n",
      "2022-08-27 22:57:44,338 ----------------------------------------------------------------------------------------------------\n",
      "2022-08-27 22:57:44,339 EPOCH 7 done: loss 0.8622 - lr 0.100000\n"
     ]
    },
    {
     "name": "stderr",
     "output_type": "stream",
     "text": [
      "100%|██████████| 6/6 [00:00<00:00,  8.00it/s]"
     ]
    },
    {
     "name": "stdout",
     "output_type": "stream",
     "text": [
      "2022-08-27 22:57:45,094 Evaluating as a multi-label problem: False\n",
      "2022-08-27 22:57:45,104 DEV : loss 0.6517747044563293 - f1-score (micro avg)  0.7605\n",
      "2022-08-27 22:57:45,109 BAD EPOCHS (no improvement): 0\n",
      "2022-08-27 22:57:45,110 saving best model\n"
     ]
    },
    {
     "name": "stderr",
     "output_type": "stream",
     "text": [
      "\n"
     ]
    },
    {
     "name": "stdout",
     "output_type": "stream",
     "text": [
      "2022-08-27 22:57:46,497 ----------------------------------------------------------------------------------------------------\n",
      "2022-08-27 22:57:47,453 epoch 8 - iter 3/34 - loss 0.84185164 - samples/sec: 31.42 - lr: 0.100000\n",
      "2022-08-27 22:57:48,366 epoch 8 - iter 6/34 - loss 0.77983121 - samples/sec: 32.93 - lr: 0.100000\n",
      "2022-08-27 22:57:49,789 epoch 8 - iter 9/34 - loss 0.78593156 - samples/sec: 21.10 - lr: 0.100000\n",
      "2022-08-27 22:57:50,863 epoch 8 - iter 12/34 - loss 0.80461433 - samples/sec: 27.99 - lr: 0.100000\n",
      "2022-08-27 22:57:52,010 epoch 8 - iter 15/34 - loss 0.80766610 - samples/sec: 26.17 - lr: 0.100000\n",
      "2022-08-27 22:57:53,165 epoch 8 - iter 18/34 - loss 0.82184912 - samples/sec: 26.01 - lr: 0.100000\n",
      "2022-08-27 22:57:54,421 epoch 8 - iter 21/34 - loss 0.81716960 - samples/sec: 23.91 - lr: 0.100000\n",
      "2022-08-27 22:57:55,657 epoch 8 - iter 24/34 - loss 0.83470257 - samples/sec: 24.28 - lr: 0.100000\n",
      "2022-08-27 22:57:56,688 epoch 8 - iter 27/34 - loss 0.84462109 - samples/sec: 29.13 - lr: 0.100000\n",
      "2022-08-27 22:57:57,640 epoch 8 - iter 30/34 - loss 0.83751745 - samples/sec: 31.54 - lr: 0.100000\n",
      "2022-08-27 22:57:58,856 epoch 8 - iter 33/34 - loss 0.83233998 - samples/sec: 24.70 - lr: 0.100000\n",
      "2022-08-27 22:57:59,017 ----------------------------------------------------------------------------------------------------\n",
      "2022-08-27 22:57:59,017 EPOCH 8 done: loss 0.8301 - lr 0.100000\n"
     ]
    },
    {
     "name": "stderr",
     "output_type": "stream",
     "text": [
      "100%|██████████| 6/6 [00:00<00:00,  8.23it/s]"
     ]
    },
    {
     "name": "stdout",
     "output_type": "stream",
     "text": [
      "2022-08-27 22:57:59,752 Evaluating as a multi-label problem: False\n",
      "2022-08-27 22:57:59,761 DEV : loss 0.6653951406478882 - f1-score (micro avg)  0.7699\n"
     ]
    },
    {
     "name": "stderr",
     "output_type": "stream",
     "text": [
      "\n"
     ]
    },
    {
     "name": "stdout",
     "output_type": "stream",
     "text": [
      "2022-08-27 22:57:59,766 BAD EPOCHS (no improvement): 0\n",
      "2022-08-27 22:57:59,766 saving best model\n",
      "2022-08-27 22:58:01,072 ----------------------------------------------------------------------------------------------------\n",
      "2022-08-27 22:58:02,252 epoch 9 - iter 3/34 - loss 0.77699295 - samples/sec: 25.43 - lr: 0.100000\n",
      "2022-08-27 22:58:03,291 epoch 9 - iter 6/34 - loss 0.76851851 - samples/sec: 28.92 - lr: 0.100000\n",
      "2022-08-27 22:58:04,253 epoch 9 - iter 9/34 - loss 0.77448892 - samples/sec: 31.21 - lr: 0.100000\n",
      "2022-08-27 22:58:05,364 epoch 9 - iter 12/34 - loss 0.76636903 - samples/sec: 27.02 - lr: 0.100000\n",
      "2022-08-27 22:58:06,676 epoch 9 - iter 15/34 - loss 0.75946381 - samples/sec: 22.91 - lr: 0.100000\n",
      "2022-08-27 22:58:07,648 epoch 9 - iter 18/34 - loss 0.76805997 - samples/sec: 30.90 - lr: 0.100000\n",
      "2022-08-27 22:58:08,931 epoch 9 - iter 21/34 - loss 0.77625359 - samples/sec: 23.40 - lr: 0.100000\n",
      "2022-08-27 22:58:10,037 epoch 9 - iter 24/34 - loss 0.78095560 - samples/sec: 27.15 - lr: 0.100000\n",
      "2022-08-27 22:58:11,013 epoch 9 - iter 27/34 - loss 0.77092309 - samples/sec: 30.75 - lr: 0.100000\n",
      "2022-08-27 22:58:12,206 epoch 9 - iter 30/34 - loss 0.77886143 - samples/sec: 25.17 - lr: 0.100000\n",
      "2022-08-27 22:58:13,548 epoch 9 - iter 33/34 - loss 0.78622007 - samples/sec: 22.39 - lr: 0.100000\n",
      "2022-08-27 22:58:13,714 ----------------------------------------------------------------------------------------------------\n",
      "2022-08-27 22:58:13,715 EPOCH 9 done: loss 0.7878 - lr 0.100000\n"
     ]
    },
    {
     "name": "stderr",
     "output_type": "stream",
     "text": [
      "100%|██████████| 6/6 [00:00<00:00,  7.95it/s]"
     ]
    },
    {
     "name": "stdout",
     "output_type": "stream",
     "text": [
      "2022-08-27 22:58:14,475 Evaluating as a multi-label problem: False\n",
      "2022-08-27 22:58:14,485 DEV : loss 0.642630398273468 - f1-score (micro avg)  0.7738\n",
      "2022-08-27 22:58:14,492 BAD EPOCHS (no improvement): 0\n",
      "2022-08-27 22:58:14,493 saving best model\n"
     ]
    },
    {
     "name": "stderr",
     "output_type": "stream",
     "text": [
      "\n"
     ]
    },
    {
     "name": "stdout",
     "output_type": "stream",
     "text": [
      "2022-08-27 22:58:15,708 ----------------------------------------------------------------------------------------------------\n",
      "2022-08-27 22:58:16,971 epoch 10 - iter 3/34 - loss 0.75239397 - samples/sec: 23.80 - lr: 0.100000\n",
      "2022-08-27 22:58:18,322 epoch 10 - iter 6/34 - loss 0.75751095 - samples/sec: 22.22 - lr: 0.100000\n",
      "2022-08-27 22:58:19,383 epoch 10 - iter 9/34 - loss 0.75554923 - samples/sec: 28.29 - lr: 0.100000\n",
      "2022-08-27 22:58:20,611 epoch 10 - iter 12/34 - loss 0.75017792 - samples/sec: 24.45 - lr: 0.100000\n",
      "2022-08-27 22:58:21,562 epoch 10 - iter 15/34 - loss 0.76461005 - samples/sec: 31.61 - lr: 0.100000\n",
      "2022-08-27 22:58:22,928 epoch 10 - iter 18/34 - loss 0.74987160 - samples/sec: 21.98 - lr: 0.100000\n",
      "2022-08-27 22:58:23,978 epoch 10 - iter 21/34 - loss 0.75778273 - samples/sec: 28.58 - lr: 0.100000\n",
      "2022-08-27 22:58:25,119 epoch 10 - iter 24/34 - loss 0.76335344 - samples/sec: 26.32 - lr: 0.100000\n",
      "2022-08-27 22:58:26,370 epoch 10 - iter 27/34 - loss 0.76047832 - samples/sec: 24.00 - lr: 0.100000\n",
      "2022-08-27 22:58:27,312 epoch 10 - iter 30/34 - loss 0.76492238 - samples/sec: 31.88 - lr: 0.100000\n",
      "2022-08-27 22:58:28,353 epoch 10 - iter 33/34 - loss 0.75732302 - samples/sec: 28.85 - lr: 0.100000\n",
      "2022-08-27 22:58:28,541 ----------------------------------------------------------------------------------------------------\n",
      "2022-08-27 22:58:28,542 EPOCH 10 done: loss 0.7564 - lr 0.100000\n"
     ]
    },
    {
     "name": "stderr",
     "output_type": "stream",
     "text": [
      "100%|██████████| 6/6 [00:00<00:00,  7.87it/s]"
     ]
    },
    {
     "name": "stdout",
     "output_type": "stream",
     "text": [
      "2022-08-27 22:58:29,309 Evaluating as a multi-label problem: False\n",
      "2022-08-27 22:58:29,317 DEV : loss 0.6073684096336365 - f1-score (micro avg)  0.7761\n",
      "2022-08-27 22:58:29,322 BAD EPOCHS (no improvement): 0\n",
      "2022-08-27 22:58:29,323 saving best model\n"
     ]
    },
    {
     "name": "stderr",
     "output_type": "stream",
     "text": [
      "\n"
     ]
    },
    {
     "name": "stdout",
     "output_type": "stream",
     "text": [
      "2022-08-27 22:58:32,210 ----------------------------------------------------------------------------------------------------\n",
      "2022-08-27 22:58:32,211 loading file resources\\taggers\\example-upos\\best-model.pt\n",
      "2022-08-27 22:58:32,691 SequenceTagger predicts: Dictionary with 20 tags: <unk>, NOUN, PUNCT, ADJ, ADP, VERB, PROPN, AUX, SCONJ, DET, ADV, CCONJ, PRON, NUM, PART, X, SYM, INTJ, <START>, <STOP>\n"
     ]
    },
    {
     "name": "stderr",
     "output_type": "stream",
     "text": [
      "100%|██████████| 6/6 [00:11<00:00,  1.90s/it]"
     ]
    },
    {
     "name": "stdout",
     "output_type": "stream",
     "text": [
      "2022-08-27 22:58:44,313 Evaluating as a multi-label problem: False\n",
      "2022-08-27 22:58:44,325 0.7914\t0.7914\t0.7914\t0.7914\n",
      "2022-08-27 22:58:44,325 \n",
      "Results:\n",
      "- F-score (micro) 0.7914\n",
      "- F-score (macro) 0.7359\n",
      "- Accuracy 0.7914\n",
      "\n",
      "By class:\n",
      "              precision    recall  f1-score   support\n",
      "\n",
      "        NOUN     0.7679    0.7388    0.7531       291\n",
      "         ADJ     0.5503    0.5985    0.5734       137\n",
      "        VERB     0.5620    0.7064    0.6260       109\n",
      "       PUNCT     0.9918    0.9918    0.9918       122\n",
      "         ADP     0.9537    0.9115    0.9321       113\n",
      "       PROPN     0.7739    0.9468    0.8517        94\n",
      "         AUX     0.9518    0.9875    0.9693        80\n",
      "       SCONJ     0.9767    0.9130    0.9438        46\n",
      "       CCONJ     0.9545    1.0000    0.9767        42\n",
      "         DET     0.9524    0.5000    0.6557        40\n",
      "        PRON     0.9032    0.9333    0.9180        30\n",
      "         ADV     0.6154    0.2105    0.3137        38\n",
      "         NUM     1.0000    0.7647    0.8667        17\n",
      "        PART     0.7500    0.6000    0.6667         5\n",
      "           X     0.0000    0.0000    0.0000         1\n",
      "\n",
      "    accuracy                         0.7914      1165\n",
      "   macro avg     0.7802    0.7202    0.7359      1165\n",
      "weighted avg     0.8001    0.7914    0.7880      1165\n",
      "\n",
      "2022-08-27 22:58:44,326 ----------------------------------------------------------------------------------------------------\n"
     ]
    },
    {
     "name": "stderr",
     "output_type": "stream",
     "text": [
      "\n"
     ]
    },
    {
     "data": {
      "text/plain": "{'test_score': 0.7914163090128755,\n 'dev_score_history': [0.6216848673946958,\n  0.6801872074882995,\n  0.6942277691107644,\n  0.7035881435257411,\n  0.7371294851794071,\n  0.7301092043681747,\n  0.7605304212168487,\n  0.7698907956318253,\n  0.7737909516380655,\n  0.7761310452418096],\n 'train_loss_history': [1.451329638570886,\n  1.2224664185138374,\n  1.0874801959222204,\n  1.0144826737160273,\n  0.943728722115707,\n  0.8956012469412992,\n  0.8621813784957302,\n  0.8300695843385935,\n  0.7878426174096755,\n  0.7563920519098007],\n 'dev_loss_history': [1.1318401098251343,\n  0.9363887906074524,\n  0.8654065132141113,\n  0.8614993095397949,\n  0.7287243008613586,\n  0.7364923357963562,\n  0.6517747044563293,\n  0.6653951406478882,\n  0.642630398273468,\n  0.6073684096336365]}"
     },
     "execution_count": 182,
     "metadata": {},
     "output_type": "execute_result"
    }
   ],
   "source": [
    "trainer.train('resources/taggers/example-upos',\n",
    "              learning_rate=0.1,\n",
    "              mini_batch_size=10,\n",
    "              max_epochs=10)"
   ],
   "metadata": {
    "collapsed": false,
    "pycharm": {
     "name": "#%%\n"
    }
   }
  },
  {
   "cell_type": "code",
   "execution_count": 183,
   "metadata": {
    "pycharm": {
     "name": "#%%\n"
    }
   },
   "outputs": [
    {
     "name": "stdout",
     "output_type": "stream",
     "text": [
      "2022-08-27 22:58:55,327 loading file resources/taggers/example-upos/final-model.pt\n",
      "2022-08-27 22:58:55,863 SequenceTagger predicts: Dictionary with 20 tags: <unk>, NOUN, PUNCT, ADJ, ADP, VERB, PROPN, AUX, SCONJ, DET, ADV, CCONJ, PRON, NUM, PART, X, SYM, INTJ, <START>, <STOP>\n"
     ]
    }
   ],
   "source": [
    "# load the model you trained\n",
    "model = SequenceTagger.load('resources/taggers/example-upos/final-model.pt')"
   ]
  },
  {
   "cell_type": "code",
   "execution_count": 184,
   "outputs": [
    {
     "name": "stdout",
     "output_type": "stream",
     "text": [
      "\n",
      "\n",
      "\n",
      "\" - predicted: PUNCT , actual: PUNCT\n",
      "Nadam - predicted: PROPN , actual: VERB\n",
      "se - predicted: PRON , actual: PRON\n",
      "da - predicted: SCONJ , actual: SCONJ\n",
      "će - predicted: AUX , actual: AUX\n",
      "sudije - predicted: NOUN , actual: NOUN\n",
      ", - predicted: PUNCT , actual: PUNCT\n",
      "koje - predicted: DET , actual: DET\n",
      "prvi - predicted: NOUN , actual: ADJ\n",
      "put - predicted: ADP , actual: ADV\n",
      "vrše - predicted: ADJ , actual: VERB\n",
      "pravo - predicted: NOUN , actual: NOUN\n",
      "izbora - predicted: ADJ , actual: NOUN\n",
      "članova - predicted: NOUN , actual: NOUN\n",
      "Saveta - predicted: PROPN , actual: PROPN\n",
      ", - predicted: PUNCT , actual: PUNCT\n",
      "izabrati - predicted: VERB , actual: VERB\n",
      "najbolje - predicted: ADJ , actual: ADJ\n",
      "kandidate - predicted: NOUN , actual: NOUN\n",
      ", - predicted: PUNCT , actual: PUNCT\n",
      "rekao - predicted: VERB , actual: VERB\n",
      "je - predicted: AUX , actual: AUX\n",
      "ministar - predicted: ADJ , actual: NOUN\n",
      "pravde - predicted: NOUN , actual: NOUN\n",
      "Mihajlo - predicted: PROPN , actual: PROPN\n",
      "Manevski - predicted: PROPN , actual: PROPN\n",
      ". - predicted: PUNCT , actual: PUNCT\n"
     ]
    }
   ],
   "source": [
    "# create example sentence\n",
    "# TODO: Matrica konfuzije za predikciju,\n",
    "actualSentenceExample = corpus.dev[17]\n",
    "predictedSentenceExample = Sentence(actualSentenceExample.to_plain_string())\n",
    "model.predict(predictedSentenceExample)\n",
    "print(\"\\n\\n\")\n",
    "\n",
    "# Sanity check, example predict tags and print\n",
    "for i,token in enumerate(predictedSentenceExample):\n",
    "    predictedLabels = token.get_labels('upos')\n",
    "    actualLabels = actualSentenceExample[i].get_labels('upos')\n",
    "\n",
    "    for j, label in enumerate(predictedLabels):\n",
    "        token = label.data_point.form\n",
    "        predictedValue = label.value\n",
    "        actualValue = actualLabels[j].value\n",
    "\n",
    "        print(token, \"- predicted:\" ,predictedValue, \", actual:\", actualValue)"
   ],
   "metadata": {
    "collapsed": false,
    "pycharm": {
     "name": "#%%\n"
    }
   }
  },
  {
   "cell_type": "code",
   "execution_count": 185,
   "outputs": [],
   "source": [
    "actual= np.array([])\n",
    "predicted = np.array([])\n",
    "\n",
    "for actualSentence in corpus.dev:\n",
    "\n",
    "    for token in actualSentence:\n",
    "        actual = np.append(actual, token.get_label('upos').value)\n",
    "\n",
    "    predictedSentence = Sentence([token.text for token in actualSentence.tokens])\n",
    "    model.predict(predictedSentence)\n",
    "    for token in predictedSentence:\n",
    "        predictedLabels = token.get_labels('upos')\n",
    "        for predictedLabel in predictedLabels:\n",
    "            predicted = np.append(predicted, predictedLabel.value)"
   ],
   "metadata": {
    "collapsed": false,
    "pycharm": {
     "name": "#%%\n"
    }
   }
  },
  {
   "cell_type": "code",
   "execution_count": 186,
   "outputs": [
    {
     "data": {
      "text/plain": "<Figure size 1080x936 with 2 Axes>",
      "image/png": "[encoded data removed]"
     },
     "metadata": {},
     "output_type": "display_data"
    }
   ],
   "source": [
    "classes = np.union1d(np.unique(actual), np.unique(predicted))\n",
    "cm = metrics.confusion_matrix(actual, predicted)\n",
    "cm_df = pd.DataFrame(cm,\n",
    "                     index = classes,\n",
    "                     columns = classes)\n",
    "#Plotting the confusion matrix\n",
    "plt.figure(figsize=(15,13))\n",
    "sns.heatmap(cm_df, annot=True)\n",
    "plt.title('Confusion Matrix')\n",
    "plt.ylabel('Actual Values')\n",
    "plt.xlabel('Predicted Values')\n",
    "plt.show()"
   ],
   "metadata": {
    "collapsed": false,
    "pycharm": {
     "name": "#%%\n"
    }
   }
  },
  {
   "cell_type": "code",
   "execution_count": 157,
   "outputs": [
    {
     "name": "stdout",
     "output_type": "stream",
     "text": [
      "Sentence: \"Srbija je tokom bombardovanja 1990 devedesetih izgubila mnoge kulturne znamenitosti .\" → [\"Srbija\"/PROPN, \"je\"/AUX, \"tokom\"/ADJ, \"bombardovanja\"/NOUN, \"1990\"/ADJ, \"devedesetih\"/NOUN, \"izgubila\"/ADJ, \"mnoge\"/NOUN, \"kulturne\"/ADJ, \"znamenitosti\"/NOUN, \".\"/PUNCT]\n"
     ]
    }
   ],
   "source": [
    "sentence = Sentence('Srbija je tokom bombardovanja 1990 devedesetih izgubila mnoge kulturne znamenitosti.')\n",
    "\n",
    "# predict tags and print\n",
    "model.predict(sentence)\n",
    "\n",
    "print(sentence.to_tagged_string())"
   ],
   "metadata": {
    "collapsed": false,
    "pycharm": {
     "name": "#%%\n"
    }
   }
  },
  {
   "cell_type": "code",
   "execution_count": 188,
   "outputs": [
    {
     "data": {
      "text/plain": "SequenceTagger(\n  (embeddings): StackedEmbeddings(\n    (list_embedding_0): WordEmbeddings(\n      'glove'\n      (embedding): Embedding(400001, 100)\n    )\n    (list_embedding_1): FlairEmbeddings(\n      (lm): LanguageModel(\n        (drop): Dropout(p=0.05, inplace=False)\n        (encoder): Embedding(300, 100)\n        (rnn): LSTM(100, 2048)\n        (decoder): Linear(in_features=2048, out_features=300, bias=True)\n      )\n    )\n    (list_embedding_2): FlairEmbeddings(\n      (lm): LanguageModel(\n        (drop): Dropout(p=0.05, inplace=False)\n        (encoder): Embedding(300, 100)\n        (rnn): LSTM(100, 2048)\n        (decoder): Linear(in_features=2048, out_features=300, bias=True)\n      )\n    )\n  )\n  (word_dropout): WordDropout(p=0.05)\n  (locked_dropout): LockedDropout(p=0.5)\n  (embedding2nn): Linear(in_features=4196, out_features=4196, bias=True)\n  (rnn): LSTM(4196, 256, batch_first=True, bidirectional=True)\n  (linear): Linear(in_features=512, out_features=20, bias=True)\n  (loss_function): ViterbiLoss()\n  (crf): CRF()\n)"
     },
     "execution_count": 188,
     "metadata": {},
     "output_type": "execute_result"
    }
   ],
   "source": [
    "model.eval()"
   ],
   "metadata": {
    "collapsed": false,
    "pycharm": {
     "name": "#%%\n"
    }
   }
  },
  {
   "cell_type": "code",
   "execution_count": 195,
   "outputs": [
    {
     "name": "stdout",
     "output_type": "stream",
     "text": [
      "              precision    recall  f1-score   support\n",
      "\n",
      "         ADJ       0.54      0.56      0.55       150\n",
      "         ADP       0.94      0.91      0.92       128\n",
      "         ADV       0.62      0.25      0.36        40\n",
      "         AUX       0.95      0.98      0.96        96\n",
      "       CCONJ       1.00      0.98      0.99        42\n",
      "         DET       0.84      0.49      0.62        43\n",
      "        INTJ       0.00      0.00      0.00         1\n",
      "        NOUN       0.74      0.70      0.72       291\n",
      "         NUM       1.00      0.59      0.74        17\n",
      "        PART       0.58      0.88      0.70         8\n",
      "        PRON       0.84      0.84      0.84        38\n",
      "       PROPN       0.67      0.96      0.79        85\n",
      "       PUNCT       1.00      0.99      1.00       165\n",
      "       SCONJ       0.87      0.90      0.88        50\n",
      "        VERB       0.58      0.70      0.63       122\n",
      "           X       0.00      0.00      0.00         6\n",
      "\n",
      "    accuracy                           0.78      1282\n",
      "   macro avg       0.70      0.67      0.67      1282\n",
      "weighted avg       0.78      0.78      0.77      1282\n",
      "\n"
     ]
    },
    {
     "name": "stderr",
     "output_type": "stream",
     "text": [
      "C:\\Users\\vladimir\\anaconda3\\envs\\ML3\\lib\\site-packages\\sklearn\\metrics\\_classification.py:1334: UndefinedMetricWarning: Precision and F-score are ill-defined and being set to 0.0 in labels with no predicted samples. Use `zero_division` parameter to control this behavior.\n",
      "  _warn_prf(average, modifier, msg_start, len(result))\n",
      "C:\\Users\\vladimir\\anaconda3\\envs\\ML3\\lib\\site-packages\\sklearn\\metrics\\_classification.py:1334: UndefinedMetricWarning: Precision and F-score are ill-defined and being set to 0.0 in labels with no predicted samples. Use `zero_division` parameter to control this behavior.\n",
      "  _warn_prf(average, modifier, msg_start, len(result))\n",
      "C:\\Users\\vladimir\\anaconda3\\envs\\ML3\\lib\\site-packages\\sklearn\\metrics\\_classification.py:1334: UndefinedMetricWarning: Precision and F-score are ill-defined and being set to 0.0 in labels with no predicted samples. Use `zero_division` parameter to control this behavior.\n",
      "  _warn_prf(average, modifier, msg_start, len(result))\n"
     ]
    }
   ],
   "source": [
    "from sklearn.metrics import f1_score\n",
    "from sklearn.metrics import accuracy_score\n",
    "\n",
    "print(metrics.classification_report(actual,predicted))"
   ],
   "metadata": {
    "collapsed": false,
    "pycharm": {
     "name": "#%%\n"
    }
   }
  }
 ],
 "metadata": {
  "kernelspec": {
   "display_name": "Python 3",
   "language": "python",
   "name": "python3"
  },
  "language_info": {
   "codemirror_mode": {
    "name": "ipython",
    "version": 3
   },
   "file_extension": ".py",
   "mimetype": "text/x-python",
   "name": "python",
   "nbconvert_exporter": "python",
   "pygments_lexer": "ipython3",
   "version": "3.9.12"
  }
 },
 "nbformat": 4,
 "nbformat_minor": 1
}