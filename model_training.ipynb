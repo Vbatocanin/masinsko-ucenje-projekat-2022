{
 "cells": [
  {
   "cell_type": "markdown",
   "source": [
    "#### Učitavanje baze i pretprocesiranje"
   ],
   "metadata": {
    "collapsed": false,
    "pycharm": {
     "name": "#%% md\n"
    }
   }
  },
  {
   "cell_type": "code",
   "execution_count": 19,
   "outputs": [
    {
     "name": "stdout",
     "output_type": "stream",
     "text": [
      "2022-08-25 17:32:24,517 Reading data from C:\\Users\\vladimir\\.flair\\datasets\\ud_serbian\n",
      "2022-08-25 17:32:24,518 Train: C:\\Users\\vladimir\\.flair\\datasets\\ud_serbian\\sr_set-ud-train.conllu\n",
      "2022-08-25 17:32:24,518 Dev: C:\\Users\\vladimir\\.flair\\datasets\\ud_serbian\\sr_set-ud-dev.conllu\n",
      "2022-08-25 17:32:24,519 Test: C:\\Users\\vladimir\\.flair\\datasets\\ud_serbian\\sr_set-ud-test.conllu\n"
     ]
    }
   ],
   "source": [
    "import flair.datasets\n",
    "from flair.data import Sentence\n",
    "from flair.embeddings import WordEmbeddings, FlairEmbeddings, StackedEmbeddings\n",
    "from flair.models  import SequenceTagger\n",
    "from flair.trainers import ModelTrainer\n",
    "\n",
    "corpus = flair.datasets.UD_SERBIAN().downsample(0.1)"
   ],
   "metadata": {
    "collapsed": false,
    "pycharm": {
     "name": "#%%\n"
    }
   }
  },
  {
   "cell_type": "code",
   "execution_count": 20,
   "outputs": [
    {
     "name": "stdout",
     "output_type": "stream",
     "text": [
      "Training:  333\n",
      "Test:  52\n",
      "Dev:  54\n"
     ]
    }
   ],
   "source": [
    "# print the number of Sentences in the train split\n",
    "print(\"Training: \",len(corpus.train))\n",
    "\n",
    "# print the number of Sentences in the test split\n",
    "print(\"Test: \",len(corpus.test))\n",
    "\n",
    "# print the number of Sentences in the dev split\n",
    "print(\"Dev: \",len(corpus.dev))"
   ],
   "metadata": {
    "collapsed": false,
    "pycharm": {
     "name": "#%%\n"
    }
   }
  },
  {
   "cell_type": "code",
   "execution_count": 21,
   "outputs": [
    {
     "name": "stdout",
     "output_type": "stream",
     "text": [
      "Sentence: \"Odluke o sprovođenju dogovora , koji nisu potpisivani , sada treba da usvoje vlade u Beogradu i Prištini .\" → [\"Odluke\"/odluka/NOUN/Ncfpn/nsubj/Nom/Fem/Plur, \"o\"/o/ADP/Sl/case/Loc, \"sprovođenju\"/sprovođenje/NOUN/Ncnsl/nmod/Loc/Neut/Sing, \"dogovora\"/dogovor/NOUN/Ncmsg/obl/Gen/Masc/Sing, \",\"/,/PUNCT/Z/punct, \"koji\"/koji/DET/Pi-mpn/nsubj/Nom/Masc/Plur/Int,Rel, \"nisu\"/biti/AUX/Var3p/aux/Ind/Plur/3/Neg/Pres/Fin, \"potpisivani\"/potpisivati/ADJ/Appmpny/acl/Nom/Def/Pos/Masc/Plur/Part/Pass, \",\"/,/PUNCT/Z/punct, \"sada\"/sada/ADV/Rgp/advmod/Pos/Dem, \"treba\"/trebati/VERB/Vmr3s/root/Ind/Sing/3/Pres/Fin, \"da\"/da/SCONJ/Cs/mark, \"usvoje\"/usvojiti/VERB/Vmr3p/xcomp/Ind/Plur/3/Pres/Fin, \"vlade\"/vlada/NOUN/Ncfpn/nsubj/Nom/Fem/Plur, \"u\"/u/ADP/Sl/case/Loc, \"Beogradu\"/Beograd/PROPN/Npmsl/nmod/Loc/Masc/Sing, \"i\"/i/CCONJ/Cc/cc, \"Prištini\"/Priština/PROPN/Npfsl/conj/Loc/Fem/Sing, \".\"/./PUNCT/Z/punct]\n",
      "Sentence: \"Odluke o sprovođenju dogovora , koji nisu potpisivani , sada treba da usvoje vlade u Beogradu i Prištini .\" → [\"Odluke\"/Ncfpn, \"o\"/Sl, \"sprovođenju\"/Ncnsl, \"dogovora\"/Ncmsg, \",\"/Z, \"koji\"/Pi-mpn, \"nisu\"/Var3p, \"potpisivani\"/Appmpny, \",\"/Z, \"sada\"/Rgp, \"treba\"/Vmr3s, \"da\"/Cs, \"usvoje\"/Vmr3p, \"vlade\"/Ncfpn, \"u\"/Sl, \"Beogradu\"/Npmsl, \"i\"/Cc, \"Prištini\"/Npfsl, \".\"/Z]\n"
     ]
    }
   ],
   "source": [
    "# get the first Sentence in the training split\n",
    "sentence = corpus.test[1]\n",
    "\n",
    "# print with all annotations\n",
    "print(sentence)\n",
    "\n",
    "# print only with POS annotations (better readability)\n",
    "print(sentence.to_tagged_string('pos'))"
   ],
   "metadata": {
    "collapsed": false,
    "pycharm": {
     "name": "#%%\n"
    }
   }
  },
  {
   "cell_type": "markdown",
   "source": [
    "### UPOS TAGS:\n",
    "- ADJ: adjective\n",
    "- ADP: adposition\n",
    "- ADV: adverb\n",
    "- AUX: auxiliary\n",
    "- CCONJ: coordinating conjunction\n",
    "- DET: determiner\n",
    "- INTJ: interjection\n",
    "- NOUN: noun\n",
    "- NUM: numeral\n",
    "- PART: particle\n",
    "- PRON: pronoun\n",
    "- PROPN: proper noun\n",
    "- PUNCT: punctuation\n",
    "- SCONJ: subordinating conjunction\n",
    "- SYM: symbol\n",
    "- VERB: verb\n",
    "- X: other"
   ],
   "metadata": {
    "collapsed": false,
    "pycharm": {
     "name": "#%% md\n"
    }
   }
  },
  {
   "cell_type": "code",
   "execution_count": 32,
   "outputs": [
    {
     "name": "stdout",
     "output_type": "stream",
     "text": [
      "2022-08-25 17:51:07,972 Computing label dictionary. Progress:\n"
     ]
    },
    {
     "name": "stderr",
     "output_type": "stream",
     "text": [
      "333it [00:00, 22200.55it/s]"
     ]
    },
    {
     "name": "stdout",
     "output_type": "stream",
     "text": [
      "2022-08-25 17:51:07,990 Dictionary created for label 'upos' with 17 values: NOUN (seen 1840 times), PUNCT (seen 978 times), ADJ (seen 892 times), ADP (seen 716 times), VERB (seen 640 times), PROPN (seen 564 times), AUX (seen 466 times), DET (seen 294 times), SCONJ (seen 270 times), ADV (seen 248 times), CCONJ (seen 240 times), PRON (seen 210 times), NUM (seen 94 times), PART (seen 54 times), X (seen 37 times), SYM (seen 1 times)\n",
      "Dictionary with 17 tags: <unk>, NOUN, PUNCT, ADJ, ADP, VERB, PROPN, AUX, DET, SCONJ, ADV, CCONJ, PRON, NUM, PART, X, SYM\n"
     ]
    },
    {
     "name": "stderr",
     "output_type": "stream",
     "text": [
      "\n"
     ]
    }
   ],
   "source": [
    "# Make the UPOS label dictionary from the corpus\n",
    "label_type = 'upos'\n",
    "label_dict  = corpus.make_label_dictionary(label_type = label_type)\n",
    "\n",
    "# print dictionary\n",
    "print(label_dict)"
   ],
   "metadata": {
    "collapsed": false,
    "pycharm": {
     "name": "#%%\n"
    }
   }
  },
  {
   "cell_type": "code",
   "execution_count": 34,
   "outputs": [],
   "source": [
    "embedding_types = [\n",
    "    WordEmbeddings('glove'),\n",
    "    FlairEmbeddings('news-forward'),\n",
    "    FlairEmbeddings('news-backward'),\n",
    "]\n",
    "\n",
    "embeddings = StackedEmbeddings(embeddings=embedding_types)"
   ],
   "metadata": {
    "collapsed": false,
    "pycharm": {
     "name": "#%%\n"
    }
   }
  },
  {
   "cell_type": "code",
   "execution_count": 35,
   "outputs": [
    {
     "name": "stdout",
     "output_type": "stream",
     "text": [
      "2022-08-25 17:51:20,598 SequenceTagger predicts: Dictionary with 17 tags: <unk>, NOUN, PUNCT, ADJ, ADP, VERB, PROPN, AUX, DET, SCONJ, ADV, CCONJ, PRON, NUM, PART, X, SYM\n"
     ]
    }
   ],
   "source": [
    "tagger = SequenceTagger(hidden_size=256,\n",
    "                        embeddings=embeddings,\n",
    "                        tag_dictionary=label_dict,\n",
    "                        tag_type=label_type,\n",
    "                        use_crf=True)"
   ],
   "metadata": {
    "collapsed": false,
    "pycharm": {
     "name": "#%%\n"
    }
   }
  },
  {
   "cell_type": "code",
   "execution_count": 36,
   "outputs": [],
   "source": [
    "trainer = ModelTrainer(tagger, corpus)"
   ],
   "metadata": {
    "collapsed": false,
    "pycharm": {
     "name": "#%%\n"
    }
   }
  },
  {
   "cell_type": "code",
   "execution_count": 28,
   "outputs": [
    {
     "name": "stdout",
     "output_type": "stream",
     "text": [
      "2022-08-25 17:33:45,138 ----------------------------------------------------------------------------------------------------\n",
      "2022-08-25 17:33:45,139 Model: \"SequenceTagger(\n",
      "  (embeddings): StackedEmbeddings(\n",
      "    (list_embedding_0): WordEmbeddings(\n",
      "      'glove'\n",
      "      (embedding): Embedding(400001, 100)\n",
      "    )\n",
      "    (list_embedding_1): FlairEmbeddings(\n",
      "      (lm): LanguageModel(\n",
      "        (drop): Dropout(p=0.05, inplace=False)\n",
      "        (encoder): Embedding(300, 100)\n",
      "        (rnn): LSTM(100, 2048)\n",
      "        (decoder): Linear(in_features=2048, out_features=300, bias=True)\n",
      "      )\n",
      "    )\n",
      "    (list_embedding_2): FlairEmbeddings(\n",
      "      (lm): LanguageModel(\n",
      "        (drop): Dropout(p=0.05, inplace=False)\n",
      "        (encoder): Embedding(300, 100)\n",
      "        (rnn): LSTM(100, 2048)\n",
      "        (decoder): Linear(in_features=2048, out_features=300, bias=True)\n",
      "      )\n",
      "    )\n",
      "  )\n",
      "  (word_dropout): WordDropout(p=0.05)\n",
      "  (locked_dropout): LockedDropout(p=0.5)\n",
      "  (embedding2nn): Linear(in_features=4196, out_features=4196, bias=True)\n",
      "  (rnn): LSTM(4196, 256, batch_first=True, bidirectional=True)\n",
      "  (linear): Linear(in_features=512, out_features=19, bias=True)\n",
      "  (loss_function): ViterbiLoss()\n",
      "  (crf): CRF()\n",
      ")\"\n",
      "2022-08-25 17:33:45,142 ----------------------------------------------------------------------------------------------------\n",
      "2022-08-25 17:33:45,143 Corpus: \"Corpus: 333 train + 54 dev + 52 test sentences\"\n",
      "2022-08-25 17:33:45,143 ----------------------------------------------------------------------------------------------------\n",
      "2022-08-25 17:33:45,144 Parameters:\n",
      "2022-08-25 17:33:45,144  - learning_rate: \"0.100000\"\n",
      "2022-08-25 17:33:45,144  - mini_batch_size: \"32\"\n",
      "2022-08-25 17:33:45,145  - patience: \"3\"\n",
      "2022-08-25 17:33:45,146  - anneal_factor: \"0.5\"\n",
      "2022-08-25 17:33:45,147  - max_epochs: \"10\"\n",
      "2022-08-25 17:33:45,147  - shuffle: \"True\"\n",
      "2022-08-25 17:33:45,148  - train_with_dev: \"False\"\n",
      "2022-08-25 17:33:45,148  - batch_growth_annealing: \"False\"\n",
      "2022-08-25 17:33:45,149 ----------------------------------------------------------------------------------------------------\n",
      "2022-08-25 17:33:45,149 Model training base path: \"resources\\taggers\\example-upos\"\n",
      "2022-08-25 17:33:45,150 ----------------------------------------------------------------------------------------------------\n",
      "2022-08-25 17:33:45,150 Device: cpu\n",
      "2022-08-25 17:33:45,151 ----------------------------------------------------------------------------------------------------\n",
      "2022-08-25 17:33:45,152 Embeddings storage mode: cpu\n",
      "2022-08-25 17:33:45,152 ----------------------------------------------------------------------------------------------------\n",
      "2022-08-25 17:33:53,573 epoch 1 - iter 1/11 - loss 3.29363283 - samples/sec: 3.80 - lr: 0.100000\n",
      "2022-08-25 17:33:59,424 epoch 1 - iter 2/11 - loss 3.14557276 - samples/sec: 5.47 - lr: 0.100000\n",
      "2022-08-25 17:34:06,718 epoch 1 - iter 3/11 - loss 3.00928729 - samples/sec: 4.39 - lr: 0.100000\n",
      "2022-08-25 17:34:13,434 epoch 1 - iter 4/11 - loss 2.87437508 - samples/sec: 4.77 - lr: 0.100000\n",
      "2022-08-25 17:34:21,072 epoch 1 - iter 5/11 - loss 2.76336329 - samples/sec: 4.19 - lr: 0.100000\n",
      "2022-08-25 17:34:26,282 epoch 1 - iter 6/11 - loss 2.69687952 - samples/sec: 6.14 - lr: 0.100000\n",
      "2022-08-25 17:34:32,358 epoch 1 - iter 7/11 - loss 2.65299914 - samples/sec: 5.27 - lr: 0.100000\n",
      "2022-08-25 17:34:36,610 epoch 1 - iter 8/11 - loss 2.60389274 - samples/sec: 7.53 - lr: 0.100000\n",
      "2022-08-25 17:34:43,305 epoch 1 - iter 9/11 - loss 2.56518939 - samples/sec: 4.78 - lr: 0.100000\n",
      "2022-08-25 17:34:47,582 epoch 1 - iter 10/11 - loss 2.53627249 - samples/sec: 7.48 - lr: 0.100000\n",
      "2022-08-25 17:34:50,257 epoch 1 - iter 11/11 - loss 2.52760857 - samples/sec: 11.97 - lr: 0.100000\n",
      "2022-08-25 17:34:50,258 ----------------------------------------------------------------------------------------------------\n",
      "2022-08-25 17:34:50,258 EPOCH 1 done: loss 2.5276 - lr 0.100000\n"
     ]
    },
    {
     "name": "stderr",
     "output_type": "stream",
     "text": [
      "100%|██████████| 2/2 [00:08<00:00,  4.09s/it]"
     ]
    },
    {
     "name": "stdout",
     "output_type": "stream",
     "text": [
      "2022-08-25 17:34:58,449 Evaluating as a multi-label problem: False\n",
      "2022-08-25 17:34:58,463 DEV : loss 2.059873580932617 - f1-score (micro avg)  0.3797\n",
      "2022-08-25 17:34:58,468 BAD EPOCHS (no improvement): 0\n",
      "2022-08-25 17:34:58,469 saving best model\n"
     ]
    },
    {
     "name": "stderr",
     "output_type": "stream",
     "text": [
      "\n"
     ]
    },
    {
     "name": "stdout",
     "output_type": "stream",
     "text": [
      "2022-08-25 17:34:59,846 ----------------------------------------------------------------------------------------------------\n",
      "2022-08-25 17:35:00,850 epoch 2 - iter 1/11 - loss 2.07947641 - samples/sec: 31.93 - lr: 0.100000\n",
      "2022-08-25 17:35:01,696 epoch 2 - iter 2/11 - loss 2.00762480 - samples/sec: 37.91 - lr: 0.100000\n",
      "2022-08-25 17:35:02,780 epoch 2 - iter 3/11 - loss 2.00526522 - samples/sec: 29.56 - lr: 0.100000\n",
      "2022-08-25 17:35:03,918 epoch 2 - iter 4/11 - loss 1.98824665 - samples/sec: 28.14 - lr: 0.100000\n",
      "2022-08-25 17:35:05,404 epoch 2 - iter 5/11 - loss 1.98712863 - samples/sec: 21.55 - lr: 0.100000\n",
      "2022-08-25 17:35:06,392 epoch 2 - iter 6/11 - loss 1.97747730 - samples/sec: 32.42 - lr: 0.100000\n",
      "2022-08-25 17:35:07,774 epoch 2 - iter 7/11 - loss 1.96420633 - samples/sec: 23.17 - lr: 0.100000\n",
      "2022-08-25 17:35:08,910 epoch 2 - iter 8/11 - loss 1.93366170 - samples/sec: 28.18 - lr: 0.100000\n",
      "2022-08-25 17:35:10,053 epoch 2 - iter 9/11 - loss 1.91093913 - samples/sec: 28.04 - lr: 0.100000\n",
      "2022-08-25 17:35:11,005 epoch 2 - iter 10/11 - loss 1.91464398 - samples/sec: 33.66 - lr: 0.100000\n",
      "2022-08-25 17:35:11,332 epoch 2 - iter 11/11 - loss 1.90907326 - samples/sec: 98.15 - lr: 0.100000\n",
      "2022-08-25 17:35:11,333 ----------------------------------------------------------------------------------------------------\n",
      "2022-08-25 17:35:11,334 EPOCH 2 done: loss 1.9091 - lr 0.100000\n"
     ]
    },
    {
     "name": "stderr",
     "output_type": "stream",
     "text": [
      "100%|██████████| 2/2 [00:00<00:00,  3.41it/s]"
     ]
    },
    {
     "name": "stdout",
     "output_type": "stream",
     "text": [
      "2022-08-25 17:35:11,924 Evaluating as a multi-label problem: False\n",
      "2022-08-25 17:35:11,931 DEV : loss 1.701104760169983 - f1-score (micro avg)  0.5115\n"
     ]
    },
    {
     "name": "stderr",
     "output_type": "stream",
     "text": [
      "\n"
     ]
    },
    {
     "name": "stdout",
     "output_type": "stream",
     "text": [
      "2022-08-25 17:35:11,935 BAD EPOCHS (no improvement): 0\n",
      "2022-08-25 17:35:11,936 saving best model\n",
      "2022-08-25 17:35:13,486 ----------------------------------------------------------------------------------------------------\n",
      "2022-08-25 17:35:14,880 epoch 3 - iter 1/11 - loss 1.78581494 - samples/sec: 22.97 - lr: 0.100000\n",
      "2022-08-25 17:35:15,884 epoch 3 - iter 2/11 - loss 1.75570822 - samples/sec: 31.90 - lr: 0.100000\n",
      "2022-08-25 17:35:17,037 epoch 3 - iter 3/11 - loss 1.75120617 - samples/sec: 27.78 - lr: 0.100000\n",
      "2022-08-25 17:35:18,108 epoch 3 - iter 4/11 - loss 1.72670427 - samples/sec: 29.91 - lr: 0.100000\n",
      "2022-08-25 17:35:19,141 epoch 3 - iter 5/11 - loss 1.70093046 - samples/sec: 31.04 - lr: 0.100000\n",
      "2022-08-25 17:35:20,560 epoch 3 - iter 6/11 - loss 1.70018467 - samples/sec: 22.57 - lr: 0.100000\n",
      "2022-08-25 17:35:21,583 epoch 3 - iter 7/11 - loss 1.67081020 - samples/sec: 31.34 - lr: 0.100000\n",
      "2022-08-25 17:35:22,633 epoch 3 - iter 8/11 - loss 1.64109133 - samples/sec: 30.50 - lr: 0.100000\n",
      "2022-08-25 17:35:23,599 epoch 3 - iter 9/11 - loss 1.63245944 - samples/sec: 33.16 - lr: 0.100000\n",
      "2022-08-25 17:35:24,699 epoch 3 - iter 10/11 - loss 1.63086181 - samples/sec: 29.14 - lr: 0.100000\n",
      "2022-08-25 17:35:25,276 epoch 3 - iter 11/11 - loss 1.61936970 - samples/sec: 55.65 - lr: 0.100000\n",
      "2022-08-25 17:35:25,277 ----------------------------------------------------------------------------------------------------\n",
      "2022-08-25 17:35:25,278 EPOCH 3 done: loss 1.6194 - lr 0.100000\n"
     ]
    },
    {
     "name": "stderr",
     "output_type": "stream",
     "text": [
      "100%|██████████| 2/2 [00:00<00:00,  3.41it/s]"
     ]
    },
    {
     "name": "stdout",
     "output_type": "stream",
     "text": [
      "2022-08-25 17:35:25,870 Evaluating as a multi-label problem: False\n",
      "2022-08-25 17:35:25,877 DEV : loss 1.4447882175445557 - f1-score (micro avg)  0.5594\n",
      "2022-08-25 17:35:25,882 BAD EPOCHS (no improvement): 0\n",
      "2022-08-25 17:35:25,882 saving best model\n"
     ]
    },
    {
     "name": "stderr",
     "output_type": "stream",
     "text": [
      "\n"
     ]
    },
    {
     "name": "stdout",
     "output_type": "stream",
     "text": [
      "2022-08-25 17:35:27,769 ----------------------------------------------------------------------------------------------------\n",
      "2022-08-25 17:35:28,604 epoch 4 - iter 1/11 - loss 1.44918366 - samples/sec: 38.42 - lr: 0.100000\n",
      "2022-08-25 17:35:29,621 epoch 4 - iter 2/11 - loss 1.44525030 - samples/sec: 31.49 - lr: 0.100000\n",
      "2022-08-25 17:35:30,753 epoch 4 - iter 3/11 - loss 1.42942597 - samples/sec: 28.29 - lr: 0.100000\n",
      "2022-08-25 17:35:31,721 epoch 4 - iter 4/11 - loss 1.43612336 - samples/sec: 33.13 - lr: 0.100000\n",
      "2022-08-25 17:35:32,805 epoch 4 - iter 5/11 - loss 1.44841316 - samples/sec: 29.55 - lr: 0.100000\n",
      "2022-08-25 17:35:33,731 epoch 4 - iter 6/11 - loss 1.45823451 - samples/sec: 34.59 - lr: 0.100000\n",
      "2022-08-25 17:35:34,825 epoch 4 - iter 7/11 - loss 1.45347690 - samples/sec: 29.28 - lr: 0.100000\n",
      "2022-08-25 17:35:35,893 epoch 4 - iter 8/11 - loss 1.45216255 - samples/sec: 29.99 - lr: 0.100000\n",
      "2022-08-25 17:35:37,315 epoch 4 - iter 9/11 - loss 1.44480848 - samples/sec: 22.52 - lr: 0.100000\n",
      "2022-08-25 17:35:38,647 epoch 4 - iter 10/11 - loss 1.42874904 - samples/sec: 24.04 - lr: 0.100000\n",
      "2022-08-25 17:35:39,125 epoch 4 - iter 11/11 - loss 1.43146569 - samples/sec: 67.08 - lr: 0.100000\n",
      "2022-08-25 17:35:39,126 ----------------------------------------------------------------------------------------------------\n",
      "2022-08-25 17:35:39,127 EPOCH 4 done: loss 1.4315 - lr 0.100000\n"
     ]
    },
    {
     "name": "stderr",
     "output_type": "stream",
     "text": [
      "100%|██████████| 2/2 [00:00<00:00,  3.45it/s]"
     ]
    },
    {
     "name": "stdout",
     "output_type": "stream",
     "text": [
      "2022-08-25 17:35:39,710 Evaluating as a multi-label problem: False\n",
      "2022-08-25 17:35:39,718 DEV : loss 1.2875179052352905 - f1-score (micro avg)  0.5714\n",
      "2022-08-25 17:35:39,723 BAD EPOCHS (no improvement): 0\n",
      "2022-08-25 17:35:39,724 saving best model\n"
     ]
    },
    {
     "name": "stderr",
     "output_type": "stream",
     "text": [
      "\n"
     ]
    },
    {
     "name": "stdout",
     "output_type": "stream",
     "text": [
      "2022-08-25 17:35:41,644 ----------------------------------------------------------------------------------------------------\n",
      "2022-08-25 17:35:42,649 epoch 5 - iter 1/11 - loss 1.39832083 - samples/sec: 31.93 - lr: 0.100000\n",
      "2022-08-25 17:35:43,415 epoch 5 - iter 2/11 - loss 1.35170801 - samples/sec: 41.83 - lr: 0.100000\n",
      "2022-08-25 17:35:44,503 epoch 5 - iter 3/11 - loss 1.38802144 - samples/sec: 29.44 - lr: 0.100000\n",
      "2022-08-25 17:35:45,457 epoch 5 - iter 4/11 - loss 1.38996994 - samples/sec: 33.58 - lr: 0.100000\n",
      "2022-08-25 17:35:46,539 epoch 5 - iter 5/11 - loss 1.36977868 - samples/sec: 29.60 - lr: 0.100000\n",
      "2022-08-25 17:35:47,954 epoch 5 - iter 6/11 - loss 1.35401692 - samples/sec: 22.66 - lr: 0.100000\n",
      "2022-08-25 17:35:48,826 epoch 5 - iter 7/11 - loss 1.34736567 - samples/sec: 36.70 - lr: 0.100000\n",
      "2022-08-25 17:35:50,129 epoch 5 - iter 8/11 - loss 1.34620188 - samples/sec: 24.58 - lr: 0.100000\n",
      "2022-08-25 17:35:51,154 epoch 5 - iter 9/11 - loss 1.33669574 - samples/sec: 31.25 - lr: 0.100000\n",
      "2022-08-25 17:35:52,131 epoch 5 - iter 10/11 - loss 1.33420848 - samples/sec: 32.78 - lr: 0.100000\n",
      "2022-08-25 17:35:52,754 epoch 5 - iter 11/11 - loss 1.32970934 - samples/sec: 51.44 - lr: 0.100000\n",
      "2022-08-25 17:35:52,755 ----------------------------------------------------------------------------------------------------\n",
      "2022-08-25 17:35:52,755 EPOCH 5 done: loss 1.3297 - lr 0.100000\n"
     ]
    },
    {
     "name": "stderr",
     "output_type": "stream",
     "text": [
      "100%|██████████| 2/2 [00:00<00:00,  3.38it/s]"
     ]
    },
    {
     "name": "stdout",
     "output_type": "stream",
     "text": [
      "2022-08-25 17:35:53,351 Evaluating as a multi-label problem: False\n",
      "2022-08-25 17:35:53,362 DEV : loss 1.2213255167007446 - f1-score (micro avg)  0.577\n",
      "2022-08-25 17:35:53,366 BAD EPOCHS (no improvement): 0\n",
      "2022-08-25 17:35:53,367 saving best model\n"
     ]
    },
    {
     "name": "stderr",
     "output_type": "stream",
     "text": [
      "\n"
     ]
    },
    {
     "name": "stdout",
     "output_type": "stream",
     "text": [
      "2022-08-25 17:35:55,334 ----------------------------------------------------------------------------------------------------\n",
      "2022-08-25 17:35:56,441 epoch 6 - iter 1/11 - loss 1.27553634 - samples/sec: 28.93 - lr: 0.100000\n",
      "2022-08-25 17:35:57,587 epoch 6 - iter 2/11 - loss 1.26016208 - samples/sec: 27.95 - lr: 0.100000\n",
      "2022-08-25 17:35:58,933 epoch 6 - iter 3/11 - loss 1.27633540 - samples/sec: 23.79 - lr: 0.100000\n",
      "2022-08-25 17:35:59,786 epoch 6 - iter 4/11 - loss 1.26721140 - samples/sec: 37.56 - lr: 0.100000\n",
      "2022-08-25 17:36:00,761 epoch 6 - iter 5/11 - loss 1.24673765 - samples/sec: 32.85 - lr: 0.100000\n",
      "2022-08-25 17:36:01,734 epoch 6 - iter 6/11 - loss 1.24251908 - samples/sec: 32.94 - lr: 0.100000\n",
      "2022-08-25 17:36:02,801 epoch 6 - iter 7/11 - loss 1.24566535 - samples/sec: 29.99 - lr: 0.100000\n",
      "2022-08-25 17:36:04,197 epoch 6 - iter 8/11 - loss 1.24065509 - samples/sec: 22.94 - lr: 0.100000\n",
      "2022-08-25 17:36:05,162 epoch 6 - iter 9/11 - loss 1.24201442 - samples/sec: 33.19 - lr: 0.100000\n",
      "2022-08-25 17:36:06,185 epoch 6 - iter 10/11 - loss 1.22667561 - samples/sec: 31.31 - lr: 0.100000\n",
      "2022-08-25 17:36:06,547 epoch 6 - iter 11/11 - loss 1.22176630 - samples/sec: 88.64 - lr: 0.100000\n",
      "2022-08-25 17:36:06,549 ----------------------------------------------------------------------------------------------------\n",
      "2022-08-25 17:36:06,549 EPOCH 6 done: loss 1.2218 - lr 0.100000\n"
     ]
    },
    {
     "name": "stderr",
     "output_type": "stream",
     "text": [
      "100%|██████████| 2/2 [00:00<00:00,  3.40it/s]"
     ]
    },
    {
     "name": "stdout",
     "output_type": "stream",
     "text": [
      "2022-08-25 17:36:07,143 Evaluating as a multi-label problem: False\n",
      "2022-08-25 17:36:07,151 DEV : loss 1.101011037826538 - f1-score (micro avg)  0.6479\n",
      "2022-08-25 17:36:07,156 BAD EPOCHS (no improvement): 0\n",
      "2022-08-25 17:36:07,156 saving best model\n"
     ]
    },
    {
     "name": "stderr",
     "output_type": "stream",
     "text": [
      "\n"
     ]
    },
    {
     "name": "stdout",
     "output_type": "stream",
     "text": [
      "2022-08-25 17:36:08,756 ----------------------------------------------------------------------------------------------------\n",
      "2022-08-25 17:36:09,669 epoch 7 - iter 1/11 - loss 1.22383970 - samples/sec: 35.09 - lr: 0.100000\n",
      "2022-08-25 17:36:10,790 epoch 7 - iter 2/11 - loss 1.20190502 - samples/sec: 28.60 - lr: 0.100000\n",
      "2022-08-25 17:36:11,765 epoch 7 - iter 3/11 - loss 1.16625123 - samples/sec: 32.89 - lr: 0.100000\n",
      "2022-08-25 17:36:12,741 epoch 7 - iter 4/11 - loss 1.17622115 - samples/sec: 32.82 - lr: 0.100000\n",
      "2022-08-25 17:36:14,111 epoch 7 - iter 5/11 - loss 1.16031711 - samples/sec: 23.39 - lr: 0.100000\n",
      "2022-08-25 17:36:15,168 epoch 7 - iter 6/11 - loss 1.15162040 - samples/sec: 30.30 - lr: 0.100000\n",
      "2022-08-25 17:36:16,514 epoch 7 - iter 7/11 - loss 1.14889418 - samples/sec: 23.79 - lr: 0.100000\n",
      "2022-08-25 17:36:17,523 epoch 7 - iter 8/11 - loss 1.15475690 - samples/sec: 31.78 - lr: 0.100000\n",
      "2022-08-25 17:36:18,409 epoch 7 - iter 9/11 - loss 1.15803508 - samples/sec: 36.12 - lr: 0.100000\n",
      "2022-08-25 17:36:19,557 epoch 7 - iter 10/11 - loss 1.14866078 - samples/sec: 27.90 - lr: 0.100000\n",
      "2022-08-25 17:36:20,021 epoch 7 - iter 11/11 - loss 1.14535772 - samples/sec: 69.11 - lr: 0.100000\n",
      "2022-08-25 17:36:20,022 ----------------------------------------------------------------------------------------------------\n",
      "2022-08-25 17:36:20,023 EPOCH 7 done: loss 1.1454 - lr 0.100000\n"
     ]
    },
    {
     "name": "stderr",
     "output_type": "stream",
     "text": [
      "100%|██████████| 2/2 [00:00<00:00,  3.47it/s]"
     ]
    },
    {
     "name": "stdout",
     "output_type": "stream",
     "text": [
      "2022-08-25 17:36:20,605 Evaluating as a multi-label problem: False\n",
      "2022-08-25 17:36:20,613 DEV : loss 1.0925477743148804 - f1-score (micro avg)  0.6249\n",
      "2022-08-25 17:36:20,617 BAD EPOCHS (no improvement): 1\n",
      "2022-08-25 17:36:20,618 ----------------------------------------------------------------------------------------------------\n"
     ]
    },
    {
     "name": "stderr",
     "output_type": "stream",
     "text": [
      "\n"
     ]
    },
    {
     "name": "stdout",
     "output_type": "stream",
     "text": [
      "2022-08-25 17:36:21,556 epoch 8 - iter 1/11 - loss 1.15353491 - samples/sec: 34.15 - lr: 0.100000\n",
      "2022-08-25 17:36:22,559 epoch 8 - iter 2/11 - loss 1.15946730 - samples/sec: 31.97 - lr: 0.100000\n",
      "2022-08-25 17:36:23,569 epoch 8 - iter 3/11 - loss 1.13588196 - samples/sec: 31.71 - lr: 0.100000\n",
      "2022-08-25 17:36:24,695 epoch 8 - iter 4/11 - loss 1.14016710 - samples/sec: 28.47 - lr: 0.100000\n",
      "2022-08-25 17:36:25,888 epoch 8 - iter 5/11 - loss 1.11859773 - samples/sec: 26.85 - lr: 0.100000\n",
      "2022-08-25 17:36:27,283 epoch 8 - iter 6/11 - loss 1.11985962 - samples/sec: 22.96 - lr: 0.100000\n",
      "2022-08-25 17:36:28,198 epoch 8 - iter 7/11 - loss 1.11038772 - samples/sec: 35.01 - lr: 0.100000\n",
      "2022-08-25 17:36:29,133 epoch 8 - iter 8/11 - loss 1.09953967 - samples/sec: 34.26 - lr: 0.100000\n",
      "2022-08-25 17:36:30,526 epoch 8 - iter 9/11 - loss 1.09482268 - samples/sec: 22.99 - lr: 0.100000\n",
      "2022-08-25 17:36:31,578 epoch 8 - iter 10/11 - loss 1.10337527 - samples/sec: 30.45 - lr: 0.100000\n",
      "2022-08-25 17:36:31,968 epoch 8 - iter 11/11 - loss 1.10263937 - samples/sec: 82.47 - lr: 0.100000\n",
      "2022-08-25 17:36:31,969 ----------------------------------------------------------------------------------------------------\n",
      "2022-08-25 17:36:31,970 EPOCH 8 done: loss 1.1026 - lr 0.100000\n"
     ]
    },
    {
     "name": "stderr",
     "output_type": "stream",
     "text": [
      "100%|██████████| 2/2 [00:00<00:00,  3.33it/s]"
     ]
    },
    {
     "name": "stdout",
     "output_type": "stream",
     "text": [
      "2022-08-25 17:36:32,576 Evaluating as a multi-label problem: False\n",
      "2022-08-25 17:36:32,585 DEV : loss 0.9754950404167175 - f1-score (micro avg)  0.6793\n",
      "2022-08-25 17:36:32,589 BAD EPOCHS (no improvement): 0\n",
      "2022-08-25 17:36:32,590 saving best model\n"
     ]
    },
    {
     "name": "stderr",
     "output_type": "stream",
     "text": [
      "\n"
     ]
    },
    {
     "name": "stdout",
     "output_type": "stream",
     "text": [
      "2022-08-25 17:36:34,252 ----------------------------------------------------------------------------------------------------\n",
      "2022-08-25 17:36:35,341 epoch 9 - iter 1/11 - loss 1.04575430 - samples/sec: 29.41 - lr: 0.100000\n",
      "2022-08-25 17:36:36,379 epoch 9 - iter 2/11 - loss 1.04986765 - samples/sec: 30.86 - lr: 0.100000\n",
      "2022-08-25 17:36:37,433 epoch 9 - iter 3/11 - loss 1.04833873 - samples/sec: 30.41 - lr: 0.100000\n",
      "2022-08-25 17:36:38,838 epoch 9 - iter 4/11 - loss 1.05044605 - samples/sec: 22.79 - lr: 0.100000\n",
      "2022-08-25 17:36:40,197 epoch 9 - iter 5/11 - loss 1.06204714 - samples/sec: 23.58 - lr: 0.100000\n",
      "2022-08-25 17:36:41,299 epoch 9 - iter 6/11 - loss 1.05337210 - samples/sec: 29.05 - lr: 0.100000\n",
      "2022-08-25 17:36:42,139 epoch 9 - iter 7/11 - loss 1.05396866 - samples/sec: 38.14 - lr: 0.100000\n",
      "2022-08-25 17:36:43,067 epoch 9 - iter 8/11 - loss 1.05429730 - samples/sec: 34.52 - lr: 0.100000\n",
      "2022-08-25 17:36:44,026 epoch 9 - iter 9/11 - loss 1.05487380 - samples/sec: 33.40 - lr: 0.100000\n",
      "2022-08-25 17:36:45,061 epoch 9 - iter 10/11 - loss 1.05813849 - samples/sec: 30.98 - lr: 0.100000\n",
      "2022-08-25 17:36:45,528 epoch 9 - iter 11/11 - loss 1.06081514 - samples/sec: 68.66 - lr: 0.100000\n",
      "2022-08-25 17:36:45,529 ----------------------------------------------------------------------------------------------------\n",
      "2022-08-25 17:36:45,530 EPOCH 9 done: loss 1.0608 - lr 0.100000\n"
     ]
    },
    {
     "name": "stderr",
     "output_type": "stream",
     "text": [
      "100%|██████████| 2/2 [00:00<00:00,  3.54it/s]"
     ]
    },
    {
     "name": "stdout",
     "output_type": "stream",
     "text": [
      "2022-08-25 17:36:46,099 Evaluating as a multi-label problem: False\n",
      "2022-08-25 17:36:46,108 DEV : loss 0.9628021717071533 - f1-score (micro avg)  0.6737\n",
      "2022-08-25 17:36:46,113 BAD EPOCHS (no improvement): 1\n",
      "2022-08-25 17:36:46,113 ----------------------------------------------------------------------------------------------------\n"
     ]
    },
    {
     "name": "stderr",
     "output_type": "stream",
     "text": [
      "\n"
     ]
    },
    {
     "name": "stdout",
     "output_type": "stream",
     "text": [
      "2022-08-25 17:36:47,563 epoch 10 - iter 1/11 - loss 0.99082503 - samples/sec: 22.08 - lr: 0.100000\n",
      "2022-08-25 17:36:48,559 epoch 10 - iter 2/11 - loss 0.98960826 - samples/sec: 32.16 - lr: 0.100000\n",
      "2022-08-25 17:36:49,584 epoch 10 - iter 3/11 - loss 0.98159208 - samples/sec: 31.28 - lr: 0.100000\n",
      "2022-08-25 17:36:50,445 epoch 10 - iter 4/11 - loss 1.01782635 - samples/sec: 37.21 - lr: 0.100000\n",
      "2022-08-25 17:36:51,431 epoch 10 - iter 5/11 - loss 1.02345868 - samples/sec: 32.52 - lr: 0.100000\n",
      "2022-08-25 17:36:52,770 epoch 10 - iter 6/11 - loss 1.02633066 - samples/sec: 23.92 - lr: 0.100000\n",
      "2022-08-25 17:36:53,649 epoch 10 - iter 7/11 - loss 1.01899155 - samples/sec: 36.45 - lr: 0.100000\n",
      "2022-08-25 17:36:54,724 epoch 10 - iter 8/11 - loss 1.01655217 - samples/sec: 29.79 - lr: 0.100000\n",
      "2022-08-25 17:36:55,702 epoch 10 - iter 9/11 - loss 1.01030259 - samples/sec: 32.79 - lr: 0.100000\n",
      "2022-08-25 17:36:56,644 epoch 10 - iter 10/11 - loss 1.01339764 - samples/sec: 34.00 - lr: 0.100000\n",
      "2022-08-25 17:36:57,204 epoch 10 - iter 11/11 - loss 1.01074881 - samples/sec: 57.24 - lr: 0.100000\n",
      "2022-08-25 17:36:57,205 ----------------------------------------------------------------------------------------------------\n",
      "2022-08-25 17:36:57,205 EPOCH 10 done: loss 1.0107 - lr 0.100000\n"
     ]
    },
    {
     "name": "stderr",
     "output_type": "stream",
     "text": [
      "100%|██████████| 2/2 [00:00<00:00,  3.50it/s]"
     ]
    },
    {
     "name": "stdout",
     "output_type": "stream",
     "text": [
      "2022-08-25 17:36:57,782 Evaluating as a multi-label problem: False\n",
      "2022-08-25 17:36:57,790 DEV : loss 0.921704888343811 - f1-score (micro avg)  0.6885\n",
      "2022-08-25 17:36:57,794 BAD EPOCHS (no improvement): 0\n",
      "2022-08-25 17:36:57,795 saving best model\n"
     ]
    },
    {
     "name": "stderr",
     "output_type": "stream",
     "text": [
      "\n"
     ]
    },
    {
     "name": "stdout",
     "output_type": "stream",
     "text": [
      "2022-08-25 17:37:00,605 ----------------------------------------------------------------------------------------------------\n",
      "2022-08-25 17:37:00,606 loading file resources\\taggers\\example-upos\\best-model.pt\n",
      "2022-08-25 17:37:01,161 SequenceTagger predicts: Dictionary with 19 tags: <unk>, NOUN, PUNCT, ADJ, ADP, VERB, PROPN, AUX, DET, SCONJ, ADV, CCONJ, PRON, NUM, PART, X, SYM, <START>, <STOP>\n"
     ]
    },
    {
     "name": "stderr",
     "output_type": "stream",
     "text": [
      "100%|██████████| 2/2 [00:07<00:00,  3.77s/it]"
     ]
    },
    {
     "name": "stdout",
     "output_type": "stream",
     "text": [
      "2022-08-25 17:37:08,971 Evaluating as a multi-label problem: False\n",
      "2022-08-25 17:37:08,979 0.6839\t0.6839\t0.6839\t0.6839\n",
      "2022-08-25 17:37:08,979 \n",
      "Results:\n",
      "- F-score (micro) 0.6839\n",
      "- F-score (macro) 0.5392\n",
      "- Accuracy 0.6839\n",
      "\n",
      "By class:\n",
      "              precision    recall  f1-score   support\n",
      "\n",
      "        NOUN     0.6679    0.5497    0.6031       322\n",
      "        VERB     0.3131    0.6526    0.4232        95\n",
      "         ADJ     0.4656    0.4485    0.4569       136\n",
      "       PUNCT     0.9701    0.9924    0.9811       131\n",
      "         ADP     0.9652    0.8880    0.9250       125\n",
      "       PROPN     0.6899    0.8990    0.7807        99\n",
      "         AUX     0.8939    0.8676    0.8806        68\n",
      "       CCONJ     0.9556    0.9149    0.9348        47\n",
      "       SCONJ     0.9756    0.9091    0.9412        44\n",
      "        PRON     0.6111    0.8800    0.7213        25\n",
      "         DET     0.6471    0.3333    0.4400        33\n",
      "         ADV     0.0000    0.0000    0.0000        35\n",
      "         NUM     0.0000    0.0000    0.0000         8\n",
      "           X     0.0000    0.0000    0.0000         6\n",
      "        PART     0.0000    0.0000    0.0000         3\n",
      "\n",
      "    accuracy                         0.6839      1177\n",
      "   macro avg     0.5437    0.5557    0.5392      1177\n",
      "weighted avg     0.6877    0.6839    0.6761      1177\n",
      "\n",
      "2022-08-25 17:37:08,980 ----------------------------------------------------------------------------------------------------\n"
     ]
    },
    {
     "name": "stderr",
     "output_type": "stream",
     "text": [
      "\n"
     ]
    },
    {
     "data": {
      "text/plain": "{'test_score': 0.6839422259983008,\n 'dev_score_history': [0.3797235023041475,\n  0.511520737327189,\n  0.5594470046082949,\n  0.5714285714285714,\n  0.5769585253456221,\n  0.647926267281106,\n  0.6248847926267281,\n  0.6792626728110599,\n  0.6737327188940092,\n  0.688479262672811],\n 'train_loss_history': [2.527608566041463,\n  1.9090732562327055,\n  1.6193697010092871,\n  1.4314656909930492,\n  1.3297093412656167,\n  1.2217663049950707,\n  1.1453577165006958,\n  1.102639369216223,\n  1.060815141663698,\n  1.0107488055750016],\n 'dev_loss_history': [2.059873580932617,\n  1.701104760169983,\n  1.4447882175445557,\n  1.2875179052352905,\n  1.2213255167007446,\n  1.101011037826538,\n  1.0925477743148804,\n  0.9754950404167175,\n  0.9628021717071533,\n  0.921704888343811]}"
     },
     "execution_count": 28,
     "metadata": {},
     "output_type": "execute_result"
    }
   ],
   "source": [
    "trainer.train('resources/taggers/example-upos',\n",
    "              learning_rate=0.1,\n",
    "              mini_batch_size=32,\n",
    "              max_epochs=10)"
   ],
   "metadata": {
    "collapsed": false,
    "pycharm": {
     "name": "#%%\n"
    }
   }
  },
  {
   "cell_type": "code",
   "execution_count": 43,
   "metadata": {
    "pycharm": {
     "name": "#%%\n"
    }
   },
   "outputs": [
    {
     "name": "stdout",
     "output_type": "stream",
     "text": [
      "2022-08-25 18:28:19,593 loading file resources/taggers/example-upos/final-model.pt\n",
      "2022-08-25 18:28:20,121 SequenceTagger predicts: Dictionary with 19 tags: <unk>, NOUN, PUNCT, ADJ, ADP, VERB, PROPN, AUX, DET, SCONJ, ADV, CCONJ, PRON, NUM, PART, X, SYM, <START>, <STOP>\n",
      "Sentence: \"Ramkovski , bivši vlasnik televizijske stanice A1 , četiri novine i drugih preduzeća , osuđen je u krivičnom sudu u Skoplju 14 . marta na 13 godina zatvora , zbog pranja novca , kriminalne zavere , zloupotrebe položaja i utaje poreza ; 19 saučesnika dobilo je zatvorske kazne u trajanju dve do sedam godina .\" → [\"Ramkovski\"/PROPN, \",\"/PUNCT, \"bivši\"/VERB, \"vlasnik\"/VERB, \"televizijske\"/ADJ, \"stanice\"/NOUN, \"A1\"/PROPN, \",\"/PUNCT, \"četiri\"/ADJ, \"novine\"/NOUN, \"i\"/CCONJ, \"drugih\"/ADJ, \"preduzeća\"/NOUN, \",\"/PUNCT, \"osuđen\"/VERB, \"je\"/AUX, \"u\"/ADP, \"krivičnom\"/ADJ, \"sudu\"/NOUN, \"u\"/ADP, \"Skoplju\"/NOUN, \"14\"/NUM, \".\"/PUNCT, \"marta\"/VERB, \"na\"/ADP, \"13\"/NUM, \"godina\"/ADJ, \"zatvora\"/NOUN, \",\"/PUNCT, \"zbog\"/VERB, \"pranja\"/ADJ, \"novca\"/NOUN, \",\"/PUNCT, \"kriminalne\"/ADJ, \"zavere\"/NOUN, \",\"/PUNCT, \"zloupotrebe\"/VERB, \"položaja\"/NOUN, \"i\"/CCONJ, \"utaje\"/ADJ, \"poreza\"/NOUN, \";\"/PUNCT, \"19\"/NUM, \"saučesnika\"/NOUN, \"dobilo\"/VERB, \"je\"/AUX, \"zatvorske\"/VERB, \"kazne\"/NOUN, \"u\"/ADP, \"trajanju\"/NOUN, \"dve\"/VERB, \"do\"/ADP, \"sedam\"/ADJ, \"godina\"/NOUN, \".\"/PUNCT]\n",
      "Ramkovski : PROPN\n",
      ", : PUNCT\n",
      "bivši : VERB\n",
      "vlasnik : VERB\n",
      "televizijske : ADJ\n",
      "stanice : NOUN\n",
      "A1 : PROPN\n",
      ", : PUNCT\n",
      "četiri : ADJ\n",
      "novine : NOUN\n",
      "i : CCONJ\n",
      "drugih : ADJ\n",
      "preduzeća : NOUN\n",
      ", : PUNCT\n",
      "osuđen : VERB\n",
      "je : AUX\n",
      "u : ADP\n",
      "krivičnom : ADJ\n",
      "sudu : NOUN\n",
      "u : ADP\n",
      "Skoplju : NOUN\n",
      "14 : NUM\n",
      ". : PUNCT\n",
      "marta : VERB\n",
      "na : ADP\n",
      "13 : NUM\n",
      "godina : ADJ\n",
      "zatvora : NOUN\n",
      ", : PUNCT\n",
      "zbog : VERB\n",
      "pranja : ADJ\n",
      "novca : NOUN\n",
      ", : PUNCT\n",
      "kriminalne : ADJ\n",
      "zavere : NOUN\n",
      ", : PUNCT\n",
      "zloupotrebe : VERB\n",
      "položaja : NOUN\n",
      "i : CCONJ\n",
      "utaje : ADJ\n",
      "poreza : NOUN\n",
      "; : PUNCT\n",
      "19 : NUM\n",
      "saučesnika : NOUN\n",
      "dobilo : VERB\n",
      "je : AUX\n",
      "zatvorske : VERB\n",
      "kazne : NOUN\n",
      "u : ADP\n",
      "trajanju : NOUN\n",
      "dve : VERB\n",
      "do : ADP\n",
      "sedam : ADJ\n",
      "godina : NOUN\n",
      ". : PUNCT\n"
     ]
    }
   ],
   "source": [
    "# load the model you trained\n",
    "model = SequenceTagger.load('resources/taggers/example-upos/final-model.pt')\n",
    "\n",
    "# create example sentence\n",
    "# TODO: Matrica konfuzije za predikciju,\n",
    "sentence = Sentence('Ramkovski , bivši vlasnik televizijske stanice A1 , četiri novine i drugih preduzeća , osuđen je u krivičnom sudu u Skoplju 14. marta na 13 godina zatvora , zbog pranja novca , kriminalne zavere , zloupotrebe položaja i utaje poreza ; 19 saučesnika dobilo je zatvorske kazne u trajanju dve do sedam godina .')\n",
    "\n",
    "# predict tags and print\n",
    "model.predict(sentence)\n",
    "\n",
    "print(sentence.to_tagged_string())\n",
    "\n",
    "for i,s in enumerate(sentence):\n",
    "    labels = s.get_labels('upos')\n",
    "    for label in labels:\n",
    "        print(label.data_point.form, \":\" ,label.value)"
   ]
  },
  {
   "cell_type": "code",
   "execution_count": null,
   "outputs": [],
   "source": [
    "import numpy as np\n",
    "from sklearn import metrics\n",
    "import matplotlib.pyplot as plt\n",
    "\n",
    "actual = np.array([])\n",
    "predicted = np.array([])\n",
    "\n",
    "\n",
    "\n",
    "for k,s in enumerate(corpus.dev):\n",
    "    for i,token in enumerate(sentence):\n",
    "        labels = token.get_labels('upos')\n",
    "        for j,label in enumerate(labels):\n",
    "            predictedToken = label.data_point.form\n",
    "            predictedValue = label.value\n",
    "\n",
    "\n",
    "\n",
    "confusion_matrix = metrics.confusion_matrix(actual, predicted)\n",
    "cm_display = metrics.ConfusionMatrixDisplay(confusion_matrix = confusion_matrix, display_labels = [False, True])\n",
    "\n",
    "cm_display.plot()\n",
    "plt.show()"
   ],
   "metadata": {
    "collapsed": false,
    "pycharm": {
     "name": "#%%\n"
    }
   }
  }
 ],
 "metadata": {
  "kernelspec": {
   "display_name": "Python 3",
   "language": "python",
   "name": "python3"
  },
  "language_info": {
   "codemirror_mode": {
    "name": "ipython",
    "version": 3
   },
   "file_extension": ".py",
   "mimetype": "text/x-python",
   "name": "python",
   "nbconvert_exporter": "python",
   "pygments_lexer": "ipython3",
   "version": "3.9.12"
  }
 },
 "nbformat": 4,
 "nbformat_minor": 1
}